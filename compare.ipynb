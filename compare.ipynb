{
 "cells": [
  {
   "cell_type": "code",
   "execution_count": 1,
   "id": "69f4e8fb-a4aa-4c4c-9c1a-cc96abc5a5de",
   "metadata": {
    "tags": []
   },
   "outputs": [],
   "source": [
    "import json\n",
    "import matplotlib as mpl\n",
    "import matplotlib.pyplot as plt\n",
    "import numpy as np\n",
    "import pandas as pd\n",
    "import re\n",
    "import sys\n",
    "import itertools\n",
    "from collections import namedtuple, defaultdict\n",
    "from pathlib import Path\n",
    "from enum import Enum\n",
    "from os.path import splitext\n",
    "\n",
    "%matplotlib inline\n",
    "%config InlineBackend.figure_format = 'retina'\n",
    "\n",
    "%load_ext autoreload\n",
    "%autoreload 1\n",
    "%aimport analyze\n",
    "\n",
    "with open('plots/style.json') as f:\n",
    "    mpl.rcParams.update(json.load(f))"
   ]
  },
  {
   "cell_type": "markdown",
   "id": "d60cf28f-4ccd-4dce-a049-0e05910de1c1",
   "metadata": {
    "tags": []
   },
   "source": [
    "# Results"
   ]
  },
  {
   "cell_type": "code",
   "execution_count": 12,
   "id": "af3b93b4-6f95-4591-9da7-94d48d4f3964",
   "metadata": {},
   "outputs": [],
   "source": [
    "system = \"perlmutter\"\n",
    "version = \"v0.5.1\"\n",
    "oldversion = \"v0.5.0\""
   ]
  },
  {
   "cell_type": "markdown",
   "id": "966dd400-8666-4835-b4a8-5a7e4ea49852",
   "metadata": {
    "tags": []
   },
   "source": [
    "## Current"
   ]
  },
  {
   "cell_type": "code",
   "execution_count": 13,
   "id": "c30ce0bc-39a8-4688-9ee4-4d96b24a6f19",
   "metadata": {
    "tags": []
   },
   "outputs": [
    {
     "name": "stdout",
     "output_type": "stream",
     "text": [
      "Analysis for Celeritas v0.5.1 on perlmutter\n"
     ]
    }
   ],
   "source": [
    "new = analyze.Analysis(f\"results/{system}/\")\n",
    "print(new)"
   ]
  },
  {
   "cell_type": "code",
   "execution_count": 14,
   "id": "b749c1d4-12d2-4870-ad16-f49a31ae829d",
   "metadata": {
    "tags": []
   },
   "outputs": [
    {
     "data": {
      "text/html": [
       "<div>\n",
       "<style scoped>\n",
       "    .dataframe tbody tr th:only-of-type {\n",
       "        vertical-align: middle;\n",
       "    }\n",
       "\n",
       "    .dataframe tbody tr th {\n",
       "        vertical-align: top;\n",
       "    }\n",
       "\n",
       "    .dataframe thead th {\n",
       "        text-align: right;\n",
       "    }\n",
       "</style>\n",
       "<table border=\"1\" class=\"dataframe\">\n",
       "  <thead>\n",
       "    <tr style=\"text-align: right;\">\n",
       "      <th></th>\n",
       "      <th></th>\n",
       "      <th></th>\n",
       "      <th>count</th>\n",
       "      <th>mean</th>\n",
       "      <th>std</th>\n",
       "    </tr>\n",
       "    <tr>\n",
       "      <th>problem</th>\n",
       "      <th>geo</th>\n",
       "      <th>arch</th>\n",
       "      <th></th>\n",
       "      <th></th>\n",
       "      <th></th>\n",
       "    </tr>\n",
       "  </thead>\n",
       "  <tbody>\n",
       "    <tr>\n",
       "      <th rowspan=\"2\" valign=\"top\">atlas-tilecal</th>\n",
       "      <th>orange</th>\n",
       "      <th>cpu</th>\n",
       "      <td>4.0</td>\n",
       "      <td>0.780288</td>\n",
       "      <td>0.009956</td>\n",
       "    </tr>\n",
       "    <tr>\n",
       "      <th>vecgeom</th>\n",
       "      <th>cpu</th>\n",
       "      <td>4.0</td>\n",
       "      <td>0.620552</td>\n",
       "      <td>0.014639</td>\n",
       "    </tr>\n",
       "    <tr>\n",
       "      <th rowspan=\"2\" valign=\"top\">cms-hgcal</th>\n",
       "      <th>orange</th>\n",
       "      <th>cpu</th>\n",
       "      <td>4.0</td>\n",
       "      <td>0.699002</td>\n",
       "      <td>0.007664</td>\n",
       "    </tr>\n",
       "    <tr>\n",
       "      <th>vecgeom</th>\n",
       "      <th>cpu</th>\n",
       "      <td>4.0</td>\n",
       "      <td>0.619777</td>\n",
       "      <td>0.011550</td>\n",
       "    </tr>\n",
       "    <tr>\n",
       "      <th>cms2018</th>\n",
       "      <th>vecgeom</th>\n",
       "      <th>cpu</th>\n",
       "      <td>4.0</td>\n",
       "      <td>0.687225</td>\n",
       "      <td>0.010661</td>\n",
       "    </tr>\n",
       "    <tr>\n",
       "      <th rowspan=\"2\" valign=\"top\">cms2018+field+msc</th>\n",
       "      <th rowspan=\"2\" valign=\"top\">vecgeom</th>\n",
       "      <th>cpu</th>\n",
       "      <td>4.0</td>\n",
       "      <td>0.801510</td>\n",
       "      <td>0.010776</td>\n",
       "    </tr>\n",
       "    <tr>\n",
       "      <th>gpu</th>\n",
       "      <td>4.0</td>\n",
       "      <td>0.975397</td>\n",
       "      <td>0.004530</td>\n",
       "    </tr>\n",
       "    <tr>\n",
       "      <th>testem15</th>\n",
       "      <th>orange</th>\n",
       "      <th>cpu</th>\n",
       "      <td>4.0</td>\n",
       "      <td>0.419691</td>\n",
       "      <td>0.007109</td>\n",
       "    </tr>\n",
       "    <tr>\n",
       "      <th rowspan=\"2\" valign=\"top\">testem15+field</th>\n",
       "      <th rowspan=\"2\" valign=\"top\">orange</th>\n",
       "      <th>cpu</th>\n",
       "      <td>4.0</td>\n",
       "      <td>0.545521</td>\n",
       "      <td>0.013664</td>\n",
       "    </tr>\n",
       "    <tr>\n",
       "      <th>gpu</th>\n",
       "      <td>4.0</td>\n",
       "      <td>0.583846</td>\n",
       "      <td>0.003896</td>\n",
       "    </tr>\n",
       "    <tr>\n",
       "      <th rowspan=\"2\" valign=\"top\">testem15+field+msc</th>\n",
       "      <th>orange</th>\n",
       "      <th>cpu</th>\n",
       "      <td>4.0</td>\n",
       "      <td>0.640543</td>\n",
       "      <td>0.008169</td>\n",
       "    </tr>\n",
       "    <tr>\n",
       "      <th>vecgeom</th>\n",
       "      <th>cpu</th>\n",
       "      <td>4.0</td>\n",
       "      <td>0.604929</td>\n",
       "      <td>0.015689</td>\n",
       "    </tr>\n",
       "    <tr>\n",
       "      <th rowspan=\"4\" valign=\"top\">testem3-composite+field+msc</th>\n",
       "      <th rowspan=\"2\" valign=\"top\">orange</th>\n",
       "      <th>cpu</th>\n",
       "      <td>4.0</td>\n",
       "      <td>0.779797</td>\n",
       "      <td>0.011561</td>\n",
       "    </tr>\n",
       "    <tr>\n",
       "      <th>gpu</th>\n",
       "      <td>4.0</td>\n",
       "      <td>0.866004</td>\n",
       "      <td>0.001732</td>\n",
       "    </tr>\n",
       "    <tr>\n",
       "      <th rowspan=\"2\" valign=\"top\">vecgeom</th>\n",
       "      <th>cpu</th>\n",
       "      <td>4.0</td>\n",
       "      <td>0.762860</td>\n",
       "      <td>0.008107</td>\n",
       "    </tr>\n",
       "    <tr>\n",
       "      <th>gpu</th>\n",
       "      <td>4.0</td>\n",
       "      <td>0.899418</td>\n",
       "      <td>0.004522</td>\n",
       "    </tr>\n",
       "    <tr>\n",
       "      <th rowspan=\"2\" valign=\"top\">testem3-composite+msc</th>\n",
       "      <th>orange</th>\n",
       "      <th>cpu</th>\n",
       "      <td>4.0</td>\n",
       "      <td>0.735976</td>\n",
       "      <td>0.018226</td>\n",
       "    </tr>\n",
       "    <tr>\n",
       "      <th>vecgeom</th>\n",
       "      <th>cpu</th>\n",
       "      <td>4.0</td>\n",
       "      <td>0.698452</td>\n",
       "      <td>0.020946</td>\n",
       "    </tr>\n",
       "    <tr>\n",
       "      <th rowspan=\"2\" valign=\"top\">testem3-expanded+field+msc</th>\n",
       "      <th>orange</th>\n",
       "      <th>cpu</th>\n",
       "      <td>4.0</td>\n",
       "      <td>0.769533</td>\n",
       "      <td>0.035663</td>\n",
       "    </tr>\n",
       "    <tr>\n",
       "      <th>vecgeom</th>\n",
       "      <th>cpu</th>\n",
       "      <td>4.0</td>\n",
       "      <td>0.763461</td>\n",
       "      <td>0.017289</td>\n",
       "    </tr>\n",
       "    <tr>\n",
       "      <th rowspan=\"2\" valign=\"top\">testem3-flat</th>\n",
       "      <th>orange</th>\n",
       "      <th>cpu</th>\n",
       "      <td>4.0</td>\n",
       "      <td>0.666029</td>\n",
       "      <td>0.008682</td>\n",
       "    </tr>\n",
       "    <tr>\n",
       "      <th>vecgeom</th>\n",
       "      <th>cpu</th>\n",
       "      <td>4.0</td>\n",
       "      <td>0.515269</td>\n",
       "      <td>0.006617</td>\n",
       "    </tr>\n",
       "    <tr>\n",
       "      <th>testem3-flat+field</th>\n",
       "      <th>orange</th>\n",
       "      <th>cpu</th>\n",
       "      <td>4.0</td>\n",
       "      <td>0.721115</td>\n",
       "      <td>0.015189</td>\n",
       "    </tr>\n",
       "    <tr>\n",
       "      <th rowspan=\"4\" valign=\"top\">testem3-flat+field+msc</th>\n",
       "      <th rowspan=\"2\" valign=\"top\">orange</th>\n",
       "      <th>cpu</th>\n",
       "      <td>4.0</td>\n",
       "      <td>0.792670</td>\n",
       "      <td>0.022659</td>\n",
       "    </tr>\n",
       "    <tr>\n",
       "      <th>gpu</th>\n",
       "      <td>4.0</td>\n",
       "      <td>0.868433</td>\n",
       "      <td>0.001866</td>\n",
       "    </tr>\n",
       "    <tr>\n",
       "      <th rowspan=\"2\" valign=\"top\">vecgeom</th>\n",
       "      <th>cpu</th>\n",
       "      <td>4.0</td>\n",
       "      <td>0.772973</td>\n",
       "      <td>0.008238</td>\n",
       "    </tr>\n",
       "    <tr>\n",
       "      <th>gpu</th>\n",
       "      <td>4.0</td>\n",
       "      <td>0.931627</td>\n",
       "      <td>0.004568</td>\n",
       "    </tr>\n",
       "    <tr>\n",
       "      <th>testem3-flat+msc</th>\n",
       "      <th>orange</th>\n",
       "      <th>cpu</th>\n",
       "      <td>4.0</td>\n",
       "      <td>0.765956</td>\n",
       "      <td>0.021306</td>\n",
       "    </tr>\n",
       "  </tbody>\n",
       "</table>\n",
       "</div>"
      ],
      "text/plain": [
       "                                          count      mean       std\n",
       "problem                     geo     arch                           \n",
       "atlas-tilecal               orange  cpu     4.0  0.780288  0.009956\n",
       "                            vecgeom cpu     4.0  0.620552  0.014639\n",
       "cms-hgcal                   orange  cpu     4.0  0.699002  0.007664\n",
       "                            vecgeom cpu     4.0  0.619777  0.011550\n",
       "cms2018                     vecgeom cpu     4.0  0.687225  0.010661\n",
       "cms2018+field+msc           vecgeom cpu     4.0  0.801510  0.010776\n",
       "                                    gpu     4.0  0.975397  0.004530\n",
       "testem15                    orange  cpu     4.0  0.419691  0.007109\n",
       "testem15+field              orange  cpu     4.0  0.545521  0.013664\n",
       "                                    gpu     4.0  0.583846  0.003896\n",
       "testem15+field+msc          orange  cpu     4.0  0.640543  0.008169\n",
       "                            vecgeom cpu     4.0  0.604929  0.015689\n",
       "testem3-composite+field+msc orange  cpu     4.0  0.779797  0.011561\n",
       "                                    gpu     4.0  0.866004  0.001732\n",
       "                            vecgeom cpu     4.0  0.762860  0.008107\n",
       "                                    gpu     4.0  0.899418  0.004522\n",
       "testem3-composite+msc       orange  cpu     4.0  0.735976  0.018226\n",
       "                            vecgeom cpu     4.0  0.698452  0.020946\n",
       "testem3-expanded+field+msc  orange  cpu     4.0  0.769533  0.035663\n",
       "                            vecgeom cpu     4.0  0.763461  0.017289\n",
       "testem3-flat                orange  cpu     4.0  0.666029  0.008682\n",
       "                            vecgeom cpu     4.0  0.515269  0.006617\n",
       "testem3-flat+field          orange  cpu     4.0  0.721115  0.015189\n",
       "testem3-flat+field+msc      orange  cpu     4.0  0.792670  0.022659\n",
       "                                    gpu     4.0  0.868433  0.001866\n",
       "                            vecgeom cpu     4.0  0.772973  0.008238\n",
       "                                    gpu     4.0  0.931627  0.004568\n",
       "testem3-flat+msc            orange  cpu     4.0  0.765956  0.021306"
      ]
     },
     "execution_count": 14,
     "metadata": {},
     "output_type": "execute_result"
    }
   ],
   "source": [
    "analyze.calc_geo_frac(new)"
   ]
  },
  {
   "cell_type": "markdown",
   "id": "9c868ad5-51d9-4950-924c-70971bf0e5cb",
   "metadata": {
    "tags": []
   },
   "source": [
    "## Previous"
   ]
  },
  {
   "cell_type": "code",
   "execution_count": 15,
   "id": "99c28ac6-248e-49c8-b78b-1a96f031227d",
   "metadata": {
    "tags": []
   },
   "outputs": [
    {
     "name": "stdout",
     "output_type": "stream",
     "text": [
      "Analysis for Celeritas v0.5.0-dev.222+33193b7f2 on perlmutter (v0.5.0)\n"
     ]
    }
   ],
   "source": [
    "old = analyze.Analysis(f\"results-old/{system}/\")\n",
    "print(old, f\"({oldversion})\")"
   ]
  },
  {
   "cell_type": "code",
   "execution_count": 16,
   "id": "0956c6fa-bb3b-43a6-b489-bd9c5f7f209d",
   "metadata": {
    "tags": []
   },
   "outputs": [
    {
     "data": {
      "text/html": [
       "<div>\n",
       "<style scoped>\n",
       "    .dataframe tbody tr th:only-of-type {\n",
       "        vertical-align: middle;\n",
       "    }\n",
       "\n",
       "    .dataframe tbody tr th {\n",
       "        vertical-align: top;\n",
       "    }\n",
       "\n",
       "    .dataframe thead th {\n",
       "        text-align: right;\n",
       "    }\n",
       "</style>\n",
       "<table border=\"1\" class=\"dataframe\">\n",
       "  <thead>\n",
       "    <tr style=\"text-align: right;\">\n",
       "      <th></th>\n",
       "      <th>Failure</th>\n",
       "    </tr>\n",
       "  </thead>\n",
       "  <tbody>\n",
       "  </tbody>\n",
       "</table>\n",
       "</div>"
      ],
      "text/plain": [
       "Empty DataFrame\n",
       "Columns: [Failure]\n",
       "Index: []"
      ]
     },
     "execution_count": 16,
     "metadata": {},
     "output_type": "execute_result"
    }
   ],
   "source": [
    "ftab = analyze.make_failure_table(old.failures())\n",
    "ftab.to_frame()"
   ]
  },
  {
   "cell_type": "markdown",
   "id": "3f518310-6d67-40c3-80e6-d9c35b2639f1",
   "metadata": {
    "tags": []
   },
   "source": [
    "# Analysis"
   ]
  },
  {
   "cell_type": "markdown",
   "id": "b4862ee1-bc9e-464a-9f0e-673e1711643a",
   "metadata": {},
   "source": [
    "## Compare manually"
   ]
  },
  {
   "cell_type": "code",
   "execution_count": 38,
   "id": "9729870c-4130-4c57-8ae1-019633fd7bb6",
   "metadata": {},
   "outputs": [],
   "source": [
    "def get_throughput(analysis):\n",
    "    col = analysis.result['avg_event_per_time']\n",
    "    return col.xs('vecgeom', level='geo').unstack('arch')\n",
    "\n",
    "def get_slots_per_stream(analysis):\n",
    "    col = analysis.input['num_track_slots']\n",
    "    return col.xs('vecgeom', level='geo').unstack('arch')\n",
    "\n",
    "def compare(func):\n",
    "    return "
   ]
  },
  {
   "cell_type": "code",
   "execution_count": 42,
   "id": "10bf4cc2-7ba3-4586-9bdd-00b9b053bf32",
   "metadata": {},
   "outputs": [],
   "source": [
    "def get_num_streams(analysis):\n",
    "    c = new.cpu_per_task\n",
    "    return pd.Series({'g4': np.nan, 'cpu': c,  'gpu': 1, 'cpu+g4': c, 'gpu+g4': 1})\n",
    "\n",
    "def get_total_slots(analysis):\n",
    "    return get_num_streams(analysis) * get_slots_per_stream(analysis)"
   ]
  },
  {
   "cell_type": "code",
   "execution_count": 18,
   "id": "a20432aa-6443-4c6c-aacf-a49fa1798c2f",
   "metadata": {},
   "outputs": [],
   "source": [
    "rel_throughput = get_throughput(new) / get_throughput(old) - 1"
   ]
  },
  {
   "cell_type": "code",
   "execution_count": 19,
   "id": "7c5ded1b-70cd-4f83-99ee-8a412ba82ea4",
   "metadata": {},
   "outputs": [
    {
     "data": {
      "text/html": [
       "<div>\n",
       "<style scoped>\n",
       "    .dataframe tbody tr th:only-of-type {\n",
       "        vertical-align: middle;\n",
       "    }\n",
       "\n",
       "    .dataframe tbody tr th {\n",
       "        vertical-align: top;\n",
       "    }\n",
       "\n",
       "    .dataframe thead th {\n",
       "        text-align: right;\n",
       "    }\n",
       "</style>\n",
       "<table border=\"1\" class=\"dataframe\">\n",
       "  <thead>\n",
       "    <tr style=\"text-align: right;\">\n",
       "      <th>arch</th>\n",
       "      <th>cpu</th>\n",
       "      <th>cpu+g4</th>\n",
       "      <th>gpu</th>\n",
       "      <th>gpu+g4</th>\n",
       "      <th>gpu+sync</th>\n",
       "    </tr>\n",
       "    <tr>\n",
       "      <th>problem</th>\n",
       "      <th></th>\n",
       "      <th></th>\n",
       "      <th></th>\n",
       "      <th></th>\n",
       "      <th></th>\n",
       "    </tr>\n",
       "  </thead>\n",
       "  <tbody>\n",
       "    <tr>\n",
       "      <th>atlas-tilecal</th>\n",
       "      <td>-0.119749</td>\n",
       "      <td>0.494502</td>\n",
       "      <td>-0.048790</td>\n",
       "      <td>0.274572</td>\n",
       "      <td>NaN</td>\n",
       "    </tr>\n",
       "    <tr>\n",
       "      <th>cms-hgcal</th>\n",
       "      <td>-0.067068</td>\n",
       "      <td>0.438892</td>\n",
       "      <td>-0.026365</td>\n",
       "      <td>0.314050</td>\n",
       "      <td>NaN</td>\n",
       "    </tr>\n",
       "    <tr>\n",
       "      <th>cms2018</th>\n",
       "      <td>-0.203373</td>\n",
       "      <td>0.285384</td>\n",
       "      <td>-0.106369</td>\n",
       "      <td>0.387242</td>\n",
       "      <td>NaN</td>\n",
       "    </tr>\n",
       "    <tr>\n",
       "      <th>cms2018+field+msc</th>\n",
       "      <td>-0.060940</td>\n",
       "      <td>0.179298</td>\n",
       "      <td>-0.033797</td>\n",
       "      <td>2.031561</td>\n",
       "      <td>-0.034012</td>\n",
       "    </tr>\n",
       "    <tr>\n",
       "      <th>testem15+field</th>\n",
       "      <td>NaN</td>\n",
       "      <td>NaN</td>\n",
       "      <td>NaN</td>\n",
       "      <td>NaN</td>\n",
       "      <td>0.021797</td>\n",
       "    </tr>\n",
       "    <tr>\n",
       "      <th>testem15+field+msc</th>\n",
       "      <td>-0.029170</td>\n",
       "      <td>0.404604</td>\n",
       "      <td>0.018801</td>\n",
       "      <td>0.206697</td>\n",
       "      <td>NaN</td>\n",
       "    </tr>\n",
       "    <tr>\n",
       "      <th>testem3-composite+field+msc</th>\n",
       "      <td>0.019985</td>\n",
       "      <td>0.127116</td>\n",
       "      <td>-0.002590</td>\n",
       "      <td>0.935424</td>\n",
       "      <td>-0.000982</td>\n",
       "    </tr>\n",
       "    <tr>\n",
       "      <th>testem3-composite+msc</th>\n",
       "      <td>-0.008002</td>\n",
       "      <td>0.202127</td>\n",
       "      <td>-0.003779</td>\n",
       "      <td>0.349950</td>\n",
       "      <td>NaN</td>\n",
       "    </tr>\n",
       "    <tr>\n",
       "      <th>testem3-expanded+field+msc</th>\n",
       "      <td>0.013979</td>\n",
       "      <td>0.101351</td>\n",
       "      <td>-0.003755</td>\n",
       "      <td>0.942053</td>\n",
       "      <td>NaN</td>\n",
       "    </tr>\n",
       "    <tr>\n",
       "      <th>testem3-flat</th>\n",
       "      <td>-0.080004</td>\n",
       "      <td>0.673478</td>\n",
       "      <td>-0.000033</td>\n",
       "      <td>0.418594</td>\n",
       "      <td>NaN</td>\n",
       "    </tr>\n",
       "    <tr>\n",
       "      <th>testem3-flat+field+msc</th>\n",
       "      <td>-0.036979</td>\n",
       "      <td>0.134540</td>\n",
       "      <td>-0.000157</td>\n",
       "      <td>1.047640</td>\n",
       "      <td>-0.000453</td>\n",
       "    </tr>\n",
       "  </tbody>\n",
       "</table>\n",
       "</div>"
      ],
      "text/plain": [
       "arch                              cpu    cpu+g4       gpu    gpu+g4  gpu+sync\n",
       "problem                                                                      \n",
       "atlas-tilecal               -0.119749  0.494502 -0.048790  0.274572       NaN\n",
       "cms-hgcal                   -0.067068  0.438892 -0.026365  0.314050       NaN\n",
       "cms2018                     -0.203373  0.285384 -0.106369  0.387242       NaN\n",
       "cms2018+field+msc           -0.060940  0.179298 -0.033797  2.031561 -0.034012\n",
       "testem15+field                    NaN       NaN       NaN       NaN  0.021797\n",
       "testem15+field+msc          -0.029170  0.404604  0.018801  0.206697       NaN\n",
       "testem3-composite+field+msc  0.019985  0.127116 -0.002590  0.935424 -0.000982\n",
       "testem3-composite+msc       -0.008002  0.202127 -0.003779  0.349950       NaN\n",
       "testem3-expanded+field+msc   0.013979  0.101351 -0.003755  0.942053       NaN\n",
       "testem3-flat                -0.080004  0.673478 -0.000033  0.418594       NaN\n",
       "testem3-flat+field+msc      -0.036979  0.134540 -0.000157  1.047640 -0.000453"
      ]
     },
     "execution_count": 19,
     "metadata": {},
     "output_type": "execute_result"
    }
   ],
   "source": [
    "rel_throughput.groupby('problem').mean()"
   ]
  },
  {
   "cell_type": "code",
   "execution_count": 43,
   "id": "840db849-6478-4aad-b104-4e6958efccf4",
   "metadata": {},
   "outputs": [
    {
     "data": {
      "text/html": [
       "<div>\n",
       "<style scoped>\n",
       "    .dataframe tbody tr th:only-of-type {\n",
       "        vertical-align: middle;\n",
       "    }\n",
       "\n",
       "    .dataframe tbody tr th {\n",
       "        vertical-align: top;\n",
       "    }\n",
       "\n",
       "    .dataframe thead th {\n",
       "        text-align: right;\n",
       "    }\n",
       "</style>\n",
       "<table border=\"1\" class=\"dataframe\">\n",
       "  <thead>\n",
       "    <tr style=\"text-align: right;\">\n",
       "      <th></th>\n",
       "      <th>cpu</th>\n",
       "      <th>cpu+g4</th>\n",
       "      <th>g4</th>\n",
       "      <th>gpu</th>\n",
       "      <th>gpu+g4</th>\n",
       "      <th>gpu+sync</th>\n",
       "    </tr>\n",
       "    <tr>\n",
       "      <th>problem</th>\n",
       "      <th></th>\n",
       "      <th></th>\n",
       "      <th></th>\n",
       "      <th></th>\n",
       "      <th></th>\n",
       "      <th></th>\n",
       "    </tr>\n",
       "  </thead>\n",
       "  <tbody>\n",
       "    <tr>\n",
       "      <th>atlas-tilecal</th>\n",
       "      <td>1.0</td>\n",
       "      <td>0.0625</td>\n",
       "      <td>NaN</td>\n",
       "      <td>1.0</td>\n",
       "      <td>4.0</td>\n",
       "      <td>NaN</td>\n",
       "    </tr>\n",
       "    <tr>\n",
       "      <th>cms-hgcal</th>\n",
       "      <td>1.0</td>\n",
       "      <td>0.0625</td>\n",
       "      <td>NaN</td>\n",
       "      <td>1.0</td>\n",
       "      <td>4.0</td>\n",
       "      <td>NaN</td>\n",
       "    </tr>\n",
       "    <tr>\n",
       "      <th>cms2018+field+msc</th>\n",
       "      <td>1.0</td>\n",
       "      <td>0.0625</td>\n",
       "      <td>NaN</td>\n",
       "      <td>1.0</td>\n",
       "      <td>4.0</td>\n",
       "      <td>NaN</td>\n",
       "    </tr>\n",
       "    <tr>\n",
       "      <th>cms2018</th>\n",
       "      <td>1.0</td>\n",
       "      <td>0.0625</td>\n",
       "      <td>NaN</td>\n",
       "      <td>1.0</td>\n",
       "      <td>4.0</td>\n",
       "      <td>NaN</td>\n",
       "    </tr>\n",
       "    <tr>\n",
       "      <th>testem15+field+msc</th>\n",
       "      <td>1.0</td>\n",
       "      <td>0.0625</td>\n",
       "      <td>NaN</td>\n",
       "      <td>1.0</td>\n",
       "      <td>4.0</td>\n",
       "      <td>NaN</td>\n",
       "    </tr>\n",
       "    <tr>\n",
       "      <th>testem15+field</th>\n",
       "      <td>NaN</td>\n",
       "      <td>NaN</td>\n",
       "      <td>NaN</td>\n",
       "      <td>NaN</td>\n",
       "      <td>NaN</td>\n",
       "      <td>NaN</td>\n",
       "    </tr>\n",
       "    <tr>\n",
       "      <th>testem3-composite+field+msc</th>\n",
       "      <td>1.0</td>\n",
       "      <td>0.0625</td>\n",
       "      <td>NaN</td>\n",
       "      <td>1.0</td>\n",
       "      <td>4.0</td>\n",
       "      <td>NaN</td>\n",
       "    </tr>\n",
       "    <tr>\n",
       "      <th>testem3-composite+msc</th>\n",
       "      <td>1.0</td>\n",
       "      <td>0.0625</td>\n",
       "      <td>NaN</td>\n",
       "      <td>1.0</td>\n",
       "      <td>4.0</td>\n",
       "      <td>NaN</td>\n",
       "    </tr>\n",
       "    <tr>\n",
       "      <th>testem3-expanded+field+msc</th>\n",
       "      <td>1.0</td>\n",
       "      <td>0.0625</td>\n",
       "      <td>NaN</td>\n",
       "      <td>1.0</td>\n",
       "      <td>4.0</td>\n",
       "      <td>NaN</td>\n",
       "    </tr>\n",
       "    <tr>\n",
       "      <th>testem3-flat+field+msc</th>\n",
       "      <td>1.0</td>\n",
       "      <td>0.0625</td>\n",
       "      <td>NaN</td>\n",
       "      <td>1.0</td>\n",
       "      <td>4.0</td>\n",
       "      <td>NaN</td>\n",
       "    </tr>\n",
       "    <tr>\n",
       "      <th>testem3-flat</th>\n",
       "      <td>1.0</td>\n",
       "      <td>0.0625</td>\n",
       "      <td>NaN</td>\n",
       "      <td>1.0</td>\n",
       "      <td>4.0</td>\n",
       "      <td>NaN</td>\n",
       "    </tr>\n",
       "  </tbody>\n",
       "</table>\n",
       "</div>"
      ],
      "text/plain": [
       "                             cpu  cpu+g4  g4  gpu  gpu+g4  gpu+sync\n",
       "problem                                                            \n",
       "atlas-tilecal                1.0  0.0625 NaN  1.0     4.0       NaN\n",
       "cms-hgcal                    1.0  0.0625 NaN  1.0     4.0       NaN\n",
       "cms2018+field+msc            1.0  0.0625 NaN  1.0     4.0       NaN\n",
       "cms2018                      1.0  0.0625 NaN  1.0     4.0       NaN\n",
       "testem15+field+msc           1.0  0.0625 NaN  1.0     4.0       NaN\n",
       "testem15+field               NaN     NaN NaN  NaN     NaN       NaN\n",
       "testem3-composite+field+msc  1.0  0.0625 NaN  1.0     4.0       NaN\n",
       "testem3-composite+msc        1.0  0.0625 NaN  1.0     4.0       NaN\n",
       "testem3-expanded+field+msc   1.0  0.0625 NaN  1.0     4.0       NaN\n",
       "testem3-flat+field+msc       1.0  0.0625 NaN  1.0     4.0       NaN\n",
       "testem3-flat                 1.0  0.0625 NaN  1.0     4.0       NaN"
      ]
     },
     "execution_count": 43,
     "metadata": {},
     "output_type": "execute_result"
    }
   ],
   "source": [
    "get_total_slots(new) / get_total_slots(old)"
   ]
  },
  {
   "cell_type": "code",
   "execution_count": 47,
   "id": "1fe52cf2-1d23-499d-8f5b-e01e12091661",
   "metadata": {},
   "outputs": [
    {
     "data": {
      "text/plain": [
       "arch\n",
       "cpu           65536.0\n",
       "cpu+g4         4096.0\n",
       "gpu         1048576.0\n",
       "gpu+g4       262144.0\n",
       "gpu+sync          NaN\n",
       "Name: cms-hgcal, dtype: float64"
      ]
     },
     "execution_count": 47,
     "metadata": {},
     "output_type": "execute_result"
    }
   ],
   "source": [
    "get_slots_per_stream(new).iloc[1]"
   ]
  },
  {
   "cell_type": "code",
   "execution_count": 48,
   "id": "596bba90-bfdd-406b-8f48-d6f6d0b35bbc",
   "metadata": {},
   "outputs": [
    {
     "data": {
      "text/plain": [
       "arch\n",
       "cpu           65536.0\n",
       "cpu+g4        65536.0\n",
       "gpu         1048576.0\n",
       "gpu+g4        65536.0\n",
       "gpu+sync          NaN\n",
       "Name: cms-hgcal, dtype: float64"
      ]
     },
     "execution_count": 48,
     "metadata": {},
     "output_type": "execute_result"
    }
   ],
   "source": [
    "get_slots_per_stream(old).iloc[1]"
   ]
  },
  {
   "cell_type": "markdown",
   "id": "6e537d95-950e-45c7-b293-40ce3c77d3d0",
   "metadata": {
    "tags": []
   },
   "source": [
    "## Performance drop between versions"
   ]
  },
  {
   "cell_type": "code",
   "execution_count": 21,
   "id": "85b6b7f0-af60-4ada-929d-a2719609e328",
   "metadata": {
    "tags": []
   },
   "outputs": [],
   "source": [
    "#analyses = {a.version: a for a in [frontier, frontier_v050]}\n",
    "analyses = {\n",
    "    oldversion: old,\n",
    "    version: new,\n",
    "}\n",
    "throughput = {k: a.result['avg_event_per_time'] for k, a in analyses.items()}\n",
    "plot_rel_to = old"
   ]
  },
  {
   "cell_type": "code",
   "execution_count": 22,
   "id": "c57f5c4f-14f8-4c95-9aae-50eeaeaaae7a",
   "metadata": {
    "tags": []
   },
   "outputs": [],
   "source": [
    "def plot_ratio(result_dict):\n",
    "    rel = analyze.summarize_instances(result_dict[version] / result_dict[oldversion])\n",
    "    rel.dropna(inplace=True)\n",
    "    fig, ax = plt.subplots(layout=\"constrained\")\n",
    "    plot_rel_to.plot_results(ax, rel)\n",
    "    ax.grid(which='both')\n",
    "    ax.legend()\n",
    "    ax.text(0.98, 0.02,\n",
    "        f\"{version} / {oldversion} - 1 on {system}\",\n",
    "        va='bottom', ha='right',\n",
    "        fontstyle='italic', color=(0.5,)*3, size='xx-small',\n",
    "        transform=ax.transAxes,\n",
    "        zorder=-100\n",
    "    )\n",
    "\n",
    "    return ax"
   ]
  },
  {
   "cell_type": "code",
   "execution_count": 23,
   "id": "bf1faaaf-6d59-4d01-b759-303f0489679e",
   "metadata": {
    "tags": []
   },
   "outputs": [],
   "source": [
    "steps = {k: a.result['avg_steps_per_primary'] for k, a in analyses.items()}"
   ]
  },
  {
   "cell_type": "code",
   "execution_count": 24,
   "id": "49678867-15eb-4a19-b98d-d05698952b3b",
   "metadata": {
    "tags": []
   },
   "outputs": [],
   "source": [
    "ax = plot_ratio(throughput)\n",
    "ax.set_ylabel(f\"Throughput [events/sec]\")\n",
    "ax.get_figure().savefig(f\"results-old/{system}/rel-throughput.png\", dpi=300)\n",
    "ax.get_figure().savefig(f\"results-old/{system}/rel-throughput.pdf\", transparent=True)\n",
    "plt.close()"
   ]
  },
  {
   "cell_type": "code",
   "execution_count": 25,
   "id": "0fcef2b6-6497-48b7-b1c2-016c7679d9ba",
   "metadata": {
    "tags": []
   },
   "outputs": [],
   "source": [
    "ax = plot_ratio(steps)\n",
    "ax.set_ylabel(f\"Work [steps/primary]\")\n",
    "ax.get_figure().savefig(f\"results-old/{system}/rel-work.png\", dpi=300)\n",
    "ax.get_figure().savefig(f\"results-old/{system}/rel-work.pdf\", transparent=True)\n",
    "plt.close()"
   ]
  },
  {
   "cell_type": "code",
   "execution_count": 27,
   "id": "83c156d0-0131-4c2b-8ce3-f2439beff145",
   "metadata": {},
   "outputs": [],
   "source": [
    "!open results-old/{system}"
   ]
  }
 ],
 "metadata": {
  "kernelspec": {
   "display_name": "Python 3 (ipykernel)",
   "language": "python",
   "name": "python3"
  },
  "language_info": {
   "codemirror_mode": {
    "name": "ipython",
    "version": 3
   },
   "file_extension": ".py",
   "mimetype": "text/x-python",
   "name": "python",
   "nbconvert_exporter": "python",
   "pygments_lexer": "ipython3",
   "version": "3.12.6"
  }
 },
 "nbformat": 4,
 "nbformat_minor": 5
}
