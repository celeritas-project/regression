{
 "cells": [
  {
   "cell_type": "code",
   "execution_count": 1,
   "id": "69f4e8fb-a4aa-4c4c-9c1a-cc96abc5a5de",
   "metadata": {
    "tags": []
   },
   "outputs": [],
   "source": [
    "import json\n",
    "import matplotlib as mpl\n",
    "import matplotlib.pyplot as plt\n",
    "import numpy as np\n",
    "import pandas as pd\n",
    "import re\n",
    "import sys\n",
    "import itertools\n",
    "from collections import namedtuple, defaultdict\n",
    "from pathlib import Path\n",
    "\n",
    "%matplotlib inline\n",
    "%config InlineBackend.figure_format = 'retina'\n",
    "\n",
    "%load_ext autoreload\n",
    "%autoreload 1\n",
    "%aimport analyze\n",
    "\n",
    "with open('plots/style.json') as f:\n",
    "    mpl.rcParams.update(json.load(f))"
   ]
  },
  {
   "cell_type": "markdown",
   "id": "94a45b0f-2213-404f-9512-6f857a2fab23",
   "metadata": {
    "tags": []
   },
   "source": [
    "## Wildstyle failures"
   ]
  },
  {
   "cell_type": "code",
   "execution_count": 2,
   "id": "a128569e-3417-4637-ab61-16c8ca2e065a",
   "metadata": {},
   "outputs": [
    {
     "name": "stdout",
     "output_type": "stream",
     "text": [
      "Analysis for Celeritas v0.4.0-rc.2 on wildstyle\n"
     ]
    }
   ],
   "source": [
    "ws = analyze.Analysis('results/wildstyle')\n",
    "print(ws)"
   ]
  },
  {
   "cell_type": "code",
   "execution_count": 3,
   "id": "2e7b3de1-9f2c-432d-a84a-50fbe3108d47",
   "metadata": {},
   "outputs": [
    {
     "data": {
      "text/html": [
       "<div>\n",
       "<style scoped>\n",
       "    .dataframe tbody tr th:only-of-type {\n",
       "        vertical-align: middle;\n",
       "    }\n",
       "\n",
       "    .dataframe tbody tr th {\n",
       "        vertical-align: top;\n",
       "    }\n",
       "\n",
       "    .dataframe thead th {\n",
       "        text-align: right;\n",
       "    }\n",
       "</style>\n",
       "<table border=\"1\" class=\"dataframe\">\n",
       "  <thead>\n",
       "    <tr style=\"text-align: right;\">\n",
       "      <th></th>\n",
       "      <th>Failure</th>\n",
       "    </tr>\n",
       "  </thead>\n",
       "  <tbody>\n",
       "    <tr>\n",
       "      <th>cms2018+field+msc/vecgeom+cpu (0)</th>\n",
       "      <td>internal assertion failed: `track.make_geo_vie...</td>\n",
       "    </tr>\n",
       "  </tbody>\n",
       "</table>\n",
       "</div>"
      ],
      "text/plain": [
       "                                                                             Failure\n",
       "cms2018+field+msc/vecgeom+cpu (0)  internal assertion failed: `track.make_geo_vie..."
      ]
     },
     "execution_count": 3,
     "metadata": {},
     "output_type": "execute_result"
    }
   ],
   "source": [
    "ftab = analyze.make_failure_table(ws.failures())\n",
    "ftab.to_frame()"
   ]
  },
  {
   "cell_type": "code",
   "execution_count": 5,
   "id": "3acf3fb9-9d0e-4424-bfea-0fe041ea0fda",
   "metadata": {
    "tags": []
   },
   "outputs": [
    {
     "data": {
      "text/plain": [
       "{'cms2018+field+msc/vecgeom+cpu (0)': 'internal assertion failed: `track.make_geo_view().pos() != orig_pos` at `PropagationApplier.hh:116`'}"
      ]
     },
     "execution_count": 5,
     "metadata": {},
     "output_type": "execute_result"
    }
   ],
   "source": [
    "ftab.to_dict()"
   ]
  },
  {
   "cell_type": "markdown",
   "id": "02985fd1-6930-4570-8869-990c7dc2557e",
   "metadata": {},
   "source": [
    "Unconverged tracks (from runs that didn't fail):"
   ]
  },
  {
   "cell_type": "code",
   "execution_count": 4,
   "id": "7bc64045-7223-491a-8e8d-6f6e19c018e4",
   "metadata": {},
   "outputs": [
    {
     "data": {
      "text/html": [
       "<div>\n",
       "<style scoped>\n",
       "    .dataframe tbody tr th:only-of-type {\n",
       "        vertical-align: middle;\n",
       "    }\n",
       "\n",
       "    .dataframe tbody tr th {\n",
       "        vertical-align: top;\n",
       "    }\n",
       "\n",
       "    .dataframe thead th {\n",
       "        text-align: right;\n",
       "    }\n",
       "</style>\n",
       "<table border=\"1\" class=\"dataframe\">\n",
       "  <thead>\n",
       "    <tr style=\"text-align: right;\">\n",
       "      <th></th>\n",
       "      <th>arch</th>\n",
       "    </tr>\n",
       "    <tr>\n",
       "      <th>problem</th>\n",
       "      <th>geo</th>\n",
       "    </tr>\n",
       "  </thead>\n",
       "  <tbody>\n",
       "  </tbody>\n",
       "</table>\n",
       "</div>"
      ],
      "text/plain": [
       "Empty DataFrame\n",
       "Columns: []\n",
       "Index: []"
      ]
     },
     "execution_count": 4,
     "metadata": {},
     "output_type": "execute_result"
    }
   ],
   "source": [
    "summed = analyze.summarize_instances(ws.result[['unconverged']])\n",
    "unconv = summed[('unconverged', 'mean')]\n",
    "unconv[unconv > 0].unstack('arch') "
   ]
  },
  {
   "cell_type": "markdown",
   "id": "8f58821b-7c2f-455e-97af-0d2d7e19e4d7",
   "metadata": {},
   "source": [
    "# Results\n",
    "## Summit"
   ]
  },
  {
   "cell_type": "code",
   "execution_count": 7,
   "id": "76d8590d-f82a-4502-9ede-af7c5b404b55",
   "metadata": {},
   "outputs": [
    {
     "name": "stdout",
     "output_type": "stream",
     "text": [
      "Analysis for Celeritas v0.4.0-dev.124+565e6012c on summit\n"
     ]
    }
   ],
   "source": [
    "summit = analyze.Analysis('results/summit')\n",
    "print(summit)"
   ]
  },
  {
   "cell_type": "markdown",
   "id": "99662eee-68e1-4bc0-bf8d-2abffaf87f2d",
   "metadata": {
    "tags": []
   },
   "source": [
    "### Failures\n",
    "\n",
    "Average number of unconverged tracks:"
   ]
  },
  {
   "cell_type": "code",
   "execution_count": 8,
   "id": "0c102c29-678c-400c-bbc4-13aa320e52df",
   "metadata": {},
   "outputs": [
    {
     "data": {
      "text/html": [
       "<div>\n",
       "<style scoped>\n",
       "    .dataframe tbody tr th:only-of-type {\n",
       "        vertical-align: middle;\n",
       "    }\n",
       "\n",
       "    .dataframe tbody tr th {\n",
       "        vertical-align: top;\n",
       "    }\n",
       "\n",
       "    .dataframe thead th {\n",
       "        text-align: right;\n",
       "    }\n",
       "</style>\n",
       "<table border=\"1\" class=\"dataframe\">\n",
       "  <thead>\n",
       "    <tr style=\"text-align: right;\">\n",
       "      <th></th>\n",
       "      <th>arch</th>\n",
       "    </tr>\n",
       "    <tr>\n",
       "      <th>problem</th>\n",
       "      <th>geo</th>\n",
       "    </tr>\n",
       "  </thead>\n",
       "  <tbody>\n",
       "  </tbody>\n",
       "</table>\n",
       "</div>"
      ],
      "text/plain": [
       "Empty DataFrame\n",
       "Columns: []\n",
       "Index: []"
      ]
     },
     "execution_count": 8,
     "metadata": {},
     "output_type": "execute_result"
    }
   ],
   "source": [
    "unconv = analyze.summarize_instances(summit.result['unconverged'])['mean']\n",
    "unconv[unconv > 0].unstack('arch') "
   ]
  },
  {
   "cell_type": "markdown",
   "id": "bc83874b-11a4-43b8-8ed4-15a3ece23301",
   "metadata": {
    "tags": []
   },
   "source": [
    "## Crusher"
   ]
  },
  {
   "cell_type": "code",
   "execution_count": 9,
   "id": "069de579-aa32-47b5-a327-974840cae362",
   "metadata": {
    "tags": []
   },
   "outputs": [],
   "source": [
    "def get_step_times(results):\n",
    "    new_idx = []\n",
    "    times = []\n",
    "    for i in results.index:\n",
    "        try:\n",
    "            outp = results.load_results(i, 0)\n",
    "            step_times = analyze.StepTimeGetter(outp, stream=0)()\n",
    "        except Exception:\n",
    "            continue\n",
    "        times.append([step_times[i] for i in range(2)])\n",
    "        new_idx.append(i)\n",
    "    return pd.DataFrame(times, index=pd.MultiIndex.from_tuples(new_idx))"
   ]
  },
  {
   "cell_type": "code",
   "execution_count": 10,
   "id": "5f8234ad-2880-471a-89fb-35fcaecd6a52",
   "metadata": {},
   "outputs": [
    {
     "name": "stdout",
     "output_type": "stream",
     "text": [
      "Analysis for Celeritas v0.4.0-dev.99+4507705b5 on crusher\n"
     ]
    }
   ],
   "source": [
    "crusher = analyze.Analysis('results/crusher')\n",
    "print(crusher)"
   ]
  },
  {
   "cell_type": "markdown",
   "id": "6be489b3-d4b4-4ce7-b8ec-666afc0ec74a",
   "metadata": {},
   "source": [
    "## Frontier"
   ]
  },
  {
   "cell_type": "code",
   "execution_count": 11,
   "id": "c30ce0bc-39a8-4688-9ee4-4d96b24a6f19",
   "metadata": {
    "tags": []
   },
   "outputs": [
    {
     "name": "stdout",
     "output_type": "stream",
     "text": [
      "Analysis for Celeritas v0.4.0-dev.124+565e6012c on frontier\n"
     ]
    }
   ],
   "source": [
    "frontier = analyze.Analysis('results/frontier')\n",
    "print(frontier)"
   ]
  },
  {
   "cell_type": "code",
   "execution_count": 12,
   "id": "0b4d70bf-cb0f-4437-983f-f5380f11d8c8",
   "metadata": {},
   "outputs": [],
   "source": [
    "frontier_rates = analyze.calc_event_rate(frontier)\n",
    "summit_rates = analyze.calc_event_rate(summit, summit.summed.loc[frontier_rates.index])\n",
    "\n",
    "counts = {\n",
    "    ('summit', 'cpu'): 7,\n",
    "    ('summit', 'gpu'): 1,\n",
    "    ('frontier', 'cpu'): 7,\n",
    "    ('frontier', 'gpu'): 1,\n",
    "}"
   ]
  },
  {
   "cell_type": "code",
   "execution_count": 13,
   "id": "092e391f-ba8d-428b-83bf-ea917c2d1d16",
   "metadata": {},
   "outputs": [
    {
     "data": {
      "text/html": [
       "<div>\n",
       "<style scoped>\n",
       "    .dataframe tbody tr th:only-of-type {\n",
       "        vertical-align: middle;\n",
       "    }\n",
       "\n",
       "    .dataframe tbody tr th {\n",
       "        vertical-align: top;\n",
       "    }\n",
       "\n",
       "    .dataframe thead th {\n",
       "        text-align: right;\n",
       "    }\n",
       "</style>\n",
       "<table border=\"1\" class=\"dataframe\">\n",
       "  <thead>\n",
       "    <tr style=\"text-align: right;\">\n",
       "      <th></th>\n",
       "      <th>arch</th>\n",
       "      <th>cpu</th>\n",
       "      <th>gpu</th>\n",
       "      <th>gpu+sync</th>\n",
       "    </tr>\n",
       "    <tr>\n",
       "      <th>problem</th>\n",
       "      <th>geo</th>\n",
       "      <th></th>\n",
       "      <th></th>\n",
       "      <th></th>\n",
       "    </tr>\n",
       "  </thead>\n",
       "  <tbody>\n",
       "    <tr>\n",
       "      <th>simple-cms+field</th>\n",
       "      <th>orange</th>\n",
       "      <td>1.859090</td>\n",
       "      <td>0.769070</td>\n",
       "      <td>NaN</td>\n",
       "    </tr>\n",
       "    <tr>\n",
       "      <th>simple-cms+field+msc</th>\n",
       "      <th>orange</th>\n",
       "      <td>1.944670</td>\n",
       "      <td>0.820616</td>\n",
       "      <td>NaN</td>\n",
       "    </tr>\n",
       "    <tr>\n",
       "      <th>simple-cms+msc</th>\n",
       "      <th>orange</th>\n",
       "      <td>1.870205</td>\n",
       "      <td>0.853647</td>\n",
       "      <td>NaN</td>\n",
       "    </tr>\n",
       "    <tr>\n",
       "      <th>testem15</th>\n",
       "      <th>orange</th>\n",
       "      <td>1.755824</td>\n",
       "      <td>0.799741</td>\n",
       "      <td>NaN</td>\n",
       "    </tr>\n",
       "    <tr>\n",
       "      <th>testem15+field</th>\n",
       "      <th>orange</th>\n",
       "      <td>1.866668</td>\n",
       "      <td>0.875827</td>\n",
       "      <td>0.878627</td>\n",
       "    </tr>\n",
       "    <tr>\n",
       "      <th>testem15+field+msc</th>\n",
       "      <th>orange</th>\n",
       "      <td>1.903381</td>\n",
       "      <td>0.911272</td>\n",
       "      <td>NaN</td>\n",
       "    </tr>\n",
       "    <tr>\n",
       "      <th>testem3-flat</th>\n",
       "      <th>orange</th>\n",
       "      <td>1.767941</td>\n",
       "      <td>0.725712</td>\n",
       "      <td>NaN</td>\n",
       "    </tr>\n",
       "    <tr>\n",
       "      <th>testem3-flat+field</th>\n",
       "      <th>orange</th>\n",
       "      <td>1.860801</td>\n",
       "      <td>0.739295</td>\n",
       "      <td>NaN</td>\n",
       "    </tr>\n",
       "    <tr>\n",
       "      <th>testem3-flat+field+msc</th>\n",
       "      <th>orange</th>\n",
       "      <td>1.919230</td>\n",
       "      <td>0.719573</td>\n",
       "      <td>0.723578</td>\n",
       "    </tr>\n",
       "    <tr>\n",
       "      <th>testem3-flat+msc</th>\n",
       "      <th>orange</th>\n",
       "      <td>1.842259</td>\n",
       "      <td>0.809204</td>\n",
       "      <td>NaN</td>\n",
       "    </tr>\n",
       "  </tbody>\n",
       "</table>\n",
       "</div>"
      ],
      "text/plain": [
       "arch                                cpu       gpu  gpu+sync\n",
       "problem                geo                                 \n",
       "simple-cms+field       orange  1.859090  0.769070       NaN\n",
       "simple-cms+field+msc   orange  1.944670  0.820616       NaN\n",
       "simple-cms+msc         orange  1.870205  0.853647       NaN\n",
       "testem15               orange  1.755824  0.799741       NaN\n",
       "testem15+field         orange  1.866668  0.875827  0.878627\n",
       "testem15+field+msc     orange  1.903381  0.911272       NaN\n",
       "testem3-flat           orange  1.767941  0.725712       NaN\n",
       "testem3-flat+field     orange  1.860801  0.739295       NaN\n",
       "testem3-flat+field+msc orange  1.919230  0.719573  0.723578\n",
       "testem3-flat+msc       orange  1.842259  0.809204       NaN"
      ]
     },
     "execution_count": 13,
     "metadata": {},
     "output_type": "execute_result"
    }
   ],
   "source": [
    "(frontier_rates['mean'] / summit_rates['mean']).unstack()"
   ]
  },
  {
   "cell_type": "markdown",
   "id": "8a3953ba-2c25-499e-86b5-29fcb9c52d88",
   "metadata": {
    "tags": []
   },
   "source": [
    "# Occupancy"
   ]
  },
  {
   "cell_type": "code",
   "execution_count": 14,
   "id": "cbd28695-90b5-44e1-b578-4a5317d3e620",
   "metadata": {
    "tags": []
   },
   "outputs": [],
   "source": [
    "problem = \"testem3-flat\"\n",
    "kernel_stats = {\n",
    "    \"cuda/vecgeom\": analyze.load_kernels(summit, problem, \"vecgeom\"),\n",
    "    \"cuda/orange\": analyze.load_kernels(summit, problem, \"orange\"),\n",
    "    \"hip/orange\": analyze.load_kernels(frontier, problem, \"orange\"),\n",
    "}\n",
    "ksdf = analyze.kernel_stats_dataframe(kernel_stats)"
   ]
  },
  {
   "cell_type": "code",
   "execution_count": 15,
   "id": "1c834d08-31c7-45e2-9668-0865ca50c4a1",
   "metadata": {
    "tags": []
   },
   "outputs": [
    {
     "data": {
      "text/html": [
       "<div>\n",
       "<style scoped>\n",
       "    .dataframe tbody tr th:only-of-type {\n",
       "        vertical-align: middle;\n",
       "    }\n",
       "\n",
       "    .dataframe tbody tr th {\n",
       "        vertical-align: top;\n",
       "    }\n",
       "\n",
       "    .dataframe thead th {\n",
       "        text-align: right;\n",
       "    }\n",
       "</style>\n",
       "<table border=\"1\" class=\"dataframe\">\n",
       "  <thead>\n",
       "    <tr style=\"text-align: right;\">\n",
       "      <th></th>\n",
       "      <th></th>\n",
       "      <th></th>\n",
       "      <th>const_mem</th>\n",
       "      <th>heap_size</th>\n",
       "      <th>local_mem</th>\n",
       "      <th>max_blocks_per_cu</th>\n",
       "      <th>max_threads_per_block</th>\n",
       "      <th>max_warps_per_eu</th>\n",
       "      <th>num_regs</th>\n",
       "      <th>occupancy</th>\n",
       "      <th>threads_per_block</th>\n",
       "      <th>kernel_index</th>\n",
       "      <th>register_mem</th>\n",
       "    </tr>\n",
       "    <tr>\n",
       "      <th>arch</th>\n",
       "      <th>geo</th>\n",
       "      <th>name</th>\n",
       "      <th></th>\n",
       "      <th></th>\n",
       "      <th></th>\n",
       "      <th></th>\n",
       "      <th></th>\n",
       "      <th></th>\n",
       "      <th></th>\n",
       "      <th></th>\n",
       "      <th></th>\n",
       "      <th></th>\n",
       "      <th></th>\n",
       "    </tr>\n",
       "  </thead>\n",
       "  <tbody>\n",
       "    <tr>\n",
       "      <th rowspan=\"5\" valign=\"top\">cuda</th>\n",
       "      <th>vecgeom</th>\n",
       "      <th>scat-rayleigh</th>\n",
       "      <td>20776</td>\n",
       "      <td>8388608</td>\n",
       "      <td>104</td>\n",
       "      <td>4</td>\n",
       "      <td>256</td>\n",
       "      <td>32</td>\n",
       "      <td>64</td>\n",
       "      <td>0.500</td>\n",
       "      <td>256</td>\n",
       "      <td>15</td>\n",
       "      <td>256</td>\n",
       "    </tr>\n",
       "    <tr>\n",
       "      <th rowspan=\"4\" valign=\"top\">orange</th>\n",
       "      <th>initialize-tracks</th>\n",
       "      <td>0</td>\n",
       "      <td>8388608</td>\n",
       "      <td>112</td>\n",
       "      <td>4</td>\n",
       "      <td>256</td>\n",
       "      <td>32</td>\n",
       "      <td>63</td>\n",
       "      <td>0.500</td>\n",
       "      <td>256</td>\n",
       "      <td>1</td>\n",
       "      <td>252</td>\n",
       "    </tr>\n",
       "    <tr>\n",
       "      <th>photoel-livermore</th>\n",
       "      <td>0</td>\n",
       "      <td>8388608</td>\n",
       "      <td>80</td>\n",
       "      <td>3</td>\n",
       "      <td>256</td>\n",
       "      <td>24</td>\n",
       "      <td>66</td>\n",
       "      <td>0.375</td>\n",
       "      <td>256</td>\n",
       "      <td>12</td>\n",
       "      <td>264</td>\n",
       "    </tr>\n",
       "    <tr>\n",
       "      <th>scat-rayleigh</th>\n",
       "      <td>0</td>\n",
       "      <td>8388608</td>\n",
       "      <td>104</td>\n",
       "      <td>4</td>\n",
       "      <td>256</td>\n",
       "      <td>32</td>\n",
       "      <td>63</td>\n",
       "      <td>0.500</td>\n",
       "      <td>256</td>\n",
       "      <td>15</td>\n",
       "      <td>252</td>\n",
       "    </tr>\n",
       "    <tr>\n",
       "      <th>geo-boundary</th>\n",
       "      <td>0</td>\n",
       "      <td>8388608</td>\n",
       "      <td>176</td>\n",
       "      <td>4</td>\n",
       "      <td>256</td>\n",
       "      <td>32</td>\n",
       "      <td>64</td>\n",
       "      <td>0.500</td>\n",
       "      <td>256</td>\n",
       "      <td>17</td>\n",
       "      <td>256</td>\n",
       "    </tr>\n",
       "    <tr>\n",
       "      <th rowspan=\"2\" valign=\"top\">hip</th>\n",
       "      <th rowspan=\"2\" valign=\"top\">orange</th>\n",
       "      <th>initialize-tracks</th>\n",
       "      <td>0</td>\n",
       "      <td>68702699520</td>\n",
       "      <td>120</td>\n",
       "      <td>5</td>\n",
       "      <td>256</td>\n",
       "      <td>5</td>\n",
       "      <td>90</td>\n",
       "      <td>0.625</td>\n",
       "      <td>256</td>\n",
       "      <td>1</td>\n",
       "      <td>360</td>\n",
       "    </tr>\n",
       "    <tr>\n",
       "      <th>geo-boundary</th>\n",
       "      <td>0</td>\n",
       "      <td>68702699520</td>\n",
       "      <td>304</td>\n",
       "      <td>5</td>\n",
       "      <td>256</td>\n",
       "      <td>5</td>\n",
       "      <td>92</td>\n",
       "      <td>0.625</td>\n",
       "      <td>256</td>\n",
       "      <td>17</td>\n",
       "      <td>368</td>\n",
       "    </tr>\n",
       "  </tbody>\n",
       "</table>\n",
       "</div>"
      ],
      "text/plain": [
       "                                const_mem    heap_size  local_mem  \\\n",
       "arch geo     name                                                   \n",
       "cuda vecgeom scat-rayleigh          20776      8388608        104   \n",
       "     orange  initialize-tracks          0      8388608        112   \n",
       "             photoel-livermore          0      8388608         80   \n",
       "             scat-rayleigh              0      8388608        104   \n",
       "             geo-boundary               0      8388608        176   \n",
       "hip  orange  initialize-tracks          0  68702699520        120   \n",
       "             geo-boundary               0  68702699520        304   \n",
       "\n",
       "                                max_blocks_per_cu  max_threads_per_block  \\\n",
       "arch geo     name                                                          \n",
       "cuda vecgeom scat-rayleigh                      4                    256   \n",
       "     orange  initialize-tracks                  4                    256   \n",
       "             photoel-livermore                  3                    256   \n",
       "             scat-rayleigh                      4                    256   \n",
       "             geo-boundary                       4                    256   \n",
       "hip  orange  initialize-tracks                  5                    256   \n",
       "             geo-boundary                       5                    256   \n",
       "\n",
       "                                max_warps_per_eu  num_regs  occupancy  \\\n",
       "arch geo     name                                                       \n",
       "cuda vecgeom scat-rayleigh                    32        64      0.500   \n",
       "     orange  initialize-tracks                32        63      0.500   \n",
       "             photoel-livermore                24        66      0.375   \n",
       "             scat-rayleigh                    32        63      0.500   \n",
       "             geo-boundary                     32        64      0.500   \n",
       "hip  orange  initialize-tracks                 5        90      0.625   \n",
       "             geo-boundary                      5        92      0.625   \n",
       "\n",
       "                                threads_per_block  kernel_index  register_mem  \n",
       "arch geo     name                                                              \n",
       "cuda vecgeom scat-rayleigh                    256            15           256  \n",
       "     orange  initialize-tracks                256             1           252  \n",
       "             photoel-livermore                256            12           264  \n",
       "             scat-rayleigh                    256            15           252  \n",
       "             geo-boundary                     256            17           256  \n",
       "hip  orange  initialize-tracks                256             1           360  \n",
       "             geo-boundary                     256            17           368  "
      ]
     },
     "execution_count": 15,
     "metadata": {},
     "output_type": "execute_result"
    }
   ],
   "source": [
    "ksdf[ksdf['local_mem'] > 64]"
   ]
  },
  {
   "cell_type": "code",
   "execution_count": 18,
   "id": "cd1939a5-782b-4312-a4d3-60cf4aea898e",
   "metadata": {
    "tags": []
   },
   "outputs": [
    {
     "data": {
      "image/png": "[encoded data removed]",
      "text/plain": [
       "<Figure size 562.5x450 with 2 Axes>"
      ]
     },
     "metadata": {
      "image/png": {
       "height": 439,
       "width": 548
      }
     },
     "output_type": "display_data"
    }
   ],
   "source": [
    "archgeo_labels = {\n",
    "    \"cuda/vecgeom\": \"NVIDIA V100 (VecGeom)\",\n",
    "    \"cuda/orange\": \"NVIDIA V100 (ORANGE)\",\n",
    "    \"hip/orange\": \"AMD MI250 (ORANGE)\",\n",
    "}\n",
    "archgeo_markers = {\n",
    "    \"cuda/vecgeom\": \".\",\n",
    "    \"cuda/orange\": \"+\",\n",
    "    \"hip/orange\": \"x\",\n",
    "}\n",
    "\n",
    "\n",
    "(fig, ax) = plt.subplots()\n",
    "for key, ks in ksdf.unstack(\"name\").iterrows():\n",
    "    k = \"/\".join(key)\n",
    "    ks = ks.unstack(level=0)\n",
    "    s = ax.scatter(ks[\"occupancy\"], ks[\"local_mem\"],\n",
    "               c=ks[\"kernel_index\"],\n",
    "               marker=archgeo_markers[k], label=archgeo_labels[k])\n",
    "#ax.set_xlim(-0.05, 1.05)\n",
    "ax.set_xlabel(\"Occupancy\")\n",
    "ax.set_ylabel(\"Local memory spill [B]\")\n",
    "ax.legend()\n",
    "cb = fig.colorbar(s)\n",
    "fig.tight_layout()"
   ]
  },
  {
   "cell_type": "code",
   "execution_count": null,
   "id": "6d82f326-8d46-4813-82e5-6f4664941b04",
   "metadata": {},
   "outputs": [],
   "source": []
  }
 ],
 "metadata": {
  "kernelspec": {
   "display_name": "Python 3 (ipykernel)",
   "language": "python",
   "name": "python3"
  },
  "language_info": {
   "codemirror_mode": {
    "name": "ipython",
    "version": 3
   },
   "file_extension": ".py",
   "mimetype": "text/x-python",
   "name": "python",
   "nbconvert_exporter": "python",
   "pygments_lexer": "ipython3",
   "version": "3.9.16"
  }
 },
 "nbformat": 4,
 "nbformat_minor": 5
}
