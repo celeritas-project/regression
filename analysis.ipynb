{
 "cells": [
  {
   "cell_type": "code",
   "execution_count": 1,
   "id": "69f4e8fb-a4aa-4c4c-9c1a-cc96abc5a5de",
   "metadata": {},
   "outputs": [],
   "source": [
    "import json\n",
    "import matplotlib as mpl\n",
    "import matplotlib.pyplot as plt\n",
    "import numpy as np\n",
    "import pandas as pd\n",
    "import re\n",
    "import sys\n",
    "import itertools\n",
    "from collections import namedtuple\n",
    "from pathlib import Path\n",
    "\n",
    "%matplotlib inline\n",
    "%config InlineBackend.figure_format = 'retina'\n",
    "\n",
    "with open('plots/style.json') as f:\n",
    "    mpl.rcParams.update(json.load(f))"
   ]
  },
  {
   "cell_type": "code",
   "execution_count": 2,
   "id": "398a79b8-7fd1-4a75-b527-5f9f5ff91a0c",
   "metadata": {},
   "outputs": [],
   "source": [
    "%load_ext autoreload\n",
    "%autoreload 1\n",
    "%aimport analyze"
   ]
  },
  {
   "cell_type": "code",
   "execution_count": 3,
   "id": "76d8590d-f82a-4502-9ede-af7c5b404b55",
   "metadata": {},
   "outputs": [
    {
     "ename": "KeyError",
     "evalue": "'input'",
     "output_type": "error",
     "traceback": [
      "\u001b[0;31m---------------------------------------------------------------------------\u001b[0m",
      "\u001b[0;31mKeyError\u001b[0m                                  Traceback (most recent call last)",
      "Input \u001b[0;32mIn [3]\u001b[0m, in \u001b[0;36m<cell line: 1>\u001b[0;34m()\u001b[0m\n\u001b[0;32m----> 1\u001b[0m summit \u001b[38;5;241m=\u001b[39m \u001b[43manalyze\u001b[49m\u001b[38;5;241;43m.\u001b[39;49m\u001b[43mAnalysis\u001b[49m\u001b[43m(\u001b[49m\u001b[38;5;124;43m'\u001b[39;49m\u001b[38;5;124;43mresults/summit\u001b[39;49m\u001b[38;5;124;43m'\u001b[39;49m\u001b[43m)\u001b[49m\n",
      "File \u001b[0;32m~/Documents/celeritas-regression/analyze.py:43\u001b[0m, in \u001b[0;36mAnalysis.__init__\u001b[0;34m(self, basedir)\u001b[0m\n\u001b[1;32m     39\u001b[0m \u001b[38;5;28;01mwith\u001b[39;00m \u001b[38;5;28mopen\u001b[39m(basedir \u001b[38;5;241m/\u001b[39m \u001b[38;5;124m'\u001b[39m\u001b[38;5;124msummaries.json\u001b[39m\u001b[38;5;124m'\u001b[39m) \u001b[38;5;28;01mas\u001b[39;00m f:\n\u001b[1;32m     40\u001b[0m     summaries \u001b[38;5;241m=\u001b[39m {\u001b[38;5;28mtuple\u001b[39m(v\u001b[38;5;241m.\u001b[39mpop(\u001b[38;5;124m'\u001b[39m\u001b[38;5;124mname\u001b[39m\u001b[38;5;124m'\u001b[39m)): v\n\u001b[1;32m     41\u001b[0m                  \u001b[38;5;28;01mfor\u001b[39;00m v \u001b[38;5;129;01min\u001b[39;00m json\u001b[38;5;241m.\u001b[39mload(f)\u001b[38;5;241m.\u001b[39mvalues()}\n\u001b[0;32m---> 43\u001b[0m \u001b[38;5;28minput\u001b[39m \u001b[38;5;241m=\u001b[39m pd\u001b[38;5;241m.\u001b[39mDataFrame([v[\u001b[38;5;124m'\u001b[39m\u001b[38;5;124minput\u001b[39m\u001b[38;5;124m'\u001b[39m] \u001b[38;5;28;01mfor\u001b[39;00m v \u001b[38;5;129;01min\u001b[39;00m summaries\u001b[38;5;241m.\u001b[39mvalues()],\n\u001b[1;32m     44\u001b[0m                        index\u001b[38;5;241m=\u001b[39msummaries\u001b[38;5;241m.\u001b[39mkeys())\n\u001b[1;32m     45\u001b[0m result \u001b[38;5;241m=\u001b[39m pd\u001b[38;5;241m.\u001b[39mDataFrame([v[\u001b[38;5;124m'\u001b[39m\u001b[38;5;124mresult\u001b[39m\u001b[38;5;124m'\u001b[39m] \u001b[38;5;28;01mfor\u001b[39;00m v \u001b[38;5;129;01min\u001b[39;00m summaries\u001b[38;5;241m.\u001b[39mvalues()],\n\u001b[1;32m     46\u001b[0m                        index\u001b[38;5;241m=\u001b[39msummaries\u001b[38;5;241m.\u001b[39mkeys())\n\u001b[1;32m     47\u001b[0m result \u001b[38;5;241m=\u001b[39m result\u001b[38;5;241m.\u001b[39mstack()\n",
      "File \u001b[0;32m~/Documents/celeritas-regression/analyze.py:43\u001b[0m, in \u001b[0;36m<listcomp>\u001b[0;34m(.0)\u001b[0m\n\u001b[1;32m     39\u001b[0m \u001b[38;5;28;01mwith\u001b[39;00m \u001b[38;5;28mopen\u001b[39m(basedir \u001b[38;5;241m/\u001b[39m \u001b[38;5;124m'\u001b[39m\u001b[38;5;124msummaries.json\u001b[39m\u001b[38;5;124m'\u001b[39m) \u001b[38;5;28;01mas\u001b[39;00m f:\n\u001b[1;32m     40\u001b[0m     summaries \u001b[38;5;241m=\u001b[39m {\u001b[38;5;28mtuple\u001b[39m(v\u001b[38;5;241m.\u001b[39mpop(\u001b[38;5;124m'\u001b[39m\u001b[38;5;124mname\u001b[39m\u001b[38;5;124m'\u001b[39m)): v\n\u001b[1;32m     41\u001b[0m                  \u001b[38;5;28;01mfor\u001b[39;00m v \u001b[38;5;129;01min\u001b[39;00m json\u001b[38;5;241m.\u001b[39mload(f)\u001b[38;5;241m.\u001b[39mvalues()}\n\u001b[0;32m---> 43\u001b[0m \u001b[38;5;28minput\u001b[39m \u001b[38;5;241m=\u001b[39m pd\u001b[38;5;241m.\u001b[39mDataFrame([\u001b[43mv\u001b[49m\u001b[43m[\u001b[49m\u001b[38;5;124;43m'\u001b[39;49m\u001b[38;5;124;43minput\u001b[39;49m\u001b[38;5;124;43m'\u001b[39;49m\u001b[43m]\u001b[49m \u001b[38;5;28;01mfor\u001b[39;00m v \u001b[38;5;129;01min\u001b[39;00m summaries\u001b[38;5;241m.\u001b[39mvalues()],\n\u001b[1;32m     44\u001b[0m                        index\u001b[38;5;241m=\u001b[39msummaries\u001b[38;5;241m.\u001b[39mkeys())\n\u001b[1;32m     45\u001b[0m result \u001b[38;5;241m=\u001b[39m pd\u001b[38;5;241m.\u001b[39mDataFrame([v[\u001b[38;5;124m'\u001b[39m\u001b[38;5;124mresult\u001b[39m\u001b[38;5;124m'\u001b[39m] \u001b[38;5;28;01mfor\u001b[39;00m v \u001b[38;5;129;01min\u001b[39;00m summaries\u001b[38;5;241m.\u001b[39mvalues()],\n\u001b[1;32m     46\u001b[0m                        index\u001b[38;5;241m=\u001b[39msummaries\u001b[38;5;241m.\u001b[39mkeys())\n\u001b[1;32m     47\u001b[0m result \u001b[38;5;241m=\u001b[39m result\u001b[38;5;241m.\u001b[39mstack()\n",
      "\u001b[0;31mKeyError\u001b[0m: 'input'"
     ]
    }
   ],
   "source": [
    "summit = analyze.Analysis('results/summit')"
   ]
  },
  {
   "cell_type": "code",
   "execution_count": null,
   "id": "c23ac04a-a729-4719-b299-ddbcfe17ea0f",
   "metadata": {},
   "outputs": [],
   "source": [
    "print(summit)"
   ]
  },
  {
   "cell_type": "code",
   "execution_count": null,
   "id": "20af0609-9be2-4f89-bbde-8bdef0c80ec2",
   "metadata": {},
   "outputs": [],
   "source": [
    "summed = analyze.summarize_instances(summit.result[[\n",
    "    'avg_steps_per_primary',\n",
    "    'avg_time_per_primary',\n",
    "    'avg_time_per_step',\n",
    "    'num_steps',\n",
    "    'total_time']])"
   ]
  },
  {
   "cell_type": "code",
   "execution_count": null,
   "id": "52c03bb6-e721-40b6-b77a-2005b9708e66",
   "metadata": {},
   "outputs": [],
   "source": [
    "occupancy = summit.results['num_steps'] / (summit.results['num_step_iters'] * summit.input['max_num_tracks'])"
   ]
  },
  {
   "cell_type": "code",
   "execution_count": null,
   "id": "eb29e308-c29b-4932-ae07-dfe636f98e47",
   "metadata": {},
   "outputs": [],
   "source": [
    "summed"
   ]
  },
  {
   "cell_type": "code",
   "execution_count": null,
   "id": "d782e75e-eddf-474b-b011-eb01a932d909",
   "metadata": {},
   "outputs": [],
   "source": [
    "def get_cpugpu_ratio(summary):\n",
    "    mean = summary['mean'].unstack()\n",
    "    rel  = (summary['std'] / summary['mean']).unstack()\n",
    "    ratio = mean['cpu'] / mean['gpu']\n",
    "    rel_err = np.sqrt(rel['cpu']**2 + rel['gpu']**2)\n",
    "    return pd.DataFrame({'ratio': ratio, 're': rel_err})"
   ]
  },
  {
   "cell_type": "code",
   "execution_count": null,
   "id": "a26781e5-7f3f-4f9b-8f89-f8cfcddf8a80",
   "metadata": {},
   "outputs": [],
   "source": [
    "get_cpugpu_ratio(summed['avg_time_per_step'])"
   ]
  },
  {
   "cell_type": "code",
   "execution_count": null,
   "id": "e2e6920a-1a64-4f12-89b6-63b7a9e8f816",
   "metadata": {},
   "outputs": [],
   "source": [
    "summit.results.index"
   ]
  },
  {
   "cell_type": "code",
   "execution_count": null,
   "id": "87aa9c62-1247-43e9-ab7c-3f389879052b",
   "metadata": {},
   "outputs": [],
   "source": [
    "summed[['num_steps', 'unconverged']].xs('mean', axis=1, level='summary')"
   ]
  },
  {
   "cell_type": "code",
   "execution_count": null,
   "id": "01c9113d-92cf-49ef-80a0-738e54986af3",
   "metadata": {},
   "outputs": [],
   "source": [
    "def plot_counts(ax, out):\n",
    "    blue = (.1, .1, .9)\n",
    "    red = (.7, .1, .1)\n",
    "\n",
    "    lines = []\n",
    "    def plot(ax, *args, **kwargs):\n",
    "        line, = ax.plot(*args, **kwargs)\n",
    "        lines.append(line)\n",
    "\n",
    "    plot(ax, out['result']['active'], '-', color=(blue + (0.5,)), label='Active')\n",
    "    plot(ax, out['result']['alive'], '-', color=blue, label='Alive')\n",
    "    ax.set_xlabel('Step iteration')\n",
    "    ax.set_ylabel('Tracks', color=blue)\n",
    "\n",
    "    oax = ax.twinx()\n",
    "    inits = np.array(out['result']['initializers'])\n",
    "    plot(oax, inits, '--', color=red, label='Queued')\n",
    "    oax.axhline(out['input']['initializer_capacity'], linestyle='--', color=(red + (0.25,)))\n",
    "    oax.set_ylabel('Initializers', color=red)\n",
    "\n",
    "    max_init_idx = np.argmax(inits)\n",
    "    max_init_val = inits[max_init_idx]\n",
    "    text = re.sub(r'([-+.0-9]+)e\\+?(-)?0*([0-9]+)', r'$\\1\\\\times 10^{\\2\\3}$',\n",
    "                  f'{max_init_val:.2g}')\n",
    "    oax.annotate(text + ' queued', xy=(max_init_idx, max_init_val), xycoords='data',\n",
    "                 xytext=(30, 10), textcoords='offset points',\n",
    "                 size='x-small',\n",
    "                 bbox=dict(boxstyle=\"round,pad=.2\", fc=(0.9, 0.9, 0.9, 0.8) , ec=(0.2,)*3),\n",
    "                 arrowprops=dict(arrowstyle=\"->\", ec=red, lw=1,\n",
    "                                 connectionstyle=\"arc3,rad=0.2\"))\n",
    "\n",
    "    oax.spines['left'].set_color(blue)\n",
    "    oax.spines['right'].set_color(red)\n",
    "\n",
    "    ax.legend(lines, [l.get_label() for l in lines])\n",
    "\n",
    "    return {\n",
    "        'ax': ax,\n",
    "        'oax': oax,\n",
    "    }"
   ]
  },
  {
   "cell_type": "code",
   "execution_count": null,
   "id": "4544f6af-5071-4ecb-a9c0-c164d95c82fd",
   "metadata": {},
   "outputs": [],
   "source": [
    "with open('results/summit/cms2018+field+msc-vecgeom-gpu/0.json') as f:\n",
    "    full = json.load(f)"
   ]
  },
  {
   "cell_type": "code",
   "execution_count": null,
   "id": "7d839844-11db-490b-b223-6ea788e99fa9",
   "metadata": {},
   "outputs": [],
   "source": [
    "(fig, ax) = plt.subplots()\n",
    "plot_counts(ax, full);"
   ]
  },
  {
   "cell_type": "code",
   "execution_count": null,
   "id": "8cddbc86-bf60-4d67-9988-1b4b32321a64",
   "metadata": {},
   "outputs": [],
   "source": []
  }
 ],
 "metadata": {
  "kernelspec": {
   "display_name": "Python 3 (ipykernel)",
   "language": "python",
   "name": "python3"
  },
  "language_info": {
   "codemirror_mode": {
    "name": "ipython",
    "version": 3
   },
   "file_extension": ".py",
   "mimetype": "text/x-python",
   "name": "python",
   "nbconvert_exporter": "python",
   "pygments_lexer": "ipython3",
   "version": "3.9.13"
  }
 },
 "nbformat": 4,
 "nbformat_minor": 5
}
