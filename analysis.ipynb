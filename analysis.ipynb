{
 "cells": [
  {
   "cell_type": "code",
   "execution_count": 1,
   "id": "69f4e8fb-a4aa-4c4c-9c1a-cc96abc5a5de",
   "metadata": {},
   "outputs": [],
   "source": [
    "import json\n",
    "import matplotlib as mpl\n",
    "import matplotlib.pyplot as plt\n",
    "import numpy as np\n",
    "import pandas as pd\n",
    "import re\n",
    "import sys\n",
    "import itertools\n",
    "from collections import namedtuple\n",
    "from pathlib import Path\n",
    "\n",
    "%matplotlib inline\n",
    "%config InlineBackend.figure_format = 'retina'\n",
    "\n",
    "%load_ext autoreload\n",
    "%autoreload 1\n",
    "%aimport analyze\n",
    "\n",
    "with open('plots/style.json') as f:\n",
    "    mpl.rcParams.update(json.load(f))"
   ]
  },
  {
   "cell_type": "markdown",
   "id": "94a45b0f-2213-404f-9512-6f857a2fab23",
   "metadata": {},
   "source": [
    "## Wildstyle failures"
   ]
  },
  {
   "cell_type": "code",
   "execution_count": 2,
   "id": "a128569e-3417-4637-ab61-16c8ca2e065a",
   "metadata": {},
   "outputs": [
    {
     "name": "stdout",
     "output_type": "stream",
     "text": [
      "Analysis for Celeritas v0.3.0-dev.116+27141e37 on wildstyle\n"
     ]
    }
   ],
   "source": [
    "ws = analyze.Analysis('results/wildstyle')\n",
    "print(ws)"
   ]
  },
  {
   "cell_type": "code",
   "execution_count": 3,
   "id": "2e7b3de1-9f2c-432d-a84a-50fbe3108d47",
   "metadata": {},
   "outputs": [
    {
     "name": "stderr",
     "output_type": "stream",
     "text": [
      "/Users/seth/Documents/work/celeritas-regression/analyze.py:419: FutureWarning: The default dtype for empty Series will be 'object' instead of 'float64' in a future version. Specify a dtype explicitly to silence this warning.\n",
      "  return pd.Series(flist, index=idx, name=\"Failure\")\n"
     ]
    },
    {
     "data": {
      "text/html": [
       "<div>\n",
       "<style scoped>\n",
       "    .dataframe tbody tr th:only-of-type {\n",
       "        vertical-align: middle;\n",
       "    }\n",
       "\n",
       "    .dataframe tbody tr th {\n",
       "        vertical-align: top;\n",
       "    }\n",
       "\n",
       "    .dataframe thead th {\n",
       "        text-align: right;\n",
       "    }\n",
       "</style>\n",
       "<table border=\"1\" class=\"dataframe\">\n",
       "  <thead>\n",
       "    <tr style=\"text-align: right;\">\n",
       "      <th></th>\n",
       "      <th>Failure</th>\n",
       "    </tr>\n",
       "  </thead>\n",
       "  <tbody>\n",
       "  </tbody>\n",
       "</table>\n",
       "</div>"
      ],
      "text/plain": [
       "Empty DataFrame\n",
       "Columns: [Failure]\n",
       "Index: []"
      ]
     },
     "execution_count": 3,
     "metadata": {},
     "output_type": "execute_result"
    }
   ],
   "source": [
    "ftab = analyze.make_failure_table(ws.failures())\n",
    "ftab.to_frame()"
   ]
  },
  {
   "cell_type": "code",
   "execution_count": 4,
   "id": "55dc92b2-c118-4938-8c9e-01ebfb5c2e12",
   "metadata": {},
   "outputs": [
    {
     "name": "stdout",
     "output_type": "stream",
     "text": [
      "\n"
     ]
    }
   ],
   "source": [
    "print(\"\\n\".join(k for (k, v) in ftab.items()\n",
    "                if 'is_soft' in v))"
   ]
  },
  {
   "cell_type": "code",
   "execution_count": 5,
   "id": "c1eb1ab7-1612-433f-8e82-0734b3dbfd84",
   "metadata": {},
   "outputs": [],
   "source": [
    "summed = analyze.summarize_instances(ws.result[['unconverged']])"
   ]
  },
  {
   "cell_type": "markdown",
   "id": "02985fd1-6930-4570-8869-990c7dc2557e",
   "metadata": {},
   "source": [
    "Unconverged tracks (from runs that didn't fail):"
   ]
  },
  {
   "cell_type": "code",
   "execution_count": 6,
   "id": "7bc64045-7223-491a-8e8d-6f6e19c018e4",
   "metadata": {},
   "outputs": [
    {
     "data": {
      "text/html": [
       "<div>\n",
       "<style scoped>\n",
       "    .dataframe tbody tr th:only-of-type {\n",
       "        vertical-align: middle;\n",
       "    }\n",
       "\n",
       "    .dataframe tbody tr th {\n",
       "        vertical-align: top;\n",
       "    }\n",
       "\n",
       "    .dataframe thead th {\n",
       "        text-align: right;\n",
       "    }\n",
       "</style>\n",
       "<table border=\"1\" class=\"dataframe\">\n",
       "  <thead>\n",
       "    <tr style=\"text-align: right;\">\n",
       "      <th></th>\n",
       "      <th>arch</th>\n",
       "    </tr>\n",
       "    <tr>\n",
       "      <th>problem</th>\n",
       "      <th>geo</th>\n",
       "    </tr>\n",
       "  </thead>\n",
       "  <tbody>\n",
       "  </tbody>\n",
       "</table>\n",
       "</div>"
      ],
      "text/plain": [
       "Empty DataFrame\n",
       "Columns: []\n",
       "Index: []"
      ]
     },
     "execution_count": 6,
     "metadata": {},
     "output_type": "execute_result"
    }
   ],
   "source": [
    "unconv = summed[('unconverged', 'mean')]\n",
    "unconv[unconv > 0].unstack('arch') "
   ]
  },
  {
   "cell_type": "markdown",
   "id": "8f58821b-7c2f-455e-97af-0d2d7e19e4d7",
   "metadata": {},
   "source": [
    "## Summit results"
   ]
  },
  {
   "cell_type": "code",
   "execution_count": 7,
   "id": "76d8590d-f82a-4502-9ede-af7c5b404b55",
   "metadata": {},
   "outputs": [
    {
     "name": "stdout",
     "output_type": "stream",
     "text": [
      "Analysis for Celeritas v0.3.0-dev.117+f5cc679d on summit\n"
     ]
    }
   ],
   "source": [
    "summit = analyze.Analysis('results/summit')\n",
    "print(summit)\n",
    "summed = analyze.summarize_instances(summit.result[summit.successful].dropna(how='all'))"
   ]
  },
  {
   "cell_type": "code",
   "execution_count": 8,
   "id": "cb547a16-2e2e-4749-a5cc-32ec089e3c3a",
   "metadata": {},
   "outputs": [
    {
     "data": {
      "text/plain": [
       "{'capability_major': 7,\n",
       " 'capability_minor': 0,\n",
       " 'clock_rate': 1530000,\n",
       " 'default_block_size': 256,\n",
       " 'device_id': 0,\n",
       " 'eu_per_cu': 1,\n",
       " 'max_blocks_per_grid': 2147483647,\n",
       " 'max_blocks_per_multiprocessor': 32,\n",
       " 'max_cache_size': 6291456,\n",
       " 'max_threads_per_block': 1024,\n",
       " 'max_threads_per_cu': 2048,\n",
       " 'memory_clock_rate': 877000,\n",
       " 'multiprocessor_count': 80,\n",
       " 'name': 'Tesla V100-SXM2-16GB',\n",
       " 'platform': 'cuda',\n",
       " 'regs_per_block': 65536,\n",
       " 'regs_per_multiprocessor': 65536,\n",
       " 'shared_mem_per_block': 49152,\n",
       " 'threads_per_warp': 32,\n",
       " 'total_const_mem': 65536,\n",
       " 'total_global_mem': 16911433728}"
      ]
     },
     "execution_count": 8,
     "metadata": {},
     "output_type": "execute_result"
    }
   ],
   "source": [
    "deets = summit.load_results(('testem3-flat','orange','gpu'), 0)\n",
    "deets['system']['device']"
   ]
  },
  {
   "cell_type": "markdown",
   "id": "99662eee-68e1-4bc0-bf8d-2abffaf87f2d",
   "metadata": {},
   "source": [
    "### Failures\n",
    "\n",
    "Average number of unconverged tracks:"
   ]
  },
  {
   "cell_type": "code",
   "execution_count": 9,
   "id": "0c102c29-678c-400c-bbc4-13aa320e52df",
   "metadata": {},
   "outputs": [
    {
     "data": {
      "text/html": [
       "<div>\n",
       "<style scoped>\n",
       "    .dataframe tbody tr th:only-of-type {\n",
       "        vertical-align: middle;\n",
       "    }\n",
       "\n",
       "    .dataframe tbody tr th {\n",
       "        vertical-align: top;\n",
       "    }\n",
       "\n",
       "    .dataframe thead th {\n",
       "        text-align: right;\n",
       "    }\n",
       "</style>\n",
       "<table border=\"1\" class=\"dataframe\">\n",
       "  <thead>\n",
       "    <tr style=\"text-align: right;\">\n",
       "      <th></th>\n",
       "      <th>arch</th>\n",
       "    </tr>\n",
       "    <tr>\n",
       "      <th>problem</th>\n",
       "      <th>geo</th>\n",
       "    </tr>\n",
       "  </thead>\n",
       "  <tbody>\n",
       "  </tbody>\n",
       "</table>\n",
       "</div>"
      ],
      "text/plain": [
       "Empty DataFrame\n",
       "Columns: []\n",
       "Index: []"
      ]
     },
     "execution_count": 9,
     "metadata": {},
     "output_type": "execute_result"
    }
   ],
   "source": [
    "unconv = analyze.summarize_instances(summit.result['unconverged'])['mean']\n",
    "unconv[unconv > 0].unstack('arch') "
   ]
  },
  {
   "cell_type": "markdown",
   "id": "fdf16ce1-92e1-411b-82e0-b012a09d9902",
   "metadata": {},
   "source": [
    "### Timing tables"
   ]
  },
  {
   "cell_type": "code",
   "execution_count": 10,
   "id": "89369671-aa74-47b5-b8ae-46c4bbca828d",
   "metadata": {},
   "outputs": [],
   "source": [
    "(fig, [run_ax, setup_ax]) = plt.subplots(nrows=2,\n",
    "                                         gridspec_kw=dict(height_ratios=[3, 1]),\n",
    "                                         subplot_kw=dict(yscale='log'))\n",
    "summit.plot_results(run_ax, summed['total_time'])\n",
    "run_ax.legend();\n",
    "run_ax.set_ylabel('Run [s]')\n",
    "run_ax.tick_params(labelbottom=False)\n",
    "summit.plot_results(setup_ax, summed['setup_time'])\n",
    "setup_ax.set_ylabel('Setup [s]')\n",
    "analyze.annotate_metadata(run_ax, summit)\n",
    "fig.savefig('plots/timing.pdf', transparent=True)\n",
    "plt.close()"
   ]
  },
  {
   "cell_type": "code",
   "execution_count": 11,
   "id": "f89e17e3-2edb-4264-9ce8-0a892357fd9b",
   "metadata": {},
   "outputs": [
    {
     "data": {
      "text/html": [
       "<style type=\"text/css\">\n",
       "</style>\n",
       "<table id=\"T_894b6\">\n",
       "  <thead>\n",
       "    <tr>\n",
       "      <th class=\"blank\" >&nbsp;</th>\n",
       "      <th class=\"index_name level0\" >arch</th>\n",
       "      <th id=\"T_894b6_level0_col0\" class=\"col_heading level0 col0\" >cpu</th>\n",
       "      <th id=\"T_894b6_level0_col1\" class=\"col_heading level0 col1\" >gpu</th>\n",
       "    </tr>\n",
       "    <tr>\n",
       "      <th class=\"index_name level0\" >problem</th>\n",
       "      <th class=\"index_name level1\" >geo</th>\n",
       "      <th class=\"blank col0\" >&nbsp;</th>\n",
       "      <th class=\"blank col1\" >&nbsp;</th>\n",
       "    </tr>\n",
       "  </thead>\n",
       "  <tbody>\n",
       "    <tr>\n",
       "      <th id=\"T_894b6_level0_row0\" class=\"row_heading level0 row0\" >cms2018</th>\n",
       "      <th id=\"T_894b6_level1_row0\" class=\"row_heading level1 row0\" >vecgeom</th>\n",
       "      <td id=\"T_894b6_row0_col0\" class=\"data row0 col0\" >129.73</td>\n",
       "      <td id=\"T_894b6_row0_col1\" class=\"data row0 col1\" >14.33</td>\n",
       "    </tr>\n",
       "    <tr>\n",
       "      <th id=\"T_894b6_level0_row1\" class=\"row_heading level0 row1\" >cms2018+field+msc</th>\n",
       "      <th id=\"T_894b6_level1_row1\" class=\"row_heading level1 row1\" >vecgeom</th>\n",
       "      <td id=\"T_894b6_row1_col0\" class=\"data row1 col0\" >299.19</td>\n",
       "      <td id=\"T_894b6_row1_col1\" class=\"data row1 col1\" >50.48</td>\n",
       "    </tr>\n",
       "    <tr>\n",
       "      <th id=\"T_894b6_level0_row2\" class=\"row_heading level0 row2\" >simple-cms+field</th>\n",
       "      <th id=\"T_894b6_level1_row2\" class=\"row_heading level1 row2\" >orange</th>\n",
       "      <td id=\"T_894b6_row2_col0\" class=\"data row2 col0\" >84.46</td>\n",
       "      <td id=\"T_894b6_row2_col1\" class=\"data row2 col1\" >4.64</td>\n",
       "    </tr>\n",
       "    <tr>\n",
       "      <th id=\"T_894b6_level0_row3\" class=\"row_heading level0 row3\" rowspan=\"2\">simple-cms+field+msc</th>\n",
       "      <th id=\"T_894b6_level1_row3\" class=\"row_heading level1 row3\" >orange</th>\n",
       "      <td id=\"T_894b6_row3_col0\" class=\"data row3 col0\" >103.12</td>\n",
       "      <td id=\"T_894b6_row3_col1\" class=\"data row3 col1\" >4.98</td>\n",
       "    </tr>\n",
       "    <tr>\n",
       "      <th id=\"T_894b6_level1_row4\" class=\"row_heading level1 row4\" >vecgeom</th>\n",
       "      <td id=\"T_894b6_row4_col0\" class=\"data row4 col0\" >101.12</td>\n",
       "      <td id=\"T_894b6_row4_col1\" class=\"data row4 col1\" >4.81</td>\n",
       "    </tr>\n",
       "    <tr>\n",
       "      <th id=\"T_894b6_level0_row5\" class=\"row_heading level0 row5\" >simple-cms+msc</th>\n",
       "      <th id=\"T_894b6_level1_row5\" class=\"row_heading level1 row5\" >orange</th>\n",
       "      <td id=\"T_894b6_row5_col0\" class=\"data row5 col0\" >90.39</td>\n",
       "      <td id=\"T_894b6_row5_col1\" class=\"data row5 col1\" >2.71</td>\n",
       "    </tr>\n",
       "    <tr>\n",
       "      <th id=\"T_894b6_level0_row6\" class=\"row_heading level0 row6\" >testem15</th>\n",
       "      <th id=\"T_894b6_level1_row6\" class=\"row_heading level1 row6\" >orange</th>\n",
       "      <td id=\"T_894b6_row6_col0\" class=\"data row6 col0\" >64.37</td>\n",
       "      <td id=\"T_894b6_row6_col1\" class=\"data row6 col1\" >2.00</td>\n",
       "    </tr>\n",
       "    <tr>\n",
       "      <th id=\"T_894b6_level0_row7\" class=\"row_heading level0 row7\" >testem15+field</th>\n",
       "      <th id=\"T_894b6_level1_row7\" class=\"row_heading level1 row7\" >orange</th>\n",
       "      <td id=\"T_894b6_row7_col0\" class=\"data row7 col0\" >75.71</td>\n",
       "      <td id=\"T_894b6_row7_col1\" class=\"data row7 col1\" >2.13</td>\n",
       "    </tr>\n",
       "    <tr>\n",
       "      <th id=\"T_894b6_level0_row8\" class=\"row_heading level0 row8\" >testem15+field+msc</th>\n",
       "      <th id=\"T_894b6_level1_row8\" class=\"row_heading level1 row8\" >orange</th>\n",
       "      <td id=\"T_894b6_row8_col0\" class=\"data row8 col0\" >93.37</td>\n",
       "      <td id=\"T_894b6_row8_col1\" class=\"data row8 col1\" >2.41</td>\n",
       "    </tr>\n",
       "    <tr>\n",
       "      <th id=\"T_894b6_level0_row9\" class=\"row_heading level0 row9\" >testem15+msc</th>\n",
       "      <th id=\"T_894b6_level1_row9\" class=\"row_heading level1 row9\" >vecgeom</th>\n",
       "      <td id=\"T_894b6_row9_col0\" class=\"data row9 col0\" >78.33</td>\n",
       "      <td id=\"T_894b6_row9_col1\" class=\"data row9 col1\" >2.13</td>\n",
       "    </tr>\n",
       "    <tr>\n",
       "      <th id=\"T_894b6_level0_row10\" class=\"row_heading level0 row10\" rowspan=\"2\">testem3-flat</th>\n",
       "      <th id=\"T_894b6_level1_row10\" class=\"row_heading level1 row10\" >orange</th>\n",
       "      <td id=\"T_894b6_row10_col0\" class=\"data row10 col0\" >111.73</td>\n",
       "      <td id=\"T_894b6_row10_col1\" class=\"data row10 col1\" >3.83</td>\n",
       "    </tr>\n",
       "    <tr>\n",
       "      <th id=\"T_894b6_level1_row11\" class=\"row_heading level1 row11\" >vecgeom</th>\n",
       "      <td id=\"T_894b6_row11_col0\" class=\"data row11 col0\" >102.47</td>\n",
       "      <td id=\"T_894b6_row11_col1\" class=\"data row11 col1\" >3.53</td>\n",
       "    </tr>\n",
       "    <tr>\n",
       "      <th id=\"T_894b6_level0_row12\" class=\"row_heading level0 row12\" >testem3-flat+field</th>\n",
       "      <th id=\"T_894b6_level1_row12\" class=\"row_heading level1 row12\" >orange</th>\n",
       "      <td id=\"T_894b6_row12_col0\" class=\"data row12 col0\" >137.93</td>\n",
       "      <td id=\"T_894b6_row12_col1\" class=\"data row12 col1\" >6.54</td>\n",
       "    </tr>\n",
       "    <tr>\n",
       "      <th id=\"T_894b6_level0_row13\" class=\"row_heading level0 row13\" rowspan=\"2\">testem3-flat+field+msc</th>\n",
       "      <th id=\"T_894b6_level1_row13\" class=\"row_heading level1 row13\" >orange</th>\n",
       "      <td id=\"T_894b6_row13_col0\" class=\"data row13 col0\" >221.68</td>\n",
       "      <td id=\"T_894b6_row13_col1\" class=\"data row13 col1\" >9.94</td>\n",
       "    </tr>\n",
       "    <tr>\n",
       "      <th id=\"T_894b6_level1_row14\" class=\"row_heading level1 row14\" >vecgeom</th>\n",
       "      <td id=\"T_894b6_row14_col0\" class=\"data row14 col0\" >230.42</td>\n",
       "      <td id=\"T_894b6_row14_col1\" class=\"data row14 col1\" >16.67</td>\n",
       "    </tr>\n",
       "    <tr>\n",
       "      <th id=\"T_894b6_level0_row15\" class=\"row_heading level0 row15\" >testem3-flat+msc</th>\n",
       "      <th id=\"T_894b6_level1_row15\" class=\"row_heading level1 row15\" >orange</th>\n",
       "      <td id=\"T_894b6_row15_col0\" class=\"data row15 col0\" >193.37</td>\n",
       "      <td id=\"T_894b6_row15_col1\" class=\"data row15 col1\" >5.52</td>\n",
       "    </tr>\n",
       "  </tbody>\n",
       "</table>\n"
      ],
      "text/plain": [
       "<pandas.io.formats.style.Styler at 0x1264a02e0>"
      ]
     },
     "execution_count": 11,
     "metadata": {},
     "output_type": "execute_result"
    }
   ],
   "source": [
    "def float_fmt_transform(digits):\n",
    "    format = \"{{:.{}f}}\".format(digits).format\n",
    "    def transform(val):\n",
    "        if np.isnan(val):\n",
    "            return \"---\"\n",
    "        return format(val)\n",
    "    return transform\n",
    "\n",
    "times = summed[('total_time', 'mean')].unstack()\n",
    "times.style.format(float_fmt_transform(2))"
   ]
  },
  {
   "cell_type": "code",
   "execution_count": 12,
   "id": "d52bdb66-97c0-40d5-96f7-299ad6dd31d4",
   "metadata": {},
   "outputs": [
    {
     "data": {
      "text/html": [
       "<div>\n",
       "<style scoped>\n",
       "    .dataframe tbody tr th:only-of-type {\n",
       "        vertical-align: middle;\n",
       "    }\n",
       "\n",
       "    .dataframe tbody tr th {\n",
       "        vertical-align: top;\n",
       "    }\n",
       "\n",
       "    .dataframe thead th {\n",
       "        text-align: right;\n",
       "    }\n",
       "</style>\n",
       "<table border=\"1\" class=\"dataframe\">\n",
       "  <thead>\n",
       "    <tr style=\"text-align: right;\">\n",
       "      <th>arch</th>\n",
       "      <th>cpu</th>\n",
       "      <th>gpu</th>\n",
       "    </tr>\n",
       "    <tr>\n",
       "      <th>geo</th>\n",
       "      <th></th>\n",
       "      <th></th>\n",
       "    </tr>\n",
       "  </thead>\n",
       "  <tbody>\n",
       "    <tr>\n",
       "      <th>orange</th>\n",
       "      <td>0.067884</td>\n",
       "      <td>1.406446</td>\n",
       "    </tr>\n",
       "    <tr>\n",
       "      <th>vecgeom</th>\n",
       "      <td>0.069227</td>\n",
       "      <td>1.455049</td>\n",
       "    </tr>\n",
       "  </tbody>\n",
       "</table>\n",
       "</div>"
      ],
      "text/plain": [
       "arch          cpu       gpu\n",
       "geo                        \n",
       "orange   0.067884  1.406446\n",
       "vecgeom  0.069227  1.455049"
      ]
     },
     "execution_count": 12,
     "metadata": {},
     "output_type": "execute_result"
    }
   ],
   "source": [
    "event_rate = analyze.calc_event_rate(summit, summed)\n",
    "event_rate['mean'].xs('simple-cms+field+msc', level='problem').unstack('arch')"
   ]
  },
  {
   "cell_type": "code",
   "execution_count": 13,
   "id": "27071806-e627-4c6c-87d2-fda247f490aa",
   "metadata": {},
   "outputs": [
    {
     "data": {
      "text/html": [
       "<style type=\"text/css\">\n",
       "</style>\n",
       "<table id=\"T_34639\">\n",
       "  <thead>\n",
       "    <tr>\n",
       "      <th class=\"blank\" >&nbsp;</th>\n",
       "      <th class=\"blank level0\" >&nbsp;</th>\n",
       "      <th id=\"T_34639_level0_col0\" class=\"col_heading level0 col0\" >mean</th>\n",
       "      <th id=\"T_34639_level0_col1\" class=\"col_heading level0 col1\" >std</th>\n",
       "    </tr>\n",
       "    <tr>\n",
       "      <th class=\"index_name level0\" >problem</th>\n",
       "      <th class=\"index_name level1\" >geo</th>\n",
       "      <th class=\"blank col0\" >&nbsp;</th>\n",
       "      <th class=\"blank col1\" >&nbsp;</th>\n",
       "    </tr>\n",
       "  </thead>\n",
       "  <tbody>\n",
       "    <tr>\n",
       "      <th id=\"T_34639_level0_row0\" class=\"row_heading level0 row0\" >cms2018</th>\n",
       "      <th id=\"T_34639_level1_row0\" class=\"row_heading level1 row0\" >vecgeom</th>\n",
       "      <td id=\"T_34639_row0_col0\" class=\"data row0 col0\" >9.1</td>\n",
       "      <td id=\"T_34639_row0_col1\" class=\"data row0 col1\" >0.1</td>\n",
       "    </tr>\n",
       "    <tr>\n",
       "      <th id=\"T_34639_level0_row1\" class=\"row_heading level0 row1\" >cms2018+field+msc</th>\n",
       "      <th id=\"T_34639_level1_row1\" class=\"row_heading level1 row1\" >vecgeom</th>\n",
       "      <td id=\"T_34639_row1_col0\" class=\"data row1 col0\" >5.9</td>\n",
       "      <td id=\"T_34639_row1_col1\" class=\"data row1 col1\" >0.1</td>\n",
       "    </tr>\n",
       "    <tr>\n",
       "      <th id=\"T_34639_level0_row2\" class=\"row_heading level0 row2\" >simple-cms+field</th>\n",
       "      <th id=\"T_34639_level1_row2\" class=\"row_heading level1 row2\" >orange</th>\n",
       "      <td id=\"T_34639_row2_col0\" class=\"data row2 col0\" >18.2</td>\n",
       "      <td id=\"T_34639_row2_col1\" class=\"data row2 col1\" >1.3</td>\n",
       "    </tr>\n",
       "    <tr>\n",
       "      <th id=\"T_34639_level0_row3\" class=\"row_heading level0 row3\" rowspan=\"2\">simple-cms+field+msc</th>\n",
       "      <th id=\"T_34639_level1_row3\" class=\"row_heading level1 row3\" >orange</th>\n",
       "      <td id=\"T_34639_row3_col0\" class=\"data row3 col0\" >20.7</td>\n",
       "      <td id=\"T_34639_row3_col1\" class=\"data row3 col1\" >1.3</td>\n",
       "    </tr>\n",
       "    <tr>\n",
       "      <th id=\"T_34639_level1_row4\" class=\"row_heading level1 row4\" >vecgeom</th>\n",
       "      <td id=\"T_34639_row4_col0\" class=\"data row4 col0\" >21.0</td>\n",
       "      <td id=\"T_34639_row4_col1\" class=\"data row4 col1\" >1.0</td>\n",
       "    </tr>\n",
       "    <tr>\n",
       "      <th id=\"T_34639_level0_row5\" class=\"row_heading level0 row5\" >simple-cms+msc</th>\n",
       "      <th id=\"T_34639_level1_row5\" class=\"row_heading level1 row5\" >orange</th>\n",
       "      <td id=\"T_34639_row5_col0\" class=\"data row5 col0\" >33.3</td>\n",
       "      <td id=\"T_34639_row5_col1\" class=\"data row5 col1\" >0.3</td>\n",
       "    </tr>\n",
       "    <tr>\n",
       "      <th id=\"T_34639_level0_row6\" class=\"row_heading level0 row6\" >testem15</th>\n",
       "      <th id=\"T_34639_level1_row6\" class=\"row_heading level1 row6\" >orange</th>\n",
       "      <td id=\"T_34639_row6_col0\" class=\"data row6 col0\" >32.2</td>\n",
       "      <td id=\"T_34639_row6_col1\" class=\"data row6 col1\" >0.4</td>\n",
       "    </tr>\n",
       "    <tr>\n",
       "      <th id=\"T_34639_level0_row7\" class=\"row_heading level0 row7\" >testem15+field</th>\n",
       "      <th id=\"T_34639_level1_row7\" class=\"row_heading level1 row7\" >orange</th>\n",
       "      <td id=\"T_34639_row7_col0\" class=\"data row7 col0\" >35.6</td>\n",
       "      <td id=\"T_34639_row7_col1\" class=\"data row7 col1\" >0.4</td>\n",
       "    </tr>\n",
       "    <tr>\n",
       "      <th id=\"T_34639_level0_row8\" class=\"row_heading level0 row8\" >testem15+field+msc</th>\n",
       "      <th id=\"T_34639_level1_row8\" class=\"row_heading level1 row8\" >orange</th>\n",
       "      <td id=\"T_34639_row8_col0\" class=\"data row8 col0\" >38.7</td>\n",
       "      <td id=\"T_34639_row8_col1\" class=\"data row8 col1\" >1.0</td>\n",
       "    </tr>\n",
       "    <tr>\n",
       "      <th id=\"T_34639_level0_row9\" class=\"row_heading level0 row9\" >testem15+msc</th>\n",
       "      <th id=\"T_34639_level1_row9\" class=\"row_heading level1 row9\" >vecgeom</th>\n",
       "      <td id=\"T_34639_row9_col0\" class=\"data row9 col0\" >36.8</td>\n",
       "      <td id=\"T_34639_row9_col1\" class=\"data row9 col1\" >0.6</td>\n",
       "    </tr>\n",
       "    <tr>\n",
       "      <th id=\"T_34639_level0_row10\" class=\"row_heading level0 row10\" rowspan=\"2\">testem3-flat</th>\n",
       "      <th id=\"T_34639_level1_row10\" class=\"row_heading level1 row10\" >orange</th>\n",
       "      <td id=\"T_34639_row10_col0\" class=\"data row10 col0\" >29.2</td>\n",
       "      <td id=\"T_34639_row10_col1\" class=\"data row10 col1\" >0.2</td>\n",
       "    </tr>\n",
       "    <tr>\n",
       "      <th id=\"T_34639_level1_row11\" class=\"row_heading level1 row11\" >vecgeom</th>\n",
       "      <td id=\"T_34639_row11_col0\" class=\"data row11 col0\" >29.0</td>\n",
       "      <td id=\"T_34639_row11_col1\" class=\"data row11 col1\" >0.4</td>\n",
       "    </tr>\n",
       "    <tr>\n",
       "      <th id=\"T_34639_level0_row12\" class=\"row_heading level0 row12\" >testem3-flat+field</th>\n",
       "      <th id=\"T_34639_level1_row12\" class=\"row_heading level1 row12\" >orange</th>\n",
       "      <td id=\"T_34639_row12_col0\" class=\"data row12 col0\" >21.1</td>\n",
       "      <td id=\"T_34639_row12_col1\" class=\"data row12 col1\" >0.2</td>\n",
       "    </tr>\n",
       "    <tr>\n",
       "      <th id=\"T_34639_level0_row13\" class=\"row_heading level0 row13\" rowspan=\"2\">testem3-flat+field+msc</th>\n",
       "      <th id=\"T_34639_level1_row13\" class=\"row_heading level1 row13\" >orange</th>\n",
       "      <td id=\"T_34639_row13_col0\" class=\"data row13 col0\" >22.3</td>\n",
       "      <td id=\"T_34639_row13_col1\" class=\"data row13 col1\" >0.4</td>\n",
       "    </tr>\n",
       "    <tr>\n",
       "      <th id=\"T_34639_level1_row14\" class=\"row_heading level1 row14\" >vecgeom</th>\n",
       "      <td id=\"T_34639_row14_col0\" class=\"data row14 col0\" >13.8</td>\n",
       "      <td id=\"T_34639_row14_col1\" class=\"data row14 col1\" >0.2</td>\n",
       "    </tr>\n",
       "    <tr>\n",
       "      <th id=\"T_34639_level0_row15\" class=\"row_heading level0 row15\" >testem3-flat+msc</th>\n",
       "      <th id=\"T_34639_level1_row15\" class=\"row_heading level1 row15\" >orange</th>\n",
       "      <td id=\"T_34639_row15_col0\" class=\"data row15 col0\" >35.0</td>\n",
       "      <td id=\"T_34639_row15_col1\" class=\"data row15 col1\" >0.3</td>\n",
       "    </tr>\n",
       "  </tbody>\n",
       "</table>\n"
      ],
      "text/plain": [
       "<pandas.io.formats.style.Styler at 0x1059a5e80>"
      ]
     },
     "execution_count": 13,
     "metadata": {},
     "output_type": "execute_result"
    }
   ],
   "source": [
    "speedup = analyze.get_cpugpu_ratio(summed['total_time'])\n",
    "speedup.dropna().style.format(float_fmt_transform(1))"
   ]
  },
  {
   "cell_type": "code",
   "execution_count": 110,
   "id": "46713d7d-ca10-49c3-b9d8-a065d460ad80",
   "metadata": {},
   "outputs": [
    {
     "data": {
      "text/html": [
       "<div>\n",
       "<style scoped>\n",
       "    .dataframe tbody tr th:only-of-type {\n",
       "        vertical-align: middle;\n",
       "    }\n",
       "\n",
       "    .dataframe tbody tr th {\n",
       "        vertical-align: top;\n",
       "    }\n",
       "\n",
       "    .dataframe thead th {\n",
       "        text-align: right;\n",
       "    }\n",
       "</style>\n",
       "<table border=\"1\" class=\"dataframe\">\n",
       "  <thead>\n",
       "    <tr style=\"text-align: right;\">\n",
       "      <th></th>\n",
       "      <th>mean</th>\n",
       "      <th>std</th>\n",
       "    </tr>\n",
       "  </thead>\n",
       "  <tbody>\n",
       "    <tr>\n",
       "      <th>count</th>\n",
       "      <td>16.000000</td>\n",
       "      <td>16.000000</td>\n",
       "    </tr>\n",
       "    <tr>\n",
       "      <th>mean</th>\n",
       "      <td>175.894903</td>\n",
       "      <td>3.551876</td>\n",
       "    </tr>\n",
       "    <tr>\n",
       "      <th>std</th>\n",
       "      <td>70.961377</td>\n",
       "      <td>2.934587</td>\n",
       "    </tr>\n",
       "    <tr>\n",
       "      <th>min</th>\n",
       "      <td>41.485608</td>\n",
       "      <td>0.403778</td>\n",
       "    </tr>\n",
       "    <tr>\n",
       "      <th>25%</th>\n",
       "      <td>140.609274</td>\n",
       "      <td>1.303592</td>\n",
       "    </tr>\n",
       "    <tr>\n",
       "      <th>50%</th>\n",
       "      <td>179.743612</td>\n",
       "      <td>2.669346</td>\n",
       "    </tr>\n",
       "    <tr>\n",
       "      <th>75%</th>\n",
       "      <td>236.355545</td>\n",
       "      <td>4.703273</td>\n",
       "    </tr>\n",
       "    <tr>\n",
       "      <th>max</th>\n",
       "      <td>270.994783</td>\n",
       "      <td>9.274282</td>\n",
       "    </tr>\n",
       "  </tbody>\n",
       "</table>\n",
       "</div>"
      ],
      "text/plain": [
       "             mean        std\n",
       "count   16.000000  16.000000\n",
       "mean   175.894903   3.551876\n",
       "std     70.961377   2.934587\n",
       "min     41.485608   0.403778\n",
       "25%    140.609274   1.303592\n",
       "50%    179.743612   2.669346\n",
       "75%    236.355545   4.703273\n",
       "max    270.994783   9.274282"
      ]
     },
     "execution_count": 110,
     "metadata": {},
     "output_type": "execute_result"
    }
   ],
   "source": [
    "(speedup.dropna() * 7).describe()"
   ]
  },
  {
   "cell_type": "code",
   "execution_count": 99,
   "id": "e4945fd8-c1f0-475c-919a-d805f063c65c",
   "metadata": {},
   "outputs": [],
   "source": [
    "# Determine the fraction of action time spent in geometry routines\n",
    "action_times_inst = analyze.unstack_subdict(summit.result['action_times'][summit.valid]).T\n",
    "total_time_inst = summit.result['total_time']\n",
    "geo_actions = [lab for lab in action_times_inst.index\n",
    "               if lab.startswith('along-step-') or lab.startswith('geo-')]\n",
    "geo_frac_inst = action_times_inst.loc[geo_actions].sum() / total_time_inst\n",
    "geo_frac = analyze.summarize_instances(geo_frac_inst)"
   ]
  },
  {
   "cell_type": "code",
   "execution_count": 111,
   "id": "9de6fde5-d1c4-4807-84ee-2ca5bc2c709a",
   "metadata": {},
   "outputs": [
    {
     "data": {
      "text/html": [
       "<div>\n",
       "<style scoped>\n",
       "    .dataframe tbody tr th:only-of-type {\n",
       "        vertical-align: middle;\n",
       "    }\n",
       "\n",
       "    .dataframe tbody tr th {\n",
       "        vertical-align: top;\n",
       "    }\n",
       "\n",
       "    .dataframe thead th {\n",
       "        text-align: right;\n",
       "    }\n",
       "</style>\n",
       "<table border=\"1\" class=\"dataframe\">\n",
       "  <thead>\n",
       "    <tr style=\"text-align: right;\">\n",
       "      <th></th>\n",
       "      <th>arch</th>\n",
       "      <th>cpu</th>\n",
       "      <th>gpu</th>\n",
       "    </tr>\n",
       "    <tr>\n",
       "      <th>problem</th>\n",
       "      <th>geo</th>\n",
       "      <th></th>\n",
       "      <th></th>\n",
       "    </tr>\n",
       "  </thead>\n",
       "  <tbody>\n",
       "    <tr>\n",
       "      <th>cms2018</th>\n",
       "      <th>vecgeom</th>\n",
       "      <td>0.453428</td>\n",
       "      <td>0.788791</td>\n",
       "    </tr>\n",
       "    <tr>\n",
       "      <th>cms2018+field+msc</th>\n",
       "      <th>vecgeom</th>\n",
       "      <td>0.703379</td>\n",
       "      <td>0.920562</td>\n",
       "    </tr>\n",
       "    <tr>\n",
       "      <th>simple-cms+field</th>\n",
       "      <th>orange</th>\n",
       "      <td>0.357892</td>\n",
       "      <td>0.611616</td>\n",
       "    </tr>\n",
       "    <tr>\n",
       "      <th rowspan=\"2\" valign=\"top\">simple-cms+field+msc</th>\n",
       "      <th>orange</th>\n",
       "      <td>0.478964</td>\n",
       "      <td>0.635619</td>\n",
       "    </tr>\n",
       "    <tr>\n",
       "      <th>vecgeom</th>\n",
       "      <td>0.472926</td>\n",
       "      <td>0.691120</td>\n",
       "    </tr>\n",
       "    <tr>\n",
       "      <th>simple-cms+msc</th>\n",
       "      <th>orange</th>\n",
       "      <td>0.404616</td>\n",
       "      <td>0.334149</td>\n",
       "    </tr>\n",
       "    <tr>\n",
       "      <th>testem15</th>\n",
       "      <th>orange</th>\n",
       "      <td>0.206237</td>\n",
       "      <td>0.000000</td>\n",
       "    </tr>\n",
       "    <tr>\n",
       "      <th>testem15+field</th>\n",
       "      <th>orange</th>\n",
       "      <td>0.323664</td>\n",
       "      <td>0.000000</td>\n",
       "    </tr>\n",
       "    <tr>\n",
       "      <th>testem15+field+msc</th>\n",
       "      <th>orange</th>\n",
       "      <td>0.441175</td>\n",
       "      <td>0.000000</td>\n",
       "    </tr>\n",
       "    <tr>\n",
       "      <th>testem15+msc</th>\n",
       "      <th>vecgeom</th>\n",
       "      <td>0.352365</td>\n",
       "      <td>0.000000</td>\n",
       "    </tr>\n",
       "    <tr>\n",
       "      <th rowspan=\"2\" valign=\"top\">testem3-flat</th>\n",
       "      <th>orange</th>\n",
       "      <td>0.277405</td>\n",
       "      <td>0.000000</td>\n",
       "    </tr>\n",
       "    <tr>\n",
       "      <th>vecgeom</th>\n",
       "      <td>0.295886</td>\n",
       "      <td>0.000000</td>\n",
       "    </tr>\n",
       "    <tr>\n",
       "      <th>testem3-flat+field</th>\n",
       "      <th>orange</th>\n",
       "      <td>0.418285</td>\n",
       "      <td>0.000000</td>\n",
       "    </tr>\n",
       "    <tr>\n",
       "      <th rowspan=\"2\" valign=\"top\">testem3-flat+field+msc</th>\n",
       "      <th>orange</th>\n",
       "      <td>0.585820</td>\n",
       "      <td>0.000000</td>\n",
       "    </tr>\n",
       "    <tr>\n",
       "      <th>vecgeom</th>\n",
       "      <td>0.642098</td>\n",
       "      <td>0.000000</td>\n",
       "    </tr>\n",
       "    <tr>\n",
       "      <th>testem3-flat+msc</th>\n",
       "      <th>orange</th>\n",
       "      <td>0.524054</td>\n",
       "      <td>0.000000</td>\n",
       "    </tr>\n",
       "  </tbody>\n",
       "</table>\n",
       "</div>"
      ],
      "text/plain": [
       "arch                                 cpu       gpu\n",
       "problem                geo                        \n",
       "cms2018                vecgeom  0.453428  0.788791\n",
       "cms2018+field+msc      vecgeom  0.703379  0.920562\n",
       "simple-cms+field       orange   0.357892  0.611616\n",
       "simple-cms+field+msc   orange   0.478964  0.635619\n",
       "                       vecgeom  0.472926  0.691120\n",
       "simple-cms+msc         orange   0.404616  0.334149\n",
       "testem15               orange   0.206237  0.000000\n",
       "testem15+field         orange   0.323664  0.000000\n",
       "testem15+field+msc     orange   0.441175  0.000000\n",
       "testem15+msc           vecgeom  0.352365  0.000000\n",
       "testem3-flat           orange   0.277405  0.000000\n",
       "                       vecgeom  0.295886  0.000000\n",
       "testem3-flat+field     orange   0.418285  0.000000\n",
       "testem3-flat+field+msc orange   0.585820  0.000000\n",
       "                       vecgeom  0.642098  0.000000\n",
       "testem3-flat+msc       orange   0.524054  0.000000"
      ]
     },
     "execution_count": 111,
     "metadata": {},
     "output_type": "execute_result"
    }
   ],
   "source": [
    "geo_frac['mean'].unstack('arch')"
   ]
  },
  {
   "cell_type": "markdown",
   "id": "37e0c9a5-1625-4c7e-949c-ba23dc7003f2",
   "metadata": {},
   "source": [
    "### Plots"
   ]
  },
  {
   "cell_type": "code",
   "execution_count": 101,
   "id": "eec7baa7-378e-4b7e-828f-06e6c3364f03",
   "metadata": {},
   "outputs": [],
   "source": [
    "problems = summit.problems()\n",
    "problem_to_abbr = summit.problem_to_abbr(problems)\n",
    "p_to_i = dict(zip(problems, itertools.count()))"
   ]
  },
  {
   "cell_type": "code",
   "execution_count": 102,
   "id": "87884089-6f53-41ae-a07f-64cf4ee3c8c0",
   "metadata": {
    "tags": []
   },
   "outputs": [],
   "source": [
    "fig, ax = plt.subplots()\n",
    "summit.plot_results(ax, speedup)\n",
    "ax.set_ylabel(\"Speedup (7-CPU / 1-GPU wall time)\")\n",
    "ax.set_ylim([0, None])\n",
    "analyze.annotate_metadata(ax, summit);\n",
    "fig.savefig('plots/speedups.pdf', transparent=True)\n",
    "plt.close()"
   ]
  },
  {
   "cell_type": "code",
   "execution_count": 103,
   "id": "da2f761d-26a4-4474-b5b3-7df74a3aeb37",
   "metadata": {},
   "outputs": [],
   "source": [
    "fig, axes = plt.subplots(nrows=2, figsize=(4,4), subplot_kw=dict(yscale='log'))\n",
    "for (ax, q) in zip(axes, ['step', 'primary']):\n",
    "    summit.plot_results(ax, analyze.inverse_summary(summed['avg_time_per_' + q]))\n",
    "    ax.set_ylabel(q + ' per sec')\n",
    "    if ax != axes[-1]:\n",
    "        ax.tick_params(labelbottom=False)\n",
    "    ax.legend()\n",
    "fig.savefig('plots/steps-vs-primaries.png', dpi=300)\n",
    "plt.close()"
   ]
  },
  {
   "cell_type": "code",
   "execution_count": 150,
   "id": "04acd1f8-5314-4a7f-93c6-5997a49c7170",
   "metadata": {},
   "outputs": [],
   "source": [
    "(fig, (time_ax, geo_ax)) = plt.subplots(\n",
    "    nrows=2, figsize=(4, 4),\n",
    "    gridspec_kw=dict(height_ratios=[3, 1])\n",
    ")\n",
    "time_ax.set_yscale('log')\n",
    "summit.plot_results(time_ax, event_rate)\n",
    "time_ax.set_ylabel(r\"Throughput [event/s]\")\n",
    "time_ax.set_ylim([0.5 * event_rate['mean'].min(), None])\n",
    "time_ax.legend()\n",
    "time_ax.tick_params(labelbottom=False)\n",
    "summit.plot_results(geo_ax, geo_frac * 100)\n",
    "geo_ax.set_ylabel(\"Geometry [%]\")\n",
    "geo_ax.set_ylim([0, 100])\n",
    "analyze.annotate_metadata(ax, summit)\n",
    "fig.savefig('plots/throughput-geo.pdf', transparent=True)\n",
    "plt.close()"
   ]
  },
  {
   "cell_type": "code",
   "execution_count": 62,
   "id": "ff7ab9a8-3317-49b6-9bf3-002e7fa3e998",
   "metadata": {},
   "outputs": [],
   "source": [
    "!open ."
   ]
  },
  {
   "cell_type": "markdown",
   "id": "063f43f0-9f98-4494-8c76-190cd39ddd87",
   "metadata": {
    "tags": []
   },
   "source": [
    "## Action fraction pie charts"
   ]
  },
  {
   "cell_type": "code",
   "execution_count": null,
   "id": "61a7d666-c9a3-42cb-8fa3-d93d4fe14c4d",
   "metadata": {},
   "outputs": [],
   "source": [
    "avg_time = summed[('total_time', 'mean')].T\n",
    "mean_action_times = summit.action_times().xs('mean', axis=1, level=1).T"
   ]
  },
  {
   "cell_type": "code",
   "execution_count": 114,
   "id": "1c4917a7-1fbb-4e7e-b17f-e260a1e4e34f",
   "metadata": {},
   "outputs": [],
   "source": [
    "# mean_action_times.divide(avg_time, axis=1).dropna(how='all', axis=1).style.format(float_fmt_transform(2))"
   ]
  },
  {
   "cell_type": "code",
   "execution_count": 135,
   "id": "1971589e-1939-4b5e-973a-0c8d3173eb24",
   "metadata": {},
   "outputs": [],
   "source": [
    "ACTION_PRIORITY = {\n",
    "    # along-step: 0,\n",
    "    \"geo-boundary\": (0, \"zzz\"),\n",
    "    \"extend-from-secondaries\": (1, \"ex\"),\n",
    "    \"initialize-tracks\": (1, \"init\"),\n",
    "    \"pre-step\": (2, \"\"),\n",
    "    \"physics-discrete-select\": (2, \"b\"),\n",
    "    # other physics: 3\n",
    "}\n",
    "def get_action_priority(k):\n",
    "    if k.startswith('along-step'):\n",
    "        return (0, k)\n",
    "    try:\n",
    "        return ACTION_PRIORITY[k]\n",
    "    except KeyError:\n",
    "        return (3, k)"
   ]
  },
  {
   "cell_type": "code",
   "execution_count": 148,
   "id": "01487b42-3804-41f9-b1b2-5c326d201c96",
   "metadata": {},
   "outputs": [],
   "source": [
    "results = summit\n",
    "def autopct_format(pctvalue):\n",
    "    if pctvalue < 2:\n",
    "        return \"\"\n",
    "    return \"{:1.1f}%\".format(pctvalue)\n",
    "\n",
    "for prob in [\"cms2018\", \"cms2018+field+msc\"]:\n",
    "    geo = 'vecgeom'\n",
    "    if prob not in mean_action_times.columns.get_level_values('problem'):\n",
    "        print(\"Missing problem:\", prob)\n",
    "        continue\n",
    "    r = results.load_results((prob,'vecgeom','gpu'), 0)\n",
    "    temp = mean_action_times.xs((prob, geo), axis=1, level=('problem', 'geo')).dropna()\n",
    "    actions = list(temp.index)\n",
    "    priorities = [get_action_priority(a) for a in actions]\n",
    "    (priorities, actions) = zip(*(sorted(zip(priorities, actions))))\n",
    "    explode = [0.05 * p[0] for p in priorities]\n",
    "    labels = [a if p[0] < 3 else \"\" for (p, a) in zip(priorities, actions)]\n",
    "    for (arch, series) in temp.items():\n",
    "        (fig, ax) = plt.subplots(figsize=(4, 4))\n",
    "        (patches, labeltext, pctlabels) = ax.pie(\n",
    "            [series[t] for t in actions], labels=labels, explode=explode,\n",
    "            autopct=autopct_format, pctdistance=1.25, labeldistance=0.2, rotatelabels=True\n",
    "        )\n",
    "        ax.axis('equal')\n",
    "        name = (prob, geo, arch)\n",
    "        slashname = \"/\".join(name)\n",
    "        fig.text(\n",
    "            0.98, 0.02, f\"{slashname}\\n{results.version} on {results.system}\",\n",
    "            va='bottom', ha='right',\n",
    "            fontstyle='italic', color=(0.5,)*3, size='xx-small',\n",
    "            zorder=-100\n",
    "        )\n",
    "        dashname = \"-\".join(name)\n",
    "        fig.savefig(f'plots/actions-{dashname}.pdf', transparent=True)\n",
    "        plt.close()"
   ]
  },
  {
   "cell_type": "code",
   "execution_count": 144,
   "id": "00fac5de-e730-4161-a9fe-b5d2a171e63e",
   "metadata": {},
   "outputs": [
    {
     "data": {
      "text/plain": [
       "('along-step-neutral',\n",
       " 'along-step-uniform-msc',\n",
       " 'geo-boundary',\n",
       " 'extend-from-secondaries',\n",
       " 'initialize-tracks',\n",
       " 'pre-step',\n",
       " 'physics-discrete-select',\n",
       " 'annihil-2-gamma',\n",
       " 'brems-rel',\n",
       " 'brems-sb',\n",
       " 'conv-bethe-heitler',\n",
       " 'ioni-moller-bhabha',\n",
       " 'photoel-livermore',\n",
       " 'scat-klein-nishina',\n",
       " 'scat-rayleigh')"
      ]
     },
     "execution_count": 144,
     "metadata": {},
     "output_type": "execute_result"
    }
   ],
   "source": [
    "actions"
   ]
  },
  {
   "cell_type": "markdown",
   "id": "c2c6f5c3-e848-4c94-9862-113ccbab23f9",
   "metadata": {
    "tags": []
   },
   "source": [
    "## Plot per-step timing on GPU"
   ]
  },
  {
   "cell_type": "code",
   "execution_count": 22,
   "id": "eca3d899-aa08-4c19-bb36-506ef108df67",
   "metadata": {
    "tags": []
   },
   "outputs": [],
   "source": [
    "cms = [summit.load_results((p, 'vecgeom', 'gpu'), 0)\n",
    "       for p in ['cms2018', 'cms2018+field+msc']]\n",
    "\n",
    "for plot, label in [(analyze.plot_counts, 'counts'),\n",
    "                    (analyze.plot_accum_time, 'time')]:\n",
    "    (fig, axes) = plt.subplots(ncols=2, figsize=(8, 2))\n",
    "    \n",
    "    for (i, ax, data) in zip(itertools.count(), axes, cms):\n",
    "        objs = plot(ax, data)\n",
    "        analyze.annotate_metadata(ax, data['_metadata'])\n",
    "        if i == 0:\n",
    "            objs['oax'].set_ylabel(None)\n",
    "        elif i == 1:\n",
    "            objs['ax'].set_ylabel(None)\n",
    "    fig.savefig(f'plots/cms-{label}.pdf', transparent=True)\n",
    "    plt.close()"
   ]
  },
  {
   "cell_type": "markdown",
   "id": "bc83874b-11a4-43b8-8ed4-15a3ece23301",
   "metadata": {
    "tags": []
   },
   "source": [
    "## Crusher"
   ]
  },
  {
   "cell_type": "code",
   "execution_count": null,
   "id": "5f8234ad-2880-471a-89fb-35fcaecd6a52",
   "metadata": {},
   "outputs": [],
   "source": [
    "crusher = analyze.Analysis('results/crusher')\n",
    "print(crusher)"
   ]
  },
  {
   "cell_type": "code",
   "execution_count": null,
   "id": "8f4e4976-783b-4900-a1ae-a1c05c139ca4",
   "metadata": {},
   "outputs": [],
   "source": [
    "# VecGeom failures aren't really failures; just missing capability\n",
    "failures = crusher.failures().xs('orange', level='geo').fillna(1)\n",
    "failures.groupby(['problem', 'arch']).count().unstack()"
   ]
  },
  {
   "cell_type": "code",
   "execution_count": null,
   "id": "c78f6fc8-8569-4dfa-8b00-c592d4e46eb0",
   "metadata": {},
   "outputs": [],
   "source": [
    "csum = analyze.summarize_instances(crusher.result[crusher.successful].dropna(how='all'))"
   ]
  },
  {
   "cell_type": "code",
   "execution_count": null,
   "id": "741dd944-a264-488e-a7ef-880647345abb",
   "metadata": {},
   "outputs": [],
   "source": [
    "csum[('total_time', 'mean')].unstack()"
   ]
  },
  {
   "cell_type": "code",
   "execution_count": null,
   "id": "054df0ae-1ca9-47c1-a935-afb2b7ee11f2",
   "metadata": {},
   "outputs": [],
   "source": [
    "rel_err = csum.xs('std', axis=1, level=1) / csum.xs('mean', axis=1, level=1)\n",
    "high_err = rel_err > 0.02\n",
    "rel_err[high_err].dropna(how='all').dropna(how='all', axis=1)"
   ]
  },
  {
   "cell_type": "code",
   "execution_count": null,
   "id": "da1dc197-d41f-4a36-862e-046e5edc150b",
   "metadata": {},
   "outputs": [],
   "source": [
    "analyze.get_cpugpu_ratio(csum['total_time'])"
   ]
  },
  {
   "cell_type": "code",
   "execution_count": null,
   "id": "b7d7ecf8-cd6f-4913-a51f-f589d2b977af",
   "metadata": {},
   "outputs": [],
   "source": [
    "crusher_times = csum['total_time']\n",
    "crusher_times"
   ]
  },
  {
   "cell_type": "code",
   "execution_count": null,
   "id": "0b4d70bf-cb0f-4437-983f-f5380f11d8c8",
   "metadata": {},
   "outputs": [],
   "source": [
    "crusher_rates = analyze.calc_event_rate(crusher, csum)\n",
    "summit_rates = analyze.calc_event_rate(summit, summed.loc[crusher_times.index])\n",
    "\n",
    "counts = {\n",
    "    ('summit', 'cpu'): 7,\n",
    "    ('summit', 'gpu'): 1,\n",
    "    ('crusher', 'cpu'): 8,\n",
    "    ('crusher', 'gpu'): 1,\n",
    "}"
   ]
  },
  {
   "cell_type": "code",
   "execution_count": null,
   "id": "092e391f-ba8d-428b-83bf-ea917c2d1d16",
   "metadata": {},
   "outputs": [],
   "source": [
    "(crusher_rates['mean'] / summit_rates['mean']).unstack()"
   ]
  },
  {
   "cell_type": "code",
   "execution_count": null,
   "id": "7d362311-b839-4d29-8104-dae654b1d380",
   "metadata": {},
   "outputs": [],
   "source": [
    "fig, ax = plt.subplots()\n",
    "ax.set_yscale('log')\n",
    "for offset, color, machine, rates in [(-0.05, '#7A954F', 'Summit', summit_rates),\n",
    "                                      (0.05, '#BC5544', 'Crusher', crusher_rates)]:\n",
    "    for arch in ['cpu', 'gpu']:\n",
    "        summary = rates.xs(arch, level='arch')\n",
    "        index = np.array([p_to_i[p]\n",
    "                          for p in summary.index.get_level_values('problem')], dtype=float)\n",
    "        index += offset\n",
    "    \n",
    "        mark = analyze.ARCH_SHAPES[arch]\n",
    "        count = counts[(machine.lower(), arch)]\n",
    "        arch = arch.upper()\n",
    "        ax.errorbar(index, summary['mean'], summary['std'],\n",
    "                    capsize=0, fmt='none', ecolor=(0.2,)*3)\n",
    "        scat = ax.scatter(index, summary['mean'], c=color, marker=mark,\n",
    "                         label=f\"{machine} ({count} {arch})\")    \n",
    "xax = ax.get_xaxis()\n",
    "xax.set_ticks(np.arange(len(problems)))\n",
    "xax.set_ticklabels(list(problem_to_abbr.values()), rotation=90)\n",
    "grid = ax.grid()\n",
    "ax.set_axisbelow(True)\n",
    "ax.legend()\n",
    "ax.set_ylabel(r\"Event rate [1/s]\")\n",
    "analyze.annotate_metadata(ax, summit)\n",
    "fig.savefig('plots/crusher-vs-summit.pdf')\n",
    "plt.close()"
   ]
  }
 ],
 "metadata": {
  "kernelspec": {
   "display_name": "Python 3 (ipykernel)",
   "language": "python",
   "name": "python3"
  },
  "language_info": {
   "codemirror_mode": {
    "name": "ipython",
    "version": 3
   },
   "file_extension": ".py",
   "mimetype": "text/x-python",
   "name": "python",
   "nbconvert_exporter": "python",
   "pygments_lexer": "ipython3",
   "version": "3.9.16"
  }
 },
 "nbformat": 4,
 "nbformat_minor": 5
}
