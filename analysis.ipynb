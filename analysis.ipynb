{
 "cells": [
  {
   "cell_type": "code",
   "execution_count": 2,
   "id": "69f4e8fb-a4aa-4c4c-9c1a-cc96abc5a5de",
   "metadata": {},
   "outputs": [],
   "source": [
    "import json\n",
    "import matplotlib as mpl\n",
    "import matplotlib.pyplot as plt\n",
    "import numpy as np\n",
    "import pandas as pd\n",
    "import re\n",
    "import sys\n",
    "import itertools\n",
    "from collections import namedtuple\n",
    "from pathlib import Path\n",
    "\n",
    "%matplotlib inline\n",
    "%config InlineBackend.figure_format = 'retina'\n",
    "\n",
    "%load_ext autoreload\n",
    "%autoreload 1\n",
    "%aimport analyze\n",
    "\n",
    "with open('plots/style.json') as f:\n",
    "    mpl.rcParams.update(json.load(f))"
   ]
  },
  {
   "cell_type": "code",
   "execution_count": 3,
   "id": "76d8590d-f82a-4502-9ede-af7c5b404b55",
   "metadata": {},
   "outputs": [
    {
     "name": "stdout",
     "output_type": "stream",
     "text": [
      "Analysis for Celeritas v0.1.3+609057e6 on summit\n"
     ]
    }
   ],
   "source": [
    "summit = analyze.Analysis('results/summit')\n",
    "print(summit)\n",
    "some_results = summit.load_results(('testem3-flat','orange','gpu'), 0)"
   ]
  },
  {
   "cell_type": "code",
   "execution_count": 6,
   "id": "624c7450-4144-4df7-bed1-fc1ee9eaba9b",
   "metadata": {},
   "outputs": [],
   "source": [
    "mp_per_gpu = some_results['system']['device']['multiprocessor_count']"
   ]
  },
  {
   "cell_type": "code",
   "execution_count": null,
   "id": "6aa7051e-78f7-4802-bfba-537e733b2fe7",
   "metadata": {},
   "outputs": [],
   "source": [
    "inp = some_results['input']\n",
    "primaries_per_event = inp['primary_gen_options']['primaries_per_event']\n",
    "def calc_event_rate(summary):\n",
    "    event_rate = analyze.inverse_summary(summary['avg_time_per_primary'])\n",
    "    event_rate['mean'] /= primaries_per_event\n",
    "    event_rate['std'] /= primaries_per_event\n",
    "    return event_rate"
   ]
  },
  {
   "cell_type": "code",
   "execution_count": null,
   "id": "6b8b881e-6c21-49e1-98f1-ad3c8ae0870d",
   "metadata": {},
   "outputs": [],
   "source": [
    "summit.result.columns"
   ]
  },
  {
   "cell_type": "code",
   "execution_count": null,
   "id": "36b344ce-6f4a-48d7-acf0-e29305e42f32",
   "metadata": {},
   "outputs": [],
   "source": [
    "for key, lines in summit.failures()['stderr'].iteritems():\n",
    "    print(\"=\"*78)\n",
    "    print(key)\n",
    "    print(\"   \" + \" - \\n\".join(lines[-3:]))"
   ]
  },
  {
   "cell_type": "code",
   "execution_count": null,
   "id": "bfc9bd52-f082-44aa-b634-a319680e4e33",
   "metadata": {},
   "outputs": [],
   "source": [
    "summit.failures()['stderr'].groupby(['problem', 'geo', 'arch']).count().unstack()"
   ]
  },
  {
   "cell_type": "code",
   "execution_count": null,
   "id": "20af0609-9be2-4f89-bbde-8bdef0c80ec2",
   "metadata": {},
   "outputs": [],
   "source": [
    "summed = analyze.summarize_instances(summit.result[[\n",
    "    'avg_steps_per_primary',\n",
    "    'avg_time_per_primary',\n",
    "    'avg_time_per_step',\n",
    "    'num_steps',\n",
    "    'total_time',\n",
    "    'unconverged',\n",
    "    'slot_occupancy']])\n",
    "#summed.xs('mean', axis=1, level=1).to_csv('summit.csv')"
   ]
  },
  {
   "cell_type": "code",
   "execution_count": null,
   "id": "51fd3808-f73f-41e0-a65a-7dd448ebaf37",
   "metadata": {},
   "outputs": [],
   "source": [
    "a = {}\n",
    "a.setdefault('foo', 0)"
   ]
  },
  {
   "cell_type": "code",
   "execution_count": null,
   "id": "cf55e7be-3b54-4e2e-9a14-19f261cd20dc",
   "metadata": {},
   "outputs": [],
   "source": [
    "summit.result['num_primaries'].xs(('gpu', 0), level=('arch', 'instance'))"
   ]
  },
  {
   "cell_type": "code",
   "execution_count": null,
   "id": "2a208416-937c-46d9-ae02-1986d703a50f",
   "metadata": {},
   "outputs": [],
   "source": [
    "summed[('total_time', 'mean')].unstack()"
   ]
  },
  {
   "cell_type": "code",
   "execution_count": null,
   "id": "01faa36e-535b-406a-a621-3d635b09d3c0",
   "metadata": {},
   "outputs": [],
   "source": [
    "summed['avg_time_per_primary'].xs('testem3-flat', level='problem')"
   ]
  },
  {
   "cell_type": "code",
   "execution_count": null,
   "id": "17a95034-1aa5-443a-a353-390f6ab4c068",
   "metadata": {},
   "outputs": [],
   "source": [
    "#rel_err = summed.xs('std', axis=1, level=1) / summed.xs('mean', axis=1, level=1)\n",
    "#high_err = rel_err > 0.05\n",
    "#rel_err[high_err].dropna(how='all').dropna(how='all', axis=1)"
   ]
  },
  {
   "cell_type": "code",
   "execution_count": null,
   "id": "0c102c29-678c-400c-bbc4-13aa320e52df",
   "metadata": {},
   "outputs": [],
   "source": [
    "unconv = summed['unconverged']\n",
    "unconv[unconv['mean'] > 0]"
   ]
  },
  {
   "cell_type": "code",
   "execution_count": null,
   "id": "59a63dbc-3b29-4be3-8e29-b655934866ee",
   "metadata": {},
   "outputs": [],
   "source": [
    "summit.result.xs('cms2018+field+msc', level='problem')[['avg_steps_per_primary', 'slot_occupancy']]"
   ]
  },
  {
   "cell_type": "code",
   "execution_count": null,
   "id": "eec7baa7-378e-4b7e-828f-06e6c3364f03",
   "metadata": {},
   "outputs": [],
   "source": [
    "problems = summit.problems()\n",
    "p_to_i = dict(zip(problems, itertools.count()))\n",
    "g_to_color = {'orange': '#F6A75E', 'vecgeom': '#5785B7'}\n",
    "arch_to_shape = {'gpu': 'x', 'cpu': 'o'}"
   ]
  },
  {
   "cell_type": "code",
   "execution_count": null,
   "id": "4c79916b-93a2-4513-be0e-6f2babb8417f",
   "metadata": {},
   "outputs": [],
   "source": [
    "problem_to_abbr = {'testem15': 'A',\n",
    " 'testem15+field': 'AF',\n",
    " 'testem15+field+msc': 'AFM',\n",
    " 'simple-cms+msc': 'B',\n",
    " 'simple-cms+field': 'BF',\n",
    " 'simple-cms+field+msc': 'BFM',\n",
    " 'testem3-flat': 'C',\n",
    " 'testem3-flat+field': 'CF',\n",
    " 'testem3-flat+msc': 'CM',\n",
    " 'cms2018': 'Z',\n",
    " 'cms2018+field+msc': 'ZFM'}\n",
    "# TODO: revert when rerunning to get updated \n",
    "# problem_abbr = [problem_to_abbr[k] for k in problems]\n",
    "problems = list(problem_to_abbr.keys())\n",
    "p_to_i = dict(zip(problems, itertools.count()))\n",
    "problem_abbr = list(problem_to_abbr.values())\n",
    "print('\\n'.join('\\t'.join([v, k]) for (k, v) in problem_to_abbr.items()))"
   ]
  },
  {
   "cell_type": "code",
   "execution_count": null,
   "id": "b19adf54-38b4-4a0d-a7e2-a283f21d0f3b",
   "metadata": {},
   "outputs": [],
   "source": [
    "def plot_results(ax, summary):\n",
    "    index = np.array([p_to_i[p]\n",
    "                      for p in summary.index.get_level_values('problem')], dtype=float)\n",
    "    index += [(0.1 if g == 'orange' else -0.05)\n",
    "              for g in summary.index.get_level_values('geo')]\n",
    "    color = np.array([g_to_color[g]\n",
    "                      for g in summary.index.get_level_values('geo')])\n",
    "    \n",
    "    if 'arch' in summary.index.names:\n",
    "        slc_mark = [(a.upper(), summary.index.get_level_values('arch') == a, arch_to_shape[a])\n",
    "                    for a in ['cpu', 'gpu']]\n",
    "        \n",
    "    else:\n",
    "        slc_mark = [(None, slice(None), 's')]\n",
    "\n",
    "    result = []\n",
    "    for lab, slc, mark in slc_mark:\n",
    "        temp_idx = index[slc]\n",
    "        temp_sum = summary.loc[slc]\n",
    "        ax.errorbar(temp_idx, temp_sum['mean'], temp_sum['std'],\n",
    "                    capsize=0, fmt='none', ecolor=(0.2,)*3)\n",
    "        scat = ax.scatter(temp_idx, temp_sum['mean'], c=color[slc], marker=mark,\n",
    "                         label=lab)\n",
    "        result.append(scat)\n",
    "    \n",
    "    xax = ax.get_xaxis()\n",
    "    xax.set_ticks(np.arange(len(problems)))\n",
    "    xax.set_ticklabels(problem_abbr, rotation=90)\n",
    "    grid = ax.grid()\n",
    "    ax.set_axisbelow(True)\n",
    "    return scat"
   ]
  },
  {
   "cell_type": "code",
   "execution_count": null,
   "id": "87884089-6f53-41ae-a07f-64cf4ee3c8c0",
   "metadata": {
    "tags": []
   },
   "outputs": [],
   "source": [
    "speedup = analyze.get_cpugpu_ratio(summed['total_time'])\n",
    "fig, ax = plt.subplots()\n",
    "plot_results(ax, speedup)\n",
    "ax.set_ylabel(\"Speedup (7-CPU / 1-GPU wall time)\")\n",
    "analyze.annotate_metadata(ax, summit);\n",
    "fig.savefig('plots/speedups.pdf', transparent=True)\n",
    "plt.close()"
   ]
  },
  {
   "cell_type": "code",
   "execution_count": null,
   "id": "da2f761d-26a4-4474-b5b3-7df74a3aeb37",
   "metadata": {},
   "outputs": [],
   "source": [
    "fig, axes = plt.subplots(nrows=2, figsize=(4,4), subplot_kw=dict(yscale='log'))\n",
    "for (ax, q) in zip(axes, ['step', 'primary']):\n",
    "    plot_results(ax, analyze.inverse_summary(summed['avg_time_per_' + q]))\n",
    "    ax.set_ylabel(q + ' per sec')\n",
    "    ax.legend()\n",
    "fig.savefig('plots/steps-vs-primaries.png', dpi=300)\n",
    "plt.close()"
   ]
  },
  {
   "cell_type": "code",
   "execution_count": null,
   "id": "2f12ec02-87b2-4cf6-8dfc-064c279db5b4",
   "metadata": {},
   "outputs": [],
   "source": [
    "event_rate = calc_event_rate(summed)"
   ]
  },
  {
   "cell_type": "code",
   "execution_count": null,
   "id": "88e0b15a-d25c-4223-a521-d6d8a0066907",
   "metadata": {},
   "outputs": [],
   "source": [
    "event_rate.xs('testem3-flat', level='problem')"
   ]
  },
  {
   "cell_type": "code",
   "execution_count": null,
   "id": "04acd1f8-5314-4a7f-93c6-5997a49c7170",
   "metadata": {},
   "outputs": [],
   "source": [
    "(fig, (time_ax, occ_ax)) = plt.subplots(\n",
    "    nrows=2, figsize=(4, 4),\n",
    "    gridspec_kw=dict(height_ratios=[3, 1])\n",
    ")\n",
    "time_ax.set_yscale('log')\n",
    "plot_results(time_ax, event_rate)\n",
    "time_ax.set_ylabel(r\"Event rate [1/s]\")\n",
    "time_ax.legend()\n",
    "time_ax.set_xticklabels([])\n",
    "plot_results(occ_ax, summed['slot_occupancy'])\n",
    "occ_ax.set_ylabel(\"Slot occupancy\")\n",
    "analyze.annotate_metadata(ax, summit)\n",
    "fig.savefig('plots/rate-occupancy.pdf', transparent=True)\n",
    "plt.close()"
   ]
  },
  {
   "cell_type": "code",
   "execution_count": null,
   "id": "27071806-e627-4c6c-87d2-fda247f490aa",
   "metadata": {},
   "outputs": [],
   "source": [
    "speedup.dropna().applymap(\"{:.1f}\".format)"
   ]
  },
  {
   "cell_type": "markdown",
   "id": "d4031b97-f30c-4f92-bc26-e18df8046f28",
   "metadata": {},
   "source": [
    "## Action fraction pie charts\n"
   ]
  },
  {
   "cell_type": "code",
   "execution_count": null,
   "id": "928931bc-3847-403f-bd58-8b6f9bdca35e",
   "metadata": {},
   "outputs": [],
   "source": [
    "mean_action_times = summit.action_times().xs('mean', axis=1, level=1).T\n",
    "mean_action_times.sort_index(inplace=True)"
   ]
  },
  {
   "cell_type": "code",
   "execution_count": null,
   "id": "01487b42-3804-41f9-b1b2-5c326d201c96",
   "metadata": {},
   "outputs": [],
   "source": [
    "for ext in [\"\", \"+field+msc\"]:\n",
    "    prob_geo = ('cms2018'+ext, 'vecgeom')\n",
    "    temp = mean_action_times.xs(prob_geo, axis=1, level=('problem', 'geo')).dropna()\n",
    "\n",
    "    for (arch, series) in temp.iteritems():\n",
    "        (fig, ax) = plt.subplots(figsize=(4, 4))\n",
    "        ax.pie(series, labels=series.index, autopct='%1.1f%%', pctdistance=0.85)\n",
    "        ax.axis('equal')\n",
    "        name = prob_geo + (arch,)\n",
    "        slashname = \"/\".join(name)\n",
    "        fig.text(\n",
    "            0.98, 0.02, f\"{slashname}\\n{summit.version} on {summit.system}\",\n",
    "            va='bottom', ha='right',\n",
    "            fontstyle='italic', color=(0.5,)*3, size='xx-small',\n",
    "            zorder=-100\n",
    "        )\n",
    "        dashname = \"-\".join(name)\n",
    "        fig.savefig(f'plots/{dashname}.pdf', transparent=True)\n",
    "        plt.close()"
   ]
  },
  {
   "cell_type": "markdown",
   "id": "c2c6f5c3-e848-4c94-9862-113ccbab23f9",
   "metadata": {
    "tags": []
   },
   "source": [
    "### Plot per-step timing on GPU"
   ]
  },
  {
   "cell_type": "code",
   "execution_count": null,
   "id": "eca3d899-aa08-4c19-bb36-506ef108df67",
   "metadata": {
    "tags": []
   },
   "outputs": [],
   "source": [
    "cms = [summit.load_results((p, 'vecgeom', 'gpu'), 0)\n",
    "       for p in ['cms2018', 'cms2018+field+msc']]\n",
    "\n",
    "for plot, label in [(analyze.plot_counts, 'counts'),\n",
    "                    (analyze.plot_accum_time, 'time')]:\n",
    "    (fig, axes) = plt.subplots(ncols=2, figsize=(8, 2))\n",
    "    \n",
    "    for (i, ax, data) in zip(itertools.count(), axes, cms):\n",
    "        objs = plot(ax, data)\n",
    "        analyze.annotate_metadata(ax, data['_metadata'])\n",
    "        if i == 0:\n",
    "            objs['oax'].set_ylabel(None)\n",
    "        elif i == 1:\n",
    "            objs['ax'].set_ylabel(None)\n",
    "    fig.savefig(f'plots/cms-{label}.pdf', transparent=True)\n",
    "    plt.close()"
   ]
  },
  {
   "cell_type": "markdown",
   "id": "bc83874b-11a4-43b8-8ed4-15a3ece23301",
   "metadata": {
    "tags": []
   },
   "source": [
    "## Crusher"
   ]
  },
  {
   "cell_type": "code",
   "execution_count": null,
   "id": "5f8234ad-2880-471a-89fb-35fcaecd6a52",
   "metadata": {},
   "outputs": [],
   "source": [
    "crusher = analyze.Analysis('results/crusher')\n",
    "print(crusher)"
   ]
  },
  {
   "cell_type": "code",
   "execution_count": null,
   "id": "8d17b7fa-f817-4adc-93b9-705da4c6ed25",
   "metadata": {},
   "outputs": [],
   "source": [
    "crusher_fail = crusher.failures().xs('orange', level='geo')"
   ]
  },
  {
   "cell_type": "code",
   "execution_count": null,
   "id": "88425f03-1d36-4b77-b2a4-8bedbfe69455",
   "metadata": {},
   "outputs": [],
   "source": [
    "for key, lines in crusher_fail['stderr'].iteritems():\n",
    "    print(\"=\"*78)\n",
    "    print(key)\n",
    "    print(\"   \" + \" - \\n\".join(lines[-3:]))"
   ]
  },
  {
   "cell_type": "code",
   "execution_count": null,
   "id": "8f4e4976-783b-4900-a1ae-a1c05c139ca4",
   "metadata": {},
   "outputs": [],
   "source": [
    "crusher_fail['stderr'].groupby(['problem', 'arch']).count().unstack()"
   ]
  },
  {
   "cell_type": "code",
   "execution_count": null,
   "id": "c78f6fc8-8569-4dfa-8b00-c592d4e46eb0",
   "metadata": {},
   "outputs": [],
   "source": [
    "csum = analyze.summarize_instances(crusher.result[~crusher.invalid][[\n",
    "    'avg_steps_per_primary',\n",
    "    'avg_time_per_primary',\n",
    "    'avg_time_per_step',\n",
    "    'num_steps',\n",
    "    'total_time',\n",
    "    'unconverged',\n",
    "    'slot_occupancy',\n",
    "]])"
   ]
  },
  {
   "cell_type": "code",
   "execution_count": null,
   "id": "741dd944-a264-488e-a7ef-880647345abb",
   "metadata": {},
   "outputs": [],
   "source": [
    "csum[('total_time', 'mean')].unstack()"
   ]
  },
  {
   "cell_type": "code",
   "execution_count": null,
   "id": "054df0ae-1ca9-47c1-a935-afb2b7ee11f2",
   "metadata": {},
   "outputs": [],
   "source": [
    "rel_err = csum.xs('std', axis=1, level=1) / csum.xs('mean', axis=1, level=1)\n",
    "high_err = rel_err > 0.02\n",
    "rel_err[high_err].dropna(how='all').dropna(how='all', axis=1)"
   ]
  },
  {
   "cell_type": "code",
   "execution_count": null,
   "id": "da1dc197-d41f-4a36-862e-046e5edc150b",
   "metadata": {},
   "outputs": [],
   "source": [
    "analyze.get_cpugpu_ratio(csum['total_time'])"
   ]
  },
  {
   "cell_type": "code",
   "execution_count": null,
   "id": "b7d7ecf8-cd6f-4913-a51f-f589d2b977af",
   "metadata": {},
   "outputs": [],
   "source": [
    "crusher_times = csum['total_time']\n",
    "crusher_times"
   ]
  },
  {
   "cell_type": "code",
   "execution_count": null,
   "id": "0b4d70bf-cb0f-4437-983f-f5380f11d8c8",
   "metadata": {},
   "outputs": [],
   "source": [
    "crusher_rates = calc_event_rate(csum)\n",
    "summit_rates = calc_event_rate(summed.loc[crusher_times.index])\n",
    "\n",
    "counts = {\n",
    "    ('summit', 'cpu'): 7,\n",
    "    ('summit', 'gpu'): 1,\n",
    "    ('crusher', 'cpu'): 8,\n",
    "    ('crusher', 'gpu'): 1,\n",
    "}"
   ]
  },
  {
   "cell_type": "code",
   "execution_count": null,
   "id": "092e391f-ba8d-428b-83bf-ea917c2d1d16",
   "metadata": {},
   "outputs": [],
   "source": [
    "(crusher_rates['mean'] / summit_rates['mean']).unstack()"
   ]
  },
  {
   "cell_type": "code",
   "execution_count": null,
   "id": "7d362311-b839-4d29-8104-dae654b1d380",
   "metadata": {},
   "outputs": [],
   "source": [
    "fig, ax = plt.subplots()\n",
    "ax.set_yscale('log')\n",
    "for offset, color, machine, rates in [(-0.05, '#7A954F', 'Summit', summit_rates),\n",
    "                                      (0.05, '#BC5544', 'Crusher', crusher_rates)]:\n",
    "    for arch in ['cpu', 'gpu']:\n",
    "        summary = rates.xs(arch, level='arch')\n",
    "        index = np.array([p_to_i[p]\n",
    "                          for p in summary.index.get_level_values('problem')], dtype=float)\n",
    "        index += offset\n",
    "    \n",
    "        mark = arch_to_shape[arch]\n",
    "        count = counts[(machine.lower(), arch)]\n",
    "        arch = arch.upper()\n",
    "        ax.errorbar(index, summary['mean'], summary['std'],\n",
    "                    capsize=0, fmt='none', ecolor=(0.2,)*3)\n",
    "        scat = ax.scatter(index, summary['mean'], c=color, marker=mark,\n",
    "                         label=f\"{machine} ({count} {arch})\")    \n",
    "xax = ax.get_xaxis()\n",
    "xax.set_ticks(np.arange(len(problems)))\n",
    "xax.set_ticklabels(problem_abbr, rotation=90)\n",
    "grid = ax.grid()\n",
    "ax.set_axisbelow(True)\n",
    "ax.legend()\n",
    "ax.set_ylabel(r\"Event rate [1/s]\")\n",
    "analyze.annotate_metadata(ax, summit)\n",
    "fig.savefig('plots/crusher-vs-summit.pdf')\n",
    "plt.close()"
   ]
  },
  {
   "cell_type": "code",
   "execution_count": null,
   "id": "c3786c06-665d-4d3e-a5f2-775d5e28df26",
   "metadata": {},
   "outputs": [],
   "source": []
  }
 ],
 "metadata": {
  "kernelspec": {
   "display_name": "Python 3 (ipykernel)",
   "language": "python",
   "name": "python3"
  },
  "language_info": {
   "codemirror_mode": {
    "name": "ipython",
    "version": 3
   },
   "file_extension": ".py",
   "mimetype": "text/x-python",
   "name": "python",
   "nbconvert_exporter": "python",
   "pygments_lexer": "ipython3",
   "version": "3.9.13"
  }
 },
 "nbformat": 4,
 "nbformat_minor": 5
}
