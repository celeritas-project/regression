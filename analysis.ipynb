{
 "cells": [
  {
   "cell_type": "code",
   "execution_count": 1,
   "id": "69f4e8fb-a4aa-4c4c-9c1a-cc96abc5a5de",
   "metadata": {
    "tags": []
   },
   "outputs": [],
   "source": [
    "import json\n",
    "import matplotlib as mpl\n",
    "import matplotlib.pyplot as plt\n",
    "import numpy as np\n",
    "import pandas as pd\n",
    "import re\n",
    "import sys\n",
    "import itertools\n",
    "from collections import namedtuple, defaultdict\n",
    "from pathlib import Path\n",
    "\n",
    "%matplotlib inline\n",
    "%config InlineBackend.figure_format = 'retina'\n",
    "\n",
    "%load_ext autoreload\n",
    "%autoreload 1\n",
    "%aimport analyze\n",
    "\n",
    "with open('plots/style.json') as f:\n",
    "    mpl.rcParams.update(json.load(f))"
   ]
  },
  {
   "cell_type": "markdown",
   "id": "94a45b0f-2213-404f-9512-6f857a2fab23",
   "metadata": {
    "tags": []
   },
   "source": [
    "## Wildstyle failures"
   ]
  },
  {
   "cell_type": "code",
   "execution_count": 2,
   "id": "a128569e-3417-4637-ab61-16c8ca2e065a",
   "metadata": {},
   "outputs": [
    {
     "name": "stdout",
     "output_type": "stream",
     "text": [
      "Analysis for Celeritas v0.3.2-rc.1 on wildstyle\n"
     ]
    }
   ],
   "source": [
    "ws = analyze.Analysis('results/wildstyle')\n",
    "print(ws)"
   ]
  },
  {
   "cell_type": "code",
   "execution_count": 3,
   "id": "2e7b3de1-9f2c-432d-a84a-50fbe3108d47",
   "metadata": {},
   "outputs": [
    {
     "data": {
      "text/html": [
       "<div>\n",
       "<style scoped>\n",
       "    .dataframe tbody tr th:only-of-type {\n",
       "        vertical-align: middle;\n",
       "    }\n",
       "\n",
       "    .dataframe tbody tr th {\n",
       "        vertical-align: top;\n",
       "    }\n",
       "\n",
       "    .dataframe thead th {\n",
       "        text-align: right;\n",
       "    }\n",
       "</style>\n",
       "<table border=\"1\" class=\"dataframe\">\n",
       "  <thead>\n",
       "    <tr style=\"text-align: right;\">\n",
       "      <th></th>\n",
       "      <th>Failure</th>\n",
       "    </tr>\n",
       "  </thead>\n",
       "  <tbody>\n",
       "  </tbody>\n",
       "</table>\n",
       "</div>"
      ],
      "text/plain": [
       "Empty DataFrame\n",
       "Columns: [Failure]\n",
       "Index: []"
      ]
     },
     "execution_count": 3,
     "metadata": {},
     "output_type": "execute_result"
    }
   ],
   "source": [
    "ftab = analyze.make_failure_table(ws.failures())\n",
    "ftab.to_frame()"
   ]
  },
  {
   "cell_type": "markdown",
   "id": "02985fd1-6930-4570-8869-990c7dc2557e",
   "metadata": {},
   "source": [
    "Unconverged tracks (from runs that didn't fail):"
   ]
  },
  {
   "cell_type": "code",
   "execution_count": 6,
   "id": "7bc64045-7223-491a-8e8d-6f6e19c018e4",
   "metadata": {},
   "outputs": [
    {
     "data": {
      "text/html": [
       "<div>\n",
       "<style scoped>\n",
       "    .dataframe tbody tr th:only-of-type {\n",
       "        vertical-align: middle;\n",
       "    }\n",
       "\n",
       "    .dataframe tbody tr th {\n",
       "        vertical-align: top;\n",
       "    }\n",
       "\n",
       "    .dataframe thead th {\n",
       "        text-align: right;\n",
       "    }\n",
       "</style>\n",
       "<table border=\"1\" class=\"dataframe\">\n",
       "  <thead>\n",
       "    <tr style=\"text-align: right;\">\n",
       "      <th></th>\n",
       "      <th>arch</th>\n",
       "    </tr>\n",
       "    <tr>\n",
       "      <th>problem</th>\n",
       "      <th>geo</th>\n",
       "    </tr>\n",
       "  </thead>\n",
       "  <tbody>\n",
       "  </tbody>\n",
       "</table>\n",
       "</div>"
      ],
      "text/plain": [
       "Empty DataFrame\n",
       "Columns: []\n",
       "Index: []"
      ]
     },
     "execution_count": 6,
     "metadata": {},
     "output_type": "execute_result"
    }
   ],
   "source": [
    "summed = analyze.summarize_instances(ws.result[['unconverged']])\n",
    "unconv = summed[('unconverged', 'mean')]\n",
    "unconv[unconv > 0].unstack('arch') "
   ]
  },
  {
   "cell_type": "markdown",
   "id": "8f58821b-7c2f-455e-97af-0d2d7e19e4d7",
   "metadata": {},
   "source": [
    "# Results\n",
    "## Summit"
   ]
  },
  {
   "cell_type": "code",
   "execution_count": 2,
   "id": "76d8590d-f82a-4502-9ede-af7c5b404b55",
   "metadata": {},
   "outputs": [
    {
     "name": "stdout",
     "output_type": "stream",
     "text": [
      "Analysis for Celeritas v0.4.0-dev.91+cf7c5a7bc on summit\n"
     ]
    }
   ],
   "source": [
    "summit = analyze.Analysis('results/summit')\n",
    "print(summit)\n",
    "summed = summit.summed\n",
    "problems = summit.problems()\n",
    "problem_to_abbr = summit.problem_to_abbr(problems)\n",
    "p_to_i = dict(zip(problems, itertools.count()))"
   ]
  },
  {
   "cell_type": "markdown",
   "id": "99662eee-68e1-4bc0-bf8d-2abffaf87f2d",
   "metadata": {
    "tags": []
   },
   "source": [
    "### Failures\n",
    "\n",
    "Average number of unconverged tracks:"
   ]
  },
  {
   "cell_type": "code",
   "execution_count": 9,
   "id": "0c102c29-678c-400c-bbc4-13aa320e52df",
   "metadata": {},
   "outputs": [
    {
     "data": {
      "text/html": [
       "<div>\n",
       "<style scoped>\n",
       "    .dataframe tbody tr th:only-of-type {\n",
       "        vertical-align: middle;\n",
       "    }\n",
       "\n",
       "    .dataframe tbody tr th {\n",
       "        vertical-align: top;\n",
       "    }\n",
       "\n",
       "    .dataframe thead th {\n",
       "        text-align: right;\n",
       "    }\n",
       "</style>\n",
       "<table border=\"1\" class=\"dataframe\">\n",
       "  <thead>\n",
       "    <tr style=\"text-align: right;\">\n",
       "      <th></th>\n",
       "      <th>arch</th>\n",
       "    </tr>\n",
       "    <tr>\n",
       "      <th>problem</th>\n",
       "      <th>geo</th>\n",
       "    </tr>\n",
       "  </thead>\n",
       "  <tbody>\n",
       "  </tbody>\n",
       "</table>\n",
       "</div>"
      ],
      "text/plain": [
       "Empty DataFrame\n",
       "Columns: []\n",
       "Index: []"
      ]
     },
     "execution_count": 9,
     "metadata": {},
     "output_type": "execute_result"
    }
   ],
   "source": [
    "unconv = analyze.summarize_instances(summit.result['unconverged'])['mean']\n",
    "unconv[unconv > 0].unstack('arch') "
   ]
  },
  {
   "cell_type": "markdown",
   "id": "fdf16ce1-92e1-411b-82e0-b012a09d9902",
   "metadata": {},
   "source": [
    "### Timing tables"
   ]
  },
  {
   "cell_type": "code",
   "execution_count": 10,
   "id": "89369671-aa74-47b5-b8ae-46c4bbca828d",
   "metadata": {},
   "outputs": [],
   "source": [
    "(fig, [run_ax, setup_ax]) = plt.subplots(nrows=2,\n",
    "                                         gridspec_kw=dict(height_ratios=[3, 1]),\n",
    "                                         subplot_kw=dict(yscale='log'))\n",
    "summit.plot_results(run_ax, summed['total_time'])\n",
    "run_ax.legend();\n",
    "run_ax.set_ylabel('Run [s]')\n",
    "run_ax.tick_params(labelbottom=False)\n",
    "summit.plot_results(setup_ax, summed['setup_time'])\n",
    "setup_ax.set_ylabel('Setup [s]')\n",
    "analyze.annotate_metadata(run_ax, summit)\n",
    "plt.tight_layout()\n",
    "fig.savefig('plots/timing.pdf', transparent=True)\n",
    "plt.close()"
   ]
  },
  {
   "cell_type": "code",
   "execution_count": 11,
   "id": "f89e17e3-2edb-4264-9ce8-0a892357fd9b",
   "metadata": {},
   "outputs": [
    {
     "data": {
      "text/html": [
       "<style type=\"text/css\">\n",
       "</style>\n",
       "<table id=\"T_97a88\">\n",
       "  <thead>\n",
       "    <tr>\n",
       "      <th class=\"blank\" >&nbsp;</th>\n",
       "      <th class=\"index_name level0\" >arch</th>\n",
       "      <th id=\"T_97a88_level0_col0\" class=\"col_heading level0 col0\" >gpu</th>\n",
       "      <th id=\"T_97a88_level0_col1\" class=\"col_heading level0 col1\" >gpu+sync</th>\n",
       "    </tr>\n",
       "    <tr>\n",
       "      <th class=\"index_name level0\" >problem</th>\n",
       "      <th class=\"index_name level1\" >geo</th>\n",
       "      <th class=\"blank col0\" >&nbsp;</th>\n",
       "      <th class=\"blank col1\" >&nbsp;</th>\n",
       "    </tr>\n",
       "  </thead>\n",
       "  <tbody>\n",
       "    <tr>\n",
       "      <th id=\"T_97a88_level0_row0\" class=\"row_heading level0 row0\" >cms2018</th>\n",
       "      <th id=\"T_97a88_level1_row0\" class=\"row_heading level1 row0\" >vecgeom</th>\n",
       "      <td id=\"T_97a88_row0_col0\" class=\"data row0 col0\" >12.67</td>\n",
       "      <td id=\"T_97a88_row0_col1\" class=\"data row0 col1\" >—</td>\n",
       "    </tr>\n",
       "    <tr>\n",
       "      <th id=\"T_97a88_level0_row1\" class=\"row_heading level0 row1\" >cms2018+field+msc</th>\n",
       "      <th id=\"T_97a88_level1_row1\" class=\"row_heading level1 row1\" >vecgeom</th>\n",
       "      <td id=\"T_97a88_row1_col0\" class=\"data row1 col0\" >41.20</td>\n",
       "      <td id=\"T_97a88_row1_col1\" class=\"data row1 col1\" >41.69</td>\n",
       "    </tr>\n",
       "    <tr>\n",
       "      <th id=\"T_97a88_level0_row2\" class=\"row_heading level0 row2\" >simple-cms+field</th>\n",
       "      <th id=\"T_97a88_level1_row2\" class=\"row_heading level1 row2\" >orange</th>\n",
       "      <td id=\"T_97a88_row2_col0\" class=\"data row2 col0\" >2.80</td>\n",
       "      <td id=\"T_97a88_row2_col1\" class=\"data row2 col1\" >—</td>\n",
       "    </tr>\n",
       "    <tr>\n",
       "      <th id=\"T_97a88_level0_row3\" class=\"row_heading level0 row3\" rowspan=\"2\">simple-cms+field+msc</th>\n",
       "      <th id=\"T_97a88_level1_row3\" class=\"row_heading level1 row3\" >orange</th>\n",
       "      <td id=\"T_97a88_row3_col0\" class=\"data row3 col0\" >3.42</td>\n",
       "      <td id=\"T_97a88_row3_col1\" class=\"data row3 col1\" >—</td>\n",
       "    </tr>\n",
       "    <tr>\n",
       "      <th id=\"T_97a88_level1_row4\" class=\"row_heading level1 row4\" >vecgeom</th>\n",
       "      <td id=\"T_97a88_row4_col0\" class=\"data row4 col0\" >3.52</td>\n",
       "      <td id=\"T_97a88_row4_col1\" class=\"data row4 col1\" >—</td>\n",
       "    </tr>\n",
       "    <tr>\n",
       "      <th id=\"T_97a88_level0_row5\" class=\"row_heading level0 row5\" >simple-cms+msc</th>\n",
       "      <th id=\"T_97a88_level1_row5\" class=\"row_heading level1 row5\" >orange</th>\n",
       "      <td id=\"T_97a88_row5_col0\" class=\"data row5 col0\" >3.01</td>\n",
       "      <td id=\"T_97a88_row5_col1\" class=\"data row5 col1\" >—</td>\n",
       "    </tr>\n",
       "    <tr>\n",
       "      <th id=\"T_97a88_level0_row6\" class=\"row_heading level0 row6\" >testem15</th>\n",
       "      <th id=\"T_97a88_level1_row6\" class=\"row_heading level1 row6\" >orange</th>\n",
       "      <td id=\"T_97a88_row6_col0\" class=\"data row6 col0\" >2.48</td>\n",
       "      <td id=\"T_97a88_row6_col1\" class=\"data row6 col1\" >—</td>\n",
       "    </tr>\n",
       "    <tr>\n",
       "      <th id=\"T_97a88_level0_row7\" class=\"row_heading level0 row7\" rowspan=\"2\">testem15+field</th>\n",
       "      <th id=\"T_97a88_level1_row7\" class=\"row_heading level1 row7\" >orange</th>\n",
       "      <td id=\"T_97a88_row7_col0\" class=\"data row7 col0\" >2.52</td>\n",
       "      <td id=\"T_97a88_row7_col1\" class=\"data row7 col1\" >2.69</td>\n",
       "    </tr>\n",
       "    <tr>\n",
       "      <th id=\"T_97a88_level1_row8\" class=\"row_heading level1 row8\" >vecgeom</th>\n",
       "      <td id=\"T_97a88_row8_col0\" class=\"data row8 col0\" >—</td>\n",
       "      <td id=\"T_97a88_row8_col1\" class=\"data row8 col1\" >2.17</td>\n",
       "    </tr>\n",
       "    <tr>\n",
       "      <th id=\"T_97a88_level0_row9\" class=\"row_heading level0 row9\" rowspan=\"2\">testem15+field+msc</th>\n",
       "      <th id=\"T_97a88_level1_row9\" class=\"row_heading level1 row9\" >orange</th>\n",
       "      <td id=\"T_97a88_row9_col0\" class=\"data row9 col0\" >2.75</td>\n",
       "      <td id=\"T_97a88_row9_col1\" class=\"data row9 col1\" >—</td>\n",
       "    </tr>\n",
       "    <tr>\n",
       "      <th id=\"T_97a88_level1_row10\" class=\"row_heading level1 row10\" >vecgeom</th>\n",
       "      <td id=\"T_97a88_row10_col0\" class=\"data row10 col0\" >2.87</td>\n",
       "      <td id=\"T_97a88_row10_col1\" class=\"data row10 col1\" >—</td>\n",
       "    </tr>\n",
       "    <tr>\n",
       "      <th id=\"T_97a88_level0_row11\" class=\"row_heading level0 row11\" rowspan=\"2\">testem3-flat</th>\n",
       "      <th id=\"T_97a88_level1_row11\" class=\"row_heading level1 row11\" >orange</th>\n",
       "      <td id=\"T_97a88_row11_col0\" class=\"data row11 col0\" >3.93</td>\n",
       "      <td id=\"T_97a88_row11_col1\" class=\"data row11 col1\" >—</td>\n",
       "    </tr>\n",
       "    <tr>\n",
       "      <th id=\"T_97a88_level1_row12\" class=\"row_heading level1 row12\" >vecgeom</th>\n",
       "      <td id=\"T_97a88_row12_col0\" class=\"data row12 col0\" >3.79</td>\n",
       "      <td id=\"T_97a88_row12_col1\" class=\"data row12 col1\" >—</td>\n",
       "    </tr>\n",
       "    <tr>\n",
       "      <th id=\"T_97a88_level0_row13\" class=\"row_heading level0 row13\" >testem3-flat+field</th>\n",
       "      <th id=\"T_97a88_level1_row13\" class=\"row_heading level1 row13\" >orange</th>\n",
       "      <td id=\"T_97a88_row13_col0\" class=\"data row13 col0\" >5.42</td>\n",
       "      <td id=\"T_97a88_row13_col1\" class=\"data row13 col1\" >—</td>\n",
       "    </tr>\n",
       "    <tr>\n",
       "      <th id=\"T_97a88_level0_row14\" class=\"row_heading level0 row14\" rowspan=\"2\">testem3-flat+field+msc</th>\n",
       "      <th id=\"T_97a88_level1_row14\" class=\"row_heading level1 row14\" >orange</th>\n",
       "      <td id=\"T_97a88_row14_col0\" class=\"data row14 col0\" >7.69</td>\n",
       "      <td id=\"T_97a88_row14_col1\" class=\"data row14 col1\" >7.64</td>\n",
       "    </tr>\n",
       "    <tr>\n",
       "      <th id=\"T_97a88_level1_row15\" class=\"row_heading level1 row15\" >vecgeom</th>\n",
       "      <td id=\"T_97a88_row15_col0\" class=\"data row15 col0\" >14.85</td>\n",
       "      <td id=\"T_97a88_row15_col1\" class=\"data row15 col1\" >14.98</td>\n",
       "    </tr>\n",
       "    <tr>\n",
       "      <th id=\"T_97a88_level0_row16\" class=\"row_heading level0 row16\" >testem3-flat+msc</th>\n",
       "      <th id=\"T_97a88_level1_row16\" class=\"row_heading level1 row16\" >orange</th>\n",
       "      <td id=\"T_97a88_row16_col0\" class=\"data row16 col0\" >5.39</td>\n",
       "      <td id=\"T_97a88_row16_col1\" class=\"data row16 col1\" >—</td>\n",
       "    </tr>\n",
       "  </tbody>\n",
       "</table>\n"
      ],
      "text/plain": [
       "<pandas.io.formats.style.Styler at 0x12690c310>"
      ]
     },
     "execution_count": 11,
     "metadata": {},
     "output_type": "execute_result"
    }
   ],
   "source": [
    "times = summed[('total_time', 'mean')].unstack()\n",
    "times.style.format(analyze.float_fmt_transform(2))"
   ]
  },
  {
   "cell_type": "code",
   "execution_count": 12,
   "id": "d52bdb66-97c0-40d5-96f7-299ad6dd31d4",
   "metadata": {},
   "outputs": [],
   "source": []
  },
  {
   "cell_type": "code",
   "execution_count": 13,
   "id": "91b5c39f-2430-42cc-99f3-6c20f9e5b536",
   "metadata": {},
   "outputs": [],
   "source": [
    "testem3 = event_rate['mean'].xs('testem3-flat+field+msc', level='problem').unstack('arch')"
   ]
  },
  {
   "cell_type": "code",
   "execution_count": 15,
   "id": "a13a3552-e364-45a7-9b98-ba8cabf06136",
   "metadata": {},
   "outputs": [],
   "source": [
    "#testem3 / testem3.loc[('vecgeom', 'cpu')]"
   ]
  },
  {
   "cell_type": "code",
   "execution_count": 16,
   "id": "27071806-e627-4c6c-87d2-fda247f490aa",
   "metadata": {},
   "outputs": [
    {
     "ename": "KeyError",
     "evalue": "'cpu'",
     "output_type": "error",
     "traceback": [
      "\u001b[0;31m---------------------------------------------------------------------------\u001b[0m",
      "\u001b[0;31mKeyError\u001b[0m                                  Traceback (most recent call last)",
      "File \u001b[0;32m/opt/homebrew/anaconda3/envs/plotting/lib/python3.9/site-packages/pandas/core/indexes/base.py:3653\u001b[0m, in \u001b[0;36mIndex.get_loc\u001b[0;34m(self, key)\u001b[0m\n\u001b[1;32m   3652\u001b[0m \u001b[38;5;28;01mtry\u001b[39;00m:\n\u001b[0;32m-> 3653\u001b[0m     \u001b[38;5;28;01mreturn\u001b[39;00m \u001b[38;5;28;43mself\u001b[39;49m\u001b[38;5;241;43m.\u001b[39;49m\u001b[43m_engine\u001b[49m\u001b[38;5;241;43m.\u001b[39;49m\u001b[43mget_loc\u001b[49m\u001b[43m(\u001b[49m\u001b[43mcasted_key\u001b[49m\u001b[43m)\u001b[49m\n\u001b[1;32m   3654\u001b[0m \u001b[38;5;28;01mexcept\u001b[39;00m \u001b[38;5;167;01mKeyError\u001b[39;00m \u001b[38;5;28;01mas\u001b[39;00m err:\n",
      "File \u001b[0;32m/opt/homebrew/anaconda3/envs/plotting/lib/python3.9/site-packages/pandas/_libs/index.pyx:147\u001b[0m, in \u001b[0;36mpandas._libs.index.IndexEngine.get_loc\u001b[0;34m()\u001b[0m\n",
      "File \u001b[0;32m/opt/homebrew/anaconda3/envs/plotting/lib/python3.9/site-packages/pandas/_libs/index.pyx:176\u001b[0m, in \u001b[0;36mpandas._libs.index.IndexEngine.get_loc\u001b[0;34m()\u001b[0m\n",
      "File \u001b[0;32mpandas/_libs/hashtable_class_helper.pxi:7080\u001b[0m, in \u001b[0;36mpandas._libs.hashtable.PyObjectHashTable.get_item\u001b[0;34m()\u001b[0m\n",
      "File \u001b[0;32mpandas/_libs/hashtable_class_helper.pxi:7088\u001b[0m, in \u001b[0;36mpandas._libs.hashtable.PyObjectHashTable.get_item\u001b[0;34m()\u001b[0m\n",
      "\u001b[0;31mKeyError\u001b[0m: 'cpu'",
      "\nThe above exception was the direct cause of the following exception:\n",
      "\u001b[0;31mKeyError\u001b[0m                                  Traceback (most recent call last)",
      "Cell \u001b[0;32mIn[16], line 1\u001b[0m\n\u001b[0;32m----> 1\u001b[0m speedup \u001b[38;5;241m=\u001b[39m \u001b[43manalyze\u001b[49m\u001b[38;5;241;43m.\u001b[39;49m\u001b[43mget_cpugpu_ratio\u001b[49m\u001b[43m(\u001b[49m\u001b[43msummed\u001b[49m\u001b[43m[\u001b[49m\u001b[38;5;124;43m'\u001b[39;49m\u001b[38;5;124;43mtotal_time\u001b[39;49m\u001b[38;5;124;43m'\u001b[39;49m\u001b[43m]\u001b[49m\u001b[43m)\u001b[49m\n\u001b[1;32m      2\u001b[0m speedup\u001b[38;5;241m.\u001b[39mdropna()\u001b[38;5;241m.\u001b[39mstyle\u001b[38;5;241m.\u001b[39mformat(analyze\u001b[38;5;241m.\u001b[39mfloat_fmt_transform(\u001b[38;5;241m1\u001b[39m))\n",
      "File \u001b[0;32m~/Documents/work/celeritas-regression/analyze.py:75\u001b[0m, in \u001b[0;36mget_cpugpu_ratio\u001b[0;34m(summary)\u001b[0m\n\u001b[1;32m     74\u001b[0m \u001b[38;5;28;01mdef\u001b[39;00m \u001b[38;5;21mget_cpugpu_ratio\u001b[39m(summary):\n\u001b[0;32m---> 75\u001b[0m     \u001b[38;5;28;01mreturn\u001b[39;00m \u001b[43mcalc_ratio\u001b[49m\u001b[43m(\u001b[49m\u001b[43msummary\u001b[49m\u001b[43m,\u001b[49m\u001b[43m \u001b[49m\u001b[38;5;124;43m'\u001b[39;49m\u001b[38;5;124;43mcpu\u001b[39;49m\u001b[38;5;124;43m'\u001b[39;49m\u001b[43m,\u001b[49m\u001b[43m \u001b[49m\u001b[38;5;124;43m'\u001b[39;49m\u001b[38;5;124;43mgpu\u001b[39;49m\u001b[38;5;124;43m'\u001b[39;49m\u001b[43m)\u001b[49m\n",
      "File \u001b[0;32m~/Documents/work/celeritas-regression/analyze.py:69\u001b[0m, in \u001b[0;36mcalc_ratio\u001b[0;34m(summary, num, denom)\u001b[0m\n\u001b[1;32m     67\u001b[0m mean \u001b[38;5;241m=\u001b[39m summary[\u001b[38;5;124m'\u001b[39m\u001b[38;5;124mmean\u001b[39m\u001b[38;5;124m'\u001b[39m]\u001b[38;5;241m.\u001b[39munstack()\n\u001b[1;32m     68\u001b[0m re \u001b[38;5;241m=\u001b[39m summary[\u001b[38;5;124m'\u001b[39m\u001b[38;5;124mstd\u001b[39m\u001b[38;5;124m'\u001b[39m]\u001b[38;5;241m.\u001b[39munstack() \u001b[38;5;241m/\u001b[39m mean\n\u001b[0;32m---> 69\u001b[0m ratio \u001b[38;5;241m=\u001b[39m \u001b[43mmean\u001b[49m\u001b[43m[\u001b[49m\u001b[43mnum\u001b[49m\u001b[43m]\u001b[49m \u001b[38;5;241m/\u001b[39m mean[denom]\n\u001b[1;32m     70\u001b[0m std \u001b[38;5;241m=\u001b[39m ratio \u001b[38;5;241m*\u001b[39m np\u001b[38;5;241m.\u001b[39mhypot(re[denom], re[num])\n\u001b[1;32m     71\u001b[0m \u001b[38;5;28;01mreturn\u001b[39;00m pd\u001b[38;5;241m.\u001b[39mDataFrame({\u001b[38;5;124m'\u001b[39m\u001b[38;5;124mmean\u001b[39m\u001b[38;5;124m'\u001b[39m: ratio, \u001b[38;5;124m'\u001b[39m\u001b[38;5;124mstd\u001b[39m\u001b[38;5;124m'\u001b[39m : std})\n",
      "File \u001b[0;32m/opt/homebrew/anaconda3/envs/plotting/lib/python3.9/site-packages/pandas/core/frame.py:3761\u001b[0m, in \u001b[0;36mDataFrame.__getitem__\u001b[0;34m(self, key)\u001b[0m\n\u001b[1;32m   3759\u001b[0m \u001b[38;5;28;01mif\u001b[39;00m \u001b[38;5;28mself\u001b[39m\u001b[38;5;241m.\u001b[39mcolumns\u001b[38;5;241m.\u001b[39mnlevels \u001b[38;5;241m>\u001b[39m \u001b[38;5;241m1\u001b[39m:\n\u001b[1;32m   3760\u001b[0m     \u001b[38;5;28;01mreturn\u001b[39;00m \u001b[38;5;28mself\u001b[39m\u001b[38;5;241m.\u001b[39m_getitem_multilevel(key)\n\u001b[0;32m-> 3761\u001b[0m indexer \u001b[38;5;241m=\u001b[39m \u001b[38;5;28;43mself\u001b[39;49m\u001b[38;5;241;43m.\u001b[39;49m\u001b[43mcolumns\u001b[49m\u001b[38;5;241;43m.\u001b[39;49m\u001b[43mget_loc\u001b[49m\u001b[43m(\u001b[49m\u001b[43mkey\u001b[49m\u001b[43m)\u001b[49m\n\u001b[1;32m   3762\u001b[0m \u001b[38;5;28;01mif\u001b[39;00m is_integer(indexer):\n\u001b[1;32m   3763\u001b[0m     indexer \u001b[38;5;241m=\u001b[39m [indexer]\n",
      "File \u001b[0;32m/opt/homebrew/anaconda3/envs/plotting/lib/python3.9/site-packages/pandas/core/indexes/base.py:3655\u001b[0m, in \u001b[0;36mIndex.get_loc\u001b[0;34m(self, key)\u001b[0m\n\u001b[1;32m   3653\u001b[0m     \u001b[38;5;28;01mreturn\u001b[39;00m \u001b[38;5;28mself\u001b[39m\u001b[38;5;241m.\u001b[39m_engine\u001b[38;5;241m.\u001b[39mget_loc(casted_key)\n\u001b[1;32m   3654\u001b[0m \u001b[38;5;28;01mexcept\u001b[39;00m \u001b[38;5;167;01mKeyError\u001b[39;00m \u001b[38;5;28;01mas\u001b[39;00m err:\n\u001b[0;32m-> 3655\u001b[0m     \u001b[38;5;28;01mraise\u001b[39;00m \u001b[38;5;167;01mKeyError\u001b[39;00m(key) \u001b[38;5;28;01mfrom\u001b[39;00m \u001b[38;5;21;01merr\u001b[39;00m\n\u001b[1;32m   3656\u001b[0m \u001b[38;5;28;01mexcept\u001b[39;00m \u001b[38;5;167;01mTypeError\u001b[39;00m:\n\u001b[1;32m   3657\u001b[0m     \u001b[38;5;66;03m# If we have a listlike key, _check_indexing_error will raise\u001b[39;00m\n\u001b[1;32m   3658\u001b[0m     \u001b[38;5;66;03m#  InvalidIndexError. Otherwise we fall through and re-raise\u001b[39;00m\n\u001b[1;32m   3659\u001b[0m     \u001b[38;5;66;03m#  the TypeError.\u001b[39;00m\n\u001b[1;32m   3660\u001b[0m     \u001b[38;5;28mself\u001b[39m\u001b[38;5;241m.\u001b[39m_check_indexing_error(key)\n",
      "\u001b[0;31mKeyError\u001b[0m: 'cpu'"
     ]
    }
   ],
   "source": [
    "speedup = analyze.get_cpugpu_ratio(summed['total_time'])\n",
    "speedup.dropna().style.format(analyze.float_fmt_transform(1))"
   ]
  },
  {
   "cell_type": "code",
   "execution_count": 17,
   "id": "538f4565-71ed-4cb2-9bab-3ef386280cc6",
   "metadata": {},
   "outputs": [
    {
     "ename": "NameError",
     "evalue": "name 'speedup' is not defined",
     "output_type": "error",
     "traceback": [
      "\u001b[0;31m---------------------------------------------------------------------------\u001b[0m",
      "\u001b[0;31mNameError\u001b[0m                                 Traceback (most recent call last)",
      "Cell \u001b[0;32mIn[17], line 1\u001b[0m\n\u001b[0;32m----> 1\u001b[0m \u001b[43mspeedup\u001b[49m[\u001b[38;5;124m'\u001b[39m\u001b[38;5;124mmean\u001b[39m\u001b[38;5;124m'\u001b[39m]\u001b[38;5;241m.\u001b[39munstack(\u001b[38;5;124m'\u001b[39m\u001b[38;5;124mgeo\u001b[39m\u001b[38;5;124m'\u001b[39m)\u001b[38;5;241m.\u001b[39mdescribe()\n",
      "\u001b[0;31mNameError\u001b[0m: name 'speedup' is not defined"
     ]
    }
   ],
   "source": [
    "speedup['mean'].unstack('geo').describe()"
   ]
  },
  {
   "cell_type": "code",
   "execution_count": null,
   "id": "1e4cf1b8-edfd-420c-b02f-aa07b952fb7e",
   "metadata": {},
   "outputs": [],
   "source": [
    "#df = speedup.apply(np.vectorize(analyze.float_fmt_transform(1)))\n",
    "speedup_out = np.full((len(speedup), 3), \"\", dtype=object)\n",
    "_abbrev = summit.problem_to_abbr()\n",
    "prev_prob = None\n",
    "for (i, ((prob, geo), row)) in enumerate(speedup.iterrows()):\n",
    "    if prob != prev_prob:\n",
    "        abbr = _abbrev[prob]\n",
    "        speedup_out[i, 0] = f\"{prob} [{abbr}]\"\n",
    "    speedup_out[i, 1] = geo\n",
    "    speedup_out[i, 2] = \"{:.1f}× (±{:.1f})\".format(*row)\n",
    "    prev_prob = prob\n",
    "    \n",
    "with open(\"results/summit/speedup.md\", \"w\") as f:\n",
    "    analyze.dump_markdown(f,\n",
    "                  [\"Problem\", \"Geometry\", \"Speedup\"], \n",
    "                  np.concatenate([speedup_out, [headers]], axis=0),\n",
    "                  alignnment=\"<<>\")"
   ]
  },
  {
   "cell_type": "code",
   "execution_count": null,
   "id": "46713d7d-ca10-49c3-b9d8-a065d460ad80",
   "metadata": {},
   "outputs": [],
   "source": [
    "_desc = (speedup['mean'].dropna() * 7).describe()\n",
    "print(\"CPU:GPU equivalence: {min:.0f}× to {max:.0f}×\".format(**_desc))"
   ]
  },
  {
   "cell_type": "code",
   "execution_count": 19,
   "id": "e4945fd8-c1f0-475c-919a-d805f063c65c",
   "metadata": {},
   "outputs": [],
   "source": [
    "# Determine the fraction of action time spent in geometry routines\n",
    "action_times_inst = analyze.unstack_subdict(summit.result['action_times'][summit.valid]).T\n",
    "total_time_inst = summit.result['total_time']\n",
    "geo_actions = [lab for lab in action_times_inst.index\n",
    "               if lab.startswith('along-step-') or lab.startswith('geo-')]\n",
    "geo_frac_inst = action_times_inst.loc[geo_actions].sum() / total_time_inst\n",
    "geo_frac = analyze.summarize_instances(geo_frac_inst)"
   ]
  },
  {
   "cell_type": "code",
   "execution_count": 20,
   "id": "9de6fde5-d1c4-4807-84ee-2ca5bc2c709a",
   "metadata": {},
   "outputs": [
    {
     "ename": "KeyError",
     "evalue": "\"['cpu'] not in index\"",
     "output_type": "error",
     "traceback": [
      "\u001b[0;31m---------------------------------------------------------------------------\u001b[0m",
      "\u001b[0;31mKeyError\u001b[0m                                  Traceback (most recent call last)",
      "Cell \u001b[0;32mIn[20], line 1\u001b[0m\n\u001b[0;32m----> 1\u001b[0m \u001b[43mgeo_frac\u001b[49m\u001b[43m[\u001b[49m\u001b[38;5;124;43m'\u001b[39;49m\u001b[38;5;124;43mmean\u001b[39;49m\u001b[38;5;124;43m'\u001b[39;49m\u001b[43m]\u001b[49m\u001b[38;5;241;43m.\u001b[39;49m\u001b[43munstack\u001b[49m\u001b[43m(\u001b[49m\u001b[38;5;124;43m'\u001b[39;49m\u001b[38;5;124;43march\u001b[39;49m\u001b[38;5;124;43m'\u001b[39;49m\u001b[43m)\u001b[49m\u001b[43m[\u001b[49m\u001b[43m[\u001b[49m\u001b[38;5;124;43m'\u001b[39;49m\u001b[38;5;124;43mcpu\u001b[39;49m\u001b[38;5;124;43m'\u001b[39;49m\u001b[43m,\u001b[49m\u001b[43m \u001b[49m\u001b[38;5;124;43m'\u001b[39;49m\u001b[38;5;124;43mgpu+sync\u001b[39;49m\u001b[38;5;124;43m'\u001b[39;49m\u001b[43m]\u001b[49m\u001b[43m]\u001b[49m\n",
      "File \u001b[0;32m/opt/homebrew/anaconda3/envs/plotting/lib/python3.9/site-packages/pandas/core/frame.py:3767\u001b[0m, in \u001b[0;36mDataFrame.__getitem__\u001b[0;34m(self, key)\u001b[0m\n\u001b[1;32m   3765\u001b[0m     \u001b[38;5;28;01mif\u001b[39;00m is_iterator(key):\n\u001b[1;32m   3766\u001b[0m         key \u001b[38;5;241m=\u001b[39m \u001b[38;5;28mlist\u001b[39m(key)\n\u001b[0;32m-> 3767\u001b[0m     indexer \u001b[38;5;241m=\u001b[39m \u001b[38;5;28;43mself\u001b[39;49m\u001b[38;5;241;43m.\u001b[39;49m\u001b[43mcolumns\u001b[49m\u001b[38;5;241;43m.\u001b[39;49m\u001b[43m_get_indexer_strict\u001b[49m\u001b[43m(\u001b[49m\u001b[43mkey\u001b[49m\u001b[43m,\u001b[49m\u001b[43m \u001b[49m\u001b[38;5;124;43m\"\u001b[39;49m\u001b[38;5;124;43mcolumns\u001b[39;49m\u001b[38;5;124;43m\"\u001b[39;49m\u001b[43m)\u001b[49m[\u001b[38;5;241m1\u001b[39m]\n\u001b[1;32m   3769\u001b[0m \u001b[38;5;66;03m# take() does not accept boolean indexers\u001b[39;00m\n\u001b[1;32m   3770\u001b[0m \u001b[38;5;28;01mif\u001b[39;00m \u001b[38;5;28mgetattr\u001b[39m(indexer, \u001b[38;5;124m\"\u001b[39m\u001b[38;5;124mdtype\u001b[39m\u001b[38;5;124m\"\u001b[39m, \u001b[38;5;28;01mNone\u001b[39;00m) \u001b[38;5;241m==\u001b[39m \u001b[38;5;28mbool\u001b[39m:\n",
      "File \u001b[0;32m/opt/homebrew/anaconda3/envs/plotting/lib/python3.9/site-packages/pandas/core/indexes/base.py:5877\u001b[0m, in \u001b[0;36mIndex._get_indexer_strict\u001b[0;34m(self, key, axis_name)\u001b[0m\n\u001b[1;32m   5874\u001b[0m \u001b[38;5;28;01melse\u001b[39;00m:\n\u001b[1;32m   5875\u001b[0m     keyarr, indexer, new_indexer \u001b[38;5;241m=\u001b[39m \u001b[38;5;28mself\u001b[39m\u001b[38;5;241m.\u001b[39m_reindex_non_unique(keyarr)\n\u001b[0;32m-> 5877\u001b[0m \u001b[38;5;28;43mself\u001b[39;49m\u001b[38;5;241;43m.\u001b[39;49m\u001b[43m_raise_if_missing\u001b[49m\u001b[43m(\u001b[49m\u001b[43mkeyarr\u001b[49m\u001b[43m,\u001b[49m\u001b[43m \u001b[49m\u001b[43mindexer\u001b[49m\u001b[43m,\u001b[49m\u001b[43m \u001b[49m\u001b[43maxis_name\u001b[49m\u001b[43m)\u001b[49m\n\u001b[1;32m   5879\u001b[0m keyarr \u001b[38;5;241m=\u001b[39m \u001b[38;5;28mself\u001b[39m\u001b[38;5;241m.\u001b[39mtake(indexer)\n\u001b[1;32m   5880\u001b[0m \u001b[38;5;28;01mif\u001b[39;00m \u001b[38;5;28misinstance\u001b[39m(key, Index):\n\u001b[1;32m   5881\u001b[0m     \u001b[38;5;66;03m# GH 42790 - Preserve name from an Index\u001b[39;00m\n",
      "File \u001b[0;32m/opt/homebrew/anaconda3/envs/plotting/lib/python3.9/site-packages/pandas/core/indexes/base.py:5941\u001b[0m, in \u001b[0;36mIndex._raise_if_missing\u001b[0;34m(self, key, indexer, axis_name)\u001b[0m\n\u001b[1;32m   5938\u001b[0m     \u001b[38;5;28;01mraise\u001b[39;00m \u001b[38;5;167;01mKeyError\u001b[39;00m(\u001b[38;5;124mf\u001b[39m\u001b[38;5;124m\"\u001b[39m\u001b[38;5;124mNone of [\u001b[39m\u001b[38;5;132;01m{\u001b[39;00mkey\u001b[38;5;132;01m}\u001b[39;00m\u001b[38;5;124m] are in the [\u001b[39m\u001b[38;5;132;01m{\u001b[39;00maxis_name\u001b[38;5;132;01m}\u001b[39;00m\u001b[38;5;124m]\u001b[39m\u001b[38;5;124m\"\u001b[39m)\n\u001b[1;32m   5940\u001b[0m not_found \u001b[38;5;241m=\u001b[39m \u001b[38;5;28mlist\u001b[39m(ensure_index(key)[missing_mask\u001b[38;5;241m.\u001b[39mnonzero()[\u001b[38;5;241m0\u001b[39m]]\u001b[38;5;241m.\u001b[39munique())\n\u001b[0;32m-> 5941\u001b[0m \u001b[38;5;28;01mraise\u001b[39;00m \u001b[38;5;167;01mKeyError\u001b[39;00m(\u001b[38;5;124mf\u001b[39m\u001b[38;5;124m\"\u001b[39m\u001b[38;5;132;01m{\u001b[39;00mnot_found\u001b[38;5;132;01m}\u001b[39;00m\u001b[38;5;124m not in index\u001b[39m\u001b[38;5;124m\"\u001b[39m)\n",
      "\u001b[0;31mKeyError\u001b[0m: \"['cpu'] not in index\""
     ]
    }
   ],
   "source": [
    "geo_frac['mean'].unstack('arch')[['cpu', 'gpu+sync']]"
   ]
  },
  {
   "cell_type": "markdown",
   "id": "37e0c9a5-1625-4c7e-949c-ba23dc7003f2",
   "metadata": {},
   "source": [
    "### Plots"
   ]
  },
  {
   "cell_type": "code",
   "execution_count": 21,
   "id": "87884089-6f53-41ae-a07f-64cf4ee3c8c0",
   "metadata": {
    "tags": []
   },
   "outputs": [
    {
     "ename": "NameError",
     "evalue": "name 'speedup' is not defined",
     "output_type": "error",
     "traceback": [
      "\u001b[0;31m---------------------------------------------------------------------------\u001b[0m",
      "\u001b[0;31mNameError\u001b[0m                                 Traceback (most recent call last)",
      "Cell \u001b[0;32mIn[21], line 2\u001b[0m\n\u001b[1;32m      1\u001b[0m fig, ax \u001b[38;5;241m=\u001b[39m plt\u001b[38;5;241m.\u001b[39msubplots()\n\u001b[0;32m----> 2\u001b[0m summit\u001b[38;5;241m.\u001b[39mplot_results(ax, \u001b[43mspeedup\u001b[49m)\n\u001b[1;32m      3\u001b[0m ax\u001b[38;5;241m.\u001b[39mset_ylabel(\u001b[38;5;124m\"\u001b[39m\u001b[38;5;124mSpeedup (7-CPU / 1-GPU wall time)\u001b[39m\u001b[38;5;124m\"\u001b[39m)\n\u001b[1;32m      4\u001b[0m ax\u001b[38;5;241m.\u001b[39mset_ylim([\u001b[38;5;241m0\u001b[39m, \u001b[38;5;28;01mNone\u001b[39;00m])\n",
      "\u001b[0;31mNameError\u001b[0m: name 'speedup' is not defined"
     ]
    },
    {
     "data": {
      "image/png": "[encoded data removed]",
      "text/plain": [
       "<Figure size 562.5x450 with 1 Axes>"
      ]
     },
     "metadata": {
      "image/png": {
       "height": 402,
       "width": 517
      }
     },
     "output_type": "display_data"
    }
   ],
   "source": [
    "fig, ax = plt.subplots()\n",
    "summit.plot_results(ax, speedup)\n",
    "ax.set_ylabel(\"Speedup (7-CPU / 1-GPU wall time)\")\n",
    "ax.set_ylim([0, None])\n",
    "analyze.annotate_metadata(ax, summit)\n",
    "plt.tight_layout()\n",
    "fig.savefig('plots/speedups.pdf', transparent=True)\n",
    "fig.savefig('results/summit/speedup.png', transparent=False, dpi=150)\n",
    "plt.close()"
   ]
  },
  {
   "cell_type": "code",
   "execution_count": 22,
   "id": "da2f761d-26a4-4474-b5b3-7df74a3aeb37",
   "metadata": {},
   "outputs": [],
   "source": [
    "fig, axes = plt.subplots(nrows=2, figsize=(4,4), subplot_kw=dict(yscale='log'))\n",
    "for (ax, q) in zip(axes, ['step', 'primary']):\n",
    "    summit.plot_results(ax, analyze.inverse_summary(summed['avg_time_per_' + q]))\n",
    "    ax.set_ylabel(q + ' per sec')\n",
    "    if ax != axes[-1]:\n",
    "        ax.tick_params(labelbottom=False)\n",
    "    ax.legend()\n",
    "plt.tight_layout()\n",
    "fig.savefig('plots/steps-vs-primaries.pdf')\n",
    "plt.close()"
   ]
  },
  {
   "cell_type": "code",
   "execution_count": 23,
   "id": "04acd1f8-5314-4a7f-93c6-5997a49c7170",
   "metadata": {},
   "outputs": [],
   "source": [
    "(fig, (time_ax, geo_ax)) = plt.subplots(\n",
    "    nrows=2, #figsize=(4, 4),\n",
    "    gridspec_kw=dict(height_ratios=[3, 1])\n",
    ")\n",
    "plot_event_rate(time_ax, summit)\n",
    "time_ax.tick_params(labelbottom=False)\n",
    "time_ax.legend()\n",
    "summit.plot_results(geo_ax, geo_frac * 100)\n",
    "geo_ax.set_ylabel(\"Geometry [%]\")\n",
    "geo_ax.set_ylim([0, 100])\n",
    "plt.tight_layout()\n",
    "fig.savefig('plots/throughput-geo.pdf', transparent=True)\n",
    "plt.close()"
   ]
  },
  {
   "cell_type": "markdown",
   "id": "063f43f0-9f98-4494-8c76-190cd39ddd87",
   "metadata": {
    "tags": []
   },
   "source": [
    "### Action fraction pie charts"
   ]
  },
  {
   "cell_type": "code",
   "execution_count": null,
   "id": "61a7d666-c9a3-42cb-8fa3-d93d4fe14c4d",
   "metadata": {},
   "outputs": [],
   "source": [
    "avg_time = summed[('total_time', 'mean')].T\n",
    "mean_action_times = summit.action_times().xs('mean', axis=1, level=1).T"
   ]
  },
  {
   "cell_type": "code",
   "execution_count": null,
   "id": "01487b42-3804-41f9-b1b2-5c326d201c96",
   "metadata": {},
   "outputs": [],
   "source": [
    "for (prob, geo) in itertools.product(\n",
    "        [\"testem15+field\", \"testem3-flat+field+msc\", \"cms2018+field+msc\"],\n",
    "        [\"vecgeom\", \"orange\"]):\n",
    "    try:\n",
    "        plot_times = mean_action_times.xs((prob, geo), axis=1, level=('problem', 'geo')).dropna(axis=1, how='all')\n",
    "    except KeyError:\n",
    "        plot_times = pd.DataFrame()\n",
    "    if plot_times.empty:\n",
    "        print(\"Missing problem/geo:\", prob, geo)\n",
    "        continue\n",
    "    md = {k: getattr(summit, k) for k in [\"version\", \"system\"]}\n",
    "    pieplot = analyze.PiePlotter(plot_times)\n",
    "    \n",
    "    # Loop over CPU/GPU\n",
    "    for arch in pieplot.times:\n",
    "        (fig, ax) = plt.subplots(figsize=(3, 3), subplot_kw=dict(aspect=\"equal\"),\n",
    "                                 layout=\"constrained\")\n",
    "        pieplot(ax, arch)\n",
    "        name = (prob, geo, arch)\n",
    "        slashname = \"/\".join(name)\n",
    "        fig.text(\n",
    "            0.98, 0.1, f\"{slashname}\\n{md['version']} on {md['system']}\",\n",
    "            va='bottom', ha='right',\n",
    "            fontstyle='italic', color=(0.75,)*4, size='xx-small',\n",
    "#            zorder=-100\n",
    "        )\n",
    "\n",
    "        dashname = \"-\".join(name)        \n",
    "        fig.savefig(f'plots/actions-{dashname}.pdf', transparent=True)\n",
    "        plt.close()"
   ]
  },
  {
   "cell_type": "markdown",
   "id": "c2c6f5c3-e848-4c94-9862-113ccbab23f9",
   "metadata": {
    "tags": []
   },
   "source": [
    "### Plot per-step timing on GPU"
   ]
  },
  {
   "cell_type": "code",
   "execution_count": null,
   "id": "eca3d899-aa08-4c19-bb36-506ef108df67",
   "metadata": {
    "tags": []
   },
   "outputs": [],
   "source": [
    "for p in ['cms2018', 'cms2018+field+msc']:\n",
    "    data = summit.load_results((p, 'vecgeom', 'gpu'), 0)\n",
    "    (fig, axes) = plt.subplots(nrows=2, figsize=(3, 4), sharex=True)\n",
    "    for i, ax, plot in zip(itertools.count(),\n",
    "                           axes,\n",
    "                           [analyze.plot_counts, analyze.plot_accum_time_inv]):\n",
    "        objs = plot(ax, data)\n",
    "        analyze.annotate_metadata(ax, data['_metadata'])\n",
    "        if i == 0:\n",
    "            ax.set_xlabel(None)\n",
    "    fig.savefig(f'plots/per-step-{p}.pdf', transparent=True)\n",
    "    plt.tight_layout()\n",
    "    plt.close()\n",
    "    \n",
    "    (fig, ax) = plt.subplots(figsize=(4, 3))\n",
    "    analyze.plot_time_per_step(ax, data, scale=2)\n",
    "    analyze.annotate_metadata(ax, summit)\n",
    "    plt.tight_layout()\n",
    "    fig.savefig(f'plots/time-per-step-{p}.pdf', transparent=True)\n",
    "    plt.close()"
   ]
  },
  {
   "cell_type": "markdown",
   "id": "bc83874b-11a4-43b8-8ed4-15a3ece23301",
   "metadata": {
    "tags": []
   },
   "source": [
    "## Crusher"
   ]
  },
  {
   "cell_type": "code",
   "execution_count": 3,
   "id": "069de579-aa32-47b5-a327-974840cae362",
   "metadata": {
    "tags": []
   },
   "outputs": [],
   "source": [
    "def get_step_times(results):\n",
    "    new_idx = []\n",
    "    times = []\n",
    "    for i in results.index:\n",
    "        try:\n",
    "            outp = results.load_results(i, 0)\n",
    "            step_times = analyze.StepTimeGetter(outp, stream=0)()\n",
    "        except Exception:\n",
    "            continue\n",
    "        times.append([step_times[i] for i in range(2)])\n",
    "        new_idx.append(i)\n",
    "    return pd.DataFrame(times, index=pd.MultiIndex.from_tuples(new_idx))"
   ]
  },
  {
   "cell_type": "code",
   "execution_count": 4,
   "id": "5f8234ad-2880-471a-89fb-35fcaecd6a52",
   "metadata": {},
   "outputs": [
    {
     "name": "stdout",
     "output_type": "stream",
     "text": [
      "Analysis for Celeritas v0.4.0-dev.91+cf7c5a7bc on crusher\n"
     ]
    }
   ],
   "source": [
    "crusher = analyze.Analysis('results/crusher')\n",
    "print(crusher)"
   ]
  },
  {
   "cell_type": "code",
   "execution_count": 5,
   "id": "c78f6fc8-8569-4dfa-8b00-c592d4e46eb0",
   "metadata": {},
   "outputs": [],
   "source": [
    "csum = analyze.summarize_instances(crusher.result[crusher.successful].dropna(how='all'))"
   ]
  },
  {
   "cell_type": "code",
   "execution_count": 6,
   "id": "741dd944-a264-488e-a7ef-880647345abb",
   "metadata": {},
   "outputs": [
    {
     "data": {
      "text/html": [
       "<div>\n",
       "<style scoped>\n",
       "    .dataframe tbody tr th:only-of-type {\n",
       "        vertical-align: middle;\n",
       "    }\n",
       "\n",
       "    .dataframe tbody tr th {\n",
       "        vertical-align: top;\n",
       "    }\n",
       "\n",
       "    .dataframe thead th {\n",
       "        text-align: right;\n",
       "    }\n",
       "</style>\n",
       "<table border=\"1\" class=\"dataframe\">\n",
       "  <thead>\n",
       "    <tr style=\"text-align: right;\">\n",
       "      <th></th>\n",
       "      <th>arch</th>\n",
       "      <th>cpu</th>\n",
       "      <th>gpu</th>\n",
       "      <th>gpu+sync</th>\n",
       "    </tr>\n",
       "    <tr>\n",
       "      <th>problem</th>\n",
       "      <th>geo</th>\n",
       "      <th></th>\n",
       "      <th></th>\n",
       "      <th></th>\n",
       "    </tr>\n",
       "  </thead>\n",
       "  <tbody>\n",
       "    <tr>\n",
       "      <th>simple-cms+field</th>\n",
       "      <th>orange</th>\n",
       "      <td>87.957981</td>\n",
       "      <td>14.738531</td>\n",
       "      <td>NaN</td>\n",
       "    </tr>\n",
       "    <tr>\n",
       "      <th>simple-cms+field+msc</th>\n",
       "      <th>orange</th>\n",
       "      <td>127.361742</td>\n",
       "      <td>14.931266</td>\n",
       "      <td>NaN</td>\n",
       "    </tr>\n",
       "    <tr>\n",
       "      <th>simple-cms+msc</th>\n",
       "      <th>orange</th>\n",
       "      <td>86.169489</td>\n",
       "      <td>12.544426</td>\n",
       "      <td>NaN</td>\n",
       "    </tr>\n",
       "    <tr>\n",
       "      <th>testem15</th>\n",
       "      <th>orange</th>\n",
       "      <td>97.014769</td>\n",
       "      <td>14.091467</td>\n",
       "      <td>NaN</td>\n",
       "    </tr>\n",
       "    <tr>\n",
       "      <th>testem15+field</th>\n",
       "      <th>orange</th>\n",
       "      <td>60.731631</td>\n",
       "      <td>14.056410</td>\n",
       "      <td>14.666759</td>\n",
       "    </tr>\n",
       "    <tr>\n",
       "      <th>testem15+field+msc</th>\n",
       "      <th>orange</th>\n",
       "      <td>107.118559</td>\n",
       "      <td>14.325120</td>\n",
       "      <td>NaN</td>\n",
       "    </tr>\n",
       "    <tr>\n",
       "      <th>testem3-flat</th>\n",
       "      <th>orange</th>\n",
       "      <td>162.510902</td>\n",
       "      <td>15.293731</td>\n",
       "      <td>NaN</td>\n",
       "    </tr>\n",
       "    <tr>\n",
       "      <th>testem3-flat+field</th>\n",
       "      <th>orange</th>\n",
       "      <td>212.684507</td>\n",
       "      <td>17.838255</td>\n",
       "      <td>NaN</td>\n",
       "    </tr>\n",
       "    <tr>\n",
       "      <th>testem3-flat+field+msc</th>\n",
       "      <th>orange</th>\n",
       "      <td>133.394158</td>\n",
       "      <td>22.726437</td>\n",
       "      <td>22.344604</td>\n",
       "    </tr>\n",
       "    <tr>\n",
       "      <th>testem3-flat+msc</th>\n",
       "      <th>orange</th>\n",
       "      <td>141.038801</td>\n",
       "      <td>17.504225</td>\n",
       "      <td>NaN</td>\n",
       "    </tr>\n",
       "  </tbody>\n",
       "</table>\n",
       "</div>"
      ],
      "text/plain": [
       "arch                                  cpu        gpu   gpu+sync\n",
       "problem                geo                                     \n",
       "simple-cms+field       orange   87.957981  14.738531        NaN\n",
       "simple-cms+field+msc   orange  127.361742  14.931266        NaN\n",
       "simple-cms+msc         orange   86.169489  12.544426        NaN\n",
       "testem15               orange   97.014769  14.091467        NaN\n",
       "testem15+field         orange   60.731631  14.056410  14.666759\n",
       "testem15+field+msc     orange  107.118559  14.325120        NaN\n",
       "testem3-flat           orange  162.510902  15.293731        NaN\n",
       "testem3-flat+field     orange  212.684507  17.838255        NaN\n",
       "testem3-flat+field+msc orange  133.394158  22.726437  22.344604\n",
       "testem3-flat+msc       orange  141.038801  17.504225        NaN"
      ]
     },
     "execution_count": 6,
     "metadata": {},
     "output_type": "execute_result"
    }
   ],
   "source": [
    "csum[('total_time', 'mean')].unstack()"
   ]
  },
  {
   "cell_type": "code",
   "execution_count": 7,
   "id": "21c7d5ec-2418-4c36-9466-31f05e34e679",
   "metadata": {},
   "outputs": [
    {
     "data": {
      "text/html": [
       "<div>\n",
       "<style scoped>\n",
       "    .dataframe tbody tr th:only-of-type {\n",
       "        vertical-align: middle;\n",
       "    }\n",
       "\n",
       "    .dataframe tbody tr th {\n",
       "        vertical-align: top;\n",
       "    }\n",
       "\n",
       "    .dataframe thead th {\n",
       "        text-align: right;\n",
       "    }\n",
       "</style>\n",
       "<table border=\"1\" class=\"dataframe\">\n",
       "  <thead>\n",
       "    <tr style=\"text-align: right;\">\n",
       "      <th></th>\n",
       "      <th></th>\n",
       "      <th></th>\n",
       "      <th>0</th>\n",
       "      <th>1</th>\n",
       "    </tr>\n",
       "  </thead>\n",
       "  <tbody>\n",
       "    <tr>\n",
       "      <th>testem15</th>\n",
       "      <th>orange</th>\n",
       "      <th>gpu</th>\n",
       "      <td>10.000665</td>\n",
       "      <td>0.000832</td>\n",
       "    </tr>\n",
       "    <tr>\n",
       "      <th>testem15+field</th>\n",
       "      <th>orange</th>\n",
       "      <th>gpu</th>\n",
       "      <td>9.884015</td>\n",
       "      <td>0.000844</td>\n",
       "    </tr>\n",
       "    <tr>\n",
       "      <th>testem15+field+msc</th>\n",
       "      <th>orange</th>\n",
       "      <th>gpu</th>\n",
       "      <td>9.752522</td>\n",
       "      <td>0.000996</td>\n",
       "    </tr>\n",
       "    <tr>\n",
       "      <th>simple-cms+msc</th>\n",
       "      <th>orange</th>\n",
       "      <th>gpu</th>\n",
       "      <td>8.361841</td>\n",
       "      <td>0.000626</td>\n",
       "    </tr>\n",
       "    <tr>\n",
       "      <th>simple-cms+field</th>\n",
       "      <th>orange</th>\n",
       "      <th>gpu</th>\n",
       "      <td>9.758305</td>\n",
       "      <td>0.000910</td>\n",
       "    </tr>\n",
       "    <tr>\n",
       "      <th>simple-cms+field+msc</th>\n",
       "      <th>orange</th>\n",
       "      <th>gpu</th>\n",
       "      <td>9.357020</td>\n",
       "      <td>0.000960</td>\n",
       "    </tr>\n",
       "    <tr>\n",
       "      <th>testem3-flat</th>\n",
       "      <th>orange</th>\n",
       "      <th>gpu</th>\n",
       "      <td>8.550394</td>\n",
       "      <td>0.000573</td>\n",
       "    </tr>\n",
       "    <tr>\n",
       "      <th>testem3-flat+field</th>\n",
       "      <th>orange</th>\n",
       "      <th>gpu</th>\n",
       "      <td>9.026497</td>\n",
       "      <td>0.000630</td>\n",
       "    </tr>\n",
       "    <tr>\n",
       "      <th>testem3-flat+msc</th>\n",
       "      <th>orange</th>\n",
       "      <th>gpu</th>\n",
       "      <td>8.621627</td>\n",
       "      <td>0.000606</td>\n",
       "    </tr>\n",
       "    <tr>\n",
       "      <th>testem3-flat+field+msc</th>\n",
       "      <th>orange</th>\n",
       "      <th>gpu</th>\n",
       "      <td>10.989945</td>\n",
       "      <td>0.000661</td>\n",
       "    </tr>\n",
       "    <tr>\n",
       "      <th>testem15+field</th>\n",
       "      <th>orange</th>\n",
       "      <th>gpu+sync</th>\n",
       "      <td>10.389406</td>\n",
       "      <td>0.001048</td>\n",
       "    </tr>\n",
       "    <tr>\n",
       "      <th>testem3-flat+field+msc</th>\n",
       "      <th>orange</th>\n",
       "      <th>gpu+sync</th>\n",
       "      <td>10.386074</td>\n",
       "      <td>0.000883</td>\n",
       "    </tr>\n",
       "  </tbody>\n",
       "</table>\n",
       "</div>"
      ],
      "text/plain": [
       "                                                0         1\n",
       "testem15               orange gpu       10.000665  0.000832\n",
       "testem15+field         orange gpu        9.884015  0.000844\n",
       "testem15+field+msc     orange gpu        9.752522  0.000996\n",
       "simple-cms+msc         orange gpu        8.361841  0.000626\n",
       "simple-cms+field       orange gpu        9.758305  0.000910\n",
       "simple-cms+field+msc   orange gpu        9.357020  0.000960\n",
       "testem3-flat           orange gpu        8.550394  0.000573\n",
       "testem3-flat+field     orange gpu        9.026497  0.000630\n",
       "testem3-flat+msc       orange gpu        8.621627  0.000606\n",
       "testem3-flat+field+msc orange gpu       10.989945  0.000661\n",
       "testem15+field         orange gpu+sync  10.389406  0.001048\n",
       "testem3-flat+field+msc orange gpu+sync  10.386074  0.000883"
      ]
     },
     "execution_count": 7,
     "metadata": {},
     "output_type": "execute_result"
    }
   ],
   "source": [
    "step_times = get_step_times(crusher)\n",
    "step_times"
   ]
  },
  {
   "cell_type": "code",
   "execution_count": 8,
   "id": "7a098232-0761-403c-afe1-4f06cc0c22da",
   "metadata": {
    "tags": []
   },
   "outputs": [
    {
     "data": {
      "text/plain": [
       "testem15                orange  gpu         12013.863869\n",
       "testem15+field          orange  gpu         11707.589511\n",
       "testem15+field+msc      orange  gpu          9789.988309\n",
       "simple-cms+msc          orange  gpu         13346.934217\n",
       "simple-cms+field        orange  gpu         10724.272719\n",
       "simple-cms+field+msc    orange  gpu          9750.318736\n",
       "testem3-flat            orange  gpu         14920.669080\n",
       "testem3-flat+field      orange  gpu         14322.384512\n",
       "testem3-flat+msc        orange  gpu         14222.390207\n",
       "testem3-flat+field+msc  orange  gpu         16638.701382\n",
       "testem15+field          orange  gpu+sync     9910.207845\n",
       "testem3-flat+field+msc  orange  gpu+sync    11756.718993\n",
       "dtype: float64"
      ]
     },
     "execution_count": 8,
     "metadata": {},
     "output_type": "execute_result"
    }
   ],
   "source": [
    "step_times[0] / step_times[1]"
   ]
  },
  {
   "cell_type": "code",
   "execution_count": 9,
   "id": "da1dc197-d41f-4a36-862e-046e5edc150b",
   "metadata": {},
   "outputs": [
    {
     "data": {
      "text/html": [
       "<div>\n",
       "<style scoped>\n",
       "    .dataframe tbody tr th:only-of-type {\n",
       "        vertical-align: middle;\n",
       "    }\n",
       "\n",
       "    .dataframe tbody tr th {\n",
       "        vertical-align: top;\n",
       "    }\n",
       "\n",
       "    .dataframe thead th {\n",
       "        text-align: right;\n",
       "    }\n",
       "</style>\n",
       "<table border=\"1\" class=\"dataframe\">\n",
       "  <thead>\n",
       "    <tr style=\"text-align: right;\">\n",
       "      <th></th>\n",
       "      <th></th>\n",
       "      <th>mean</th>\n",
       "      <th>std</th>\n",
       "    </tr>\n",
       "    <tr>\n",
       "      <th>problem</th>\n",
       "      <th>geo</th>\n",
       "      <th></th>\n",
       "      <th></th>\n",
       "    </tr>\n",
       "  </thead>\n",
       "  <tbody>\n",
       "    <tr>\n",
       "      <th>simple-cms+field</th>\n",
       "      <th>orange</th>\n",
       "      <td>5.967893</td>\n",
       "      <td>1.747349</td>\n",
       "    </tr>\n",
       "    <tr>\n",
       "      <th>simple-cms+field+msc</th>\n",
       "      <th>orange</th>\n",
       "      <td>8.529869</td>\n",
       "      <td>1.332233</td>\n",
       "    </tr>\n",
       "    <tr>\n",
       "      <th>simple-cms+msc</th>\n",
       "      <th>orange</th>\n",
       "      <td>6.869146</td>\n",
       "      <td>1.778651</td>\n",
       "    </tr>\n",
       "    <tr>\n",
       "      <th>testem15</th>\n",
       "      <th>orange</th>\n",
       "      <td>6.884647</td>\n",
       "      <td>3.400296</td>\n",
       "    </tr>\n",
       "    <tr>\n",
       "      <th>testem15+field</th>\n",
       "      <th>orange</th>\n",
       "      <td>4.320565</td>\n",
       "      <td>1.308422</td>\n",
       "    </tr>\n",
       "    <tr>\n",
       "      <th>testem15+field+msc</th>\n",
       "      <th>orange</th>\n",
       "      <td>7.477673</td>\n",
       "      <td>2.808468</td>\n",
       "    </tr>\n",
       "    <tr>\n",
       "      <th>testem3-flat</th>\n",
       "      <th>orange</th>\n",
       "      <td>10.625981</td>\n",
       "      <td>3.704805</td>\n",
       "    </tr>\n",
       "    <tr>\n",
       "      <th>testem3-flat+field</th>\n",
       "      <th>orange</th>\n",
       "      <td>11.922943</td>\n",
       "      <td>4.258723</td>\n",
       "    </tr>\n",
       "    <tr>\n",
       "      <th>testem3-flat+field+msc</th>\n",
       "      <th>orange</th>\n",
       "      <td>5.869559</td>\n",
       "      <td>1.260580</td>\n",
       "    </tr>\n",
       "    <tr>\n",
       "      <th>testem3-flat+msc</th>\n",
       "      <th>orange</th>\n",
       "      <td>8.057415</td>\n",
       "      <td>2.003496</td>\n",
       "    </tr>\n",
       "  </tbody>\n",
       "</table>\n",
       "</div>"
      ],
      "text/plain": [
       "                                    mean       std\n",
       "problem                geo                        \n",
       "simple-cms+field       orange   5.967893  1.747349\n",
       "simple-cms+field+msc   orange   8.529869  1.332233\n",
       "simple-cms+msc         orange   6.869146  1.778651\n",
       "testem15               orange   6.884647  3.400296\n",
       "testem15+field         orange   4.320565  1.308422\n",
       "testem15+field+msc     orange   7.477673  2.808468\n",
       "testem3-flat           orange  10.625981  3.704805\n",
       "testem3-flat+field     orange  11.922943  4.258723\n",
       "testem3-flat+field+msc orange   5.869559  1.260580\n",
       "testem3-flat+msc       orange   8.057415  2.003496"
      ]
     },
     "execution_count": 9,
     "metadata": {},
     "output_type": "execute_result"
    }
   ],
   "source": [
    "analyze.get_cpugpu_ratio(csum['total_time'])"
   ]
  },
  {
   "cell_type": "code",
   "execution_count": 11,
   "id": "0b4d70bf-cb0f-4437-983f-f5380f11d8c8",
   "metadata": {},
   "outputs": [
    {
     "ename": "KeyError",
     "evalue": "\"[('simple-cms+field', 'orange', 'cpu'), ('simple-cms+field+msc', 'orange', 'cpu'), ('simple-cms+msc', 'orange', 'cpu'), ('testem15', 'orange', 'cpu'), ('testem15+field', 'orange', 'cpu'), ('testem15+field+msc', 'orange', 'cpu'), ('testem3-flat', 'orange', 'cpu'), ('testem3-flat+field', 'orange', 'cpu'), ('testem3-flat+field+msc', 'orange', 'cpu'), ('testem3-flat+msc', 'orange', 'cpu')] not in index\"",
     "output_type": "error",
     "traceback": [
      "\u001b[0;31m---------------------------------------------------------------------------\u001b[0m",
      "\u001b[0;31mKeyError\u001b[0m                                  Traceback (most recent call last)",
      "Cell \u001b[0;32mIn[11], line 2\u001b[0m\n\u001b[1;32m      1\u001b[0m crusher_rates \u001b[38;5;241m=\u001b[39m analyze\u001b[38;5;241m.\u001b[39mcalc_event_rate(crusher, csum)\n\u001b[0;32m----> 2\u001b[0m summit_rates \u001b[38;5;241m=\u001b[39m analyze\u001b[38;5;241m.\u001b[39mcalc_event_rate(summit, \u001b[43msummed\u001b[49m\u001b[38;5;241;43m.\u001b[39;49m\u001b[43mloc\u001b[49m\u001b[43m[\u001b[49m\u001b[43mcrusher_rates\u001b[49m\u001b[38;5;241;43m.\u001b[39;49m\u001b[43mindex\u001b[49m\u001b[43m]\u001b[49m)\n\u001b[1;32m      4\u001b[0m counts \u001b[38;5;241m=\u001b[39m {\n\u001b[1;32m      5\u001b[0m     (\u001b[38;5;124m'\u001b[39m\u001b[38;5;124msummit\u001b[39m\u001b[38;5;124m'\u001b[39m, \u001b[38;5;124m'\u001b[39m\u001b[38;5;124mcpu\u001b[39m\u001b[38;5;124m'\u001b[39m): \u001b[38;5;241m7\u001b[39m,\n\u001b[1;32m      6\u001b[0m     (\u001b[38;5;124m'\u001b[39m\u001b[38;5;124msummit\u001b[39m\u001b[38;5;124m'\u001b[39m, \u001b[38;5;124m'\u001b[39m\u001b[38;5;124mgpu\u001b[39m\u001b[38;5;124m'\u001b[39m): \u001b[38;5;241m1\u001b[39m,\n\u001b[1;32m      7\u001b[0m     (\u001b[38;5;124m'\u001b[39m\u001b[38;5;124mcrusher\u001b[39m\u001b[38;5;124m'\u001b[39m, \u001b[38;5;124m'\u001b[39m\u001b[38;5;124mcpu\u001b[39m\u001b[38;5;124m'\u001b[39m): \u001b[38;5;241m8\u001b[39m,\n\u001b[1;32m      8\u001b[0m     (\u001b[38;5;124m'\u001b[39m\u001b[38;5;124mcrusher\u001b[39m\u001b[38;5;124m'\u001b[39m, \u001b[38;5;124m'\u001b[39m\u001b[38;5;124mgpu\u001b[39m\u001b[38;5;124m'\u001b[39m): \u001b[38;5;241m1\u001b[39m,\n\u001b[1;32m      9\u001b[0m }\n",
      "File \u001b[0;32m/opt/homebrew/anaconda3/envs/plotting/lib/python3.9/site-packages/pandas/core/indexing.py:1103\u001b[0m, in \u001b[0;36m_LocationIndexer.__getitem__\u001b[0;34m(self, key)\u001b[0m\n\u001b[1;32m   1100\u001b[0m axis \u001b[38;5;241m=\u001b[39m \u001b[38;5;28mself\u001b[39m\u001b[38;5;241m.\u001b[39maxis \u001b[38;5;129;01mor\u001b[39;00m \u001b[38;5;241m0\u001b[39m\n\u001b[1;32m   1102\u001b[0m maybe_callable \u001b[38;5;241m=\u001b[39m com\u001b[38;5;241m.\u001b[39mapply_if_callable(key, \u001b[38;5;28mself\u001b[39m\u001b[38;5;241m.\u001b[39mobj)\n\u001b[0;32m-> 1103\u001b[0m \u001b[38;5;28;01mreturn\u001b[39;00m \u001b[38;5;28;43mself\u001b[39;49m\u001b[38;5;241;43m.\u001b[39;49m\u001b[43m_getitem_axis\u001b[49m\u001b[43m(\u001b[49m\u001b[43mmaybe_callable\u001b[49m\u001b[43m,\u001b[49m\u001b[43m \u001b[49m\u001b[43maxis\u001b[49m\u001b[38;5;241;43m=\u001b[39;49m\u001b[43maxis\u001b[49m\u001b[43m)\u001b[49m\n",
      "File \u001b[0;32m/opt/homebrew/anaconda3/envs/plotting/lib/python3.9/site-packages/pandas/core/indexing.py:1332\u001b[0m, in \u001b[0;36m_LocIndexer._getitem_axis\u001b[0;34m(self, key, axis)\u001b[0m\n\u001b[1;32m   1329\u001b[0m     \u001b[38;5;28;01mif\u001b[39;00m \u001b[38;5;28mhasattr\u001b[39m(key, \u001b[38;5;124m\"\u001b[39m\u001b[38;5;124mndim\u001b[39m\u001b[38;5;124m\"\u001b[39m) \u001b[38;5;129;01mand\u001b[39;00m key\u001b[38;5;241m.\u001b[39mndim \u001b[38;5;241m>\u001b[39m \u001b[38;5;241m1\u001b[39m:\n\u001b[1;32m   1330\u001b[0m         \u001b[38;5;28;01mraise\u001b[39;00m \u001b[38;5;167;01mValueError\u001b[39;00m(\u001b[38;5;124m\"\u001b[39m\u001b[38;5;124mCannot index with multidimensional key\u001b[39m\u001b[38;5;124m\"\u001b[39m)\n\u001b[0;32m-> 1332\u001b[0m     \u001b[38;5;28;01mreturn\u001b[39;00m \u001b[38;5;28;43mself\u001b[39;49m\u001b[38;5;241;43m.\u001b[39;49m\u001b[43m_getitem_iterable\u001b[49m\u001b[43m(\u001b[49m\u001b[43mkey\u001b[49m\u001b[43m,\u001b[49m\u001b[43m \u001b[49m\u001b[43maxis\u001b[49m\u001b[38;5;241;43m=\u001b[39;49m\u001b[43maxis\u001b[49m\u001b[43m)\u001b[49m\n\u001b[1;32m   1334\u001b[0m \u001b[38;5;66;03m# nested tuple slicing\u001b[39;00m\n\u001b[1;32m   1335\u001b[0m \u001b[38;5;28;01mif\u001b[39;00m is_nested_tuple(key, labels):\n",
      "File \u001b[0;32m/opt/homebrew/anaconda3/envs/plotting/lib/python3.9/site-packages/pandas/core/indexing.py:1272\u001b[0m, in \u001b[0;36m_LocIndexer._getitem_iterable\u001b[0;34m(self, key, axis)\u001b[0m\n\u001b[1;32m   1269\u001b[0m \u001b[38;5;28mself\u001b[39m\u001b[38;5;241m.\u001b[39m_validate_key(key, axis)\n\u001b[1;32m   1271\u001b[0m \u001b[38;5;66;03m# A collection of keys\u001b[39;00m\n\u001b[0;32m-> 1272\u001b[0m keyarr, indexer \u001b[38;5;241m=\u001b[39m \u001b[38;5;28;43mself\u001b[39;49m\u001b[38;5;241;43m.\u001b[39;49m\u001b[43m_get_listlike_indexer\u001b[49m\u001b[43m(\u001b[49m\u001b[43mkey\u001b[49m\u001b[43m,\u001b[49m\u001b[43m \u001b[49m\u001b[43maxis\u001b[49m\u001b[43m)\u001b[49m\n\u001b[1;32m   1273\u001b[0m \u001b[38;5;28;01mreturn\u001b[39;00m \u001b[38;5;28mself\u001b[39m\u001b[38;5;241m.\u001b[39mobj\u001b[38;5;241m.\u001b[39m_reindex_with_indexers(\n\u001b[1;32m   1274\u001b[0m     {axis: [keyarr, indexer]}, copy\u001b[38;5;241m=\u001b[39m\u001b[38;5;28;01mTrue\u001b[39;00m, allow_dups\u001b[38;5;241m=\u001b[39m\u001b[38;5;28;01mTrue\u001b[39;00m\n\u001b[1;32m   1275\u001b[0m )\n",
      "File \u001b[0;32m/opt/homebrew/anaconda3/envs/plotting/lib/python3.9/site-packages/pandas/core/indexing.py:1462\u001b[0m, in \u001b[0;36m_LocIndexer._get_listlike_indexer\u001b[0;34m(self, key, axis)\u001b[0m\n\u001b[1;32m   1459\u001b[0m ax \u001b[38;5;241m=\u001b[39m \u001b[38;5;28mself\u001b[39m\u001b[38;5;241m.\u001b[39mobj\u001b[38;5;241m.\u001b[39m_get_axis(axis)\n\u001b[1;32m   1460\u001b[0m axis_name \u001b[38;5;241m=\u001b[39m \u001b[38;5;28mself\u001b[39m\u001b[38;5;241m.\u001b[39mobj\u001b[38;5;241m.\u001b[39m_get_axis_name(axis)\n\u001b[0;32m-> 1462\u001b[0m keyarr, indexer \u001b[38;5;241m=\u001b[39m \u001b[43max\u001b[49m\u001b[38;5;241;43m.\u001b[39;49m\u001b[43m_get_indexer_strict\u001b[49m\u001b[43m(\u001b[49m\u001b[43mkey\u001b[49m\u001b[43m,\u001b[49m\u001b[43m \u001b[49m\u001b[43maxis_name\u001b[49m\u001b[43m)\u001b[49m\n\u001b[1;32m   1464\u001b[0m \u001b[38;5;28;01mreturn\u001b[39;00m keyarr, indexer\n",
      "File \u001b[0;32m/opt/homebrew/anaconda3/envs/plotting/lib/python3.9/site-packages/pandas/core/indexes/multi.py:2539\u001b[0m, in \u001b[0;36mMultiIndex._get_indexer_strict\u001b[0;34m(self, key, axis_name)\u001b[0m\n\u001b[1;32m   2536\u001b[0m     \u001b[38;5;28mself\u001b[39m\u001b[38;5;241m.\u001b[39m_raise_if_missing(key, indexer, axis_name)\n\u001b[1;32m   2537\u001b[0m     \u001b[38;5;28;01mreturn\u001b[39;00m \u001b[38;5;28mself\u001b[39m[indexer], indexer\n\u001b[0;32m-> 2539\u001b[0m \u001b[38;5;28;01mreturn\u001b[39;00m \u001b[38;5;28;43msuper\u001b[39;49m\u001b[43m(\u001b[49m\u001b[43m)\u001b[49m\u001b[38;5;241;43m.\u001b[39;49m\u001b[43m_get_indexer_strict\u001b[49m\u001b[43m(\u001b[49m\u001b[43mkey\u001b[49m\u001b[43m,\u001b[49m\u001b[43m \u001b[49m\u001b[43maxis_name\u001b[49m\u001b[43m)\u001b[49m\n",
      "File \u001b[0;32m/opt/homebrew/anaconda3/envs/plotting/lib/python3.9/site-packages/pandas/core/indexes/base.py:5877\u001b[0m, in \u001b[0;36mIndex._get_indexer_strict\u001b[0;34m(self, key, axis_name)\u001b[0m\n\u001b[1;32m   5874\u001b[0m \u001b[38;5;28;01melse\u001b[39;00m:\n\u001b[1;32m   5875\u001b[0m     keyarr, indexer, new_indexer \u001b[38;5;241m=\u001b[39m \u001b[38;5;28mself\u001b[39m\u001b[38;5;241m.\u001b[39m_reindex_non_unique(keyarr)\n\u001b[0;32m-> 5877\u001b[0m \u001b[38;5;28;43mself\u001b[39;49m\u001b[38;5;241;43m.\u001b[39;49m\u001b[43m_raise_if_missing\u001b[49m\u001b[43m(\u001b[49m\u001b[43mkeyarr\u001b[49m\u001b[43m,\u001b[49m\u001b[43m \u001b[49m\u001b[43mindexer\u001b[49m\u001b[43m,\u001b[49m\u001b[43m \u001b[49m\u001b[43maxis_name\u001b[49m\u001b[43m)\u001b[49m\n\u001b[1;32m   5879\u001b[0m keyarr \u001b[38;5;241m=\u001b[39m \u001b[38;5;28mself\u001b[39m\u001b[38;5;241m.\u001b[39mtake(indexer)\n\u001b[1;32m   5880\u001b[0m \u001b[38;5;28;01mif\u001b[39;00m \u001b[38;5;28misinstance\u001b[39m(key, Index):\n\u001b[1;32m   5881\u001b[0m     \u001b[38;5;66;03m# GH 42790 - Preserve name from an Index\u001b[39;00m\n",
      "File \u001b[0;32m/opt/homebrew/anaconda3/envs/plotting/lib/python3.9/site-packages/pandas/core/indexes/multi.py:2559\u001b[0m, in \u001b[0;36mMultiIndex._raise_if_missing\u001b[0;34m(self, key, indexer, axis_name)\u001b[0m\n\u001b[1;32m   2557\u001b[0m         \u001b[38;5;28;01mraise\u001b[39;00m \u001b[38;5;167;01mKeyError\u001b[39;00m(\u001b[38;5;124mf\u001b[39m\u001b[38;5;124m\"\u001b[39m\u001b[38;5;132;01m{\u001b[39;00mkeyarr\u001b[38;5;132;01m}\u001b[39;00m\u001b[38;5;124m not in index\u001b[39m\u001b[38;5;124m\"\u001b[39m)\n\u001b[1;32m   2558\u001b[0m \u001b[38;5;28;01melse\u001b[39;00m:\n\u001b[0;32m-> 2559\u001b[0m     \u001b[38;5;28;01mreturn\u001b[39;00m \u001b[38;5;28;43msuper\u001b[39;49m\u001b[43m(\u001b[49m\u001b[43m)\u001b[49m\u001b[38;5;241;43m.\u001b[39;49m\u001b[43m_raise_if_missing\u001b[49m\u001b[43m(\u001b[49m\u001b[43mkey\u001b[49m\u001b[43m,\u001b[49m\u001b[43m \u001b[49m\u001b[43mindexer\u001b[49m\u001b[43m,\u001b[49m\u001b[43m \u001b[49m\u001b[43maxis_name\u001b[49m\u001b[43m)\u001b[49m\n",
      "File \u001b[0;32m/opt/homebrew/anaconda3/envs/plotting/lib/python3.9/site-packages/pandas/core/indexes/base.py:5941\u001b[0m, in \u001b[0;36mIndex._raise_if_missing\u001b[0;34m(self, key, indexer, axis_name)\u001b[0m\n\u001b[1;32m   5938\u001b[0m     \u001b[38;5;28;01mraise\u001b[39;00m \u001b[38;5;167;01mKeyError\u001b[39;00m(\u001b[38;5;124mf\u001b[39m\u001b[38;5;124m\"\u001b[39m\u001b[38;5;124mNone of [\u001b[39m\u001b[38;5;132;01m{\u001b[39;00mkey\u001b[38;5;132;01m}\u001b[39;00m\u001b[38;5;124m] are in the [\u001b[39m\u001b[38;5;132;01m{\u001b[39;00maxis_name\u001b[38;5;132;01m}\u001b[39;00m\u001b[38;5;124m]\u001b[39m\u001b[38;5;124m\"\u001b[39m)\n\u001b[1;32m   5940\u001b[0m not_found \u001b[38;5;241m=\u001b[39m \u001b[38;5;28mlist\u001b[39m(ensure_index(key)[missing_mask\u001b[38;5;241m.\u001b[39mnonzero()[\u001b[38;5;241m0\u001b[39m]]\u001b[38;5;241m.\u001b[39munique())\n\u001b[0;32m-> 5941\u001b[0m \u001b[38;5;28;01mraise\u001b[39;00m \u001b[38;5;167;01mKeyError\u001b[39;00m(\u001b[38;5;124mf\u001b[39m\u001b[38;5;124m\"\u001b[39m\u001b[38;5;132;01m{\u001b[39;00mnot_found\u001b[38;5;132;01m}\u001b[39;00m\u001b[38;5;124m not in index\u001b[39m\u001b[38;5;124m\"\u001b[39m)\n",
      "\u001b[0;31mKeyError\u001b[0m: \"[('simple-cms+field', 'orange', 'cpu'), ('simple-cms+field+msc', 'orange', 'cpu'), ('simple-cms+msc', 'orange', 'cpu'), ('testem15', 'orange', 'cpu'), ('testem15+field', 'orange', 'cpu'), ('testem15+field+msc', 'orange', 'cpu'), ('testem3-flat', 'orange', 'cpu'), ('testem3-flat+field', 'orange', 'cpu'), ('testem3-flat+field+msc', 'orange', 'cpu'), ('testem3-flat+msc', 'orange', 'cpu')] not in index\""
     ]
    }
   ],
   "source": [
    "crusher_rates = analyze.calc_event_rate(crusher, csum)\n",
    "summit_rates = analyze.calc_event_rate(summit, summed.loc[crusher_rates.index])\n",
    "\n",
    "counts = {\n",
    "    ('summit', 'cpu'): 7,\n",
    "    ('summit', 'gpu'): 1,\n",
    "    ('crusher', 'cpu'): 8,\n",
    "    ('crusher', 'gpu'): 1,\n",
    "}"
   ]
  },
  {
   "cell_type": "code",
   "execution_count": null,
   "id": "092e391f-ba8d-428b-83bf-ea917c2d1d16",
   "metadata": {},
   "outputs": [],
   "source": [
    "(crusher_rates['mean'] / summit_rates['mean']).unstack()"
   ]
  },
  {
   "cell_type": "code",
   "execution_count": null,
   "id": "7d362311-b839-4d29-8104-dae654b1d380",
   "metadata": {},
   "outputs": [],
   "source": [
    "fig, ax = plt.subplots()\n",
    "ax.set_yscale('log')\n",
    "for offset, color, machine, rates in [(-0.05, '#7A954F', 'Summit', summit_rates),\n",
    "                                      (0.05, '#BC5544', 'Crusher', crusher_rates)]:\n",
    "    for arch in ['cpu', 'gpu']:\n",
    "        summary = rates.xs(arch, level='arch')\n",
    "        index = np.array([p_to_i[p]\n",
    "                          for p in summary.index.get_level_values('problem')], dtype=float)\n",
    "        index += offset\n",
    "    \n",
    "        mark = analyze.ARCH_SHAPES[arch]\n",
    "        count = counts[(machine.lower(), arch)]\n",
    "        arch = arch.upper()\n",
    "        ax.errorbar(index, summary['mean'], summary['std'],\n",
    "                    capsize=0, fmt='none', ecolor=(0.2,)*3)\n",
    "        scat = ax.scatter(index, summary['mean'], c=color, marker=mark,\n",
    "                         label=f\"{machine} ({count} {arch})\")    \n",
    "xax = ax.get_xaxis()\n",
    "xax.set_ticks(np.arange(len(problems)))\n",
    "xax.set_ticklabels(list(problem_to_abbr.values()), rotation=90)\n",
    "grid = ax.grid()\n",
    "ax.set_axisbelow(True)\n",
    "ax.legend()\n",
    "ax.set_ylabel(r\"Event rate [1/s]\")\n",
    "analyze.annotate_metadata(ax, summit)\n",
    "plt.tight_layout()\n",
    "fig.savefig('plots/crusher-vs-summit.pdf')\n",
    "plt.close()"
   ]
  },
  {
   "cell_type": "markdown",
   "id": "6be489b3-d4b4-4ce7-b8ec-666afc0ec74a",
   "metadata": {},
   "source": [
    "## Frontier"
   ]
  },
  {
   "cell_type": "code",
   "execution_count": 4,
   "id": "55dc92b2-c118-4938-8c9e-01ebfb5c2e12",
   "metadata": {},
   "outputs": [
    {
     "name": "stdout",
     "output_type": "stream",
     "text": [
      "\n"
     ]
    }
   ],
   "source": [
    "print(\"\\n\".join(k for (k, v) in ftab.items()\n",
    "                if 'is_soft' in v))"
   ]
  },
  {
   "cell_type": "code",
   "execution_count": 20,
   "id": "c30ce0bc-39a8-4688-9ee4-4d96b24a6f19",
   "metadata": {
    "tags": []
   },
   "outputs": [
    {
     "name": "stdout",
     "output_type": "stream",
     "text": [
      "Analysis for Celeritas v0.4.0-dev.91+cf7c5a7bc on frontier\n"
     ]
    }
   ],
   "source": [
    "frontier = analyze.Analysis('results/frontier')\n",
    "print(frontier)"
   ]
  },
  {
   "cell_type": "code",
   "execution_count": 21,
   "id": "5fac0f56-f43d-4204-865a-3aebc8061048",
   "metadata": {
    "tags": []
   },
   "outputs": [
    {
     "data": {
      "text/html": [
       "<div>\n",
       "<style scoped>\n",
       "    .dataframe tbody tr th:only-of-type {\n",
       "        vertical-align: middle;\n",
       "    }\n",
       "\n",
       "    .dataframe tbody tr th {\n",
       "        vertical-align: top;\n",
       "    }\n",
       "\n",
       "    .dataframe thead th {\n",
       "        text-align: right;\n",
       "    }\n",
       "</style>\n",
       "<table border=\"1\" class=\"dataframe\">\n",
       "  <thead>\n",
       "    <tr style=\"text-align: right;\">\n",
       "      <th></th>\n",
       "      <th></th>\n",
       "      <th></th>\n",
       "      <th>0</th>\n",
       "      <th>1</th>\n",
       "    </tr>\n",
       "  </thead>\n",
       "  <tbody>\n",
       "    <tr>\n",
       "      <th>testem15</th>\n",
       "      <th>orange</th>\n",
       "      <th>gpu</th>\n",
       "      <td>1.636568</td>\n",
       "      <td>0.000799</td>\n",
       "    </tr>\n",
       "    <tr>\n",
       "      <th>testem15+field</th>\n",
       "      <th>orange</th>\n",
       "      <th>gpu</th>\n",
       "      <td>1.691773</td>\n",
       "      <td>0.000851</td>\n",
       "    </tr>\n",
       "    <tr>\n",
       "      <th>testem15+field+msc</th>\n",
       "      <th>orange</th>\n",
       "      <th>gpu</th>\n",
       "      <td>1.733032</td>\n",
       "      <td>0.000984</td>\n",
       "    </tr>\n",
       "    <tr>\n",
       "      <th>simple-cms+msc</th>\n",
       "      <th>orange</th>\n",
       "      <th>gpu</th>\n",
       "      <td>1.426043</td>\n",
       "      <td>0.000627</td>\n",
       "    </tr>\n",
       "    <tr>\n",
       "      <th>simple-cms+field</th>\n",
       "      <th>orange</th>\n",
       "      <th>gpu</th>\n",
       "      <td>1.703611</td>\n",
       "      <td>0.000907</td>\n",
       "    </tr>\n",
       "    <tr>\n",
       "      <th>simple-cms+field+msc</th>\n",
       "      <th>orange</th>\n",
       "      <th>gpu</th>\n",
       "      <td>1.775742</td>\n",
       "      <td>0.000970</td>\n",
       "    </tr>\n",
       "    <tr>\n",
       "      <th>testem3-flat</th>\n",
       "      <th>orange</th>\n",
       "      <th>gpu</th>\n",
       "      <td>1.405032</td>\n",
       "      <td>0.000580</td>\n",
       "    </tr>\n",
       "    <tr>\n",
       "      <th>testem3-flat+field</th>\n",
       "      <th>orange</th>\n",
       "      <th>gpu</th>\n",
       "      <td>1.757547</td>\n",
       "      <td>0.000622</td>\n",
       "    </tr>\n",
       "    <tr>\n",
       "      <th>testem3-flat+msc</th>\n",
       "      <th>orange</th>\n",
       "      <th>gpu</th>\n",
       "      <td>1.779375</td>\n",
       "      <td>0.000609</td>\n",
       "    </tr>\n",
       "    <tr>\n",
       "      <th>testem3-flat+field+msc</th>\n",
       "      <th>orange</th>\n",
       "      <th>gpu</th>\n",
       "      <td>1.703529</td>\n",
       "      <td>0.000650</td>\n",
       "    </tr>\n",
       "    <tr>\n",
       "      <th>testem15+field</th>\n",
       "      <th>orange</th>\n",
       "      <th>gpu+sync</th>\n",
       "      <td>1.542426</td>\n",
       "      <td>0.001026</td>\n",
       "    </tr>\n",
       "    <tr>\n",
       "      <th>testem3-flat+field+msc</th>\n",
       "      <th>orange</th>\n",
       "      <th>gpu+sync</th>\n",
       "      <td>1.559010</td>\n",
       "      <td>0.000859</td>\n",
       "    </tr>\n",
       "  </tbody>\n",
       "</table>\n",
       "</div>"
      ],
      "text/plain": [
       "                                               0         1\n",
       "testem15               orange gpu       1.636568  0.000799\n",
       "testem15+field         orange gpu       1.691773  0.000851\n",
       "testem15+field+msc     orange gpu       1.733032  0.000984\n",
       "simple-cms+msc         orange gpu       1.426043  0.000627\n",
       "simple-cms+field       orange gpu       1.703611  0.000907\n",
       "simple-cms+field+msc   orange gpu       1.775742  0.000970\n",
       "testem3-flat           orange gpu       1.405032  0.000580\n",
       "testem3-flat+field     orange gpu       1.757547  0.000622\n",
       "testem3-flat+msc       orange gpu       1.779375  0.000609\n",
       "testem3-flat+field+msc orange gpu       1.703529  0.000650\n",
       "testem15+field         orange gpu+sync  1.542426  0.001026\n",
       "testem3-flat+field+msc orange gpu+sync  1.559010  0.000859"
      ]
     },
     "execution_count": 21,
     "metadata": {},
     "output_type": "execute_result"
    }
   ],
   "source": [
    "step_times = get_step_times(frontier)\n",
    "step_times"
   ]
  },
  {
   "cell_type": "code",
   "execution_count": 25,
   "id": "a6473330-2153-46d2-97c1-a17effc22727",
   "metadata": {
    "tags": []
   },
   "outputs": [
    {
     "name": "stdout",
     "output_type": "stream",
     "text": [
      "WARNING: no inputs available for cms2018\n",
      "WARNING: no inputs available for cms2018+field+msc\n"
     ]
    },
    {
     "data": {
      "text/plain": [
       "<matplotlib.legend.Legend at 0x14586b550>"
      ]
     },
     "execution_count": 25,
     "metadata": {},
     "output_type": "execute_result"
    },
    {
     "data": {
      "image/png": "[encoded data removed]",
      "text/plain": [
       "<Figure size 562.5x450 with 1 Axes>"
      ]
     },
     "metadata": {
      "image/png": {
       "height": 433,
       "width": 551
      }
     },
     "output_type": "display_data"
    }
   ],
   "source": [
    "(fig, ax) = plt.subplots()\n",
    "analyze.plot_event_rate(ax, frontier)\n",
    "ax.legend()"
   ]
  },
  {
   "cell_type": "markdown",
   "id": "8a3953ba-2c25-499e-86b5-29fcb9c52d88",
   "metadata": {
    "tags": []
   },
   "source": [
    "# Occupancy"
   ]
  },
  {
   "cell_type": "code",
   "execution_count": 79,
   "id": "97db0e7e-79dd-47a5-8257-9df5e5015fba",
   "metadata": {},
   "outputs": [],
   "source": [
    "BYTES_PER_REG = 4 # 32-bit registers\n",
    "\n",
    "def load_kernels(results, problem, geo):\n",
    "    return results.load_results((problem, geo, 'gpu'), 0)['system']['kernels']\n",
    "\n",
    "def kernel_stats_dataframe(kernel_stats):\n",
    "    values = []\n",
    "    index = []\n",
    "    for (instance, kernels) in kernel_stats.items():\n",
    "        arch, _, geo = instance.partition('/')\n",
    "        for (ki, stats) in enumerate(kernels):\n",
    "            stats.pop('stack_size', None) # Unavailable with HIP\n",
    "            row = list(stats.values())\n",
    "            row.append(ki)\n",
    "            values.append(row)\n",
    "            name = stats['name']\n",
    "            if name == \"extend-from-secondaries\":\n",
    "                # Fixup duplicate name\n",
    "                name = f\"{name}-{ki}\"\n",
    "            index.append((arch, geo, name))\n",
    "    index=pd.MultiIndex.from_tuples(index, names=('arch', 'geo', 'name'))\n",
    "    columns = pd.Index(list(stats.keys()) + ['kernel_index'])\n",
    "    result = pd.DataFrame(values, index=index, columns=columns)\n",
    "    del result['name']\n",
    "    del result['print_buffer_size']\n",
    "    result['register_mem'] = result['num_regs'] * BYTES_PER_REG\n",
    "    return result"
   ]
  },
  {
   "cell_type": "code",
   "execution_count": 73,
   "id": "906c6850-76dc-4a25-92bc-babdcf54f7f7",
   "metadata": {},
   "outputs": [],
   "source": [
    "def plot_kernel_mem(ax, ksdf, colors, labels):\n",
    "    labels = ['local_mem', 'register_mem']\n",
    "    y = np.arange(len(labels))\n",
    "    width = .9 / len(multimem)\n",
    "    ynudge = np.linspace(-0.34, 0.34, len(multimem))\n",
    "    \n",
    "    for (i, (k, mem)) in enumerate(multimem.items()):\n",
    "        values = np.array(list(mem.values()), dtype=dtype)\n",
    "\n",
    "        ax.barh(y + ynudge[i], values['register'], width,\n",
    "                color=colors[k], label=f'{pretty_labels[k]}')\n",
    "        ax.barh(y + ynudge[i], values['local'], width, left=values['register'],\n",
    "                color=colors[k + '.spill'])#, label=f'Local spill ({pretty_labels[k]})')\n",
    "\n",
    "    ax.invert_yaxis();\n",
    "    ax.set_xlabel('Memory [B]')\n",
    "    ax.set_yticks(y, labels)\n",
    "    leg = ax.legend()\n",
    "    leg.set_title(\"Register usage (light)\\nLocal spill (dark)\")\n",
    "    leg.get_title().set_fontsize('x-small')"
   ]
  },
  {
   "cell_type": "code",
   "execution_count": 31,
   "id": "d838e645-e3c3-4966-a9e9-d08c78830769",
   "metadata": {},
   "outputs": [],
   "source": [
    "kernel_stats = {\n",
    "    'cuda/vecgeom': load_kernels(summit, 'testem3-flat+field+msc', 'vecgeom'),\n",
    "    'cuda/orange': load_kernels(summit, 'testem3-flat+field+msc', 'orange'),\n",
    "    'hip/orange': load_kernels(frontier, 'testem3-flat+field+msc', 'orange'),\n",
    "}\n",
    "pretty_labels = {\n",
    "    'cuda/vecgeom': 'NVIDIA V100 (VecGeom)',\n",
    "    'cuda/orange': 'NVIDIA V100 (ORANGE)',\n",
    "    'hip/orange': 'AMD MI250 (ORANGE)',\n",
    "}\n",
    "colors = {\n",
    "    'cuda/vecgeom': (191, 40, 96),\n",
    "    'cuda/vecgeom.spill': (107, 76, 88),\n",
    "    'cuda/orange': (153, 168, 50),\n",
    "    'cuda/orange.spill': (106, 112, 67),\n",
    "    'hip/orange': (57, 140, 173),\n",
    "    'hip/orange.spill': (78, 101, 110),\n",
    "}\n",
    "colors = {k: np.array(v, dtype=float) / 255 for k, v in colors.items()}"
   ]
  },
  {
   "cell_type": "code",
   "execution_count": 80,
   "id": "00c5a70e-c128-42c5-9a0e-8958c6f2cb65",
   "metadata": {
    "tags": []
   },
   "outputs": [],
   "source": [
    "ksdf = kernel_stats_dataframe(kernel_stats)"
   ]
  },
  {
   "cell_type": "code",
   "execution_count": 81,
   "id": "f16b9524-01bf-44cf-bf3b-9731a37bbb93",
   "metadata": {
    "tags": []
   },
   "outputs": [],
   "source": [
    "mem = ksdf['local_mem']"
   ]
  },
  {
   "cell_type": "code",
   "execution_count": 82,
   "id": "3c34ffcf-b60a-414a-9d8d-536b40f73ec1",
   "metadata": {
    "tags": []
   },
   "outputs": [],
   "source": [
    "with open(\"kernel-occupancy.md\", \"w\") as f:\n",
    "    analyze.dump_markdown(\n",
    "        f,\n",
    "        list(ksdf_mem.index.names) + ['local', 'register', 'occupancy'],\n",
    "        np.concatenate([\n",
    "            np.array([list(v) for v in ksdf_mem.index]).T,\n",
    "            [\n",
    "                ksdf['local_mem'].apply(\"{:d}\".format),\n",
    "                ksdf['register_mem'].apply(\"{:d}\".format),\n",
    "                ksdf['occupancy'].apply(\"{:.03f}\".format)\n",
    "            ],\n",
    "        ], axis=0).T,\n",
    "        alignment=\"<<<>>>\"\n",
    "    )"
   ]
  },
  {
   "cell_type": "code",
   "execution_count": 107,
   "id": "ad76cf27-d17c-4025-935c-f6439e394d09",
   "metadata": {},
   "outputs": [],
   "source": [
    "labels = {\n",
    "    'cuda/vecgeom': 'NVIDIA V100 (VecGeom)',\n",
    "    'cuda/orange': 'NVIDIA V100 (ORANGE)',\n",
    "    'hip/orange': 'AMD MI250 (ORANGE)',\n",
    "}\n",
    "markers = {\n",
    "    'cuda/vecgeom': '.',\n",
    "    'cuda/orange': '+',\n",
    "    'hip/orange': 'x',\n",
    "}\n",
    "\n",
    "(fig, ax) = plt.subplots()\n",
    "for key, ks in ksdf.unstack('name').iterrows():\n",
    "    k = '/'.join(key)\n",
    "    ks = ks.unstack(level=0)\n",
    "    s = ax.scatter(ks['register_mem'], ks['local_mem'],\n",
    "               c=ks['kernel_index'],\n",
    "               marker=markers[k], label=labels[k])\n",
    "ax.set_xlabel('Register usage [B]')\n",
    "ax.set_ylabel('Memory spill [B]')\n",
    "ax.legend()\n",
    "cb = fig.colorbar(s)\n",
    "\n",
    "plt.tight_layout()\n",
    "#fig.savefig('plots/reg-vs-spill.png')\n",
    "fig.savefig('plots/reg-vs-spill.pdf', transparent=True)\n",
    "plt.close()"
   ]
  },
  {
   "cell_type": "code",
   "execution_count": 111,
   "id": "4fdc1e7b-831e-4aa6-8ce7-0436f5b75433",
   "metadata": {},
   "outputs": [],
   "source": [
    "(fig, ax) = plt.subplots()\n",
    "for key, ks in ksdf.unstack('name').iterrows():\n",
    "    k = '/'.join(key)\n",
    "    ks = ks.unstack(level=0)\n",
    "    tot_mem = ks['register_mem'] + ks['local_mem']\n",
    "    s = ax.scatter(ks['occupancy'], tot_mem,\n",
    "               c=ks['kernel_index'],\n",
    "               marker=markers[k], label=labels[k])\n",
    "#ax.set_xlim(-0.05, 1.05)\n",
    "ax.set_xlabel('Occupancy')\n",
    "ax.set_ylabel('Register + spill [B]')\n",
    "ax.legend()\n",
    "cb = fig.colorbar(s)\n",
    "\n",
    "plt.tight_layout()\n",
    "fig.savefig('plots/occupancy-vs-mem.png')\n",
    "fig.savefig('plots/occupancy-vs-mem.pdf', transparent=True)\n",
    "plt.close()"
   ]
  },
  {
   "cell_type": "code",
   "execution_count": 109,
   "id": "b0b0f416-5776-498b-b9f9-be4496d70477",
   "metadata": {},
   "outputs": [],
   "source": [
    "(fig, ax) = plt.subplots()\n",
    "for key, ks in ksdf.unstack('name').iterrows():\n",
    "    k = '/'.join(key)\n",
    "    ks = ks.unstack(level=0)\n",
    "    s = ax.scatter(ks['occupancy'], ks['local_mem'],\n",
    "               c=ks['kernel_index'],\n",
    "               marker=markers[k], label=labels[k])\n",
    "#ax.set_xlim(-0.05, 1.05)\n",
    "ax.set_xlabel('Occupancy')\n",
    "ax.set_ylabel('Local memory spill [B]')\n",
    "ax.legend()\n",
    "cb = fig.colorbar(s)\n",
    "\n",
    "plt.tight_layout()\n",
    "#fig.savefig('plots/occupancy-vs-spill.png')\n",
    "fig.savefig('plots/occupancy-vs-spill.pdf', transparent=True)\n",
    "plt.close()"
   ]
  },
  {
   "cell_type": "code",
   "execution_count": 110,
   "id": "1c834d08-31c7-45e2-9668-0865ca50c4a1",
   "metadata": {
    "tags": []
   },
   "outputs": [
    {
     "data": {
      "text/html": [
       "<div>\n",
       "<style scoped>\n",
       "    .dataframe tbody tr th:only-of-type {\n",
       "        vertical-align: middle;\n",
       "    }\n",
       "\n",
       "    .dataframe tbody tr th {\n",
       "        vertical-align: top;\n",
       "    }\n",
       "\n",
       "    .dataframe thead th {\n",
       "        text-align: right;\n",
       "    }\n",
       "</style>\n",
       "<table border=\"1\" class=\"dataframe\">\n",
       "  <thead>\n",
       "    <tr style=\"text-align: right;\">\n",
       "      <th></th>\n",
       "      <th></th>\n",
       "      <th></th>\n",
       "      <th>const_mem</th>\n",
       "      <th>heap_size</th>\n",
       "      <th>local_mem</th>\n",
       "      <th>max_blocks_per_cu</th>\n",
       "      <th>max_threads_per_block</th>\n",
       "      <th>max_warps_per_eu</th>\n",
       "      <th>num_regs</th>\n",
       "      <th>occupancy</th>\n",
       "      <th>threads_per_block</th>\n",
       "      <th>kernel_index</th>\n",
       "      <th>register_mem</th>\n",
       "    </tr>\n",
       "    <tr>\n",
       "      <th>arch</th>\n",
       "      <th>geo</th>\n",
       "      <th>name</th>\n",
       "      <th></th>\n",
       "      <th></th>\n",
       "      <th></th>\n",
       "      <th></th>\n",
       "      <th></th>\n",
       "      <th></th>\n",
       "      <th></th>\n",
       "      <th></th>\n",
       "      <th></th>\n",
       "      <th></th>\n",
       "      <th></th>\n",
       "    </tr>\n",
       "  </thead>\n",
       "  <tbody>\n",
       "    <tr>\n",
       "      <th rowspan=\"6\" valign=\"top\">cuda</th>\n",
       "      <th>vecgeom</th>\n",
       "      <th>scat-rayleigh</th>\n",
       "      <td>20776</td>\n",
       "      <td>8388608</td>\n",
       "      <td>104</td>\n",
       "      <td>3</td>\n",
       "      <td>896</td>\n",
       "      <td>24</td>\n",
       "      <td>66</td>\n",
       "      <td>0.375</td>\n",
       "      <td>256</td>\n",
       "      <td>17</td>\n",
       "      <td>264</td>\n",
       "    </tr>\n",
       "    <tr>\n",
       "      <th rowspan=\"5\" valign=\"top\">orange</th>\n",
       "      <th>initialize-tracks</th>\n",
       "      <td>0</td>\n",
       "      <td>8388608</td>\n",
       "      <td>112</td>\n",
       "      <td>4</td>\n",
       "      <td>1024</td>\n",
       "      <td>32</td>\n",
       "      <td>64</td>\n",
       "      <td>0.500</td>\n",
       "      <td>256</td>\n",
       "      <td>1</td>\n",
       "      <td>256</td>\n",
       "    </tr>\n",
       "    <tr>\n",
       "      <th>along-step-uniform-msc-propagate</th>\n",
       "      <td>0</td>\n",
       "      <td>8388608</td>\n",
       "      <td>240</td>\n",
       "      <td>2</td>\n",
       "      <td>256</td>\n",
       "      <td>16</td>\n",
       "      <td>128</td>\n",
       "      <td>0.250</td>\n",
       "      <td>256</td>\n",
       "      <td>4</td>\n",
       "      <td>512</td>\n",
       "    </tr>\n",
       "    <tr>\n",
       "      <th>photoel-livermore</th>\n",
       "      <td>0</td>\n",
       "      <td>8388608</td>\n",
       "      <td>80</td>\n",
       "      <td>3</td>\n",
       "      <td>896</td>\n",
       "      <td>24</td>\n",
       "      <td>68</td>\n",
       "      <td>0.375</td>\n",
       "      <td>256</td>\n",
       "      <td>14</td>\n",
       "      <td>272</td>\n",
       "    </tr>\n",
       "    <tr>\n",
       "      <th>scat-rayleigh</th>\n",
       "      <td>0</td>\n",
       "      <td>8388608</td>\n",
       "      <td>104</td>\n",
       "      <td>3</td>\n",
       "      <td>896</td>\n",
       "      <td>24</td>\n",
       "      <td>66</td>\n",
       "      <td>0.375</td>\n",
       "      <td>256</td>\n",
       "      <td>17</td>\n",
       "      <td>264</td>\n",
       "    </tr>\n",
       "    <tr>\n",
       "      <th>geo-boundary</th>\n",
       "      <td>0</td>\n",
       "      <td>8388608</td>\n",
       "      <td>152</td>\n",
       "      <td>3</td>\n",
       "      <td>768</td>\n",
       "      <td>24</td>\n",
       "      <td>80</td>\n",
       "      <td>0.375</td>\n",
       "      <td>256</td>\n",
       "      <td>19</td>\n",
       "      <td>320</td>\n",
       "    </tr>\n",
       "    <tr>\n",
       "      <th rowspan=\"2\" valign=\"top\">hip</th>\n",
       "      <th rowspan=\"2\" valign=\"top\">orange</th>\n",
       "      <th>initialize-tracks</th>\n",
       "      <td>0</td>\n",
       "      <td>68702699520</td>\n",
       "      <td>120</td>\n",
       "      <td>5</td>\n",
       "      <td>1024</td>\n",
       "      <td>5</td>\n",
       "      <td>90</td>\n",
       "      <td>0.625</td>\n",
       "      <td>256</td>\n",
       "      <td>1</td>\n",
       "      <td>360</td>\n",
       "    </tr>\n",
       "    <tr>\n",
       "      <th>geo-boundary</th>\n",
       "      <td>0</td>\n",
       "      <td>68702699520</td>\n",
       "      <td>304</td>\n",
       "      <td>5</td>\n",
       "      <td>1024</td>\n",
       "      <td>5</td>\n",
       "      <td>92</td>\n",
       "      <td>0.625</td>\n",
       "      <td>256</td>\n",
       "      <td>19</td>\n",
       "      <td>368</td>\n",
       "    </tr>\n",
       "  </tbody>\n",
       "</table>\n",
       "</div>"
      ],
      "text/plain": [
       "                                               const_mem    heap_size  \\\n",
       "arch geo     name                                                       \n",
       "cuda vecgeom scat-rayleigh                         20776      8388608   \n",
       "     orange  initialize-tracks                         0      8388608   \n",
       "             along-step-uniform-msc-propagate          0      8388608   \n",
       "             photoel-livermore                         0      8388608   \n",
       "             scat-rayleigh                             0      8388608   \n",
       "             geo-boundary                              0      8388608   \n",
       "hip  orange  initialize-tracks                         0  68702699520   \n",
       "             geo-boundary                              0  68702699520   \n",
       "\n",
       "                                               local_mem  max_blocks_per_cu  \\\n",
       "arch geo     name                                                             \n",
       "cuda vecgeom scat-rayleigh                           104                  3   \n",
       "     orange  initialize-tracks                       112                  4   \n",
       "             along-step-uniform-msc-propagate        240                  2   \n",
       "             photoel-livermore                        80                  3   \n",
       "             scat-rayleigh                           104                  3   \n",
       "             geo-boundary                            152                  3   \n",
       "hip  orange  initialize-tracks                       120                  5   \n",
       "             geo-boundary                            304                  5   \n",
       "\n",
       "                                               max_threads_per_block  \\\n",
       "arch geo     name                                                      \n",
       "cuda vecgeom scat-rayleigh                                       896   \n",
       "     orange  initialize-tracks                                  1024   \n",
       "             along-step-uniform-msc-propagate                    256   \n",
       "             photoel-livermore                                   896   \n",
       "             scat-rayleigh                                       896   \n",
       "             geo-boundary                                        768   \n",
       "hip  orange  initialize-tracks                                  1024   \n",
       "             geo-boundary                                       1024   \n",
       "\n",
       "                                               max_warps_per_eu  num_regs  \\\n",
       "arch geo     name                                                           \n",
       "cuda vecgeom scat-rayleigh                                   24        66   \n",
       "     orange  initialize-tracks                               32        64   \n",
       "             along-step-uniform-msc-propagate                16       128   \n",
       "             photoel-livermore                               24        68   \n",
       "             scat-rayleigh                                   24        66   \n",
       "             geo-boundary                                    24        80   \n",
       "hip  orange  initialize-tracks                                5        90   \n",
       "             geo-boundary                                     5        92   \n",
       "\n",
       "                                               occupancy  threads_per_block  \\\n",
       "arch geo     name                                                             \n",
       "cuda vecgeom scat-rayleigh                         0.375                256   \n",
       "     orange  initialize-tracks                     0.500                256   \n",
       "             along-step-uniform-msc-propagate      0.250                256   \n",
       "             photoel-livermore                     0.375                256   \n",
       "             scat-rayleigh                         0.375                256   \n",
       "             geo-boundary                          0.375                256   \n",
       "hip  orange  initialize-tracks                     0.625                256   \n",
       "             geo-boundary                          0.625                256   \n",
       "\n",
       "                                               kernel_index  register_mem  \n",
       "arch geo     name                                                          \n",
       "cuda vecgeom scat-rayleigh                               17           264  \n",
       "     orange  initialize-tracks                            1           256  \n",
       "             along-step-uniform-msc-propagate             4           512  \n",
       "             photoel-livermore                           14           272  \n",
       "             scat-rayleigh                               17           264  \n",
       "             geo-boundary                                19           320  \n",
       "hip  orange  initialize-tracks                            1           360  \n",
       "             geo-boundary                                19           368  "
      ]
     },
     "execution_count": 110,
     "metadata": {},
     "output_type": "execute_result"
    }
   ],
   "source": [
    "ksdf[ksdf['local_mem'] > 64]"
   ]
  },
  {
   "cell_type": "code",
   "execution_count": null,
   "id": "d85b81cd-29de-414c-88ef-3cea322044e3",
   "metadata": {},
   "outputs": [],
   "source": []
  }
 ],
 "metadata": {
  "kernelspec": {
   "display_name": "Python 3 (ipykernel)",
   "language": "python",
   "name": "python3"
  },
  "language_info": {
   "codemirror_mode": {
    "name": "ipython",
    "version": 3
   },
   "file_extension": ".py",
   "mimetype": "text/x-python",
   "name": "python",
   "nbconvert_exporter": "python",
   "pygments_lexer": "ipython3",
   "version": "3.9.16"
  }
 },
 "nbformat": 4,
 "nbformat_minor": 5
}
