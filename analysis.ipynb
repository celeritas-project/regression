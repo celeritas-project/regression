{
 "cells": [
  {
   "cell_type": "code",
   "execution_count": 1,
   "id": "69f4e8fb-a4aa-4c4c-9c1a-cc96abc5a5de",
   "metadata": {
    "tags": []
   },
   "outputs": [],
   "source": [
    "import json\n",
    "import matplotlib as mpl\n",
    "import matplotlib.pyplot as plt\n",
    "import numpy as np\n",
    "import pandas as pd\n",
    "import re\n",
    "import sys\n",
    "import itertools\n",
    "from collections import namedtuple, defaultdict\n",
    "from pathlib import Path\n",
    "\n",
    "%matplotlib inline\n",
    "%config InlineBackend.figure_format = 'retina'\n",
    "\n",
    "%load_ext autoreload\n",
    "%autoreload 1\n",
    "%aimport analyze\n",
    "\n",
    "with open('plots/style.json') as f:\n",
    "    mpl.rcParams.update(json.load(f))"
   ]
  },
  {
   "cell_type": "markdown",
   "id": "d60cf28f-4ccd-4dce-a049-0e05910de1c1",
   "metadata": {},
   "source": [
    "# Results"
   ]
  },
  {
   "cell_type": "markdown",
   "id": "94a45b0f-2213-404f-9512-6f857a2fab23",
   "metadata": {
    "tags": []
   },
   "source": [
    "## Wildstyle failures"
   ]
  },
  {
   "cell_type": "code",
   "execution_count": 2,
   "id": "a128569e-3417-4637-ab61-16c8ca2e065a",
   "metadata": {
    "tags": []
   },
   "outputs": [
    {
     "name": "stdout",
     "output_type": "stream",
     "text": [
      "Analysis for Celeritas v0.4.0-rc.2 on wildstyle\n"
     ]
    }
   ],
   "source": [
    "ws = analyze.Analysis('results/wildstyle')\n",
    "print(ws)"
   ]
  },
  {
   "cell_type": "code",
   "execution_count": 3,
   "id": "2e7b3de1-9f2c-432d-a84a-50fbe3108d47",
   "metadata": {
    "tags": []
   },
   "outputs": [
    {
     "data": {
      "text/html": [
       "<div>\n",
       "<style scoped>\n",
       "    .dataframe tbody tr th:only-of-type {\n",
       "        vertical-align: middle;\n",
       "    }\n",
       "\n",
       "    .dataframe tbody tr th {\n",
       "        vertical-align: top;\n",
       "    }\n",
       "\n",
       "    .dataframe thead th {\n",
       "        text-align: right;\n",
       "    }\n",
       "</style>\n",
       "<table border=\"1\" class=\"dataframe\">\n",
       "  <thead>\n",
       "    <tr style=\"text-align: right;\">\n",
       "      <th></th>\n",
       "      <th>Failure</th>\n",
       "    </tr>\n",
       "  </thead>\n",
       "  <tbody>\n",
       "    <tr>\n",
       "      <th>cms2018+field+msc/vecgeom+cpu (0)</th>\n",
       "      <td>internal assertion failed: `track.make_geo_vie...</td>\n",
       "    </tr>\n",
       "  </tbody>\n",
       "</table>\n",
       "</div>"
      ],
      "text/plain": [
       "                                                                             Failure\n",
       "cms2018+field+msc/vecgeom+cpu (0)  internal assertion failed: `track.make_geo_vie..."
      ]
     },
     "execution_count": 3,
     "metadata": {},
     "output_type": "execute_result"
    }
   ],
   "source": [
    "ftab = analyze.make_failure_table(ws.failures())\n",
    "ftab.to_frame()"
   ]
  },
  {
   "cell_type": "code",
   "execution_count": 4,
   "id": "3acf3fb9-9d0e-4424-bfea-0fe041ea0fda",
   "metadata": {
    "tags": []
   },
   "outputs": [
    {
     "data": {
      "text/plain": [
       "{'cms2018+field+msc/vecgeom+cpu (0)': 'internal assertion failed: `track.make_geo_view().pos() != orig_pos` at `PropagationApplier.hh:116`'}"
      ]
     },
     "execution_count": 4,
     "metadata": {},
     "output_type": "execute_result"
    }
   ],
   "source": [
    "ftab.to_dict()"
   ]
  },
  {
   "cell_type": "markdown",
   "id": "02985fd1-6930-4570-8869-990c7dc2557e",
   "metadata": {},
   "source": [
    "Unconverged tracks (from runs that didn't fail):"
   ]
  },
  {
   "cell_type": "code",
   "execution_count": 5,
   "id": "7bc64045-7223-491a-8e8d-6f6e19c018e4",
   "metadata": {
    "tags": []
   },
   "outputs": [
    {
     "data": {
      "text/html": [
       "<div>\n",
       "<style scoped>\n",
       "    .dataframe tbody tr th:only-of-type {\n",
       "        vertical-align: middle;\n",
       "    }\n",
       "\n",
       "    .dataframe tbody tr th {\n",
       "        vertical-align: top;\n",
       "    }\n",
       "\n",
       "    .dataframe thead th {\n",
       "        text-align: right;\n",
       "    }\n",
       "</style>\n",
       "<table border=\"1\" class=\"dataframe\">\n",
       "  <thead>\n",
       "    <tr style=\"text-align: right;\">\n",
       "      <th></th>\n",
       "      <th>arch</th>\n",
       "    </tr>\n",
       "    <tr>\n",
       "      <th>problem</th>\n",
       "      <th>geo</th>\n",
       "    </tr>\n",
       "  </thead>\n",
       "  <tbody>\n",
       "  </tbody>\n",
       "</table>\n",
       "</div>"
      ],
      "text/plain": [
       "Empty DataFrame\n",
       "Columns: []\n",
       "Index: []"
      ]
     },
     "execution_count": 5,
     "metadata": {},
     "output_type": "execute_result"
    }
   ],
   "source": [
    "summed = analyze.summarize_instances(ws.result[['unconverged']])\n",
    "unconv = summed[('unconverged', 'mean')]\n",
    "unconv[unconv > 0].unstack('arch') "
   ]
  },
  {
   "cell_type": "markdown",
   "id": "8f58821b-7c2f-455e-97af-0d2d7e19e4d7",
   "metadata": {},
   "source": [
    "## Summit"
   ]
  },
  {
   "cell_type": "code",
   "execution_count": 6,
   "id": "76d8590d-f82a-4502-9ede-af7c5b404b55",
   "metadata": {
    "tags": []
   },
   "outputs": [
    {
     "name": "stdout",
     "output_type": "stream",
     "text": [
      "Analysis for Celeritas v0.4.0 on summit\n"
     ]
    }
   ],
   "source": [
    "summit = analyze.Analysis('results/summit')\n",
    "print(summit)"
   ]
  },
  {
   "cell_type": "markdown",
   "id": "99662eee-68e1-4bc0-bf8d-2abffaf87f2d",
   "metadata": {
    "tags": []
   },
   "source": [
    "Average number of unconverged tracks:"
   ]
  },
  {
   "cell_type": "code",
   "execution_count": 7,
   "id": "0c102c29-678c-400c-bbc4-13aa320e52df",
   "metadata": {
    "tags": []
   },
   "outputs": [
    {
     "data": {
      "text/html": [
       "<div>\n",
       "<style scoped>\n",
       "    .dataframe tbody tr th:only-of-type {\n",
       "        vertical-align: middle;\n",
       "    }\n",
       "\n",
       "    .dataframe tbody tr th {\n",
       "        vertical-align: top;\n",
       "    }\n",
       "\n",
       "    .dataframe thead th {\n",
       "        text-align: right;\n",
       "    }\n",
       "</style>\n",
       "<table border=\"1\" class=\"dataframe\">\n",
       "  <thead>\n",
       "    <tr style=\"text-align: right;\">\n",
       "      <th></th>\n",
       "      <th>arch</th>\n",
       "    </tr>\n",
       "    <tr>\n",
       "      <th>problem</th>\n",
       "      <th>geo</th>\n",
       "    </tr>\n",
       "  </thead>\n",
       "  <tbody>\n",
       "  </tbody>\n",
       "</table>\n",
       "</div>"
      ],
      "text/plain": [
       "Empty DataFrame\n",
       "Columns: []\n",
       "Index: []"
      ]
     },
     "execution_count": 7,
     "metadata": {},
     "output_type": "execute_result"
    }
   ],
   "source": [
    "unconv = analyze.summarize_instances(summit.result['unconverged'])['mean']\n",
    "unconv[unconv > 0].unstack('arch') "
   ]
  },
  {
   "cell_type": "markdown",
   "id": "bc83874b-11a4-43b8-8ed4-15a3ece23301",
   "metadata": {
    "tags": []
   },
   "source": [
    "## Crusher"
   ]
  },
  {
   "cell_type": "code",
   "execution_count": 9,
   "id": "069de579-aa32-47b5-a327-974840cae362",
   "metadata": {
    "tags": []
   },
   "outputs": [],
   "source": [
    "def get_step_times(results):\n",
    "    new_idx = []\n",
    "    times = []\n",
    "    for i in results.index:\n",
    "        try:\n",
    "            outp = results.load_results(i, 0)\n",
    "            step_times = analyze.StepTimeGetter(outp, stream=0)()\n",
    "        except Exception:\n",
    "            continue\n",
    "        times.append([step_times[i] for i in range(2)])\n",
    "        new_idx.append(i)\n",
    "    return pd.DataFrame(times, index=pd.MultiIndex.from_tuples(new_idx))"
   ]
  },
  {
   "cell_type": "code",
   "execution_count": 10,
   "id": "5f8234ad-2880-471a-89fb-35fcaecd6a52",
   "metadata": {
    "tags": []
   },
   "outputs": [
    {
     "name": "stdout",
     "output_type": "stream",
     "text": [
      "Analysis for Celeritas v0.4.0-10+1782ddbdb on crusher\n"
     ]
    }
   ],
   "source": [
    "crusher = analyze.Analysis('results/crusher')\n",
    "print(crusher)"
   ]
  },
  {
   "cell_type": "code",
   "execution_count": 11,
   "id": "4ef7cb2a-f45a-4648-b9d6-a22b63c8ab32",
   "metadata": {
    "tags": []
   },
   "outputs": [
    {
     "data": {
      "text/plain": [
       "{'can_map_host_memory': True,\n",
       " 'capability_major': 9,\n",
       " 'capability_minor': 0,\n",
       " 'clock_rate': 1700000,\n",
       " 'device_id': 0,\n",
       " 'eu_per_cu': 4,\n",
       " 'max_blocks_per_grid': 2147483647,\n",
       " 'max_cache_size': 8388608,\n",
       " 'max_threads_per_block': 1024,\n",
       " 'max_threads_per_cu': 2048,\n",
       " 'memory_clock_rate': 1600000,\n",
       " 'multiprocessor_count': 110,\n",
       " 'name': 'gfx90a',\n",
       " 'platform': 'hip',\n",
       " 'regs_per_block': 65536,\n",
       " 'shared_mem_per_block': 65536,\n",
       " 'threads_per_warp': 64,\n",
       " 'total_const_mem': 2147483647,\n",
       " 'total_global_mem': 68702699520}"
      ]
     },
     "execution_count": 11,
     "metadata": {},
     "output_type": "execute_result"
    }
   ],
   "source": [
    "analyze.get_device_properties(crusher)"
   ]
  },
  {
   "cell_type": "markdown",
   "id": "6be489b3-d4b4-4ce7-b8ec-666afc0ec74a",
   "metadata": {},
   "source": [
    "## Frontier"
   ]
  },
  {
   "cell_type": "code",
   "execution_count": 12,
   "id": "c30ce0bc-39a8-4688-9ee4-4d96b24a6f19",
   "metadata": {
    "tags": []
   },
   "outputs": [
    {
     "name": "stdout",
     "output_type": "stream",
     "text": [
      "Analysis for Celeritas v0.4.0 on frontier\n"
     ]
    }
   ],
   "source": [
    "frontier = analyze.Analysis('results/frontier')\n",
    "print(frontier)"
   ]
  },
  {
   "cell_type": "code",
   "execution_count": 13,
   "id": "60e28b8f-c69a-49af-8296-ae4cc1793b71",
   "metadata": {
    "tags": []
   },
   "outputs": [
    {
     "data": {
      "text/html": [
       "<div>\n",
       "<style scoped>\n",
       "    .dataframe tbody tr th:only-of-type {\n",
       "        vertical-align: middle;\n",
       "    }\n",
       "\n",
       "    .dataframe tbody tr th {\n",
       "        vertical-align: top;\n",
       "    }\n",
       "\n",
       "    .dataframe thead th {\n",
       "        text-align: right;\n",
       "    }\n",
       "</style>\n",
       "<table border=\"1\" class=\"dataframe\">\n",
       "  <thead>\n",
       "    <tr style=\"text-align: right;\">\n",
       "      <th></th>\n",
       "      <th>Failure</th>\n",
       "    </tr>\n",
       "  </thead>\n",
       "  <tbody>\n",
       "  </tbody>\n",
       "</table>\n",
       "</div>"
      ],
      "text/plain": [
       "Empty DataFrame\n",
       "Columns: [Failure]\n",
       "Index: []"
      ]
     },
     "execution_count": 13,
     "metadata": {},
     "output_type": "execute_result"
    }
   ],
   "source": [
    "ftab = analyze.make_failure_table(frontier.failures())\n",
    "ftab.to_frame()"
   ]
  },
  {
   "cell_type": "markdown",
   "id": "9673639a-4c85-4213-8ef0-cbac79a74c70",
   "metadata": {},
   "source": [
    "## Perlmutter"
   ]
  },
  {
   "cell_type": "code",
   "execution_count": 16,
   "id": "1b755987-e74a-4edd-84d5-0cb5c78dc3c3",
   "metadata": {
    "tags": []
   },
   "outputs": [
    {
     "name": "stdout",
     "output_type": "stream",
     "text": [
      "Analysis for Celeritas v0.4.0-10+1782ddbdb on perlmutter\n"
     ]
    }
   ],
   "source": [
    "perlmutter = analyze.Analysis('results/perlmutter')\n",
    "print(perlmutter)"
   ]
  },
  {
   "cell_type": "code",
   "execution_count": 17,
   "id": "34052901-ca9d-48fc-b194-9bc57971eab5",
   "metadata": {
    "tags": []
   },
   "outputs": [
    {
     "data": {
      "text/html": [
       "<div>\n",
       "<style scoped>\n",
       "    .dataframe tbody tr th:only-of-type {\n",
       "        vertical-align: middle;\n",
       "    }\n",
       "\n",
       "    .dataframe tbody tr th {\n",
       "        vertical-align: top;\n",
       "    }\n",
       "\n",
       "    .dataframe thead th {\n",
       "        text-align: right;\n",
       "    }\n",
       "</style>\n",
       "<table border=\"1\" class=\"dataframe\">\n",
       "  <thead>\n",
       "    <tr style=\"text-align: right;\">\n",
       "      <th></th>\n",
       "      <th>Failure</th>\n",
       "    </tr>\n",
       "  </thead>\n",
       "  <tbody>\n",
       "    <tr>\n",
       "      <th>cms2018+field+msc/vecgeom+gpu+g4 (0)</th>\n",
       "      <td>Geant4 error: `trivial_device_copy D-&gt;H failed...</td>\n",
       "    </tr>\n",
       "    <tr>\n",
       "      <th>cms2018+field+msc/vecgeom+gpu+g4 (1)</th>\n",
       "      <td>Geant4 error: `an illegal memory access was en...</td>\n",
       "    </tr>\n",
       "    <tr>\n",
       "      <th>cms2018+field+msc/vecgeom+gpu+g4 (2)</th>\n",
       "      <td>Geant4 error: `trivial_device_copy D-&gt;H failed...</td>\n",
       "    </tr>\n",
       "    <tr>\n",
       "      <th>cms2018+field+msc/vecgeom+gpu+g4 (3)</th>\n",
       "      <td>Geant4 error: `trivial_device_copy D-&gt;H failed...</td>\n",
       "    </tr>\n",
       "    <tr>\n",
       "      <th>cms2018/vecgeom+cpu (0)</th>\n",
       "      <td>runtime error: `insufficient capacity (262144)...</td>\n",
       "    </tr>\n",
       "    <tr>\n",
       "      <th>cms2018/vecgeom+cpu (1)</th>\n",
       "      <td>runtime error: `insufficient capacity (262144)...</td>\n",
       "    </tr>\n",
       "    <tr>\n",
       "      <th>cms2018/vecgeom+cpu (3)</th>\n",
       "      <td>runtime error: `insufficient capacity (262144)...</td>\n",
       "    </tr>\n",
       "    <tr>\n",
       "      <th>cms2018/vecgeom+gpu+g4 (0)</th>\n",
       "      <td>Geant4 error: `trivial_device_copy D-&gt;H failed...</td>\n",
       "    </tr>\n",
       "    <tr>\n",
       "      <th>cms2018/vecgeom+gpu+g4 (1)</th>\n",
       "      <td>Geant4 error: `an illegal memory access was en...</td>\n",
       "    </tr>\n",
       "    <tr>\n",
       "      <th>cms2018/vecgeom+gpu+g4 (2)</th>\n",
       "      <td>Geant4 error: `an illegal memory access was en...</td>\n",
       "    </tr>\n",
       "    <tr>\n",
       "      <th>cms2018/vecgeom+gpu+g4 (3)</th>\n",
       "      <td>Geant4 error: `trivial_device_copy D-&gt;H failed...</td>\n",
       "    </tr>\n",
       "  </tbody>\n",
       "</table>\n",
       "</div>"
      ],
      "text/plain": [
       "                                                                                Failure\n",
       "cms2018+field+msc/vecgeom+gpu+g4 (0)  Geant4 error: `trivial_device_copy D->H failed...\n",
       "cms2018+field+msc/vecgeom+gpu+g4 (1)  Geant4 error: `an illegal memory access was en...\n",
       "cms2018+field+msc/vecgeom+gpu+g4 (2)  Geant4 error: `trivial_device_copy D->H failed...\n",
       "cms2018+field+msc/vecgeom+gpu+g4 (3)  Geant4 error: `trivial_device_copy D->H failed...\n",
       "cms2018/vecgeom+cpu (0)               runtime error: `insufficient capacity (262144)...\n",
       "cms2018/vecgeom+cpu (1)               runtime error: `insufficient capacity (262144)...\n",
       "cms2018/vecgeom+cpu (3)               runtime error: `insufficient capacity (262144)...\n",
       "cms2018/vecgeom+gpu+g4 (0)            Geant4 error: `trivial_device_copy D->H failed...\n",
       "cms2018/vecgeom+gpu+g4 (1)            Geant4 error: `an illegal memory access was en...\n",
       "cms2018/vecgeom+gpu+g4 (2)            Geant4 error: `an illegal memory access was en...\n",
       "cms2018/vecgeom+gpu+g4 (3)            Geant4 error: `trivial_device_copy D->H failed..."
      ]
     },
     "execution_count": 17,
     "metadata": {},
     "output_type": "execute_result"
    }
   ],
   "source": [
    "ftab = analyze.make_failure_table(perlmutter.failures())\n",
    "ftab.to_frame()"
   ]
  },
  {
   "cell_type": "code",
   "execution_count": 18,
   "id": "c35a7dbb-1c8d-4e2b-8e36-8502eb6899c0",
   "metadata": {
    "tags": []
   },
   "outputs": [],
   "source": [
    "testem3 = perlmutter.result.xs('testem3-flat+field+msc', level='problem').xs('orange', level='geo')\n",
    "event_per_sec = testem3['avg_event_per_time'].unstack('arch').describe().loc['mean']\n",
    "del event_per_sec['gpu+sync']"
   ]
  },
  {
   "cell_type": "code",
   "execution_count": 19,
   "id": "d26e7c65-de21-4ba7-8935-b3da49070a43",
   "metadata": {
    "tags": []
   },
   "outputs": [],
   "source": [
    "throughput = analyze.summarize_instances(perlmutter.result['avg_event_per_time'])\n",
    "throughput = throughput[~perlmutter.failed_pga]"
   ]
  },
  {
   "cell_type": "code",
   "execution_count": 20,
   "id": "ef0dcb39-0613-465a-9a62-2ef54be0ab34",
   "metadata": {
    "tags": []
   },
   "outputs": [],
   "source": [
    "(fig, ax) = plt.subplots(subplot_kw=dict(yscale='log'))\n",
    "perlmutter.plot_results(ax, throughput)\n",
    "ax.legend()\n",
    "ax.set_ylabel(\"Throughput [event/s]\")\n",
    "#fig.savefig(\"plots/perlmutter/throughput-with-geant.pdf\", transparent=True)\n",
    "fig.savefig(\"plots/perlmutter/throughput-with-geant.png\", dpi=150)\n",
    "plt.close()"
   ]
  },
  {
   "cell_type": "code",
   "execution_count": 21,
   "id": "f95c7fd4-1824-446e-828e-7715803bad85",
   "metadata": {
    "tags": []
   },
   "outputs": [],
   "source": [
    "ref = throughput.xs(('geant4', 'g4'), level=('geo', 'arch'))\n",
    "compare = throughput[throughput.index.get_level_values('arch') != 'g4']"
   ]
  },
  {
   "cell_type": "code",
   "execution_count": 22,
   "id": "c5945a63-1c08-45a7-8e83-6b09ca58b3c1",
   "metadata": {
    "tags": []
   },
   "outputs": [],
   "source": [
    "expanded_ref = ref.loc[list(compare.index.get_level_values('problem'))]\n",
    "expanded_ref.index = compare.index\n",
    "speedup = analyze.calc_summary_ratio(compare, expanded_ref)"
   ]
  },
  {
   "cell_type": "code",
   "execution_count": 23,
   "id": "8fd22768-3a64-404c-88d8-6b841e1ea12e",
   "metadata": {
    "tags": []
   },
   "outputs": [
    {
     "data": {
      "text/html": [
       "<div>\n",
       "<style scoped>\n",
       "    .dataframe tbody tr th:only-of-type {\n",
       "        vertical-align: middle;\n",
       "    }\n",
       "\n",
       "    .dataframe tbody tr th {\n",
       "        vertical-align: top;\n",
       "    }\n",
       "\n",
       "    .dataframe thead th {\n",
       "        text-align: right;\n",
       "    }\n",
       "</style>\n",
       "<table border=\"1\" class=\"dataframe\">\n",
       "  <thead>\n",
       "    <tr style=\"text-align: right;\">\n",
       "      <th></th>\n",
       "      <th></th>\n",
       "      <th>mean</th>\n",
       "      <th>std</th>\n",
       "    </tr>\n",
       "    <tr>\n",
       "      <th>problem</th>\n",
       "      <th>geo</th>\n",
       "      <th></th>\n",
       "      <th></th>\n",
       "    </tr>\n",
       "  </thead>\n",
       "  <tbody>\n",
       "    <tr>\n",
       "      <th>cms2018</th>\n",
       "      <th>vecgeom</th>\n",
       "      <td>1.685782</td>\n",
       "      <td>NaN</td>\n",
       "    </tr>\n",
       "    <tr>\n",
       "      <th>cms2018+field+msc</th>\n",
       "      <th>vecgeom</th>\n",
       "      <td>1.584606</td>\n",
       "      <td>0.013283</td>\n",
       "    </tr>\n",
       "    <tr>\n",
       "      <th>simple-cms+field</th>\n",
       "      <th>orange</th>\n",
       "      <td>2.014684</td>\n",
       "      <td>0.039284</td>\n",
       "    </tr>\n",
       "    <tr>\n",
       "      <th rowspan=\"2\" valign=\"top\">simple-cms+field+msc</th>\n",
       "      <th>orange</th>\n",
       "      <td>1.857650</td>\n",
       "      <td>0.022104</td>\n",
       "    </tr>\n",
       "    <tr>\n",
       "      <th>vecgeom</th>\n",
       "      <td>1.929621</td>\n",
       "      <td>0.013745</td>\n",
       "    </tr>\n",
       "    <tr>\n",
       "      <th>simple-cms+msc</th>\n",
       "      <th>orange</th>\n",
       "      <td>1.733764</td>\n",
       "      <td>0.043646</td>\n",
       "    </tr>\n",
       "    <tr>\n",
       "      <th>testem15</th>\n",
       "      <th>orange</th>\n",
       "      <td>1.946723</td>\n",
       "      <td>0.016644</td>\n",
       "    </tr>\n",
       "    <tr>\n",
       "      <th>testem15+field</th>\n",
       "      <th>orange</th>\n",
       "      <td>2.059373</td>\n",
       "      <td>0.028920</td>\n",
       "    </tr>\n",
       "    <tr>\n",
       "      <th rowspan=\"2\" valign=\"top\">testem15+field+msc</th>\n",
       "      <th>orange</th>\n",
       "      <td>1.925239</td>\n",
       "      <td>0.047718</td>\n",
       "    </tr>\n",
       "    <tr>\n",
       "      <th>vecgeom</th>\n",
       "      <td>2.047464</td>\n",
       "      <td>0.011305</td>\n",
       "    </tr>\n",
       "    <tr>\n",
       "      <th rowspan=\"2\" valign=\"top\">testem3-flat</th>\n",
       "      <th>orange</th>\n",
       "      <td>1.867189</td>\n",
       "      <td>0.010040</td>\n",
       "    </tr>\n",
       "    <tr>\n",
       "      <th>vecgeom</th>\n",
       "      <td>2.007431</td>\n",
       "      <td>0.020359</td>\n",
       "    </tr>\n",
       "    <tr>\n",
       "      <th>testem3-flat+field</th>\n",
       "      <th>orange</th>\n",
       "      <td>1.988829</td>\n",
       "      <td>0.020488</td>\n",
       "    </tr>\n",
       "    <tr>\n",
       "      <th rowspan=\"2\" valign=\"top\">testem3-flat+field+msc</th>\n",
       "      <th>orange</th>\n",
       "      <td>1.682499</td>\n",
       "      <td>0.005272</td>\n",
       "    </tr>\n",
       "    <tr>\n",
       "      <th>vecgeom</th>\n",
       "      <td>1.702134</td>\n",
       "      <td>0.006723</td>\n",
       "    </tr>\n",
       "    <tr>\n",
       "      <th>testem3-flat+msc</th>\n",
       "      <th>orange</th>\n",
       "      <td>1.548650</td>\n",
       "      <td>0.010486</td>\n",
       "    </tr>\n",
       "  </tbody>\n",
       "</table>\n",
       "</div>"
      ],
      "text/plain": [
       "                                    mean       std\n",
       "problem                geo                        \n",
       "cms2018                vecgeom  1.685782       NaN\n",
       "cms2018+field+msc      vecgeom  1.584606  0.013283\n",
       "simple-cms+field       orange   2.014684  0.039284\n",
       "simple-cms+field+msc   orange   1.857650  0.022104\n",
       "                       vecgeom  1.929621  0.013745\n",
       "simple-cms+msc         orange   1.733764  0.043646\n",
       "testem15               orange   1.946723  0.016644\n",
       "testem15+field         orange   2.059373  0.028920\n",
       "testem15+field+msc     orange   1.925239  0.047718\n",
       "                       vecgeom  2.047464  0.011305\n",
       "testem3-flat           orange   1.867189  0.010040\n",
       "                       vecgeom  2.007431  0.020359\n",
       "testem3-flat+field     orange   1.988829  0.020488\n",
       "testem3-flat+field+msc orange   1.682499  0.005272\n",
       "                       vecgeom  1.702134  0.006723\n",
       "testem3-flat+msc       orange   1.548650  0.010486"
      ]
     },
     "execution_count": 23,
     "metadata": {},
     "output_type": "execute_result"
    }
   ],
   "source": [
    "speedup.xs('cpu', level='arch')"
   ]
  },
  {
   "cell_type": "code",
   "execution_count": 24,
   "id": "8e68e255-db26-4854-aad1-d8a1516dd550",
   "metadata": {
    "tags": []
   },
   "outputs": [],
   "source": [
    "(fig, ax) = plt.subplots(subplot_kw=dict(yscale='log'))\n",
    "perlmutter.plot_results(ax, speedup)\n",
    "ax.legend()\n",
    "ax.set_ylabel(\"Speedup [C/G4]\")\n",
    "hline = ax.axhline(1.0, linestyle='-', linewidth=2,\n",
    "            color=(.7, .1, .1, 0.5,));\n",
    "fig.savefig(\"plots/perlmutter/speedup-wrt-geant.png\", dpi=150)#transparent=True)\n",
    "plt.close()"
   ]
  },
  {
   "cell_type": "markdown",
   "id": "744273c9-d170-4313-8e52-43cc7deba7e9",
   "metadata": {
    "tags": []
   },
   "source": [
    "# Occupancy"
   ]
  },
  {
   "cell_type": "code",
   "execution_count": 26,
   "id": "cbd28695-90b5-44e1-b578-4a5317d3e620",
   "metadata": {
    "tags": []
   },
   "outputs": [],
   "source": [
    "problem = \"testem3-flat\"\n",
    "kernel_stats = {\n",
    "    \"cuda/vecgeom\": analyze.load_kernels(summit, problem, \"vecgeom\"),\n",
    "    \"cuda/orange\": analyze.load_kernels(summit, problem, \"orange\"),\n",
    "    \"hip/orange\": analyze.load_kernels(frontier, problem, \"orange\"),\n",
    "}\n",
    "ksdf = analyze.kernel_stats_dataframe(kernel_stats)"
   ]
  },
  {
   "cell_type": "code",
   "execution_count": 27,
   "id": "1c834d08-31c7-45e2-9668-0865ca50c4a1",
   "metadata": {
    "tags": []
   },
   "outputs": [
    {
     "data": {
      "text/html": [
       "<div>\n",
       "<style scoped>\n",
       "    .dataframe tbody tr th:only-of-type {\n",
       "        vertical-align: middle;\n",
       "    }\n",
       "\n",
       "    .dataframe tbody tr th {\n",
       "        vertical-align: top;\n",
       "    }\n",
       "\n",
       "    .dataframe thead th {\n",
       "        text-align: right;\n",
       "    }\n",
       "</style>\n",
       "<table border=\"1\" class=\"dataframe\">\n",
       "  <thead>\n",
       "    <tr style=\"text-align: right;\">\n",
       "      <th></th>\n",
       "      <th></th>\n",
       "      <th></th>\n",
       "      <th>const_mem</th>\n",
       "      <th>heap_size</th>\n",
       "      <th>local_mem</th>\n",
       "      <th>max_blocks_per_cu</th>\n",
       "      <th>max_threads_per_block</th>\n",
       "      <th>max_warps_per_eu</th>\n",
       "      <th>num_regs</th>\n",
       "      <th>occupancy</th>\n",
       "      <th>threads_per_block</th>\n",
       "      <th>kernel_index</th>\n",
       "      <th>register_mem</th>\n",
       "    </tr>\n",
       "    <tr>\n",
       "      <th>arch</th>\n",
       "      <th>geo</th>\n",
       "      <th>name</th>\n",
       "      <th></th>\n",
       "      <th></th>\n",
       "      <th></th>\n",
       "      <th></th>\n",
       "      <th></th>\n",
       "      <th></th>\n",
       "      <th></th>\n",
       "      <th></th>\n",
       "      <th></th>\n",
       "      <th></th>\n",
       "      <th></th>\n",
       "    </tr>\n",
       "  </thead>\n",
       "  <tbody>\n",
       "    <tr>\n",
       "      <th rowspan=\"5\" valign=\"top\">cuda</th>\n",
       "      <th>vecgeom</th>\n",
       "      <th>scat-rayleigh</th>\n",
       "      <td>20776</td>\n",
       "      <td>8388608</td>\n",
       "      <td>104</td>\n",
       "      <td>4</td>\n",
       "      <td>256</td>\n",
       "      <td>32</td>\n",
       "      <td>64</td>\n",
       "      <td>0.500</td>\n",
       "      <td>256</td>\n",
       "      <td>15</td>\n",
       "      <td>256</td>\n",
       "    </tr>\n",
       "    <tr>\n",
       "      <th rowspan=\"4\" valign=\"top\">orange</th>\n",
       "      <th>initialize-tracks</th>\n",
       "      <td>0</td>\n",
       "      <td>8388608</td>\n",
       "      <td>160</td>\n",
       "      <td>5</td>\n",
       "      <td>256</td>\n",
       "      <td>40</td>\n",
       "      <td>48</td>\n",
       "      <td>0.625</td>\n",
       "      <td>256</td>\n",
       "      <td>1</td>\n",
       "      <td>192</td>\n",
       "    </tr>\n",
       "    <tr>\n",
       "      <th>photoel-livermore</th>\n",
       "      <td>0</td>\n",
       "      <td>8388608</td>\n",
       "      <td>80</td>\n",
       "      <td>3</td>\n",
       "      <td>256</td>\n",
       "      <td>24</td>\n",
       "      <td>68</td>\n",
       "      <td>0.375</td>\n",
       "      <td>256</td>\n",
       "      <td>12</td>\n",
       "      <td>272</td>\n",
       "    </tr>\n",
       "    <tr>\n",
       "      <th>scat-rayleigh</th>\n",
       "      <td>0</td>\n",
       "      <td>8388608</td>\n",
       "      <td>104</td>\n",
       "      <td>4</td>\n",
       "      <td>256</td>\n",
       "      <td>32</td>\n",
       "      <td>63</td>\n",
       "      <td>0.500</td>\n",
       "      <td>256</td>\n",
       "      <td>15</td>\n",
       "      <td>252</td>\n",
       "    </tr>\n",
       "    <tr>\n",
       "      <th>geo-boundary</th>\n",
       "      <td>0</td>\n",
       "      <td>8388608</td>\n",
       "      <td>176</td>\n",
       "      <td>4</td>\n",
       "      <td>256</td>\n",
       "      <td>32</td>\n",
       "      <td>64</td>\n",
       "      <td>0.500</td>\n",
       "      <td>256</td>\n",
       "      <td>17</td>\n",
       "      <td>256</td>\n",
       "    </tr>\n",
       "    <tr>\n",
       "      <th rowspan=\"2\" valign=\"top\">hip</th>\n",
       "      <th rowspan=\"2\" valign=\"top\">orange</th>\n",
       "      <th>initialize-tracks</th>\n",
       "      <td>0</td>\n",
       "      <td>68702699520</td>\n",
       "      <td>120</td>\n",
       "      <td>5</td>\n",
       "      <td>256</td>\n",
       "      <td>5</td>\n",
       "      <td>86</td>\n",
       "      <td>0.625</td>\n",
       "      <td>256</td>\n",
       "      <td>1</td>\n",
       "      <td>344</td>\n",
       "    </tr>\n",
       "    <tr>\n",
       "      <th>geo-boundary</th>\n",
       "      <td>0</td>\n",
       "      <td>68702699520</td>\n",
       "      <td>128</td>\n",
       "      <td>5</td>\n",
       "      <td>256</td>\n",
       "      <td>5</td>\n",
       "      <td>90</td>\n",
       "      <td>0.625</td>\n",
       "      <td>256</td>\n",
       "      <td>17</td>\n",
       "      <td>360</td>\n",
       "    </tr>\n",
       "  </tbody>\n",
       "</table>\n",
       "</div>"
      ],
      "text/plain": [
       "                                const_mem    heap_size  local_mem  \\\n",
       "arch geo     name                                                   \n",
       "cuda vecgeom scat-rayleigh          20776      8388608        104   \n",
       "     orange  initialize-tracks          0      8388608        160   \n",
       "             photoel-livermore          0      8388608         80   \n",
       "             scat-rayleigh              0      8388608        104   \n",
       "             geo-boundary               0      8388608        176   \n",
       "hip  orange  initialize-tracks          0  68702699520        120   \n",
       "             geo-boundary               0  68702699520        128   \n",
       "\n",
       "                                max_blocks_per_cu  max_threads_per_block  \\\n",
       "arch geo     name                                                          \n",
       "cuda vecgeom scat-rayleigh                      4                    256   \n",
       "     orange  initialize-tracks                  5                    256   \n",
       "             photoel-livermore                  3                    256   \n",
       "             scat-rayleigh                      4                    256   \n",
       "             geo-boundary                       4                    256   \n",
       "hip  orange  initialize-tracks                  5                    256   \n",
       "             geo-boundary                       5                    256   \n",
       "\n",
       "                                max_warps_per_eu  num_regs  occupancy  \\\n",
       "arch geo     name                                                       \n",
       "cuda vecgeom scat-rayleigh                    32        64      0.500   \n",
       "     orange  initialize-tracks                40        48      0.625   \n",
       "             photoel-livermore                24        68      0.375   \n",
       "             scat-rayleigh                    32        63      0.500   \n",
       "             geo-boundary                     32        64      0.500   \n",
       "hip  orange  initialize-tracks                 5        86      0.625   \n",
       "             geo-boundary                      5        90      0.625   \n",
       "\n",
       "                                threads_per_block  kernel_index  register_mem  \n",
       "arch geo     name                                                              \n",
       "cuda vecgeom scat-rayleigh                    256            15           256  \n",
       "     orange  initialize-tracks                256             1           192  \n",
       "             photoel-livermore                256            12           272  \n",
       "             scat-rayleigh                    256            15           252  \n",
       "             geo-boundary                     256            17           256  \n",
       "hip  orange  initialize-tracks                256             1           344  \n",
       "             geo-boundary                     256            17           360  "
      ]
     },
     "execution_count": 27,
     "metadata": {},
     "output_type": "execute_result"
    }
   ],
   "source": [
    "ksdf[ksdf['local_mem'] > 64]"
   ]
  },
  {
   "cell_type": "markdown",
   "id": "155b2a48-78a2-4e9b-b815-920f46243b14",
   "metadata": {},
   "source": [
    "# Performance per core"
   ]
  },
  {
   "cell_type": "code",
   "execution_count": 28,
   "id": "91468ca2-5ff4-49bb-aa2f-a63ac4f23e8f",
   "metadata": {
    "tags": []
   },
   "outputs": [],
   "source": [
    "cpu_power_per_task= {\n",
    "    \"summit\": 2 * 190 / 6,\n",
    "    \"frontier\": 225 / 8, # 64-core AMD “Optimized 3rd Gen EPYC”\n",
    "    \"perlmutter\": 280 / 4, # AMD EPYC 7453\n",
    "}\n",
    "\n",
    "# Per-task GPU power\n",
    "gpu_power_per_task = {\n",
    "    \"summit\": 250, # V100\n",
    "    \"frontier\": 500 / 2, # MI250x\n",
    "    \"perlmutter\": 250, # A100\n",
    "}\n",
    "\n",
    "cpu_per_task = {\n",
    "    \"summit\": 7, # 44 total, 2 reserved for system\n",
    "    \"frontier\": 7, # 64 total, 8 reserved\n",
    "    \"perlmutter\": 16,\n",
    "}"
   ]
  },
  {
   "cell_type": "code",
   "execution_count": 29,
   "id": "fb3cb9f9-5119-4835-9546-0993c9833359",
   "metadata": {
    "tags": []
   },
   "outputs": [
    {
     "data": {
      "text/plain": [
       "{'summit': 80, 'perlmutter': 108, 'frontier': 110}"
      ]
     },
     "execution_count": 29,
     "metadata": {},
     "output_type": "execute_result"
    }
   ],
   "source": [
    "def calc_events_per_task_sec(analysis, idx):\n",
    "    summary = analysis.summed.loc[idx]\n",
    "#    return analyze.inverse_summary(summary['avg_event_per_time'])\n",
    "    return summary['avg_event_per_time']\n",
    "\n",
    "def get_sm_count(analysis):\n",
    "    return analyze.get_device_properties(analysis)[\"multiprocessor_count\"]\n",
    "\n",
    "rates = {\n",
    "    \"frontier\": calc_events_per_task_sec(frontier, frontier.summed.index),\n",
    "    \"summit\": calc_events_per_task_sec(summit, frontier.summed.index),\n",
    "    \"perlmutter\": calc_events_per_task_sec(perlmutter, frontier.summed.index),\n",
    "}\n",
    "\n",
    "analyses = {\n",
    "    \"summit\": summit,\n",
    "    \"perlmutter\": perlmutter,\n",
    "    \"frontier\": frontier,\n",
    "}\n",
    "\n",
    "sm_per_gpu = {k: get_sm_count(v) for k, v in analyses.items()}\n",
    "\n",
    "sm_per_gpu"
   ]
  },
  {
   "cell_type": "code",
   "execution_count": 31,
   "id": "a2cd0e1d-4146-4830-b200-a65de7c7ea09",
   "metadata": {
    "tags": []
   },
   "outputs": [],
   "source": [
    "system_color = {\n",
    "    \"summit\": \"#7A954F\",\n",
    "    \"frontier\": \"#BC5544\",\n",
    "    \"perlmutter\": \"#3E92C7\",\n",
    "}"
   ]
  },
  {
   "cell_type": "code",
   "execution_count": 32,
   "id": "c8877c4e-266f-4c7e-9121-37967aa36eca",
   "metadata": {
    "tags": []
   },
   "outputs": [
    {
     "name": "stdout",
     "output_type": "stream",
     "text": [
      "frontier 0.1499143392240646 1.5860126730382798\n",
      "summit 0.08835991612886411 2.1261953110268186\n",
      "perlmutter 0.26534667645458965 3.6870559852115683\n"
     ]
    }
   ],
   "source": [
    "for k in rates:\n",
    "    print(k, rates[k].loc[('testem3-flat', 'orange', 'cpu'), 'mean'],\n",
    "         rates[k].loc[('testem3-flat', 'orange', 'gpu'), 'mean'])"
   ]
  },
  {
   "cell_type": "code",
   "execution_count": 35,
   "id": "358c06f3-b70b-48ef-819a-97c23e972260",
   "metadata": {
    "tags": []
   },
   "outputs": [],
   "source": [
    "(fig, ax) = plt.subplots(layout=\"constrained\")\n",
    "for k in analyses:\n",
    "    r = rates[k]\n",
    "    for arch in ['cpu', 'gpu']:\n",
    "        # events per task-sec\n",
    "        v = r[r.index.get_level_values(\"arch\") == arch].copy()\n",
    "        if arch == \"cpu\":\n",
    "            v /= cpu_per_task[k] # -> events/cpu-sec\n",
    "        else:\n",
    "            v /= sm_per_gpu[k]\n",
    "#        print(k, arch, \":\",\n",
    "#              \"per core =\", v.loc[('testem3-flat', 'orange', arch), 'mean'])\n",
    "        scat = analyses[k].plot_results(ax, v)\n",
    "        for s in scat:\n",
    "            s.set_color(system_color[k])\n",
    "            s.set_label(f\"{k.title()} ({arch.upper()})\")\n",
    "ax.legend()\n",
    "ax.set_xlabel(\"Problem\")\n",
    "ax.set_ylabel(\"Throughput per core/SM [event/s]\")\n",
    "grid = ax.grid(which='both')\n",
    "fig.savefig('plots/event-per-core.pdf', transparent=True)\n",
    "plt.close()"
   ]
  },
  {
   "cell_type": "code",
   "execution_count": 36,
   "id": "9ee1861b-33d6-4686-b307-3c1c10849e5d",
   "metadata": {
    "tags": []
   },
   "outputs": [],
   "source": [
    "# Per-task CPU power\n",
    "joule_per_wh = (3600)\n",
    "\n",
    "(fig, ax) = plt.subplots(#subplot_kw=dict(yscale=\"log\"),\n",
    "        layout=\"constrained\")\n",
    "for k in analyses:\n",
    "    r = rates[k]\n",
    "    for arch in ['cpu', 'gpu']:\n",
    "        v = r[r.index.get_level_values(\"arch\") == arch] # events/(task * s)\n",
    "        power = (cpu_power_per_task if arch == 'cpu' else gpu_power_per_task)[k] # J / s\n",
    "        per_wh = v / (power / joule_per_wh) # ==> events / kwh\n",
    "#        print(k, arch, \":\",\n",
    "#              \"throughput =\", v.loc[('testem3-flat', 'orange', arch), 'mean'],\n",
    "#              \"power usage = \", power,\n",
    "#              \", per W-h =\", per_wh.loc[('testem3-flat', 'orange', arch), 'mean'])\n",
    "        scat = analyses[k].plot_results(ax, per_wh)\n",
    "        for s in scat:\n",
    "            s.set_color(system_color[k])\n",
    "            s.set_label(f\"{k.title()} ({arch.upper()})\")\n",
    "\n",
    "ax.legend()\n",
    "ax.set_xlabel(\"Problem\")\n",
    "ax.set_ylabel(\"Efficiency [event/W-h]\")\n",
    "grid = ax.grid(which='both')\n",
    "fig.savefig('plots/event-per-energy.pdf', transparent=True)\n",
    "fig.savefig('plots/event-per-energy.png', transparent=False, dpi=150)\n",
    "plt.close()"
   ]
  },
  {
   "cell_type": "code",
   "execution_count": null,
   "id": "bcd19ad7-6c17-4565-a406-ba98de2d7213",
   "metadata": {},
   "outputs": [],
   "source": []
  }
 ],
 "metadata": {
  "kernelspec": {
   "display_name": "Python 3 (ipykernel)",
   "language": "python",
   "name": "python3"
  },
  "language_info": {
   "codemirror_mode": {
    "name": "ipython",
    "version": 3
   },
   "file_extension": ".py",
   "mimetype": "text/x-python",
   "name": "python",
   "nbconvert_exporter": "python",
   "pygments_lexer": "ipython3",
   "version": "3.9.16"
  }
 },
 "nbformat": 4,
 "nbformat_minor": 5
}
