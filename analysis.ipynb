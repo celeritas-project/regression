{
 "cells": [
  {
   "cell_type": "code",
   "execution_count": 1,
   "id": "69f4e8fb-a4aa-4c4c-9c1a-cc96abc5a5de",
   "metadata": {
    "tags": []
   },
   "outputs": [],
   "source": [
    "import json\n",
    "import matplotlib as mpl\n",
    "import matplotlib.pyplot as plt\n",
    "import numpy as np\n",
    "import pandas as pd\n",
    "import re\n",
    "import sys\n",
    "import itertools\n",
    "from collections import namedtuple, defaultdict\n",
    "from pathlib import Path\n",
    "\n",
    "%matplotlib inline\n",
    "%config InlineBackend.figure_format = 'retina'\n",
    "\n",
    "%load_ext autoreload\n",
    "%autoreload 1\n",
    "%aimport analyze\n",
    "\n",
    "with open('plots/style.json') as f:\n",
    "    mpl.rcParams.update(json.load(f))"
   ]
  },
  {
   "cell_type": "markdown",
   "id": "d60cf28f-4ccd-4dce-a049-0e05910de1c1",
   "metadata": {},
   "source": [
    "# Results"
   ]
  },
  {
   "cell_type": "markdown",
   "id": "94a45b0f-2213-404f-9512-6f857a2fab23",
   "metadata": {
    "tags": []
   },
   "source": [
    "## Wildstyle failures"
   ]
  },
  {
   "cell_type": "code",
   "execution_count": 2,
   "id": "a128569e-3417-4637-ab61-16c8ca2e065a",
   "metadata": {},
   "outputs": [
    {
     "name": "stdout",
     "output_type": "stream",
     "text": [
      "Analysis for Celeritas v0.4.0-rc.2 on wildstyle\n"
     ]
    }
   ],
   "source": [
    "ws = analyze.Analysis('results/wildstyle')\n",
    "print(ws)"
   ]
  },
  {
   "cell_type": "code",
   "execution_count": 3,
   "id": "2e7b3de1-9f2c-432d-a84a-50fbe3108d47",
   "metadata": {},
   "outputs": [
    {
     "data": {
      "text/html": [
       "<div>\n",
       "<style scoped>\n",
       "    .dataframe tbody tr th:only-of-type {\n",
       "        vertical-align: middle;\n",
       "    }\n",
       "\n",
       "    .dataframe tbody tr th {\n",
       "        vertical-align: top;\n",
       "    }\n",
       "\n",
       "    .dataframe thead th {\n",
       "        text-align: right;\n",
       "    }\n",
       "</style>\n",
       "<table border=\"1\" class=\"dataframe\">\n",
       "  <thead>\n",
       "    <tr style=\"text-align: right;\">\n",
       "      <th></th>\n",
       "      <th>Failure</th>\n",
       "    </tr>\n",
       "  </thead>\n",
       "  <tbody>\n",
       "    <tr>\n",
       "      <th>cms2018+field+msc/vecgeom+cpu (0)</th>\n",
       "      <td>internal assertion failed: `track.make_geo_vie...</td>\n",
       "    </tr>\n",
       "  </tbody>\n",
       "</table>\n",
       "</div>"
      ],
      "text/plain": [
       "                                                                             Failure\n",
       "cms2018+field+msc/vecgeom+cpu (0)  internal assertion failed: `track.make_geo_vie..."
      ]
     },
     "execution_count": 3,
     "metadata": {},
     "output_type": "execute_result"
    }
   ],
   "source": [
    "ftab = analyze.make_failure_table(ws.failures())\n",
    "ftab.to_frame()"
   ]
  },
  {
   "cell_type": "code",
   "execution_count": 5,
   "id": "3acf3fb9-9d0e-4424-bfea-0fe041ea0fda",
   "metadata": {
    "tags": []
   },
   "outputs": [
    {
     "data": {
      "text/plain": [
       "{'cms2018+field+msc/vecgeom+cpu (0)': 'internal assertion failed: `track.make_geo_view().pos() != orig_pos` at `PropagationApplier.hh:116`'}"
      ]
     },
     "execution_count": 5,
     "metadata": {},
     "output_type": "execute_result"
    }
   ],
   "source": [
    "ftab.to_dict()"
   ]
  },
  {
   "cell_type": "markdown",
   "id": "02985fd1-6930-4570-8869-990c7dc2557e",
   "metadata": {},
   "source": [
    "Unconverged tracks (from runs that didn't fail):"
   ]
  },
  {
   "cell_type": "code",
   "execution_count": 4,
   "id": "7bc64045-7223-491a-8e8d-6f6e19c018e4",
   "metadata": {},
   "outputs": [
    {
     "data": {
      "text/html": [
       "<div>\n",
       "<style scoped>\n",
       "    .dataframe tbody tr th:only-of-type {\n",
       "        vertical-align: middle;\n",
       "    }\n",
       "\n",
       "    .dataframe tbody tr th {\n",
       "        vertical-align: top;\n",
       "    }\n",
       "\n",
       "    .dataframe thead th {\n",
       "        text-align: right;\n",
       "    }\n",
       "</style>\n",
       "<table border=\"1\" class=\"dataframe\">\n",
       "  <thead>\n",
       "    <tr style=\"text-align: right;\">\n",
       "      <th></th>\n",
       "      <th>arch</th>\n",
       "    </tr>\n",
       "    <tr>\n",
       "      <th>problem</th>\n",
       "      <th>geo</th>\n",
       "    </tr>\n",
       "  </thead>\n",
       "  <tbody>\n",
       "  </tbody>\n",
       "</table>\n",
       "</div>"
      ],
      "text/plain": [
       "Empty DataFrame\n",
       "Columns: []\n",
       "Index: []"
      ]
     },
     "execution_count": 4,
     "metadata": {},
     "output_type": "execute_result"
    }
   ],
   "source": [
    "summed = analyze.summarize_instances(ws.result[['unconverged']])\n",
    "unconv = summed[('unconverged', 'mean')]\n",
    "unconv[unconv > 0].unstack('arch') "
   ]
  },
  {
   "cell_type": "markdown",
   "id": "8f58821b-7c2f-455e-97af-0d2d7e19e4d7",
   "metadata": {},
   "source": [
    "## Summit"
   ]
  },
  {
   "cell_type": "code",
   "execution_count": 14,
   "id": "76d8590d-f82a-4502-9ede-af7c5b404b55",
   "metadata": {},
   "outputs": [
    {
     "name": "stdout",
     "output_type": "stream",
     "text": [
      "Analysis for Celeritas v0.4.0-rc.2.17+fa123c7fe on summit\n"
     ]
    }
   ],
   "source": [
    "summit = analyze.Analysis('results/summit')\n",
    "print(summit)"
   ]
  },
  {
   "cell_type": "markdown",
   "id": "99662eee-68e1-4bc0-bf8d-2abffaf87f2d",
   "metadata": {
    "tags": []
   },
   "source": [
    "Average number of unconverged tracks:"
   ]
  },
  {
   "cell_type": "code",
   "execution_count": 8,
   "id": "0c102c29-678c-400c-bbc4-13aa320e52df",
   "metadata": {},
   "outputs": [
    {
     "data": {
      "text/html": [
       "<div>\n",
       "<style scoped>\n",
       "    .dataframe tbody tr th:only-of-type {\n",
       "        vertical-align: middle;\n",
       "    }\n",
       "\n",
       "    .dataframe tbody tr th {\n",
       "        vertical-align: top;\n",
       "    }\n",
       "\n",
       "    .dataframe thead th {\n",
       "        text-align: right;\n",
       "    }\n",
       "</style>\n",
       "<table border=\"1\" class=\"dataframe\">\n",
       "  <thead>\n",
       "    <tr style=\"text-align: right;\">\n",
       "      <th></th>\n",
       "      <th>arch</th>\n",
       "    </tr>\n",
       "    <tr>\n",
       "      <th>problem</th>\n",
       "      <th>geo</th>\n",
       "    </tr>\n",
       "  </thead>\n",
       "  <tbody>\n",
       "  </tbody>\n",
       "</table>\n",
       "</div>"
      ],
      "text/plain": [
       "Empty DataFrame\n",
       "Columns: []\n",
       "Index: []"
      ]
     },
     "execution_count": 8,
     "metadata": {},
     "output_type": "execute_result"
    }
   ],
   "source": [
    "unconv = analyze.summarize_instances(summit.result['unconverged'])['mean']\n",
    "unconv[unconv > 0].unstack('arch') "
   ]
  },
  {
   "cell_type": "markdown",
   "id": "bc83874b-11a4-43b8-8ed4-15a3ece23301",
   "metadata": {
    "tags": []
   },
   "source": [
    "## Crusher"
   ]
  },
  {
   "cell_type": "code",
   "execution_count": 9,
   "id": "069de579-aa32-47b5-a327-974840cae362",
   "metadata": {
    "tags": []
   },
   "outputs": [],
   "source": [
    "def get_step_times(results):\n",
    "    new_idx = []\n",
    "    times = []\n",
    "    for i in results.index:\n",
    "        try:\n",
    "            outp = results.load_results(i, 0)\n",
    "            step_times = analyze.StepTimeGetter(outp, stream=0)()\n",
    "        except Exception:\n",
    "            continue\n",
    "        times.append([step_times[i] for i in range(2)])\n",
    "        new_idx.append(i)\n",
    "    return pd.DataFrame(times, index=pd.MultiIndex.from_tuples(new_idx))"
   ]
  },
  {
   "cell_type": "code",
   "execution_count": 20,
   "id": "5f8234ad-2880-471a-89fb-35fcaecd6a52",
   "metadata": {},
   "outputs": [
    {
     "name": "stdout",
     "output_type": "stream",
     "text": [
      "Analysis for Celeritas v0.4.0-rc.2.4+affc7bb17 on crusher\n"
     ]
    }
   ],
   "source": [
    "crusher = analyze.Analysis('results/crusher')\n",
    "print(crusher)"
   ]
  },
  {
   "cell_type": "code",
   "execution_count": 21,
   "id": "4ef7cb2a-f45a-4648-b9d6-a22b63c8ab32",
   "metadata": {
    "tags": []
   },
   "outputs": [
    {
     "data": {
      "text/plain": [
       "{'can_map_host_memory': True,\n",
       " 'capability_major': 9,\n",
       " 'capability_minor': 0,\n",
       " 'clock_rate': 1700000,\n",
       " 'device_id': 0,\n",
       " 'eu_per_cu': 4,\n",
       " 'max_blocks_per_grid': 2147483647,\n",
       " 'max_cache_size': 8388608,\n",
       " 'max_threads_per_block': 1024,\n",
       " 'max_threads_per_cu': 2048,\n",
       " 'memory_clock_rate': 1600000,\n",
       " 'multiprocessor_count': 110,\n",
       " 'name': 'gfx90a',\n",
       " 'platform': 'hip',\n",
       " 'regs_per_block': 65536,\n",
       " 'shared_mem_per_block': 65536,\n",
       " 'threads_per_warp': 64,\n",
       " 'total_const_mem': 2147483647,\n",
       " 'total_global_mem': 68702699520}"
      ]
     },
     "execution_count": 21,
     "metadata": {},
     "output_type": "execute_result"
    }
   ],
   "source": [
    "analyze.get_device_properties(crusher)"
   ]
  },
  {
   "cell_type": "markdown",
   "id": "6be489b3-d4b4-4ce7-b8ec-666afc0ec74a",
   "metadata": {},
   "source": [
    "## Frontier"
   ]
  },
  {
   "cell_type": "code",
   "execution_count": 25,
   "id": "c30ce0bc-39a8-4688-9ee4-4d96b24a6f19",
   "metadata": {
    "tags": []
   },
   "outputs": [
    {
     "name": "stdout",
     "output_type": "stream",
     "text": [
      "Analysis for Celeritas v0.4.0-rc.2.4+affc7bb17 on frontier\n"
     ]
    }
   ],
   "source": [
    "frontier = analyze.Analysis('results/frontier')\n",
    "print(frontier)"
   ]
  },
  {
   "cell_type": "code",
   "execution_count": 12,
   "id": "0b4d70bf-cb0f-4437-983f-f5380f11d8c8",
   "metadata": {},
   "outputs": [],
   "source": [
    "frontier_rates = analyze.calc_event_rate(frontier)\n",
    "summit_rates = analyze.calc_event_rate(summit, summit.summed.loc[frontier_rates.index])\n",
    "\n",
    "counts = {\n",
    "    ('summit', 'cpu'): 7,\n",
    "    ('summit', 'gpu'): 1,\n",
    "    ('frontier', 'cpu'): 7,\n",
    "    ('frontier', 'gpu'): 1,\n",
    "}"
   ]
  },
  {
   "cell_type": "code",
   "execution_count": 13,
   "id": "092e391f-ba8d-428b-83bf-ea917c2d1d16",
   "metadata": {},
   "outputs": [
    {
     "data": {
      "text/html": [
       "<div>\n",
       "<style scoped>\n",
       "    .dataframe tbody tr th:only-of-type {\n",
       "        vertical-align: middle;\n",
       "    }\n",
       "\n",
       "    .dataframe tbody tr th {\n",
       "        vertical-align: top;\n",
       "    }\n",
       "\n",
       "    .dataframe thead th {\n",
       "        text-align: right;\n",
       "    }\n",
       "</style>\n",
       "<table border=\"1\" class=\"dataframe\">\n",
       "  <thead>\n",
       "    <tr style=\"text-align: right;\">\n",
       "      <th></th>\n",
       "      <th>arch</th>\n",
       "      <th>cpu</th>\n",
       "      <th>gpu</th>\n",
       "      <th>gpu+sync</th>\n",
       "    </tr>\n",
       "    <tr>\n",
       "      <th>problem</th>\n",
       "      <th>geo</th>\n",
       "      <th></th>\n",
       "      <th></th>\n",
       "      <th></th>\n",
       "    </tr>\n",
       "  </thead>\n",
       "  <tbody>\n",
       "    <tr>\n",
       "      <th>simple-cms+field</th>\n",
       "      <th>orange</th>\n",
       "      <td>1.859090</td>\n",
       "      <td>0.769070</td>\n",
       "      <td>NaN</td>\n",
       "    </tr>\n",
       "    <tr>\n",
       "      <th>simple-cms+field+msc</th>\n",
       "      <th>orange</th>\n",
       "      <td>1.944670</td>\n",
       "      <td>0.820616</td>\n",
       "      <td>NaN</td>\n",
       "    </tr>\n",
       "    <tr>\n",
       "      <th>simple-cms+msc</th>\n",
       "      <th>orange</th>\n",
       "      <td>1.870205</td>\n",
       "      <td>0.853647</td>\n",
       "      <td>NaN</td>\n",
       "    </tr>\n",
       "    <tr>\n",
       "      <th>testem15</th>\n",
       "      <th>orange</th>\n",
       "      <td>1.755824</td>\n",
       "      <td>0.799741</td>\n",
       "      <td>NaN</td>\n",
       "    </tr>\n",
       "    <tr>\n",
       "      <th>testem15+field</th>\n",
       "      <th>orange</th>\n",
       "      <td>1.866668</td>\n",
       "      <td>0.875827</td>\n",
       "      <td>0.878627</td>\n",
       "    </tr>\n",
       "    <tr>\n",
       "      <th>testem15+field+msc</th>\n",
       "      <th>orange</th>\n",
       "      <td>1.903381</td>\n",
       "      <td>0.911272</td>\n",
       "      <td>NaN</td>\n",
       "    </tr>\n",
       "    <tr>\n",
       "      <th>testem3-flat</th>\n",
       "      <th>orange</th>\n",
       "      <td>1.767941</td>\n",
       "      <td>0.725712</td>\n",
       "      <td>NaN</td>\n",
       "    </tr>\n",
       "    <tr>\n",
       "      <th>testem3-flat+field</th>\n",
       "      <th>orange</th>\n",
       "      <td>1.860801</td>\n",
       "      <td>0.739295</td>\n",
       "      <td>NaN</td>\n",
       "    </tr>\n",
       "    <tr>\n",
       "      <th>testem3-flat+field+msc</th>\n",
       "      <th>orange</th>\n",
       "      <td>1.919230</td>\n",
       "      <td>0.719573</td>\n",
       "      <td>0.723578</td>\n",
       "    </tr>\n",
       "    <tr>\n",
       "      <th>testem3-flat+msc</th>\n",
       "      <th>orange</th>\n",
       "      <td>1.842259</td>\n",
       "      <td>0.809204</td>\n",
       "      <td>NaN</td>\n",
       "    </tr>\n",
       "  </tbody>\n",
       "</table>\n",
       "</div>"
      ],
      "text/plain": [
       "arch                                cpu       gpu  gpu+sync\n",
       "problem                geo                                 \n",
       "simple-cms+field       orange  1.859090  0.769070       NaN\n",
       "simple-cms+field+msc   orange  1.944670  0.820616       NaN\n",
       "simple-cms+msc         orange  1.870205  0.853647       NaN\n",
       "testem15               orange  1.755824  0.799741       NaN\n",
       "testem15+field         orange  1.866668  0.875827  0.878627\n",
       "testem15+field+msc     orange  1.903381  0.911272       NaN\n",
       "testem3-flat           orange  1.767941  0.725712       NaN\n",
       "testem3-flat+field     orange  1.860801  0.739295       NaN\n",
       "testem3-flat+field+msc orange  1.919230  0.719573  0.723578\n",
       "testem3-flat+msc       orange  1.842259  0.809204       NaN"
      ]
     },
     "execution_count": 13,
     "metadata": {},
     "output_type": "execute_result"
    }
   ],
   "source": [
    "(frontier_rates['mean'] / summit_rates['mean']).unstack()"
   ]
  },
  {
   "cell_type": "markdown",
   "id": "9673639a-4c85-4213-8ef0-cbac79a74c70",
   "metadata": {},
   "source": [
    "## Perlmutter"
   ]
  },
  {
   "cell_type": "code",
   "execution_count": 2,
   "id": "1b755987-e74a-4edd-84d5-0cb5c78dc3c3",
   "metadata": {
    "tags": []
   },
   "outputs": [
    {
     "name": "stdout",
     "output_type": "stream",
     "text": [
      "Analysis for Celeritas v0.4.0 on perlmutter\n"
     ]
    }
   ],
   "source": [
    "perlmutter = analyze.Analysis('results/perlmutter')\n",
    "print(perlmutter)"
   ]
  },
  {
   "cell_type": "code",
   "execution_count": 3,
   "id": "c35a7dbb-1c8d-4e2b-8e36-8502eb6899c0",
   "metadata": {
    "tags": []
   },
   "outputs": [],
   "source": [
    "testem3 = perlmutter.result.xs('testem3-flat+field+msc', level='problem').xs('orange', level='geo')\n",
    "event_per_sec = testem3['avg_event_per_time'].unstack('arch').describe().loc['mean']\n",
    "del event_per_sec['gpu+sync']"
   ]
  },
  {
   "cell_type": "code",
   "execution_count": 4,
   "id": "0512d6b0-f2fd-4806-9f91-af6df9fcb3ae",
   "metadata": {
    "tags": []
   },
   "outputs": [
    {
     "data": {
      "text/plain": [
       "arch\n",
       "cpu    0.090867\n",
       "gpu    1.619334\n",
       "Name: mean, dtype: float64"
      ]
     },
     "execution_count": 4,
     "metadata": {},
     "output_type": "execute_result"
    }
   ],
   "source": [
    "event_per_sec"
   ]
  },
  {
   "cell_type": "code",
   "execution_count": 10,
   "id": "1d26a595-9af5-4aeb-8229-d23398530c26",
   "metadata": {
    "tags": []
   },
   "outputs": [],
   "source": [
    "cores_per_job = pd.Series([16, 1], index=event_per_sec.index)\n",
    "watt_per_card = pd.Series([280, 250], index=event_per_sec.index)\n",
    "cores_per_card = pd.Series([64, 1], index=event_per_sec.index) # AMD hardware cores, *NOT* threads\n",
    "watt_per_core = watt_per_card / cores_per_card\n",
    "watt_per_job = watt_per_core * cores_per_job\n",
    "event_per_joule = event_per_sec / watt_per_job"
   ]
  },
  {
   "cell_type": "code",
   "execution_count": 11,
   "id": "ca0666ae-0fbd-4c7d-b1e1-78c6203ced6d",
   "metadata": {
    "tags": []
   },
   "outputs": [
    {
     "data": {
      "text/plain": [
       "arch\n",
       "cpu    0.001298\n",
       "gpu    0.006477\n",
       "dtype: float64"
      ]
     },
     "execution_count": 11,
     "metadata": {},
     "output_type": "execute_result"
    }
   ],
   "source": [
    "event_per_joule"
   ]
  },
  {
   "cell_type": "code",
   "execution_count": 12,
   "id": "2e8b60ed-0e51-4095-8e9f-5f255e93b917",
   "metadata": {
    "tags": []
   },
   "outputs": [
    {
     "data": {
      "text/plain": [
       "4.989850269771324"
      ]
     },
     "execution_count": 12,
     "metadata": {},
     "output_type": "execute_result"
    }
   ],
   "source": [
    "event_per_joule['gpu'] / event_per_joule['cpu']"
   ]
  },
  {
   "cell_type": "code",
   "execution_count": 13,
   "id": "d9b2186c-6d28-4ac8-aa95-acd643231ac9",
   "metadata": {
    "tags": []
   },
   "outputs": [
    {
     "data": {
      "text/plain": [
       "arch\n",
       "cpu     4.673169\n",
       "gpu    23.318415\n",
       "dtype: float64"
      ]
     },
     "execution_count": 13,
     "metadata": {},
     "output_type": "execute_result"
    }
   ],
   "source": [
    "event_per_wh = event_per_joule * 60 * 60\n",
    "event_per_wh"
   ]
  },
  {
   "cell_type": "markdown",
   "id": "8a3953ba-2c25-499e-86b5-29fcb9c52d88",
   "metadata": {
    "tags": []
   },
   "source": [
    "# Occupancy"
   ]
  },
  {
   "cell_type": "code",
   "execution_count": 26,
   "id": "cbd28695-90b5-44e1-b578-4a5317d3e620",
   "metadata": {
    "tags": []
   },
   "outputs": [],
   "source": [
    "problem = \"testem3-flat\"\n",
    "kernel_stats = {\n",
    "    \"cuda/vecgeom\": analyze.load_kernels(summit, problem, \"vecgeom\"),\n",
    "    \"cuda/orange\": analyze.load_kernels(summit, problem, \"orange\"),\n",
    "    \"hip/orange\": analyze.load_kernels(frontier, problem, \"orange\"),\n",
    "}\n",
    "ksdf = analyze.kernel_stats_dataframe(kernel_stats)"
   ]
  },
  {
   "cell_type": "code",
   "execution_count": 27,
   "id": "1c834d08-31c7-45e2-9668-0865ca50c4a1",
   "metadata": {
    "tags": []
   },
   "outputs": [
    {
     "data": {
      "text/html": [
       "<div>\n",
       "<style scoped>\n",
       "    .dataframe tbody tr th:only-of-type {\n",
       "        vertical-align: middle;\n",
       "    }\n",
       "\n",
       "    .dataframe tbody tr th {\n",
       "        vertical-align: top;\n",
       "    }\n",
       "\n",
       "    .dataframe thead th {\n",
       "        text-align: right;\n",
       "    }\n",
       "</style>\n",
       "<table border=\"1\" class=\"dataframe\">\n",
       "  <thead>\n",
       "    <tr style=\"text-align: right;\">\n",
       "      <th></th>\n",
       "      <th></th>\n",
       "      <th></th>\n",
       "      <th>const_mem</th>\n",
       "      <th>heap_size</th>\n",
       "      <th>local_mem</th>\n",
       "      <th>max_blocks_per_cu</th>\n",
       "      <th>max_threads_per_block</th>\n",
       "      <th>max_warps_per_eu</th>\n",
       "      <th>num_regs</th>\n",
       "      <th>occupancy</th>\n",
       "      <th>threads_per_block</th>\n",
       "      <th>kernel_index</th>\n",
       "      <th>register_mem</th>\n",
       "    </tr>\n",
       "    <tr>\n",
       "      <th>arch</th>\n",
       "      <th>geo</th>\n",
       "      <th>name</th>\n",
       "      <th></th>\n",
       "      <th></th>\n",
       "      <th></th>\n",
       "      <th></th>\n",
       "      <th></th>\n",
       "      <th></th>\n",
       "      <th></th>\n",
       "      <th></th>\n",
       "      <th></th>\n",
       "      <th></th>\n",
       "      <th></th>\n",
       "    </tr>\n",
       "  </thead>\n",
       "  <tbody>\n",
       "    <tr>\n",
       "      <th rowspan=\"5\" valign=\"top\">cuda</th>\n",
       "      <th>vecgeom</th>\n",
       "      <th>scat-rayleigh</th>\n",
       "      <td>20776</td>\n",
       "      <td>8388608</td>\n",
       "      <td>104</td>\n",
       "      <td>4</td>\n",
       "      <td>256</td>\n",
       "      <td>32</td>\n",
       "      <td>64</td>\n",
       "      <td>0.500</td>\n",
       "      <td>256</td>\n",
       "      <td>15</td>\n",
       "      <td>256</td>\n",
       "    </tr>\n",
       "    <tr>\n",
       "      <th rowspan=\"4\" valign=\"top\">orange</th>\n",
       "      <th>initialize-tracks</th>\n",
       "      <td>0</td>\n",
       "      <td>8388608</td>\n",
       "      <td>160</td>\n",
       "      <td>5</td>\n",
       "      <td>256</td>\n",
       "      <td>40</td>\n",
       "      <td>48</td>\n",
       "      <td>0.625</td>\n",
       "      <td>256</td>\n",
       "      <td>1</td>\n",
       "      <td>192</td>\n",
       "    </tr>\n",
       "    <tr>\n",
       "      <th>photoel-livermore</th>\n",
       "      <td>0</td>\n",
       "      <td>8388608</td>\n",
       "      <td>80</td>\n",
       "      <td>3</td>\n",
       "      <td>256</td>\n",
       "      <td>24</td>\n",
       "      <td>68</td>\n",
       "      <td>0.375</td>\n",
       "      <td>256</td>\n",
       "      <td>12</td>\n",
       "      <td>272</td>\n",
       "    </tr>\n",
       "    <tr>\n",
       "      <th>scat-rayleigh</th>\n",
       "      <td>0</td>\n",
       "      <td>8388608</td>\n",
       "      <td>104</td>\n",
       "      <td>4</td>\n",
       "      <td>256</td>\n",
       "      <td>32</td>\n",
       "      <td>63</td>\n",
       "      <td>0.500</td>\n",
       "      <td>256</td>\n",
       "      <td>15</td>\n",
       "      <td>252</td>\n",
       "    </tr>\n",
       "    <tr>\n",
       "      <th>geo-boundary</th>\n",
       "      <td>0</td>\n",
       "      <td>8388608</td>\n",
       "      <td>176</td>\n",
       "      <td>4</td>\n",
       "      <td>256</td>\n",
       "      <td>32</td>\n",
       "      <td>64</td>\n",
       "      <td>0.500</td>\n",
       "      <td>256</td>\n",
       "      <td>17</td>\n",
       "      <td>256</td>\n",
       "    </tr>\n",
       "    <tr>\n",
       "      <th rowspan=\"2\" valign=\"top\">hip</th>\n",
       "      <th rowspan=\"2\" valign=\"top\">orange</th>\n",
       "      <th>initialize-tracks</th>\n",
       "      <td>0</td>\n",
       "      <td>68702699520</td>\n",
       "      <td>120</td>\n",
       "      <td>5</td>\n",
       "      <td>256</td>\n",
       "      <td>5</td>\n",
       "      <td>86</td>\n",
       "      <td>0.625</td>\n",
       "      <td>256</td>\n",
       "      <td>1</td>\n",
       "      <td>344</td>\n",
       "    </tr>\n",
       "    <tr>\n",
       "      <th>geo-boundary</th>\n",
       "      <td>0</td>\n",
       "      <td>68702699520</td>\n",
       "      <td>128</td>\n",
       "      <td>5</td>\n",
       "      <td>256</td>\n",
       "      <td>5</td>\n",
       "      <td>90</td>\n",
       "      <td>0.625</td>\n",
       "      <td>256</td>\n",
       "      <td>17</td>\n",
       "      <td>360</td>\n",
       "    </tr>\n",
       "  </tbody>\n",
       "</table>\n",
       "</div>"
      ],
      "text/plain": [
       "                                const_mem    heap_size  local_mem  \\\n",
       "arch geo     name                                                   \n",
       "cuda vecgeom scat-rayleigh          20776      8388608        104   \n",
       "     orange  initialize-tracks          0      8388608        160   \n",
       "             photoel-livermore          0      8388608         80   \n",
       "             scat-rayleigh              0      8388608        104   \n",
       "             geo-boundary               0      8388608        176   \n",
       "hip  orange  initialize-tracks          0  68702699520        120   \n",
       "             geo-boundary               0  68702699520        128   \n",
       "\n",
       "                                max_blocks_per_cu  max_threads_per_block  \\\n",
       "arch geo     name                                                          \n",
       "cuda vecgeom scat-rayleigh                      4                    256   \n",
       "     orange  initialize-tracks                  5                    256   \n",
       "             photoel-livermore                  3                    256   \n",
       "             scat-rayleigh                      4                    256   \n",
       "             geo-boundary                       4                    256   \n",
       "hip  orange  initialize-tracks                  5                    256   \n",
       "             geo-boundary                       5                    256   \n",
       "\n",
       "                                max_warps_per_eu  num_regs  occupancy  \\\n",
       "arch geo     name                                                       \n",
       "cuda vecgeom scat-rayleigh                    32        64      0.500   \n",
       "     orange  initialize-tracks                40        48      0.625   \n",
       "             photoel-livermore                24        68      0.375   \n",
       "             scat-rayleigh                    32        63      0.500   \n",
       "             geo-boundary                     32        64      0.500   \n",
       "hip  orange  initialize-tracks                 5        86      0.625   \n",
       "             geo-boundary                      5        90      0.625   \n",
       "\n",
       "                                threads_per_block  kernel_index  register_mem  \n",
       "arch geo     name                                                              \n",
       "cuda vecgeom scat-rayleigh                    256            15           256  \n",
       "     orange  initialize-tracks                256             1           192  \n",
       "             photoel-livermore                256            12           272  \n",
       "             scat-rayleigh                    256            15           252  \n",
       "             geo-boundary                     256            17           256  \n",
       "hip  orange  initialize-tracks                256             1           344  \n",
       "             geo-boundary                     256            17           360  "
      ]
     },
     "execution_count": 27,
     "metadata": {},
     "output_type": "execute_result"
    }
   ],
   "source": [
    "ksdf[ksdf['local_mem'] > 64]"
   ]
  },
  {
   "cell_type": "markdown",
   "id": "155b2a48-78a2-4e9b-b815-920f46243b14",
   "metadata": {},
   "source": [
    "# Performance per core"
   ]
  },
  {
   "cell_type": "code",
   "execution_count": 47,
   "id": "98274066-1b8a-4cf2-a517-59b2b11650ad",
   "metadata": {
    "tags": []
   },
   "outputs": [
    {
     "data": {
      "text/plain": [
       "MultiIndex([(      'simple-cms+field', 'orange',      'cpu'),\n",
       "            (      'simple-cms+field', 'orange',      'gpu'),\n",
       "            (  'simple-cms+field+msc', 'orange',      'cpu'),\n",
       "            (  'simple-cms+field+msc', 'orange',      'gpu'),\n",
       "            (        'simple-cms+msc', 'orange',      'cpu'),\n",
       "            (        'simple-cms+msc', 'orange',      'gpu'),\n",
       "            (              'testem15', 'orange',      'cpu'),\n",
       "            (              'testem15', 'orange',      'gpu'),\n",
       "            (        'testem15+field', 'orange',      'cpu'),\n",
       "            (        'testem15+field', 'orange',      'gpu'),\n",
       "            (        'testem15+field', 'orange', 'gpu+sync'),\n",
       "            (    'testem15+field+msc', 'orange',      'cpu'),\n",
       "            (    'testem15+field+msc', 'orange',      'gpu'),\n",
       "            (          'testem3-flat', 'orange',      'cpu'),\n",
       "            (          'testem3-flat', 'orange',      'gpu'),\n",
       "            (    'testem3-flat+field', 'orange',      'cpu'),\n",
       "            (    'testem3-flat+field', 'orange',      'gpu'),\n",
       "            ('testem3-flat+field+msc', 'orange',      'cpu'),\n",
       "            ('testem3-flat+field+msc', 'orange',      'gpu'),\n",
       "            ('testem3-flat+field+msc', 'orange', 'gpu+sync'),\n",
       "            (      'testem3-flat+msc', 'orange',      'cpu'),\n",
       "            (      'testem3-flat+msc', 'orange',      'gpu')],\n",
       "           names=['problem', 'geo', 'arch'])"
      ]
     },
     "execution_count": 47,
     "metadata": {},
     "output_type": "execute_result"
    }
   ],
   "source": [
    "frontier_rates.index"
   ]
  },
  {
   "cell_type": "code",
   "execution_count": 32,
   "id": "fb3cb9f9-5119-4835-9546-0993c9833359",
   "metadata": {},
   "outputs": [],
   "source": [
    "frontier_rates = analyze.calc_event_rate(frontier)\n",
    "\n",
    "def calc_event_rate_with_index(analysis, idx):\n",
    "    return analyze.calc_event_rate(analysis, analysis.summed.loc[idx])\n",
    "\n",
    "rates = {\n",
    "    \"frontier\": frontier_rates,\n",
    "    \"summit\": calc_event_rate_with_index(summit, frontier_rates.index),\n",
    "    \"perlmutter\": calc_event_rate_with_index(perlmutter, frontier_rates.index),\n",
    "}\n",
    "\n",
    "cpu_per_gpu = {\n",
    "    \"wildstyle\": 32,\n",
    "    \"summit\": 7,\n",
    "    \"frontier\": 7,\n",
    "    \"crusher\": 7,\n",
    "    \"perlmutter\": 16,\n",
    "}"
   ]
  },
  {
   "cell_type": "code",
   "execution_count": 33,
   "id": "d848e709-6185-47be-9f19-6f6fa42d1b70",
   "metadata": {
    "tags": []
   },
   "outputs": [],
   "source": [
    "gpu_per_machine = {\n",
    "    \"wildstyle\": 2,\n",
    "    \"summit\": 6,\n",
    "    \"frontier\": 8,\n",
    "    \"crusher\": 8,\n",
    "    \"perlmutter\": 4,\n",
    "}"
   ]
  },
  {
   "cell_type": "code",
   "execution_count": 40,
   "id": "81a28b39-793c-4d49-8d44-ce226eb6fa66",
   "metadata": {
    "tags": []
   },
   "outputs": [],
   "source": [
    "def get_sm_count(analysis):\n",
    "    return analyze.get_device_properties(analysis)[\"multiprocessor_count\"]\n",
    "\n",
    "analyses = {\n",
    "    \"summit\": summit,\n",
    "    \"perlmutter\": perlmutter,\n",
    "    \"frontier\": frontier,\n",
    "}\n",
    "\n",
    "sm_per_gpu = {k: get_sm_count(v) for k, v in analyses.items()}"
   ]
  },
  {
   "cell_type": "code",
   "execution_count": 59,
   "id": "9de3f826-50fa-483a-ba54-cc741469ff92",
   "metadata": {
    "tags": []
   },
   "outputs": [
    {
     "data": {
      "text/plain": [
       "{'summit': 80, 'perlmutter': 108, 'frontier': 110}"
      ]
     },
     "execution_count": 59,
     "metadata": {},
     "output_type": "execute_result"
    }
   ],
   "source": [
    "sm_per_gpu"
   ]
  },
  {
   "cell_type": "code",
   "execution_count": 45,
   "id": "a2cd0e1d-4146-4830-b200-a65de7c7ea09",
   "metadata": {
    "tags": []
   },
   "outputs": [],
   "source": [
    "system_color = {\n",
    "    \"summit\": \"#7A954F\",\n",
    "    \"frontier\": \"#BC5544\",\n",
    "    \"perlmutter\": \"#3E92C7\",\n",
    "}"
   ]
  },
  {
   "cell_type": "code",
   "execution_count": 57,
   "id": "955c7b1c-f47a-4649-8867-a724c27111d2",
   "metadata": {
    "tags": []
   },
   "outputs": [
    {
     "data": {
      "image/png": "[encoded data removed]",
      "text/plain": [
       "<Figure size 562.5x450 with 1 Axes>"
      ]
     },
     "metadata": {
      "image/png": {
       "height": 459,
       "width": 541
      }
     },
     "output_type": "display_data"
    }
   ],
   "source": [
    "(fig, ax) = plt.subplots()\n",
    "for k in analyses:\n",
    "    for arch in ['cpu', 'gpu']:\n",
    "        r = rates[k]\n",
    "        v = r[r.index.get_level_values(\"arch\") == arch]\n",
    "        if arch == \"cpu\":\n",
    "            v /= cpu_per_gpu[k]\n",
    "        else:\n",
    "            v /= sm_per_gpu[k]\n",
    "        scat = analyses[k].plot_results(ax, v)\n",
    "        for s in scat:\n",
    "            s.set_color(system_color[k])\n",
    "            s.set_label(f\"{k.title()} ({arch})\")\n",
    "ax.legend()\n",
    "ax.set_xlabel(\"Problem\")\n",
    "ax.set_ylabel(\"Event rate per core\")\n",
    "fig.savefig('event-per-core.png', dpi=150, transparent=False)"
   ]
  }
 ],
 "metadata": {
  "kernelspec": {
   "display_name": "Python 3 (ipykernel)",
   "language": "python",
   "name": "python3"
  },
  "language_info": {
   "codemirror_mode": {
    "name": "ipython",
    "version": 3
   },
   "file_extension": ".py",
   "mimetype": "text/x-python",
   "name": "python",
   "nbconvert_exporter": "python",
   "pygments_lexer": "ipython3",
   "version": "3.9.16"
  }
 },
 "nbformat": 4,
 "nbformat_minor": 5
}
