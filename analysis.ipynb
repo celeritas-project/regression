{
 "cells": [
  {
   "cell_type": "code",
   "execution_count": 1,
   "id": "69f4e8fb-a4aa-4c4c-9c1a-cc96abc5a5de",
   "metadata": {
    "tags": []
   },
   "outputs": [],
   "source": [
    "import json\n",
    "import matplotlib as mpl\n",
    "import matplotlib.pyplot as plt\n",
    "import numpy as np\n",
    "import pandas as pd\n",
    "import re\n",
    "import sys\n",
    "import itertools\n",
    "from collections import namedtuple, defaultdict\n",
    "from pathlib import Path\n",
    "\n",
    "%matplotlib inline\n",
    "%config InlineBackend.figure_format = 'retina'\n",
    "\n",
    "%load_ext autoreload\n",
    "%autoreload 1\n",
    "%aimport analyze\n",
    "\n",
    "with open('plots/style.json') as f:\n",
    "    mpl.rcParams.update(json.load(f))"
   ]
  },
  {
   "cell_type": "markdown",
   "id": "94a45b0f-2213-404f-9512-6f857a2fab23",
   "metadata": {
    "tags": []
   },
   "source": [
    "## Wildstyle failures"
   ]
  },
  {
   "cell_type": "code",
   "execution_count": 2,
   "id": "a128569e-3417-4637-ab61-16c8ca2e065a",
   "metadata": {},
   "outputs": [
    {
     "name": "stdout",
     "output_type": "stream",
     "text": [
      "Analysis for Celeritas v0.3.2-rc.1 on wildstyle\n"
     ]
    }
   ],
   "source": [
    "ws = analyze.Analysis('results/wildstyle')\n",
    "print(ws)"
   ]
  },
  {
   "cell_type": "code",
   "execution_count": 3,
   "id": "2e7b3de1-9f2c-432d-a84a-50fbe3108d47",
   "metadata": {},
   "outputs": [
    {
     "data": {
      "text/html": [
       "<div>\n",
       "<style scoped>\n",
       "    .dataframe tbody tr th:only-of-type {\n",
       "        vertical-align: middle;\n",
       "    }\n",
       "\n",
       "    .dataframe tbody tr th {\n",
       "        vertical-align: top;\n",
       "    }\n",
       "\n",
       "    .dataframe thead th {\n",
       "        text-align: right;\n",
       "    }\n",
       "</style>\n",
       "<table border=\"1\" class=\"dataframe\">\n",
       "  <thead>\n",
       "    <tr style=\"text-align: right;\">\n",
       "      <th></th>\n",
       "      <th>Failure</th>\n",
       "    </tr>\n",
       "  </thead>\n",
       "  <tbody>\n",
       "  </tbody>\n",
       "</table>\n",
       "</div>"
      ],
      "text/plain": [
       "Empty DataFrame\n",
       "Columns: [Failure]\n",
       "Index: []"
      ]
     },
     "execution_count": 3,
     "metadata": {},
     "output_type": "execute_result"
    }
   ],
   "source": [
    "ftab = analyze.make_failure_table(ws.failures())\n",
    "ftab.to_frame()"
   ]
  },
  {
   "cell_type": "markdown",
   "id": "02985fd1-6930-4570-8869-990c7dc2557e",
   "metadata": {},
   "source": [
    "Unconverged tracks (from runs that didn't fail):"
   ]
  },
  {
   "cell_type": "code",
   "execution_count": 4,
   "id": "7bc64045-7223-491a-8e8d-6f6e19c018e4",
   "metadata": {},
   "outputs": [
    {
     "data": {
      "text/html": [
       "<div>\n",
       "<style scoped>\n",
       "    .dataframe tbody tr th:only-of-type {\n",
       "        vertical-align: middle;\n",
       "    }\n",
       "\n",
       "    .dataframe tbody tr th {\n",
       "        vertical-align: top;\n",
       "    }\n",
       "\n",
       "    .dataframe thead th {\n",
       "        text-align: right;\n",
       "    }\n",
       "</style>\n",
       "<table border=\"1\" class=\"dataframe\">\n",
       "  <thead>\n",
       "    <tr style=\"text-align: right;\">\n",
       "      <th></th>\n",
       "      <th>arch</th>\n",
       "    </tr>\n",
       "    <tr>\n",
       "      <th>problem</th>\n",
       "      <th>geo</th>\n",
       "    </tr>\n",
       "  </thead>\n",
       "  <tbody>\n",
       "  </tbody>\n",
       "</table>\n",
       "</div>"
      ],
      "text/plain": [
       "Empty DataFrame\n",
       "Columns: []\n",
       "Index: []"
      ]
     },
     "execution_count": 4,
     "metadata": {},
     "output_type": "execute_result"
    }
   ],
   "source": [
    "summed = analyze.summarize_instances(ws.result[['unconverged']])\n",
    "unconv = summed[('unconverged', 'mean')]\n",
    "unconv[unconv > 0].unstack('arch') "
   ]
  },
  {
   "cell_type": "markdown",
   "id": "8f58821b-7c2f-455e-97af-0d2d7e19e4d7",
   "metadata": {},
   "source": [
    "# Results\n",
    "## Summit"
   ]
  },
  {
   "cell_type": "code",
   "execution_count": 5,
   "id": "76d8590d-f82a-4502-9ede-af7c5b404b55",
   "metadata": {},
   "outputs": [
    {
     "name": "stdout",
     "output_type": "stream",
     "text": [
      "Analysis for Celeritas v0.4.0-dev.138+fd9d70b9b on summit\n"
     ]
    }
   ],
   "source": [
    "summit = analyze.Analysis('results/summit')\n",
    "print(summit)\n",
    "summed = summit.summed\n",
    "problems = summit.problems()\n",
    "problem_to_abbr = summit.problem_to_abbr(problems)\n",
    "p_to_i = dict(zip(problems, itertools.count()))"
   ]
  },
  {
   "cell_type": "markdown",
   "id": "99662eee-68e1-4bc0-bf8d-2abffaf87f2d",
   "metadata": {
    "tags": []
   },
   "source": [
    "### Failures\n",
    "\n",
    "Average number of unconverged tracks:"
   ]
  },
  {
   "cell_type": "code",
   "execution_count": 6,
   "id": "0c102c29-678c-400c-bbc4-13aa320e52df",
   "metadata": {},
   "outputs": [
    {
     "data": {
      "text/html": [
       "<div>\n",
       "<style scoped>\n",
       "    .dataframe tbody tr th:only-of-type {\n",
       "        vertical-align: middle;\n",
       "    }\n",
       "\n",
       "    .dataframe tbody tr th {\n",
       "        vertical-align: top;\n",
       "    }\n",
       "\n",
       "    .dataframe thead th {\n",
       "        text-align: right;\n",
       "    }\n",
       "</style>\n",
       "<table border=\"1\" class=\"dataframe\">\n",
       "  <thead>\n",
       "    <tr style=\"text-align: right;\">\n",
       "      <th></th>\n",
       "      <th>arch</th>\n",
       "    </tr>\n",
       "    <tr>\n",
       "      <th>problem</th>\n",
       "      <th>geo</th>\n",
       "    </tr>\n",
       "  </thead>\n",
       "  <tbody>\n",
       "  </tbody>\n",
       "</table>\n",
       "</div>"
      ],
      "text/plain": [
       "Empty DataFrame\n",
       "Columns: []\n",
       "Index: []"
      ]
     },
     "execution_count": 6,
     "metadata": {},
     "output_type": "execute_result"
    }
   ],
   "source": [
    "unconv = analyze.summarize_instances(summit.result['unconverged'])['mean']\n",
    "unconv[unconv > 0].unstack('arch') "
   ]
  },
  {
   "cell_type": "markdown",
   "id": "fdf16ce1-92e1-411b-82e0-b012a09d9902",
   "metadata": {},
   "source": [
    "### Timing tables"
   ]
  },
  {
   "cell_type": "code",
   "execution_count": 7,
   "id": "7429b6a8-8934-42e9-bc67-1205108d2a9c",
   "metadata": {},
   "outputs": [],
   "source": [
    "times = summed[('total_time', 'mean')].unstack()\n",
    "speedup = analyze.get_cpugpu_ratio(summed['total_time']).dropna(how='all', axis=0)"
   ]
  },
  {
   "cell_type": "code",
   "execution_count": 8,
   "id": "1badece2-3957-4d6b-ab82-16c784b01fb0",
   "metadata": {
    "tags": []
   },
   "outputs": [],
   "source": [
    "with open(\"results/summit/throughput.md\", \"w\") as f:\n",
    "    analyze.dump_event_rate(f, summit)\n",
    "    \n",
    "with open(\"results/summit/speedup.md\", \"w\") as f:\n",
    "    analyze.dump_speedup(f, summit)"
   ]
  },
  {
   "cell_type": "code",
   "execution_count": 9,
   "id": "91b5c39f-2430-42cc-99f3-6c20f9e5b536",
   "metadata": {},
   "outputs": [
    {
     "name": "stdout",
     "output_type": "stream",
     "text": [
      "arch         cpu        gpu   gpu+sync\n",
      "geo                                   \n",
      "orange   1.01917  33.151208  32.529327\n",
      "vecgeom  1.00000  16.295044  16.142589\n"
     ]
    }
   ],
   "source": [
    "event_rate = analyze.calc_event_rate(summit)\n",
    "testem3 = event_rate['mean'].xs('testem3-flat+field+msc', level='problem').unstack('arch')\n",
    "print(str(testem3 / testem3.loc[('vecgeom', 'cpu')]))"
   ]
  },
  {
   "cell_type": "code",
   "execution_count": 10,
   "id": "46713d7d-ca10-49c3-b9d8-a065d460ad80",
   "metadata": {},
   "outputs": [
    {
     "name": "stdout",
     "output_type": "stream",
     "text": [
      "Speedups: 7×–45×\n",
      "CPU:GPU equivalence: 48×–312×\n"
     ]
    }
   ],
   "source": [
    "_desc = (speedup['mean'].dropna()).describe()\n",
    "print(\"Speedups: {min:.0f}×–{max:.0f}×\".format(**_desc))\n",
    "_desc = (speedup['mean'].dropna() * 7).describe()\n",
    "print(\"CPU:GPU equivalence: {min:.0f}×–{max:.0f}×\".format(**_desc))"
   ]
  },
  {
   "cell_type": "markdown",
   "id": "37e0c9a5-1625-4c7e-949c-ba23dc7003f2",
   "metadata": {},
   "source": [
    "### Plots"
   ]
  },
  {
   "cell_type": "code",
   "execution_count": 11,
   "id": "89369671-aa74-47b5-b8ae-46c4bbca828d",
   "metadata": {},
   "outputs": [],
   "source": [
    "(fig, [run_ax, setup_ax]) = plt.subplots(nrows=2,\n",
    "                                         gridspec_kw=dict(height_ratios=[3, 1]),\n",
    "                                         subplot_kw=dict(yscale='log'))\n",
    "summit.plot_results(run_ax, summed['total_time'])\n",
    "run_ax.legend();\n",
    "run_ax.set_ylabel('Run [s]')\n",
    "run_ax.tick_params(labelbottom=False)\n",
    "summit.plot_results(setup_ax, summed['setup_time'])\n",
    "setup_ax.set_ylabel('Setup [s]')\n",
    "analyze.annotate_metadata(run_ax, summit)\n",
    "plt.tight_layout()\n",
    "fig.savefig('plots/timing.pdf', transparent=True)\n",
    "plt.close()"
   ]
  },
  {
   "cell_type": "code",
   "execution_count": 12,
   "id": "87884089-6f53-41ae-a07f-64cf4ee3c8c0",
   "metadata": {
    "tags": []
   },
   "outputs": [],
   "source": [
    "fig, ax = plt.subplots()\n",
    "summit.plot_results(ax, speedup)\n",
    "ax.set_ylabel(\"Speedup (7-CPU / 1-GPU wall time)\")\n",
    "ax.set_ylim([0, None])\n",
    "analyze.annotate_metadata(ax, summit)\n",
    "plt.tight_layout()\n",
    "fig.savefig('plots/speedups.pdf', transparent=True)\n",
    "fig.savefig('results/summit/speedup.png', transparent=False, dpi=150)\n",
    "plt.close()"
   ]
  },
  {
   "cell_type": "code",
   "execution_count": 13,
   "id": "da2f761d-26a4-4474-b5b3-7df74a3aeb37",
   "metadata": {},
   "outputs": [],
   "source": [
    "fig, axes = plt.subplots(nrows=2, figsize=(4,4), subplot_kw=dict(yscale='log'))\n",
    "for (ax, q) in zip(axes, ['step', 'primary']):\n",
    "    summit.plot_results(ax, analyze.inverse_summary(summed['avg_time_per_' + q]))\n",
    "    ax.set_ylabel(q + ' per sec')\n",
    "    if ax != axes[-1]:\n",
    "        ax.tick_params(labelbottom=False)\n",
    "    ax.legend()\n",
    "plt.tight_layout()\n",
    "fig.savefig('plots/steps-vs-primaries.pdf')\n",
    "plt.close()"
   ]
  },
  {
   "cell_type": "markdown",
   "id": "3e23b3f0-6497-4664-8ed0-0228a7a330cd",
   "metadata": {},
   "source": [
    "### Geometry fraction"
   ]
  },
  {
   "cell_type": "code",
   "execution_count": 14,
   "id": "5aa7e20a-cb8e-4fc8-b627-b8e10d93cef2",
   "metadata": {
    "tags": []
   },
   "outputs": [],
   "source": [
    "action_times = summit.result['action_times'][summit.valid]\n",
    "_arch = action_times.index.get_level_values('arch')\n",
    "# Only get CPU and GPU+sync values\n",
    "action_times = analyze.unstack_subdict(action_times[_arch != 'gpu'])\n",
    "# Get a mask for action categories\n",
    "_cat = np.vectorize(analyze.get_action_priority)(action_times.columns)\n",
    "geo_actions = (_cat == analyze.KernelCategory.GEO) | (_cat == analyze.KernelCategory.GP)"
   ]
  },
  {
   "cell_type": "code",
   "execution_count": 15,
   "id": "a872e7db-bd9c-4f1f-9a1c-ded5a8627838",
   "metadata": {
    "tags": []
   },
   "outputs": [],
   "source": [
    "# Replace 'gpu+sync' with 'gpu'\n",
    "def update_tuple(t):\n",
    "    if t[2] == 'gpu+sync':\n",
    "        t = t[:2] + ('gpu',) + t[3:]\n",
    "    return t\n",
    "geo_action_times = action_times.loc[:, geo_actions]\n",
    "geo_action_times.index = pd.MultiIndex.from_tuples([update_tuple(r) for r in geo_action_times.index],\n",
    "                                       names=geo_action_times.index.names)"
   ]
  },
  {
   "cell_type": "code",
   "execution_count": 16,
   "id": "c33d0e74-4ed5-486d-82a3-c3f566a0e3c2",
   "metadata": {
    "tags": []
   },
   "outputs": [],
   "source": [
    "geo_frac = analyze.summarize_instances(geo_action_times.sum(axis=1) / summit.result['total_time'])\n",
    "geo_frac.dropna(inplace=True)"
   ]
  },
  {
   "cell_type": "code",
   "execution_count": 17,
   "id": "12ed19f2-6172-4a02-9eda-717a89b67053",
   "metadata": {
    "tags": []
   },
   "outputs": [],
   "source": [
    "gf_table = geo_frac['mean'].unstack(['geo', 'arch']).applymap(analyze.float_fmt_transform(2))"
   ]
  },
  {
   "cell_type": "code",
   "execution_count": 18,
   "id": "4ca81c4a-3c04-4286-bec7-dfd1a58e5904",
   "metadata": {
    "tags": []
   },
   "outputs": [],
   "source": [
    "with open(\"results/summit/geo-frac.md\", \"w\") as f:\n",
    "    analyze.dump_markdown(f,\n",
    "                  [\"Problem\"] + [\"/\".join(c) for c in gf_table.columns], \n",
    "                  np.concatenate([np.array([gf_table.index]).T, gf_table], axis=1),\n",
    "                  alignment=\"<\" + \">\"*gf_table.shape[1])"
   ]
  },
  {
   "cell_type": "code",
   "execution_count": 19,
   "id": "04acd1f8-5314-4a7f-93c6-5997a49c7170",
   "metadata": {},
   "outputs": [],
   "source": [
    "(fig, (time_ax, geo_ax)) = plt.subplots(\n",
    "    nrows=2, #figsize=(4, 4),\n",
    "    gridspec_kw=dict(height_ratios=[3, 1])\n",
    ")\n",
    "analyze.plot_event_rate(time_ax, summit)\n",
    "time_ax.tick_params(labelbottom=False)\n",
    "time_ax.legend()\n",
    "\n",
    "summit.plot_results(geo_ax, geo_frac * 100)\n",
    "geo_ax.set_ylabel(\"Geometry [%]\")\n",
    "geo_ax.set_ylim([0, 100])\n",
    "plt.tight_layout()\n",
    "fig.savefig('plots/throughput-geo.pdf', transparent=True)\n",
    "plt.close()"
   ]
  },
  {
   "cell_type": "markdown",
   "id": "063f43f0-9f98-4494-8c76-190cd39ddd87",
   "metadata": {
    "tags": []
   },
   "source": [
    "### Action fraction pie charts"
   ]
  },
  {
   "cell_type": "code",
   "execution_count": 20,
   "id": "61a7d666-c9a3-42cb-8fa3-d93d4fe14c4d",
   "metadata": {},
   "outputs": [],
   "source": [
    "avg_time = summed[('total_time', 'mean')].T\n",
    "mean_action_times = summit.action_times().xs('mean', axis=1, level=1).T"
   ]
  },
  {
   "cell_type": "code",
   "execution_count": 21,
   "id": "01487b42-3804-41f9-b1b2-5c326d201c96",
   "metadata": {},
   "outputs": [
    {
     "name": "stdout",
     "output_type": "stream",
     "text": [
      "Missing problem/geo: cms2018+field+msc orange\n"
     ]
    }
   ],
   "source": [
    "for (prob, geo) in itertools.product(\n",
    "        [\"testem15+field\", \"testem3-flat+field+msc\", \"cms2018+field+msc\"],\n",
    "        [\"vecgeom\", \"orange\"]):\n",
    "    try:\n",
    "        plot_times = mean_action_times.xs((prob, geo), axis=1, level=('problem', 'geo')).dropna(axis=1, how='all')\n",
    "    except KeyError:\n",
    "        plot_times = pd.DataFrame()\n",
    "    if plot_times.empty:\n",
    "        print(\"Missing problem/geo:\", prob, geo)\n",
    "        continue\n",
    "    md = {k: getattr(summit, k) for k in [\"version\", \"system\"]}\n",
    "    pieplot = analyze.PiePlotter(plot_times)\n",
    "    \n",
    "    # Loop over CPU/GPU\n",
    "    for arch in pieplot.arch:\n",
    "        (fig, ax) = plt.subplots(figsize=(3, 3), subplot_kw=dict(aspect=\"equal\"),\n",
    "                                 layout=\"constrained\")\n",
    "        pieplot(ax, arch)\n",
    "        name = (prob, geo, arch)\n",
    "        slashname = \"/\".join(name)\n",
    "        fig.text(\n",
    "            0.98, 0.1, f\"{slashname}\\n{md['version']} on {md['system']}\",\n",
    "            va='bottom', ha='right',\n",
    "            fontstyle='italic', color=(0.75,)*4, size='xx-small',\n",
    "#            zorder=-100\n",
    "        )\n",
    "\n",
    "        dashname = \"-\".join(name)        \n",
    "        fig.savefig(f'plots/actions-{dashname}.pdf', transparent=True)\n",
    "        plt.close()"
   ]
  },
  {
   "cell_type": "markdown",
   "id": "c2c6f5c3-e848-4c94-9862-113ccbab23f9",
   "metadata": {
    "tags": []
   },
   "source": [
    "### Plot per-step timing on GPU"
   ]
  },
  {
   "cell_type": "code",
   "execution_count": 22,
   "id": "eca3d899-aa08-4c19-bb36-506ef108df67",
   "metadata": {
    "tags": []
   },
   "outputs": [],
   "source": [
    "for p in ['cms2018', 'cms2018+field+msc']:\n",
    "    data = summit.load_results((p, 'vecgeom', 'gpu'), 0)\n",
    "    (fig, axes) = plt.subplots(nrows=2, figsize=(3, 4), sharex=True)\n",
    "    for i, ax, plot in zip(itertools.count(),\n",
    "                           axes,\n",
    "                           [analyze.plot_counts, analyze.plot_accum_time_inv]):\n",
    "        objs = plot(ax, data)\n",
    "        analyze.annotate_metadata(ax, data['_metadata'])\n",
    "        if i == 0:\n",
    "            ax.set_xlabel(None)\n",
    "    fig.savefig(f'plots/per-step-{p}.pdf', transparent=True)\n",
    "    plt.tight_layout()\n",
    "    plt.close()\n",
    "    \n",
    "    (fig, ax) = plt.subplots(figsize=(4, 3))\n",
    "    analyze.plot_time_per_step(ax, data, scale=2)\n",
    "    analyze.annotate_metadata(ax, summit)\n",
    "    plt.tight_layout()\n",
    "    fig.savefig(f'plots/time-per-step-{p}.pdf', transparent=True)\n",
    "    plt.close()"
   ]
  },
  {
   "cell_type": "markdown",
   "id": "bc83874b-11a4-43b8-8ed4-15a3ece23301",
   "metadata": {
    "tags": []
   },
   "source": [
    "## Crusher"
   ]
  },
  {
   "cell_type": "code",
   "execution_count": 23,
   "id": "069de579-aa32-47b5-a327-974840cae362",
   "metadata": {
    "tags": []
   },
   "outputs": [],
   "source": [
    "def get_step_times(results):\n",
    "    new_idx = []\n",
    "    times = []\n",
    "    for i in results.index:\n",
    "        try:\n",
    "            outp = results.load_results(i, 0)\n",
    "            step_times = analyze.StepTimeGetter(outp, stream=0)()\n",
    "        except Exception:\n",
    "            continue\n",
    "        times.append([step_times[i] for i in range(2)])\n",
    "        new_idx.append(i)\n",
    "    return pd.DataFrame(times, index=pd.MultiIndex.from_tuples(new_idx))"
   ]
  },
  {
   "cell_type": "code",
   "execution_count": 24,
   "id": "5f8234ad-2880-471a-89fb-35fcaecd6a52",
   "metadata": {},
   "outputs": [
    {
     "name": "stdout",
     "output_type": "stream",
     "text": [
      "Analysis for Celeritas v0.4.0-dev.99+4507705b5 on crusher\n"
     ]
    }
   ],
   "source": [
    "crusher = analyze.Analysis('results/crusher')\n",
    "print(crusher)"
   ]
  },
  {
   "cell_type": "code",
   "execution_count": 25,
   "id": "741dd944-a264-488e-a7ef-880647345abb",
   "metadata": {},
   "outputs": [
    {
     "name": "stdout",
     "output_type": "stream",
     "text": [
      "WARNING: no inputs available for cms2018\n",
      "WARNING: no inputs available for cms2018+field+msc\n"
     ]
    }
   ],
   "source": [
    "with open(\"results/crusher/throughput.md\", \"w\") as f:\n",
    "    analyze.dump_event_rate(f, crusher)"
   ]
  },
  {
   "cell_type": "markdown",
   "id": "6be489b3-d4b4-4ce7-b8ec-666afc0ec74a",
   "metadata": {},
   "source": [
    "## Frontier"
   ]
  },
  {
   "cell_type": "code",
   "execution_count": 26,
   "id": "c30ce0bc-39a8-4688-9ee4-4d96b24a6f19",
   "metadata": {
    "tags": []
   },
   "outputs": [
    {
     "name": "stdout",
     "output_type": "stream",
     "text": [
      "Analysis for Celeritas v0.4.0-dev.101+585806eb4 on frontier\n"
     ]
    }
   ],
   "source": [
    "frontier = analyze.Analysis('results/frontier')\n",
    "print(frontier)"
   ]
  },
  {
   "cell_type": "code",
   "execution_count": 27,
   "id": "8b771d00-4b7f-44b6-8d2a-03a37e4296e9",
   "metadata": {
    "tags": []
   },
   "outputs": [
    {
     "name": "stdout",
     "output_type": "stream",
     "text": [
      "WARNING: no inputs available for cms2018\n",
      "WARNING: no inputs available for cms2018+field+msc\n",
      "WARNING: no inputs available for cms2018\n",
      "WARNING: no inputs available for cms2018+field+msc\n"
     ]
    }
   ],
   "source": [
    "with open(\"results/frontier/throughput.md\", \"w\") as f:\n",
    "    analyze.dump_event_rate(f, frontier)\n",
    "    \n",
    "with open(\"results/frontier/speedup.md\", \"w\") as f:\n",
    "    analyze.dump_speedup(f, frontier)"
   ]
  },
  {
   "cell_type": "code",
   "execution_count": 28,
   "id": "0b4d70bf-cb0f-4437-983f-f5380f11d8c8",
   "metadata": {},
   "outputs": [],
   "source": [
    "frontier_rates = analyze.calc_event_rate(frontier)\n",
    "summit_rates = analyze.calc_event_rate(summit, summit.summed.loc[frontier_rates.index])\n",
    "\n",
    "counts = {\n",
    "    ('summit', 'cpu'): 7,\n",
    "    ('summit', 'gpu'): 1,\n",
    "    ('frontier', 'cpu'): 8,\n",
    "    ('frontier', 'gpu'): 1,\n",
    "}"
   ]
  },
  {
   "cell_type": "code",
   "execution_count": 29,
   "id": "092e391f-ba8d-428b-83bf-ea917c2d1d16",
   "metadata": {},
   "outputs": [
    {
     "data": {
      "text/html": [
       "<div>\n",
       "<style scoped>\n",
       "    .dataframe tbody tr th:only-of-type {\n",
       "        vertical-align: middle;\n",
       "    }\n",
       "\n",
       "    .dataframe tbody tr th {\n",
       "        vertical-align: top;\n",
       "    }\n",
       "\n",
       "    .dataframe thead th {\n",
       "        text-align: right;\n",
       "    }\n",
       "</style>\n",
       "<table border=\"1\" class=\"dataframe\">\n",
       "  <thead>\n",
       "    <tr style=\"text-align: right;\">\n",
       "      <th></th>\n",
       "      <th>arch</th>\n",
       "      <th>cpu</th>\n",
       "      <th>gpu</th>\n",
       "      <th>gpu+sync</th>\n",
       "    </tr>\n",
       "    <tr>\n",
       "      <th>problem</th>\n",
       "      <th>geo</th>\n",
       "      <th></th>\n",
       "      <th></th>\n",
       "      <th></th>\n",
       "    </tr>\n",
       "  </thead>\n",
       "  <tbody>\n",
       "    <tr>\n",
       "      <th>simple-cms+field</th>\n",
       "      <th>orange</th>\n",
       "      <td>1.455114</td>\n",
       "      <td>0.800337</td>\n",
       "      <td>NaN</td>\n",
       "    </tr>\n",
       "    <tr>\n",
       "      <th>simple-cms+field+msc</th>\n",
       "      <th>orange</th>\n",
       "      <td>1.541246</td>\n",
       "      <td>0.853329</td>\n",
       "      <td>NaN</td>\n",
       "    </tr>\n",
       "    <tr>\n",
       "      <th>simple-cms+msc</th>\n",
       "      <th>orange</th>\n",
       "      <td>0.930457</td>\n",
       "      <td>0.858847</td>\n",
       "      <td>NaN</td>\n",
       "    </tr>\n",
       "    <tr>\n",
       "      <th>testem15</th>\n",
       "      <th>orange</th>\n",
       "      <td>0.831736</td>\n",
       "      <td>0.795938</td>\n",
       "      <td>NaN</td>\n",
       "    </tr>\n",
       "    <tr>\n",
       "      <th>testem15+field</th>\n",
       "      <th>orange</th>\n",
       "      <td>0.891700</td>\n",
       "      <td>0.897284</td>\n",
       "      <td>0.901763</td>\n",
       "    </tr>\n",
       "    <tr>\n",
       "      <th>testem15+field+msc</th>\n",
       "      <th>orange</th>\n",
       "      <td>1.033451</td>\n",
       "      <td>0.931403</td>\n",
       "      <td>NaN</td>\n",
       "    </tr>\n",
       "    <tr>\n",
       "      <th>testem3-flat</th>\n",
       "      <th>orange</th>\n",
       "      <td>1.124521</td>\n",
       "      <td>0.735030</td>\n",
       "      <td>NaN</td>\n",
       "    </tr>\n",
       "    <tr>\n",
       "      <th>testem3-flat+field</th>\n",
       "      <th>orange</th>\n",
       "      <td>1.027988</td>\n",
       "      <td>0.782586</td>\n",
       "      <td>NaN</td>\n",
       "    </tr>\n",
       "    <tr>\n",
       "      <th>testem3-flat+field+msc</th>\n",
       "      <th>orange</th>\n",
       "      <td>1.553406</td>\n",
       "      <td>0.753832</td>\n",
       "      <td>0.757914</td>\n",
       "    </tr>\n",
       "    <tr>\n",
       "      <th>testem3-flat+msc</th>\n",
       "      <th>orange</th>\n",
       "      <td>1.316004</td>\n",
       "      <td>0.818958</td>\n",
       "      <td>NaN</td>\n",
       "    </tr>\n",
       "  </tbody>\n",
       "</table>\n",
       "</div>"
      ],
      "text/plain": [
       "arch                                cpu       gpu  gpu+sync\n",
       "problem                geo                                 \n",
       "simple-cms+field       orange  1.455114  0.800337       NaN\n",
       "simple-cms+field+msc   orange  1.541246  0.853329       NaN\n",
       "simple-cms+msc         orange  0.930457  0.858847       NaN\n",
       "testem15               orange  0.831736  0.795938       NaN\n",
       "testem15+field         orange  0.891700  0.897284  0.901763\n",
       "testem15+field+msc     orange  1.033451  0.931403       NaN\n",
       "testem3-flat           orange  1.124521  0.735030       NaN\n",
       "testem3-flat+field     orange  1.027988  0.782586       NaN\n",
       "testem3-flat+field+msc orange  1.553406  0.753832  0.757914\n",
       "testem3-flat+msc       orange  1.316004  0.818958       NaN"
      ]
     },
     "execution_count": 29,
     "metadata": {},
     "output_type": "execute_result"
    }
   ],
   "source": [
    "(frontier_rates['mean'] / summit_rates['mean']).unstack()"
   ]
  },
  {
   "cell_type": "code",
   "execution_count": 30,
   "id": "7d362311-b839-4d29-8104-dae654b1d380",
   "metadata": {
    "tags": []
   },
   "outputs": [],
   "source": [
    "fig, ax = plt.subplots()\n",
    "ax.set_yscale('log')\n",
    "for offset, color, machine, rates in [(-0.05, '#7A954F', 'Summit', summit_rates),\n",
    "                                      (0.05, '#BC5544', 'Frontier', frontier_rates)]:\n",
    "    for arch in ['cpu', 'gpu']:\n",
    "        summary = rates.xs(arch, level='arch')\n",
    "        index = np.array([p_to_i[p]\n",
    "                          for p in summary.index.get_level_values('problem')], dtype=float)\n",
    "        index += offset\n",
    "    \n",
    "        mark = analyze.ARCH_SHAPES[arch]\n",
    "        count = counts[(machine.lower(), arch)]\n",
    "        arch = arch.upper()\n",
    "        ax.errorbar(index, summary['mean'], summary['std'],\n",
    "                    capsize=0, fmt='none', ecolor=(0.2,)*3)\n",
    "        scat = ax.scatter(index, summary['mean'], c=color, marker=mark,\n",
    "                         label=f\"{machine} ({count} {arch})\")    \n",
    "xax = ax.get_xaxis()\n",
    "xax.set_ticks(np.arange(len(problems)))\n",
    "xax.set_ticklabels(list(problem_to_abbr.values()), rotation=90)\n",
    "grid = ax.grid()\n",
    "ax.set_axisbelow(True)\n",
    "ax.legend()\n",
    "ax.set_ylabel(r\"Event rate [1/s]\")\n",
    "analyze.annotate_metadata(ax, summit)\n",
    "plt.tight_layout()\n",
    "fig.savefig('plots/frontier-vs-summit.pdf')\n",
    "fig.savefig('results/frontier/event-rate.png')\n",
    "plt.close()"
   ]
  },
  {
   "cell_type": "markdown",
   "id": "8a3953ba-2c25-499e-86b5-29fcb9c52d88",
   "metadata": {
    "tags": []
   },
   "source": [
    "# Occupancy"
   ]
  },
  {
   "cell_type": "code",
   "execution_count": 31,
   "id": "97db0e7e-79dd-47a5-8257-9df5e5015fba",
   "metadata": {},
   "outputs": [],
   "source": [
    "BYTES_PER_REG = 4 # 32-bit registers\n",
    "\n",
    "def load_kernels(results, problem, geo):\n",
    "    return results.load_results((problem, geo, 'gpu'), 0)['system']['kernels']\n",
    "\n",
    "def kernel_stats_dataframe(kernel_stats):\n",
    "    values = []\n",
    "    index = []\n",
    "    for (instance, kernels) in kernel_stats.items():\n",
    "        arch, _, geo = instance.partition('/')\n",
    "        for (ki, stats) in enumerate(kernels):\n",
    "            stats.pop('stack_size', None) # Unavailable with HIP\n",
    "            row = list(stats.values())\n",
    "            row.append(ki)\n",
    "            values.append(row)\n",
    "            name = stats['name']\n",
    "            if name == \"extend-from-secondaries\":\n",
    "                # Fixup duplicate name\n",
    "                name = f\"{name}-{ki}\"\n",
    "            index.append((arch, geo, name))\n",
    "    index=pd.MultiIndex.from_tuples(index, names=('arch', 'geo', 'name'))\n",
    "    columns = pd.Index(list(stats.keys()) + ['kernel_index'])\n",
    "    result = pd.DataFrame(values, index=index, columns=columns)\n",
    "    del result['name']\n",
    "    del result['print_buffer_size']\n",
    "    result['register_mem'] = result['num_regs'] * BYTES_PER_REG\n",
    "    return result"
   ]
  },
  {
   "cell_type": "code",
   "execution_count": 32,
   "id": "906c6850-76dc-4a25-92bc-babdcf54f7f7",
   "metadata": {},
   "outputs": [],
   "source": [
    "def plot_kernel_mem(ax, ksdf, colors, labels):\n",
    "    labels = ['local_mem', 'register_mem']\n",
    "    y = np.arange(len(labels))\n",
    "    width = .9 / len(multimem)\n",
    "    ynudge = np.linspace(-0.34, 0.34, len(multimem))\n",
    "    \n",
    "    for (i, (k, mem)) in enumerate(multimem.items()):\n",
    "        values = np.array(list(mem.values()), dtype=dtype)\n",
    "\n",
    "        ax.barh(y + ynudge[i], values['register'], width,\n",
    "                color=colors[k], label=f'{pretty_labels[k]}')\n",
    "        ax.barh(y + ynudge[i], values['local'], width, left=values['register'],\n",
    "                color=colors[k + '.spill'])#, label=f'Local spill ({pretty_labels[k]})')\n",
    "\n",
    "    ax.invert_yaxis();\n",
    "    ax.set_xlabel('Memory [B]')\n",
    "    ax.set_yticks(y, labels)\n",
    "    leg = ax.legend()\n",
    "    leg.set_title(\"Register usage (light)\\nLocal spill (dark)\")\n",
    "    leg.get_title().set_fontsize('x-small')"
   ]
  },
  {
   "cell_type": "code",
   "execution_count": 33,
   "id": "d838e645-e3c3-4966-a9e9-d08c78830769",
   "metadata": {},
   "outputs": [],
   "source": [
    "kernel_stats = {\n",
    "    'cuda/vecgeom': load_kernels(summit, 'testem3-flat+field+msc', 'vecgeom'),\n",
    "    'cuda/orange': load_kernels(summit, 'testem3-flat+field+msc', 'orange'),\n",
    "    'hip/orange': load_kernels(frontier, 'testem3-flat+field+msc', 'orange'),\n",
    "}\n",
    "pretty_labels = {\n",
    "    'cuda/vecgeom': 'NVIDIA V100 (VecGeom)',\n",
    "    'cuda/orange': 'NVIDIA V100 (ORANGE)',\n",
    "    'hip/orange': 'AMD MI250 (ORANGE)',\n",
    "}\n",
    "colors = {\n",
    "    'cuda/vecgeom': (191, 40, 96),\n",
    "    'cuda/vecgeom.spill': (107, 76, 88),\n",
    "    'cuda/orange': (153, 168, 50),\n",
    "    'cuda/orange.spill': (106, 112, 67),\n",
    "    'hip/orange': (57, 140, 173),\n",
    "    'hip/orange.spill': (78, 101, 110),\n",
    "}\n",
    "colors = {k: np.array(v, dtype=float) / 255 for k, v in colors.items()}"
   ]
  },
  {
   "cell_type": "code",
   "execution_count": 34,
   "id": "00c5a70e-c128-42c5-9a0e-8958c6f2cb65",
   "metadata": {
    "tags": []
   },
   "outputs": [],
   "source": [
    "ksdf = kernel_stats_dataframe(kernel_stats)"
   ]
  },
  {
   "cell_type": "code",
   "execution_count": 35,
   "id": "3c34ffcf-b60a-414a-9d8d-536b40f73ec1",
   "metadata": {
    "tags": []
   },
   "outputs": [],
   "source": [
    "with open(\"kernel-occupancy.md\", \"w\") as f:\n",
    "    analyze.dump_markdown(\n",
    "        f,\n",
    "        list(ksdf.index.names) + ['local', 'register', 'occupancy'],\n",
    "        np.concatenate([\n",
    "            np.array([list(v) for v in ksdf.index]).T,\n",
    "            [\n",
    "                ksdf['local_mem'].apply(\"{:d}\".format),\n",
    "                ksdf['register_mem'].apply(\"{:d}\".format),\n",
    "                ksdf['occupancy'].apply(\"{:.03f}\".format)\n",
    "            ],\n",
    "        ], axis=0).T,\n",
    "        alignment=\"<<<>>>\"\n",
    "    )"
   ]
  },
  {
   "cell_type": "code",
   "execution_count": 36,
   "id": "ad76cf27-d17c-4025-935c-f6439e394d09",
   "metadata": {},
   "outputs": [],
   "source": [
    "labels = {\n",
    "    'cuda/vecgeom': 'NVIDIA V100 (VecGeom)',\n",
    "    'cuda/orange': 'NVIDIA V100 (ORANGE)',\n",
    "    'hip/orange': 'AMD MI250 (ORANGE)',\n",
    "}\n",
    "markers = {\n",
    "    'cuda/vecgeom': '.',\n",
    "    'cuda/orange': '+',\n",
    "    'hip/orange': 'x',\n",
    "}\n",
    "\n",
    "(fig, ax) = plt.subplots()\n",
    "for key, ks in ksdf.unstack('name').iterrows():\n",
    "    k = '/'.join(key)\n",
    "    ks = ks.unstack(level=0)\n",
    "    s = ax.scatter(ks['register_mem'], ks['local_mem'],\n",
    "               c=ks['kernel_index'],\n",
    "               marker=markers[k], label=labels[k])\n",
    "ax.set_xlabel('Register usage [B]')\n",
    "ax.set_ylabel('Memory spill [B]')\n",
    "ax.legend()\n",
    "cb = fig.colorbar(s)\n",
    "\n",
    "plt.tight_layout()\n",
    "#fig.savefig('plots/reg-vs-spill.png')\n",
    "fig.savefig('plots/reg-vs-spill.pdf', transparent=True)\n",
    "plt.close()"
   ]
  },
  {
   "cell_type": "code",
   "execution_count": 37,
   "id": "4fdc1e7b-831e-4aa6-8ce7-0436f5b75433",
   "metadata": {},
   "outputs": [],
   "source": [
    "(fig, ax) = plt.subplots()\n",
    "for key, ks in ksdf.unstack('name').iterrows():\n",
    "    k = '/'.join(key)\n",
    "    ks = ks.unstack(level=0)\n",
    "    tot_mem = ks['register_mem'] + ks['local_mem']\n",
    "    s = ax.scatter(ks['occupancy'], tot_mem,\n",
    "               c=ks['kernel_index'],\n",
    "               marker=markers[k], label=labels[k])\n",
    "#ax.set_xlim(-0.05, 1.05)\n",
    "ax.set_xlabel('Occupancy')\n",
    "ax.set_ylabel('Register + spill [B]')\n",
    "ax.legend()\n",
    "cb = fig.colorbar(s)\n",
    "\n",
    "plt.tight_layout()\n",
    "#fig.savefig('plots/occupancy-vs-mem.png')\n",
    "fig.savefig('plots/occupancy-vs-mem.pdf', transparent=True)\n",
    "plt.close()"
   ]
  },
  {
   "cell_type": "code",
   "execution_count": 38,
   "id": "b0b0f416-5776-498b-b9f9-be4496d70477",
   "metadata": {},
   "outputs": [],
   "source": [
    "(fig, ax) = plt.subplots()\n",
    "for key, ks in ksdf.unstack('name').iterrows():\n",
    "    k = '/'.join(key)\n",
    "    ks = ks.unstack(level=0)\n",
    "    s = ax.scatter(ks['occupancy'], ks['local_mem'],\n",
    "               c=ks['kernel_index'],\n",
    "               marker=markers[k], label=labels[k])\n",
    "#ax.set_xlim(-0.05, 1.05)\n",
    "ax.set_xlabel('Occupancy')\n",
    "ax.set_ylabel('Local memory spill [B]')\n",
    "ax.legend()\n",
    "cb = fig.colorbar(s)\n",
    "\n",
    "plt.tight_layout()\n",
    "#fig.savefig('plots/occupancy-vs-spill.png')\n",
    "fig.savefig('plots/occupancy-vs-spill.pdf', transparent=True)\n",
    "plt.close()"
   ]
  },
  {
   "cell_type": "code",
   "execution_count": 39,
   "id": "1c834d08-31c7-45e2-9668-0865ca50c4a1",
   "metadata": {
    "tags": []
   },
   "outputs": [
    {
     "data": {
      "text/html": [
       "<div>\n",
       "<style scoped>\n",
       "    .dataframe tbody tr th:only-of-type {\n",
       "        vertical-align: middle;\n",
       "    }\n",
       "\n",
       "    .dataframe tbody tr th {\n",
       "        vertical-align: top;\n",
       "    }\n",
       "\n",
       "    .dataframe thead th {\n",
       "        text-align: right;\n",
       "    }\n",
       "</style>\n",
       "<table border=\"1\" class=\"dataframe\">\n",
       "  <thead>\n",
       "    <tr style=\"text-align: right;\">\n",
       "      <th></th>\n",
       "      <th></th>\n",
       "      <th></th>\n",
       "      <th>const_mem</th>\n",
       "      <th>heap_size</th>\n",
       "      <th>local_mem</th>\n",
       "      <th>max_blocks_per_cu</th>\n",
       "      <th>max_threads_per_block</th>\n",
       "      <th>max_warps_per_eu</th>\n",
       "      <th>num_regs</th>\n",
       "      <th>occupancy</th>\n",
       "      <th>threads_per_block</th>\n",
       "      <th>kernel_index</th>\n",
       "      <th>register_mem</th>\n",
       "    </tr>\n",
       "    <tr>\n",
       "      <th>arch</th>\n",
       "      <th>geo</th>\n",
       "      <th>name</th>\n",
       "      <th></th>\n",
       "      <th></th>\n",
       "      <th></th>\n",
       "      <th></th>\n",
       "      <th></th>\n",
       "      <th></th>\n",
       "      <th></th>\n",
       "      <th></th>\n",
       "      <th></th>\n",
       "      <th></th>\n",
       "      <th></th>\n",
       "    </tr>\n",
       "  </thead>\n",
       "  <tbody>\n",
       "    <tr>\n",
       "      <th rowspan=\"5\" valign=\"top\">cuda</th>\n",
       "      <th>vecgeom</th>\n",
       "      <th>scat-rayleigh</th>\n",
       "      <td>20776</td>\n",
       "      <td>8388608</td>\n",
       "      <td>104</td>\n",
       "      <td>4</td>\n",
       "      <td>256</td>\n",
       "      <td>32</td>\n",
       "      <td>64</td>\n",
       "      <td>0.500</td>\n",
       "      <td>256</td>\n",
       "      <td>17</td>\n",
       "      <td>256</td>\n",
       "    </tr>\n",
       "    <tr>\n",
       "      <th rowspan=\"4\" valign=\"top\">orange</th>\n",
       "      <th>initialize-tracks</th>\n",
       "      <td>0</td>\n",
       "      <td>8388608</td>\n",
       "      <td>112</td>\n",
       "      <td>4</td>\n",
       "      <td>256</td>\n",
       "      <td>32</td>\n",
       "      <td>63</td>\n",
       "      <td>0.500</td>\n",
       "      <td>256</td>\n",
       "      <td>1</td>\n",
       "      <td>252</td>\n",
       "    </tr>\n",
       "    <tr>\n",
       "      <th>along-step-uniform-msc-propagate</th>\n",
       "      <td>0</td>\n",
       "      <td>8388608</td>\n",
       "      <td>224</td>\n",
       "      <td>2</td>\n",
       "      <td>256</td>\n",
       "      <td>16</td>\n",
       "      <td>128</td>\n",
       "      <td>0.250</td>\n",
       "      <td>256</td>\n",
       "      <td>4</td>\n",
       "      <td>512</td>\n",
       "    </tr>\n",
       "    <tr>\n",
       "      <th>scat-rayleigh</th>\n",
       "      <td>0</td>\n",
       "      <td>8388608</td>\n",
       "      <td>104</td>\n",
       "      <td>4</td>\n",
       "      <td>256</td>\n",
       "      <td>32</td>\n",
       "      <td>63</td>\n",
       "      <td>0.500</td>\n",
       "      <td>256</td>\n",
       "      <td>17</td>\n",
       "      <td>252</td>\n",
       "    </tr>\n",
       "    <tr>\n",
       "      <th>geo-boundary</th>\n",
       "      <td>0</td>\n",
       "      <td>8388608</td>\n",
       "      <td>176</td>\n",
       "      <td>4</td>\n",
       "      <td>256</td>\n",
       "      <td>32</td>\n",
       "      <td>64</td>\n",
       "      <td>0.500</td>\n",
       "      <td>256</td>\n",
       "      <td>19</td>\n",
       "      <td>256</td>\n",
       "    </tr>\n",
       "    <tr>\n",
       "      <th rowspan=\"2\" valign=\"top\">hip</th>\n",
       "      <th rowspan=\"2\" valign=\"top\">orange</th>\n",
       "      <th>initialize-tracks</th>\n",
       "      <td>0</td>\n",
       "      <td>68702699520</td>\n",
       "      <td>120</td>\n",
       "      <td>5</td>\n",
       "      <td>256</td>\n",
       "      <td>5</td>\n",
       "      <td>90</td>\n",
       "      <td>0.625</td>\n",
       "      <td>256</td>\n",
       "      <td>1</td>\n",
       "      <td>360</td>\n",
       "    </tr>\n",
       "    <tr>\n",
       "      <th>geo-boundary</th>\n",
       "      <td>0</td>\n",
       "      <td>68702699520</td>\n",
       "      <td>304</td>\n",
       "      <td>5</td>\n",
       "      <td>256</td>\n",
       "      <td>5</td>\n",
       "      <td>92</td>\n",
       "      <td>0.625</td>\n",
       "      <td>256</td>\n",
       "      <td>19</td>\n",
       "      <td>368</td>\n",
       "    </tr>\n",
       "  </tbody>\n",
       "</table>\n",
       "</div>"
      ],
      "text/plain": [
       "                                               const_mem    heap_size  \\\n",
       "arch geo     name                                                       \n",
       "cuda vecgeom scat-rayleigh                         20776      8388608   \n",
       "     orange  initialize-tracks                         0      8388608   \n",
       "             along-step-uniform-msc-propagate          0      8388608   \n",
       "             scat-rayleigh                             0      8388608   \n",
       "             geo-boundary                              0      8388608   \n",
       "hip  orange  initialize-tracks                         0  68702699520   \n",
       "             geo-boundary                              0  68702699520   \n",
       "\n",
       "                                               local_mem  max_blocks_per_cu  \\\n",
       "arch geo     name                                                             \n",
       "cuda vecgeom scat-rayleigh                           104                  4   \n",
       "     orange  initialize-tracks                       112                  4   \n",
       "             along-step-uniform-msc-propagate        224                  2   \n",
       "             scat-rayleigh                           104                  4   \n",
       "             geo-boundary                            176                  4   \n",
       "hip  orange  initialize-tracks                       120                  5   \n",
       "             geo-boundary                            304                  5   \n",
       "\n",
       "                                               max_threads_per_block  \\\n",
       "arch geo     name                                                      \n",
       "cuda vecgeom scat-rayleigh                                       256   \n",
       "     orange  initialize-tracks                                   256   \n",
       "             along-step-uniform-msc-propagate                    256   \n",
       "             scat-rayleigh                                       256   \n",
       "             geo-boundary                                        256   \n",
       "hip  orange  initialize-tracks                                   256   \n",
       "             geo-boundary                                        256   \n",
       "\n",
       "                                               max_warps_per_eu  num_regs  \\\n",
       "arch geo     name                                                           \n",
       "cuda vecgeom scat-rayleigh                                   32        64   \n",
       "     orange  initialize-tracks                               32        63   \n",
       "             along-step-uniform-msc-propagate                16       128   \n",
       "             scat-rayleigh                                   32        63   \n",
       "             geo-boundary                                    32        64   \n",
       "hip  orange  initialize-tracks                                5        90   \n",
       "             geo-boundary                                     5        92   \n",
       "\n",
       "                                               occupancy  threads_per_block  \\\n",
       "arch geo     name                                                             \n",
       "cuda vecgeom scat-rayleigh                         0.500                256   \n",
       "     orange  initialize-tracks                     0.500                256   \n",
       "             along-step-uniform-msc-propagate      0.250                256   \n",
       "             scat-rayleigh                         0.500                256   \n",
       "             geo-boundary                          0.500                256   \n",
       "hip  orange  initialize-tracks                     0.625                256   \n",
       "             geo-boundary                          0.625                256   \n",
       "\n",
       "                                               kernel_index  register_mem  \n",
       "arch geo     name                                                          \n",
       "cuda vecgeom scat-rayleigh                               17           256  \n",
       "     orange  initialize-tracks                            1           252  \n",
       "             along-step-uniform-msc-propagate             4           512  \n",
       "             scat-rayleigh                               17           252  \n",
       "             geo-boundary                                19           256  \n",
       "hip  orange  initialize-tracks                            1           360  \n",
       "             geo-boundary                                19           368  "
      ]
     },
     "execution_count": 39,
     "metadata": {},
     "output_type": "execute_result"
    }
   ],
   "source": [
    "ksdf[ksdf['local_mem'] > 64]"
   ]
  }
 ],
 "metadata": {
  "kernelspec": {
   "display_name": "Python 3 (ipykernel)",
   "language": "python",
   "name": "python3"
  },
  "language_info": {
   "codemirror_mode": {
    "name": "ipython",
    "version": 3
   },
   "file_extension": ".py",
   "mimetype": "text/x-python",
   "name": "python",
   "nbconvert_exporter": "python",
   "pygments_lexer": "ipython3",
   "version": "3.9.16"
  }
 },
 "nbformat": 4,
 "nbformat_minor": 5
}
